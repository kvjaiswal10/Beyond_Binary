{
 "cells": [
  {
   "cell_type": "markdown",
   "metadata": {},
   "source": [
    "# Plotly and Cufflinks\n",
    "\n",
    "Plotly is a library that allows you to create interactive plots that you can use in dashboards or websites (you can save them as html files or static images).\n",
    "\n",
    "# Installation\n",
    "\n",
    "In order for this all to work, you'll need to install plotly and cufflinks to call plots directly off of a pandas dataframe. These libraries are not currently available through **conda** but are available through **pip**. Install the libraries at your command line/terminal using:\n",
    "\n",
    "    pip install plotly\n",
    "    pip install cufflinks"
   ]
  },
  {
   "cell_type": "code",
   "execution_count": 4,
   "metadata": {},
   "outputs": [
    {
     "name": "stdout",
     "output_type": "stream",
     "text": [
      "5.18.0\n"
     ]
    },
    {
     "name": "stderr",
     "output_type": "stream",
     "text": [
      "C:\\Users\\kvjai\\AppData\\Local\\Temp\\ipykernel_25984\\4107238498.py:3: DeprecationWarning: \n",
      "Pyarrow will become a required dependency of pandas in the next major release of pandas (pandas 3.0),\n",
      "(to allow more performant data types, such as the Arrow string type, and better interoperability with other libraries)\n",
      "but was not found to be installed on your system.\n",
      "If this would cause problems for you,\n",
      "please provide us feedback at https://github.com/pandas-dev/pandas/issues/54466\n",
      "        \n",
      "  import pandas as pd\n"
     ]
    }
   ],
   "source": [
    "# imports for EDA and plotting\n",
    "\n",
    "import pandas as pd\n",
    "import numpy as np\n",
    "import calendar\n",
    "import pandas as pd\n",
    "import numpy as np\n",
    "import chart_studio.plotly as py\n",
    "from datetime import date\n",
    "import plotly.graph_objs as go\n",
    "import cufflinks as cf\n",
    "from plotly.offline import download_plotlyjs, init_notebook_mode, plot, iplot\n",
    "from plotly import __version__\n",
    "print(__version__) # requires version >= 1.9.0"
   ]
  },
  {
   "cell_type": "code",
   "execution_count": 15,
   "metadata": {},
   "outputs": [
    {
     "data": {
      "text/html": [
       "        <script type=\"text/javascript\">\n",
       "        window.PlotlyConfig = {MathJaxConfig: 'local'};\n",
       "        if (window.MathJax && window.MathJax.Hub && window.MathJax.Hub.Config) {window.MathJax.Hub.Config({SVG: {font: \"STIX-Web\"}});}\n",
       "        if (typeof require !== 'undefined') {\n",
       "        require.undef(\"plotly\");\n",
       "        requirejs.config({\n",
       "            paths: {\n",
       "                'plotly': ['https://cdn.plot.ly/plotly-2.27.0.min']\n",
       "            }\n",
       "        });\n",
       "        require(['plotly'], function(Plotly) {\n",
       "            window._Plotly = Plotly;\n",
       "        });\n",
       "        }\n",
       "        </script>\n",
       "        "
      ]
     },
     "metadata": {},
     "output_type": "display_data"
    },
    {
     "data": {
      "text/html": [
       "        <script type=\"text/javascript\">\n",
       "        window.PlotlyConfig = {MathJaxConfig: 'local'};\n",
       "        if (window.MathJax && window.MathJax.Hub && window.MathJax.Hub.Config) {window.MathJax.Hub.Config({SVG: {font: \"STIX-Web\"}});}\n",
       "        if (typeof require !== 'undefined') {\n",
       "        require.undef(\"plotly\");\n",
       "        requirejs.config({\n",
       "            paths: {\n",
       "                'plotly': ['https://cdn.plot.ly/plotly-2.27.0.min']\n",
       "            }\n",
       "        });\n",
       "        require(['plotly'], function(Plotly) {\n",
       "            window._Plotly = Plotly;\n",
       "        });\n",
       "        }\n",
       "        </script>\n",
       "        "
      ]
     },
     "metadata": {},
     "output_type": "display_data"
    }
   ],
   "source": [
    "init_notebook_mode(connected=True)  # for notebooks\n",
    "from plotly.offline import iplot\n",
    "# For offline use\n",
    "cf.go_offline()"
   ]
  },
  {
   "cell_type": "code",
   "execution_count": 10,
   "metadata": {},
   "outputs": [
    {
     "data": {
      "text/html": [
       "<div>\n",
       "<style scoped>\n",
       "    .dataframe tbody tr th:only-of-type {\n",
       "        vertical-align: middle;\n",
       "    }\n",
       "\n",
       "    .dataframe tbody tr th {\n",
       "        vertical-align: top;\n",
       "    }\n",
       "\n",
       "    .dataframe thead th {\n",
       "        text-align: right;\n",
       "    }\n",
       "</style>\n",
       "<table border=\"1\" class=\"dataframe\">\n",
       "  <thead>\n",
       "    <tr style=\"text-align: right;\">\n",
       "      <th></th>\n",
       "      <th>Beverage_category</th>\n",
       "      <th>Beverage</th>\n",
       "      <th>Beverage_prep</th>\n",
       "      <th>Calories</th>\n",
       "      <th>Total Fat (g)</th>\n",
       "      <th>Trans Fat (g)</th>\n",
       "      <th>Saturated Fat (g)</th>\n",
       "      <th>Sodium (mg)</th>\n",
       "      <th>Total Carbohydrates (g)</th>\n",
       "      <th>Cholesterol (mg)</th>\n",
       "      <th>Dietary Fibre (g)</th>\n",
       "      <th>Sugars (g)</th>\n",
       "      <th>Protein (g)</th>\n",
       "      <th>Vitamin A (% DV)</th>\n",
       "      <th>Vitamin C (% DV)</th>\n",
       "      <th>Calcium (% DV)</th>\n",
       "      <th>Iron (% DV)</th>\n",
       "      <th>Caffeine (mg)</th>\n",
       "    </tr>\n",
       "  </thead>\n",
       "  <tbody>\n",
       "    <tr>\n",
       "      <th>0</th>\n",
       "      <td>Coffee</td>\n",
       "      <td>Brewed Coffee</td>\n",
       "      <td>Short</td>\n",
       "      <td>3</td>\n",
       "      <td>0.1</td>\n",
       "      <td>0.0</td>\n",
       "      <td>0.0</td>\n",
       "      <td>0</td>\n",
       "      <td>5</td>\n",
       "      <td>0</td>\n",
       "      <td>0</td>\n",
       "      <td>0</td>\n",
       "      <td>0.3</td>\n",
       "      <td>0%</td>\n",
       "      <td>0%</td>\n",
       "      <td>0%</td>\n",
       "      <td>0%</td>\n",
       "      <td>175</td>\n",
       "    </tr>\n",
       "    <tr>\n",
       "      <th>1</th>\n",
       "      <td>Coffee</td>\n",
       "      <td>Brewed Coffee</td>\n",
       "      <td>Tall</td>\n",
       "      <td>4</td>\n",
       "      <td>0.1</td>\n",
       "      <td>0.0</td>\n",
       "      <td>0.0</td>\n",
       "      <td>0</td>\n",
       "      <td>10</td>\n",
       "      <td>0</td>\n",
       "      <td>0</td>\n",
       "      <td>0</td>\n",
       "      <td>0.5</td>\n",
       "      <td>0%</td>\n",
       "      <td>0%</td>\n",
       "      <td>0%</td>\n",
       "      <td>0%</td>\n",
       "      <td>260</td>\n",
       "    </tr>\n",
       "    <tr>\n",
       "      <th>2</th>\n",
       "      <td>Coffee</td>\n",
       "      <td>Brewed Coffee</td>\n",
       "      <td>Grande</td>\n",
       "      <td>5</td>\n",
       "      <td>0.1</td>\n",
       "      <td>0.0</td>\n",
       "      <td>0.0</td>\n",
       "      <td>0</td>\n",
       "      <td>10</td>\n",
       "      <td>0</td>\n",
       "      <td>0</td>\n",
       "      <td>0</td>\n",
       "      <td>1.0</td>\n",
       "      <td>0%</td>\n",
       "      <td>0%</td>\n",
       "      <td>0%</td>\n",
       "      <td>0%</td>\n",
       "      <td>330</td>\n",
       "    </tr>\n",
       "    <tr>\n",
       "      <th>3</th>\n",
       "      <td>Coffee</td>\n",
       "      <td>Brewed Coffee</td>\n",
       "      <td>Venti</td>\n",
       "      <td>5</td>\n",
       "      <td>0.1</td>\n",
       "      <td>0.0</td>\n",
       "      <td>0.0</td>\n",
       "      <td>0</td>\n",
       "      <td>10</td>\n",
       "      <td>0</td>\n",
       "      <td>0</td>\n",
       "      <td>0</td>\n",
       "      <td>1.0</td>\n",
       "      <td>0%</td>\n",
       "      <td>0%</td>\n",
       "      <td>2%</td>\n",
       "      <td>0%</td>\n",
       "      <td>410</td>\n",
       "    </tr>\n",
       "    <tr>\n",
       "      <th>4</th>\n",
       "      <td>Classic Espresso Drinks</td>\n",
       "      <td>Caffè Latte</td>\n",
       "      <td>Short Nonfat Milk</td>\n",
       "      <td>70</td>\n",
       "      <td>0.1</td>\n",
       "      <td>0.1</td>\n",
       "      <td>0.0</td>\n",
       "      <td>5</td>\n",
       "      <td>75</td>\n",
       "      <td>10</td>\n",
       "      <td>0</td>\n",
       "      <td>9</td>\n",
       "      <td>6.0</td>\n",
       "      <td>10%</td>\n",
       "      <td>0%</td>\n",
       "      <td>20%</td>\n",
       "      <td>0%</td>\n",
       "      <td>75</td>\n",
       "    </tr>\n",
       "  </tbody>\n",
       "</table>\n",
       "</div>"
      ],
      "text/plain": [
       "         Beverage_category       Beverage      Beverage_prep  Calories  \\\n",
       "0                   Coffee  Brewed Coffee              Short         3   \n",
       "1                   Coffee  Brewed Coffee               Tall         4   \n",
       "2                   Coffee  Brewed Coffee             Grande         5   \n",
       "3                   Coffee  Brewed Coffee              Venti         5   \n",
       "4  Classic Espresso Drinks    Caffè Latte  Short Nonfat Milk        70   \n",
       "\n",
       "   Total Fat (g)  Trans Fat (g)   Saturated Fat (g)   Sodium (mg)  \\\n",
       "0            0.1             0.0                0.0             0   \n",
       "1            0.1             0.0                0.0             0   \n",
       "2            0.1             0.0                0.0             0   \n",
       "3            0.1             0.0                0.0             0   \n",
       "4            0.1             0.1                0.0             5   \n",
       "\n",
       "    Total Carbohydrates (g)   Cholesterol (mg)   Dietary Fibre (g)  \\\n",
       "0                          5                 0                   0   \n",
       "1                         10                 0                   0   \n",
       "2                         10                 0                   0   \n",
       "3                         10                 0                   0   \n",
       "4                         75                10                   0   \n",
       "\n",
       "    Sugars (g)   Protein (g)  Vitamin A (% DV)  Vitamin C (% DV)  \\\n",
       "0            0            0.3                0%               0%   \n",
       "1            0            0.5                0%               0%   \n",
       "2            0            1.0                0%               0%   \n",
       "3            0            1.0                0%               0%   \n",
       "4            9            6.0               10%               0%   \n",
       "\n",
       "   Calcium (% DV)  Iron (% DV)  Caffeine (mg)  \n",
       "0               0%           0%           175  \n",
       "1               0%           0%           260  \n",
       "2               0%           0%           330  \n",
       "3               2%           0%           410  \n",
       "4              20%           0%            75  "
      ]
     },
     "execution_count": 10,
     "metadata": {},
     "output_type": "execute_result"
    }
   ],
   "source": [
    "df = pd.read_csv('starbucks.csv')\n",
    "df.shape\n",
    "df.head()"
   ]
  },
  {
   "cell_type": "markdown",
   "metadata": {},
   "source": [
    "# Scatter plot"
   ]
  },
  {
   "cell_type": "code",
   "execution_count": 8,
   "metadata": {},
   "outputs": [
    {
     "data": {
      "application/vnd.plotly.v1+json": {
       "config": {
        "linkText": "Export to plot.ly",
        "plotlyServerURL": "https://plot.ly",
        "showLink": true
       },
       "data": [
        {
         "line": {
          "color": "rgba(255, 153, 51, 1.0)",
          "dash": "solid",
          "shape": "linear",
          "width": 1.3
         },
         "marker": {
          "size": 10,
          "symbol": "circle"
         },
         "mode": "markers",
         "name": "Calories",
         "text": "",
         "type": "scatter",
         "x": [
          "Coffee",
          "Coffee",
          "Coffee",
          "Coffee",
          "Classic Espresso Drinks",
          "Classic Espresso Drinks",
          "Classic Espresso Drinks",
          "Classic Espresso Drinks",
          "Classic Espresso Drinks",
          "Classic Espresso Drinks",
          "Classic Espresso Drinks",
          "Classic Espresso Drinks",
          "Classic Espresso Drinks",
          "Classic Espresso Drinks",
          "Classic Espresso Drinks",
          "Classic Espresso Drinks",
          "Classic Espresso Drinks",
          "Classic Espresso Drinks",
          "Classic Espresso Drinks",
          "Classic Espresso Drinks",
          "Classic Espresso Drinks",
          "Classic Espresso Drinks",
          "Classic Espresso Drinks",
          "Classic Espresso Drinks",
          "Classic Espresso Drinks",
          "Classic Espresso Drinks",
          "Classic Espresso Drinks",
          "Classic Espresso Drinks",
          "Classic Espresso Drinks",
          "Classic Espresso Drinks",
          "Classic Espresso Drinks",
          "Classic Espresso Drinks",
          "Classic Espresso Drinks",
          "Classic Espresso Drinks",
          "Classic Espresso Drinks",
          "Classic Espresso Drinks",
          "Classic Espresso Drinks",
          "Classic Espresso Drinks",
          "Classic Espresso Drinks",
          "Classic Espresso Drinks",
          "Classic Espresso Drinks",
          "Classic Espresso Drinks",
          "Classic Espresso Drinks",
          "Classic Espresso Drinks",
          "Classic Espresso Drinks",
          "Classic Espresso Drinks",
          "Classic Espresso Drinks",
          "Classic Espresso Drinks",
          "Classic Espresso Drinks",
          "Classic Espresso Drinks",
          "Classic Espresso Drinks",
          "Classic Espresso Drinks",
          "Classic Espresso Drinks",
          "Classic Espresso Drinks",
          "Classic Espresso Drinks",
          "Classic Espresso Drinks",
          "Classic Espresso Drinks",
          "Classic Espresso Drinks",
          "Classic Espresso Drinks",
          "Classic Espresso Drinks",
          "Classic Espresso Drinks",
          "Classic Espresso Drinks",
          "Signature Espresso Drinks",
          "Signature Espresso Drinks",
          "Signature Espresso Drinks",
          "Signature Espresso Drinks",
          "Signature Espresso Drinks",
          "Signature Espresso Drinks",
          "Signature Espresso Drinks",
          "Signature Espresso Drinks",
          "Signature Espresso Drinks",
          "Signature Espresso Drinks",
          "Signature Espresso Drinks",
          "Signature Espresso Drinks",
          "Signature Espresso Drinks",
          "Signature Espresso Drinks",
          "Signature Espresso Drinks",
          "Signature Espresso Drinks",
          "Signature Espresso Drinks",
          "Signature Espresso Drinks",
          "Signature Espresso Drinks",
          "Signature Espresso Drinks",
          "Signature Espresso Drinks",
          "Signature Espresso Drinks",
          "Signature Espresso Drinks",
          "Signature Espresso Drinks",
          "Signature Espresso Drinks",
          "Signature Espresso Drinks",
          "Signature Espresso Drinks",
          "Signature Espresso Drinks",
          "Signature Espresso Drinks",
          "Signature Espresso Drinks",
          "Signature Espresso Drinks",
          "Signature Espresso Drinks",
          "Signature Espresso Drinks",
          "Signature Espresso Drinks",
          "Signature Espresso Drinks",
          "Signature Espresso Drinks",
          "Signature Espresso Drinks",
          "Signature Espresso Drinks",
          "Signature Espresso Drinks",
          "Signature Espresso Drinks",
          "Tazo® Tea Drinks",
          "Tazo® Tea Drinks",
          "Tazo® Tea Drinks",
          "Tazo® Tea Drinks",
          "Tazo® Tea Drinks",
          "Tazo® Tea Drinks",
          "Tazo® Tea Drinks",
          "Tazo® Tea Drinks",
          "Tazo® Tea Drinks",
          "Tazo® Tea Drinks",
          "Tazo® Tea Drinks",
          "Tazo® Tea Drinks",
          "Tazo® Tea Drinks",
          "Tazo® Tea Drinks",
          "Tazo® Tea Drinks",
          "Tazo® Tea Drinks",
          "Tazo® Tea Drinks",
          "Tazo® Tea Drinks",
          "Tazo® Tea Drinks",
          "Tazo® Tea Drinks",
          "Tazo® Tea Drinks",
          "Tazo® Tea Drinks",
          "Tazo® Tea Drinks",
          "Tazo® Tea Drinks",
          "Tazo® Tea Drinks",
          "Tazo® Tea Drinks",
          "Tazo® Tea Drinks",
          "Tazo® Tea Drinks",
          "Tazo® Tea Drinks",
          "Tazo® Tea Drinks",
          "Tazo® Tea Drinks",
          "Tazo® Tea Drinks",
          "Tazo® Tea Drinks",
          "Tazo® Tea Drinks",
          "Tazo® Tea Drinks",
          "Tazo® Tea Drinks",
          "Tazo® Tea Drinks",
          "Tazo® Tea Drinks",
          "Tazo® Tea Drinks",
          "Tazo® Tea Drinks",
          "Tazo® Tea Drinks",
          "Tazo® Tea Drinks",
          "Tazo® Tea Drinks",
          "Tazo® Tea Drinks",
          "Tazo® Tea Drinks",
          "Tazo® Tea Drinks",
          "Tazo® Tea Drinks",
          "Tazo® Tea Drinks",
          "Tazo® Tea Drinks",
          "Tazo® Tea Drinks",
          "Tazo® Tea Drinks",
          "Tazo® Tea Drinks",
          "Shaken Iced Beverages",
          "Shaken Iced Beverages",
          "Shaken Iced Beverages",
          "Shaken Iced Beverages",
          "Shaken Iced Beverages",
          "Shaken Iced Beverages",
          "Shaken Iced Beverages",
          "Shaken Iced Beverages",
          "Shaken Iced Beverages",
          "Shaken Iced Beverages",
          "Shaken Iced Beverages",
          "Shaken Iced Beverages",
          "Shaken Iced Beverages",
          "Shaken Iced Beverages",
          "Shaken Iced Beverages",
          "Shaken Iced Beverages",
          "Shaken Iced Beverages",
          "Shaken Iced Beverages",
          "Smoothies",
          "Smoothies",
          "Smoothies",
          "Smoothies",
          "Smoothies",
          "Smoothies",
          "Smoothies",
          "Smoothies",
          "Smoothies",
          "Frappuccino® Blended Coffee",
          "Frappuccino® Blended Coffee",
          "Frappuccino® Blended Coffee",
          "Frappuccino® Blended Coffee",
          "Frappuccino® Blended Coffee",
          "Frappuccino® Blended Coffee",
          "Frappuccino® Blended Coffee",
          "Frappuccino® Blended Coffee",
          "Frappuccino® Blended Coffee",
          "Frappuccino® Blended Coffee",
          "Frappuccino® Blended Coffee",
          "Frappuccino® Blended Coffee",
          "Frappuccino® Blended Coffee",
          "Frappuccino® Blended Coffee",
          "Frappuccino® Blended Coffee",
          "Frappuccino® Blended Coffee",
          "Frappuccino® Blended Coffee",
          "Frappuccino® Blended Coffee",
          "Frappuccino® Blended Coffee",
          "Frappuccino® Blended Coffee",
          "Frappuccino® Blended Coffee",
          "Frappuccino® Blended Coffee",
          "Frappuccino® Blended Coffee",
          "Frappuccino® Blended Coffee",
          "Frappuccino® Blended Coffee",
          "Frappuccino® Blended Coffee",
          "Frappuccino® Blended Coffee",
          "Frappuccino® Blended Coffee",
          "Frappuccino® Blended Coffee",
          "Frappuccino® Blended Coffee",
          "Frappuccino® Blended Coffee",
          "Frappuccino® Blended Coffee",
          "Frappuccino® Blended Coffee",
          "Frappuccino® Blended Coffee",
          "Frappuccino® Blended Coffee",
          "Frappuccino® Blended Coffee",
          "Frappuccino® Light Blended Coffee",
          "Frappuccino® Light Blended Coffee",
          "Frappuccino® Light Blended Coffee",
          "Frappuccino® Light Blended Coffee",
          "Frappuccino® Light Blended Coffee",
          "Frappuccino® Light Blended Coffee",
          "Frappuccino® Light Blended Coffee",
          "Frappuccino® Light Blended Coffee",
          "Frappuccino® Light Blended Coffee",
          "Frappuccino® Light Blended Coffee",
          "Frappuccino® Light Blended Coffee",
          "Frappuccino® Light Blended Coffee",
          "Frappuccino® Blended Crème",
          "Frappuccino® Blended Crème",
          "Frappuccino® Blended Crème",
          "Frappuccino® Blended Crème",
          "Frappuccino® Blended Crème",
          "Frappuccino® Blended Crème",
          "Frappuccino® Blended Crème",
          "Frappuccino® Blended Crème",
          "Frappuccino® Blended Crème",
          "Frappuccino® Blended Crème",
          "Frappuccino® Blended Crème",
          "Frappuccino® Blended Crème",
          "Frappuccino® Blended Crème"
         ],
         "y": [
          3,
          4,
          5,
          5,
          70,
          100,
          70,
          100,
          150,
          110,
          130,
          190,
          150,
          170,
          240,
          190,
          110,
          130,
          110,
          170,
          200,
          180,
          220,
          260,
          230,
          280,
          340,
          290,
          100,
          130,
          110,
          150,
          200,
          160,
          200,
          250,
          210,
          250,
          320,
          270,
          5,
          10,
          15,
          25,
          50,
          80,
          50,
          60,
          90,
          70,
          80,
          120,
          100,
          110,
          150,
          120,
          5,
          10,
          60,
          100,
          120,
          160,
          100,
          120,
          100,
          140,
          180,
          150,
          190,
          240,
          200,
          240,
          300,
          250,
          180,
          200,
          180,
          270,
          310,
          280,
          350,
          400,
          370,
          450,
          510,
          460,
          130,
          150,
          130,
          190,
          230,
          200,
          240,
          290,
          250,
          320,
          380,
          330,
          140,
          210,
          280,
          360,
          0,
          0,
          0,
          0,
          100,
          120,
          110,
          160,
          190,
          160,
          210,
          240,
          220,
          260,
          310,
          280,
          130,
          170,
          140,
          210,
          260,
          230,
          290,
          350,
          310,
          370,
          450,
          390,
          80,
          90,
          80,
          120,
          140,
          130,
          150,
          190,
          170,
          190,
          230,
          210,
          80,
          90,
          80,
          120,
          140,
          130,
          150,
          190,
          170,
          190,
          230,
          210,
          60,
          90,
          130,
          80,
          90,
          80,
          110,
          120,
          110,
          160,
          180,
          170,
          60,
          80,
          120,
          100,
          130,
          190,
          280,
          300,
          290,
          260,
          270,
          270,
          290,
          290,
          290,
          160,
          180,
          160,
          220,
          240,
          220,
          310,
          350,
          310,
          180,
          200,
          180,
          260,
          290,
          260,
          340,
          390,
          350,
          180,
          200,
          180,
          280,
          280,
          260,
          330,
          370,
          340,
          220,
          240,
          220,
          310,
          340,
          310,
          420,
          460,
          430,
          90,
          120,
          160,
          110,
          150,
          210,
          100,
          150,
          200,
          150,
          220,
          290,
          170,
          190,
          170,
          230,
          260,
          240,
          310,
          350,
          320,
          170,
          200,
          180,
          240
         ]
        }
       ],
       "layout": {
        "legend": {
         "bgcolor": "#F5F6F9",
         "font": {
          "color": "#4D5663"
         }
        },
        "paper_bgcolor": "#F5F6F9",
        "plot_bgcolor": "#F5F6F9",
        "template": {
         "data": {
          "bar": [
           {
            "error_x": {
             "color": "#2a3f5f"
            },
            "error_y": {
             "color": "#2a3f5f"
            },
            "marker": {
             "line": {
              "color": "#E5ECF6",
              "width": 0.5
             },
             "pattern": {
              "fillmode": "overlay",
              "size": 10,
              "solidity": 0.2
             }
            },
            "type": "bar"
           }
          ],
          "barpolar": [
           {
            "marker": {
             "line": {
              "color": "#E5ECF6",
              "width": 0.5
             },
             "pattern": {
              "fillmode": "overlay",
              "size": 10,
              "solidity": 0.2
             }
            },
            "type": "barpolar"
           }
          ],
          "carpet": [
           {
            "aaxis": {
             "endlinecolor": "#2a3f5f",
             "gridcolor": "white",
             "linecolor": "white",
             "minorgridcolor": "white",
             "startlinecolor": "#2a3f5f"
            },
            "baxis": {
             "endlinecolor": "#2a3f5f",
             "gridcolor": "white",
             "linecolor": "white",
             "minorgridcolor": "white",
             "startlinecolor": "#2a3f5f"
            },
            "type": "carpet"
           }
          ],
          "choropleth": [
           {
            "colorbar": {
             "outlinewidth": 0,
             "ticks": ""
            },
            "type": "choropleth"
           }
          ],
          "contour": [
           {
            "colorbar": {
             "outlinewidth": 0,
             "ticks": ""
            },
            "colorscale": [
             [
              0,
              "#0d0887"
             ],
             [
              0.1111111111111111,
              "#46039f"
             ],
             [
              0.2222222222222222,
              "#7201a8"
             ],
             [
              0.3333333333333333,
              "#9c179e"
             ],
             [
              0.4444444444444444,
              "#bd3786"
             ],
             [
              0.5555555555555556,
              "#d8576b"
             ],
             [
              0.6666666666666666,
              "#ed7953"
             ],
             [
              0.7777777777777778,
              "#fb9f3a"
             ],
             [
              0.8888888888888888,
              "#fdca26"
             ],
             [
              1,
              "#f0f921"
             ]
            ],
            "type": "contour"
           }
          ],
          "contourcarpet": [
           {
            "colorbar": {
             "outlinewidth": 0,
             "ticks": ""
            },
            "type": "contourcarpet"
           }
          ],
          "heatmap": [
           {
            "colorbar": {
             "outlinewidth": 0,
             "ticks": ""
            },
            "colorscale": [
             [
              0,
              "#0d0887"
             ],
             [
              0.1111111111111111,
              "#46039f"
             ],
             [
              0.2222222222222222,
              "#7201a8"
             ],
             [
              0.3333333333333333,
              "#9c179e"
             ],
             [
              0.4444444444444444,
              "#bd3786"
             ],
             [
              0.5555555555555556,
              "#d8576b"
             ],
             [
              0.6666666666666666,
              "#ed7953"
             ],
             [
              0.7777777777777778,
              "#fb9f3a"
             ],
             [
              0.8888888888888888,
              "#fdca26"
             ],
             [
              1,
              "#f0f921"
             ]
            ],
            "type": "heatmap"
           }
          ],
          "heatmapgl": [
           {
            "colorbar": {
             "outlinewidth": 0,
             "ticks": ""
            },
            "colorscale": [
             [
              0,
              "#0d0887"
             ],
             [
              0.1111111111111111,
              "#46039f"
             ],
             [
              0.2222222222222222,
              "#7201a8"
             ],
             [
              0.3333333333333333,
              "#9c179e"
             ],
             [
              0.4444444444444444,
              "#bd3786"
             ],
             [
              0.5555555555555556,
              "#d8576b"
             ],
             [
              0.6666666666666666,
              "#ed7953"
             ],
             [
              0.7777777777777778,
              "#fb9f3a"
             ],
             [
              0.8888888888888888,
              "#fdca26"
             ],
             [
              1,
              "#f0f921"
             ]
            ],
            "type": "heatmapgl"
           }
          ],
          "histogram": [
           {
            "marker": {
             "pattern": {
              "fillmode": "overlay",
              "size": 10,
              "solidity": 0.2
             }
            },
            "type": "histogram"
           }
          ],
          "histogram2d": [
           {
            "colorbar": {
             "outlinewidth": 0,
             "ticks": ""
            },
            "colorscale": [
             [
              0,
              "#0d0887"
             ],
             [
              0.1111111111111111,
              "#46039f"
             ],
             [
              0.2222222222222222,
              "#7201a8"
             ],
             [
              0.3333333333333333,
              "#9c179e"
             ],
             [
              0.4444444444444444,
              "#bd3786"
             ],
             [
              0.5555555555555556,
              "#d8576b"
             ],
             [
              0.6666666666666666,
              "#ed7953"
             ],
             [
              0.7777777777777778,
              "#fb9f3a"
             ],
             [
              0.8888888888888888,
              "#fdca26"
             ],
             [
              1,
              "#f0f921"
             ]
            ],
            "type": "histogram2d"
           }
          ],
          "histogram2dcontour": [
           {
            "colorbar": {
             "outlinewidth": 0,
             "ticks": ""
            },
            "colorscale": [
             [
              0,
              "#0d0887"
             ],
             [
              0.1111111111111111,
              "#46039f"
             ],
             [
              0.2222222222222222,
              "#7201a8"
             ],
             [
              0.3333333333333333,
              "#9c179e"
             ],
             [
              0.4444444444444444,
              "#bd3786"
             ],
             [
              0.5555555555555556,
              "#d8576b"
             ],
             [
              0.6666666666666666,
              "#ed7953"
             ],
             [
              0.7777777777777778,
              "#fb9f3a"
             ],
             [
              0.8888888888888888,
              "#fdca26"
             ],
             [
              1,
              "#f0f921"
             ]
            ],
            "type": "histogram2dcontour"
           }
          ],
          "mesh3d": [
           {
            "colorbar": {
             "outlinewidth": 0,
             "ticks": ""
            },
            "type": "mesh3d"
           }
          ],
          "parcoords": [
           {
            "line": {
             "colorbar": {
              "outlinewidth": 0,
              "ticks": ""
             }
            },
            "type": "parcoords"
           }
          ],
          "pie": [
           {
            "automargin": true,
            "type": "pie"
           }
          ],
          "scatter": [
           {
            "fillpattern": {
             "fillmode": "overlay",
             "size": 10,
             "solidity": 0.2
            },
            "type": "scatter"
           }
          ],
          "scatter3d": [
           {
            "line": {
             "colorbar": {
              "outlinewidth": 0,
              "ticks": ""
             }
            },
            "marker": {
             "colorbar": {
              "outlinewidth": 0,
              "ticks": ""
             }
            },
            "type": "scatter3d"
           }
          ],
          "scattercarpet": [
           {
            "marker": {
             "colorbar": {
              "outlinewidth": 0,
              "ticks": ""
             }
            },
            "type": "scattercarpet"
           }
          ],
          "scattergeo": [
           {
            "marker": {
             "colorbar": {
              "outlinewidth": 0,
              "ticks": ""
             }
            },
            "type": "scattergeo"
           }
          ],
          "scattergl": [
           {
            "marker": {
             "colorbar": {
              "outlinewidth": 0,
              "ticks": ""
             }
            },
            "type": "scattergl"
           }
          ],
          "scattermapbox": [
           {
            "marker": {
             "colorbar": {
              "outlinewidth": 0,
              "ticks": ""
             }
            },
            "type": "scattermapbox"
           }
          ],
          "scatterpolar": [
           {
            "marker": {
             "colorbar": {
              "outlinewidth": 0,
              "ticks": ""
             }
            },
            "type": "scatterpolar"
           }
          ],
          "scatterpolargl": [
           {
            "marker": {
             "colorbar": {
              "outlinewidth": 0,
              "ticks": ""
             }
            },
            "type": "scatterpolargl"
           }
          ],
          "scatterternary": [
           {
            "marker": {
             "colorbar": {
              "outlinewidth": 0,
              "ticks": ""
             }
            },
            "type": "scatterternary"
           }
          ],
          "surface": [
           {
            "colorbar": {
             "outlinewidth": 0,
             "ticks": ""
            },
            "colorscale": [
             [
              0,
              "#0d0887"
             ],
             [
              0.1111111111111111,
              "#46039f"
             ],
             [
              0.2222222222222222,
              "#7201a8"
             ],
             [
              0.3333333333333333,
              "#9c179e"
             ],
             [
              0.4444444444444444,
              "#bd3786"
             ],
             [
              0.5555555555555556,
              "#d8576b"
             ],
             [
              0.6666666666666666,
              "#ed7953"
             ],
             [
              0.7777777777777778,
              "#fb9f3a"
             ],
             [
              0.8888888888888888,
              "#fdca26"
             ],
             [
              1,
              "#f0f921"
             ]
            ],
            "type": "surface"
           }
          ],
          "table": [
           {
            "cells": {
             "fill": {
              "color": "#EBF0F8"
             },
             "line": {
              "color": "white"
             }
            },
            "header": {
             "fill": {
              "color": "#C8D4E3"
             },
             "line": {
              "color": "white"
             }
            },
            "type": "table"
           }
          ]
         },
         "layout": {
          "annotationdefaults": {
           "arrowcolor": "#2a3f5f",
           "arrowhead": 0,
           "arrowwidth": 1
          },
          "autotypenumbers": "strict",
          "coloraxis": {
           "colorbar": {
            "outlinewidth": 0,
            "ticks": ""
           }
          },
          "colorscale": {
           "diverging": [
            [
             0,
             "#8e0152"
            ],
            [
             0.1,
             "#c51b7d"
            ],
            [
             0.2,
             "#de77ae"
            ],
            [
             0.3,
             "#f1b6da"
            ],
            [
             0.4,
             "#fde0ef"
            ],
            [
             0.5,
             "#f7f7f7"
            ],
            [
             0.6,
             "#e6f5d0"
            ],
            [
             0.7,
             "#b8e186"
            ],
            [
             0.8,
             "#7fbc41"
            ],
            [
             0.9,
             "#4d9221"
            ],
            [
             1,
             "#276419"
            ]
           ],
           "sequential": [
            [
             0,
             "#0d0887"
            ],
            [
             0.1111111111111111,
             "#46039f"
            ],
            [
             0.2222222222222222,
             "#7201a8"
            ],
            [
             0.3333333333333333,
             "#9c179e"
            ],
            [
             0.4444444444444444,
             "#bd3786"
            ],
            [
             0.5555555555555556,
             "#d8576b"
            ],
            [
             0.6666666666666666,
             "#ed7953"
            ],
            [
             0.7777777777777778,
             "#fb9f3a"
            ],
            [
             0.8888888888888888,
             "#fdca26"
            ],
            [
             1,
             "#f0f921"
            ]
           ],
           "sequentialminus": [
            [
             0,
             "#0d0887"
            ],
            [
             0.1111111111111111,
             "#46039f"
            ],
            [
             0.2222222222222222,
             "#7201a8"
            ],
            [
             0.3333333333333333,
             "#9c179e"
            ],
            [
             0.4444444444444444,
             "#bd3786"
            ],
            [
             0.5555555555555556,
             "#d8576b"
            ],
            [
             0.6666666666666666,
             "#ed7953"
            ],
            [
             0.7777777777777778,
             "#fb9f3a"
            ],
            [
             0.8888888888888888,
             "#fdca26"
            ],
            [
             1,
             "#f0f921"
            ]
           ]
          },
          "colorway": [
           "#636efa",
           "#EF553B",
           "#00cc96",
           "#ab63fa",
           "#FFA15A",
           "#19d3f3",
           "#FF6692",
           "#B6E880",
           "#FF97FF",
           "#FECB52"
          ],
          "font": {
           "color": "#2a3f5f"
          },
          "geo": {
           "bgcolor": "white",
           "lakecolor": "white",
           "landcolor": "#E5ECF6",
           "showlakes": true,
           "showland": true,
           "subunitcolor": "white"
          },
          "hoverlabel": {
           "align": "left"
          },
          "hovermode": "closest",
          "mapbox": {
           "style": "light"
          },
          "paper_bgcolor": "white",
          "plot_bgcolor": "#E5ECF6",
          "polar": {
           "angularaxis": {
            "gridcolor": "white",
            "linecolor": "white",
            "ticks": ""
           },
           "bgcolor": "#E5ECF6",
           "radialaxis": {
            "gridcolor": "white",
            "linecolor": "white",
            "ticks": ""
           }
          },
          "scene": {
           "xaxis": {
            "backgroundcolor": "#E5ECF6",
            "gridcolor": "white",
            "gridwidth": 2,
            "linecolor": "white",
            "showbackground": true,
            "ticks": "",
            "zerolinecolor": "white"
           },
           "yaxis": {
            "backgroundcolor": "#E5ECF6",
            "gridcolor": "white",
            "gridwidth": 2,
            "linecolor": "white",
            "showbackground": true,
            "ticks": "",
            "zerolinecolor": "white"
           },
           "zaxis": {
            "backgroundcolor": "#E5ECF6",
            "gridcolor": "white",
            "gridwidth": 2,
            "linecolor": "white",
            "showbackground": true,
            "ticks": "",
            "zerolinecolor": "white"
           }
          },
          "shapedefaults": {
           "line": {
            "color": "#2a3f5f"
           }
          },
          "ternary": {
           "aaxis": {
            "gridcolor": "white",
            "linecolor": "white",
            "ticks": ""
           },
           "baxis": {
            "gridcolor": "white",
            "linecolor": "white",
            "ticks": ""
           },
           "bgcolor": "#E5ECF6",
           "caxis": {
            "gridcolor": "white",
            "linecolor": "white",
            "ticks": ""
           }
          },
          "title": {
           "x": 0.05
          },
          "xaxis": {
           "automargin": true,
           "gridcolor": "white",
           "linecolor": "white",
           "ticks": "",
           "title": {
            "standoff": 15
           },
           "zerolinecolor": "white",
           "zerolinewidth": 2
          },
          "yaxis": {
           "automargin": true,
           "gridcolor": "white",
           "linecolor": "white",
           "ticks": "",
           "title": {
            "standoff": 15
           },
           "zerolinecolor": "white",
           "zerolinewidth": 2
          }
         }
        },
        "title": {
         "font": {
          "color": "#4D5663"
         }
        },
        "xaxis": {
         "gridcolor": "#E1E5ED",
         "showgrid": true,
         "tickfont": {
          "color": "#4D5663"
         },
         "title": {
          "font": {
           "color": "#4D5663"
          },
          "text": ""
         },
         "zerolinecolor": "#E1E5ED"
        },
        "yaxis": {
         "gridcolor": "#E1E5ED",
         "showgrid": true,
         "tickfont": {
          "color": "#4D5663"
         },
         "title": {
          "font": {
           "color": "#4D5663"
          },
          "text": ""
         },
         "zerolinecolor": "#E1E5ED"
        }
       }
      },
      "text/html": [
       "<div>                            <div id=\"c9a36f9d-be87-43cb-8f5a-1e95a0052f9d\" class=\"plotly-graph-div\" style=\"height:525px; width:100%;\"></div>            <script type=\"text/javascript\">                require([\"plotly\"], function(Plotly) {                    window.PLOTLYENV=window.PLOTLYENV || {};\n",
       "                    window.PLOTLYENV.BASE_URL='https://plot.ly';                                    if (document.getElementById(\"c9a36f9d-be87-43cb-8f5a-1e95a0052f9d\")) {                    Plotly.newPlot(                        \"c9a36f9d-be87-43cb-8f5a-1e95a0052f9d\",                        [{\"line\":{\"color\":\"rgba(255, 153, 51, 1.0)\",\"dash\":\"solid\",\"shape\":\"linear\",\"width\":1.3},\"marker\":{\"size\":10,\"symbol\":\"circle\"},\"mode\":\"markers\",\"name\":\"Calories\",\"text\":\"\",\"x\":[\"Coffee\",\"Coffee\",\"Coffee\",\"Coffee\",\"Classic Espresso Drinks\",\"Classic Espresso Drinks\",\"Classic Espresso Drinks\",\"Classic Espresso Drinks\",\"Classic Espresso Drinks\",\"Classic Espresso Drinks\",\"Classic Espresso Drinks\",\"Classic Espresso Drinks\",\"Classic Espresso Drinks\",\"Classic Espresso Drinks\",\"Classic Espresso Drinks\",\"Classic Espresso Drinks\",\"Classic Espresso Drinks\",\"Classic Espresso Drinks\",\"Classic Espresso Drinks\",\"Classic Espresso Drinks\",\"Classic Espresso Drinks\",\"Classic Espresso Drinks\",\"Classic Espresso Drinks\",\"Classic Espresso Drinks\",\"Classic Espresso Drinks\",\"Classic Espresso Drinks\",\"Classic Espresso Drinks\",\"Classic Espresso Drinks\",\"Classic Espresso Drinks\",\"Classic Espresso Drinks\",\"Classic Espresso Drinks\",\"Classic Espresso Drinks\",\"Classic Espresso Drinks\",\"Classic Espresso Drinks\",\"Classic Espresso Drinks\",\"Classic Espresso Drinks\",\"Classic Espresso Drinks\",\"Classic Espresso Drinks\",\"Classic Espresso Drinks\",\"Classic Espresso Drinks\",\"Classic Espresso Drinks\",\"Classic Espresso Drinks\",\"Classic Espresso Drinks\",\"Classic Espresso Drinks\",\"Classic Espresso Drinks\",\"Classic Espresso Drinks\",\"Classic Espresso Drinks\",\"Classic Espresso Drinks\",\"Classic Espresso Drinks\",\"Classic Espresso Drinks\",\"Classic Espresso Drinks\",\"Classic Espresso Drinks\",\"Classic Espresso Drinks\",\"Classic Espresso Drinks\",\"Classic Espresso Drinks\",\"Classic Espresso Drinks\",\"Classic Espresso Drinks\",\"Classic Espresso Drinks\",\"Classic Espresso Drinks\",\"Classic Espresso Drinks\",\"Classic Espresso Drinks\",\"Classic Espresso Drinks\",\"Signature Espresso Drinks\",\"Signature Espresso Drinks\",\"Signature Espresso Drinks\",\"Signature Espresso Drinks\",\"Signature Espresso Drinks\",\"Signature Espresso Drinks\",\"Signature Espresso Drinks\",\"Signature Espresso Drinks\",\"Signature Espresso Drinks\",\"Signature Espresso Drinks\",\"Signature Espresso Drinks\",\"Signature Espresso Drinks\",\"Signature Espresso Drinks\",\"Signature Espresso Drinks\",\"Signature Espresso Drinks\",\"Signature Espresso Drinks\",\"Signature Espresso Drinks\",\"Signature Espresso Drinks\",\"Signature Espresso Drinks\",\"Signature Espresso Drinks\",\"Signature Espresso Drinks\",\"Signature Espresso Drinks\",\"Signature Espresso Drinks\",\"Signature Espresso Drinks\",\"Signature Espresso Drinks\",\"Signature Espresso Drinks\",\"Signature Espresso Drinks\",\"Signature Espresso Drinks\",\"Signature Espresso Drinks\",\"Signature Espresso Drinks\",\"Signature Espresso Drinks\",\"Signature Espresso Drinks\",\"Signature Espresso Drinks\",\"Signature Espresso Drinks\",\"Signature Espresso Drinks\",\"Signature Espresso Drinks\",\"Signature Espresso Drinks\",\"Signature Espresso Drinks\",\"Signature Espresso Drinks\",\"Signature Espresso Drinks\",\"Tazo\\u00ae Tea Drinks\",\"Tazo\\u00ae Tea Drinks\",\"Tazo\\u00ae Tea Drinks\",\"Tazo\\u00ae Tea Drinks\",\"Tazo\\u00ae Tea Drinks\",\"Tazo\\u00ae Tea Drinks\",\"Tazo\\u00ae Tea Drinks\",\"Tazo\\u00ae Tea Drinks\",\"Tazo\\u00ae Tea Drinks\",\"Tazo\\u00ae Tea Drinks\",\"Tazo\\u00ae Tea Drinks\",\"Tazo\\u00ae Tea Drinks\",\"Tazo\\u00ae Tea Drinks\",\"Tazo\\u00ae Tea Drinks\",\"Tazo\\u00ae Tea Drinks\",\"Tazo\\u00ae Tea Drinks\",\"Tazo\\u00ae Tea Drinks\",\"Tazo\\u00ae Tea Drinks\",\"Tazo\\u00ae Tea Drinks\",\"Tazo\\u00ae Tea Drinks\",\"Tazo\\u00ae Tea Drinks\",\"Tazo\\u00ae Tea Drinks\",\"Tazo\\u00ae Tea Drinks\",\"Tazo\\u00ae Tea Drinks\",\"Tazo\\u00ae Tea Drinks\",\"Tazo\\u00ae Tea Drinks\",\"Tazo\\u00ae Tea Drinks\",\"Tazo\\u00ae Tea Drinks\",\"Tazo\\u00ae Tea Drinks\",\"Tazo\\u00ae Tea Drinks\",\"Tazo\\u00ae Tea Drinks\",\"Tazo\\u00ae Tea Drinks\",\"Tazo\\u00ae Tea Drinks\",\"Tazo\\u00ae Tea Drinks\",\"Tazo\\u00ae Tea Drinks\",\"Tazo\\u00ae Tea Drinks\",\"Tazo\\u00ae Tea Drinks\",\"Tazo\\u00ae Tea Drinks\",\"Tazo\\u00ae Tea Drinks\",\"Tazo\\u00ae Tea Drinks\",\"Tazo\\u00ae Tea Drinks\",\"Tazo\\u00ae Tea Drinks\",\"Tazo\\u00ae Tea Drinks\",\"Tazo\\u00ae Tea Drinks\",\"Tazo\\u00ae Tea Drinks\",\"Tazo\\u00ae Tea Drinks\",\"Tazo\\u00ae Tea Drinks\",\"Tazo\\u00ae Tea Drinks\",\"Tazo\\u00ae Tea Drinks\",\"Tazo\\u00ae Tea Drinks\",\"Tazo\\u00ae Tea Drinks\",\"Tazo\\u00ae Tea Drinks\",\"Shaken Iced Beverages\",\"Shaken Iced Beverages\",\"Shaken Iced Beverages\",\"Shaken Iced Beverages\",\"Shaken Iced Beverages\",\"Shaken Iced Beverages\",\"Shaken Iced Beverages\",\"Shaken Iced Beverages\",\"Shaken Iced Beverages\",\"Shaken Iced Beverages\",\"Shaken Iced Beverages\",\"Shaken Iced Beverages\",\"Shaken Iced Beverages\",\"Shaken Iced Beverages\",\"Shaken Iced Beverages\",\"Shaken Iced Beverages\",\"Shaken Iced Beverages\",\"Shaken Iced Beverages\",\"Smoothies\",\"Smoothies\",\"Smoothies\",\"Smoothies\",\"Smoothies\",\"Smoothies\",\"Smoothies\",\"Smoothies\",\"Smoothies\",\"Frappuccino\\u00ae Blended Coffee\",\"Frappuccino\\u00ae Blended Coffee\",\"Frappuccino\\u00ae Blended Coffee\",\"Frappuccino\\u00ae Blended Coffee\",\"Frappuccino\\u00ae Blended Coffee\",\"Frappuccino\\u00ae Blended Coffee\",\"Frappuccino\\u00ae Blended Coffee\",\"Frappuccino\\u00ae Blended Coffee\",\"Frappuccino\\u00ae Blended Coffee\",\"Frappuccino\\u00ae Blended Coffee\",\"Frappuccino\\u00ae Blended Coffee\",\"Frappuccino\\u00ae Blended Coffee\",\"Frappuccino\\u00ae Blended Coffee\",\"Frappuccino\\u00ae Blended Coffee\",\"Frappuccino\\u00ae Blended Coffee\",\"Frappuccino\\u00ae Blended Coffee\",\"Frappuccino\\u00ae Blended Coffee\",\"Frappuccino\\u00ae Blended Coffee\",\"Frappuccino\\u00ae Blended Coffee\",\"Frappuccino\\u00ae Blended Coffee\",\"Frappuccino\\u00ae Blended Coffee\",\"Frappuccino\\u00ae Blended Coffee\",\"Frappuccino\\u00ae Blended Coffee\",\"Frappuccino\\u00ae Blended Coffee\",\"Frappuccino\\u00ae Blended Coffee\",\"Frappuccino\\u00ae Blended Coffee\",\"Frappuccino\\u00ae Blended Coffee\",\"Frappuccino\\u00ae Blended Coffee\",\"Frappuccino\\u00ae Blended Coffee\",\"Frappuccino\\u00ae Blended Coffee\",\"Frappuccino\\u00ae Blended Coffee\",\"Frappuccino\\u00ae Blended Coffee\",\"Frappuccino\\u00ae Blended Coffee\",\"Frappuccino\\u00ae Blended Coffee\",\"Frappuccino\\u00ae Blended Coffee\",\"Frappuccino\\u00ae Blended Coffee\",\"Frappuccino\\u00ae Light Blended Coffee\",\"Frappuccino\\u00ae Light Blended Coffee\",\"Frappuccino\\u00ae Light Blended Coffee\",\"Frappuccino\\u00ae Light Blended Coffee\",\"Frappuccino\\u00ae Light Blended Coffee\",\"Frappuccino\\u00ae Light Blended Coffee\",\"Frappuccino\\u00ae Light Blended Coffee\",\"Frappuccino\\u00ae Light Blended Coffee\",\"Frappuccino\\u00ae Light Blended Coffee\",\"Frappuccino\\u00ae Light Blended Coffee\",\"Frappuccino\\u00ae Light Blended Coffee\",\"Frappuccino\\u00ae Light Blended Coffee\",\"Frappuccino\\u00ae Blended Cr\\u00e8me\",\"Frappuccino\\u00ae Blended Cr\\u00e8me\",\"Frappuccino\\u00ae Blended Cr\\u00e8me\",\"Frappuccino\\u00ae Blended Cr\\u00e8me\",\"Frappuccino\\u00ae Blended Cr\\u00e8me\",\"Frappuccino\\u00ae Blended Cr\\u00e8me\",\"Frappuccino\\u00ae Blended Cr\\u00e8me\",\"Frappuccino\\u00ae Blended Cr\\u00e8me\",\"Frappuccino\\u00ae Blended Cr\\u00e8me\",\"Frappuccino\\u00ae Blended Cr\\u00e8me\",\"Frappuccino\\u00ae Blended Cr\\u00e8me\",\"Frappuccino\\u00ae Blended Cr\\u00e8me\",\"Frappuccino\\u00ae Blended Cr\\u00e8me\"],\"y\":[3,4,5,5,70,100,70,100,150,110,130,190,150,170,240,190,110,130,110,170,200,180,220,260,230,280,340,290,100,130,110,150,200,160,200,250,210,250,320,270,5,10,15,25,50,80,50,60,90,70,80,120,100,110,150,120,5,10,60,100,120,160,100,120,100,140,180,150,190,240,200,240,300,250,180,200,180,270,310,280,350,400,370,450,510,460,130,150,130,190,230,200,240,290,250,320,380,330,140,210,280,360,0,0,0,0,100,120,110,160,190,160,210,240,220,260,310,280,130,170,140,210,260,230,290,350,310,370,450,390,80,90,80,120,140,130,150,190,170,190,230,210,80,90,80,120,140,130,150,190,170,190,230,210,60,90,130,80,90,80,110,120,110,160,180,170,60,80,120,100,130,190,280,300,290,260,270,270,290,290,290,160,180,160,220,240,220,310,350,310,180,200,180,260,290,260,340,390,350,180,200,180,280,280,260,330,370,340,220,240,220,310,340,310,420,460,430,90,120,160,110,150,210,100,150,200,150,220,290,170,190,170,230,260,240,310,350,320,170,200,180,240],\"type\":\"scatter\"}],                        {\"legend\":{\"bgcolor\":\"#F5F6F9\",\"font\":{\"color\":\"#4D5663\"}},\"paper_bgcolor\":\"#F5F6F9\",\"plot_bgcolor\":\"#F5F6F9\",\"template\":{\"data\":{\"barpolar\":[{\"marker\":{\"line\":{\"color\":\"#E5ECF6\",\"width\":0.5},\"pattern\":{\"fillmode\":\"overlay\",\"size\":10,\"solidity\":0.2}},\"type\":\"barpolar\"}],\"bar\":[{\"error_x\":{\"color\":\"#2a3f5f\"},\"error_y\":{\"color\":\"#2a3f5f\"},\"marker\":{\"line\":{\"color\":\"#E5ECF6\",\"width\":0.5},\"pattern\":{\"fillmode\":\"overlay\",\"size\":10,\"solidity\":0.2}},\"type\":\"bar\"}],\"carpet\":[{\"aaxis\":{\"endlinecolor\":\"#2a3f5f\",\"gridcolor\":\"white\",\"linecolor\":\"white\",\"minorgridcolor\":\"white\",\"startlinecolor\":\"#2a3f5f\"},\"baxis\":{\"endlinecolor\":\"#2a3f5f\",\"gridcolor\":\"white\",\"linecolor\":\"white\",\"minorgridcolor\":\"white\",\"startlinecolor\":\"#2a3f5f\"},\"type\":\"carpet\"}],\"choropleth\":[{\"colorbar\":{\"outlinewidth\":0,\"ticks\":\"\"},\"type\":\"choropleth\"}],\"contourcarpet\":[{\"colorbar\":{\"outlinewidth\":0,\"ticks\":\"\"},\"type\":\"contourcarpet\"}],\"contour\":[{\"colorbar\":{\"outlinewidth\":0,\"ticks\":\"\"},\"colorscale\":[[0.0,\"#0d0887\"],[0.1111111111111111,\"#46039f\"],[0.2222222222222222,\"#7201a8\"],[0.3333333333333333,\"#9c179e\"],[0.4444444444444444,\"#bd3786\"],[0.5555555555555556,\"#d8576b\"],[0.6666666666666666,\"#ed7953\"],[0.7777777777777778,\"#fb9f3a\"],[0.8888888888888888,\"#fdca26\"],[1.0,\"#f0f921\"]],\"type\":\"contour\"}],\"heatmapgl\":[{\"colorbar\":{\"outlinewidth\":0,\"ticks\":\"\"},\"colorscale\":[[0.0,\"#0d0887\"],[0.1111111111111111,\"#46039f\"],[0.2222222222222222,\"#7201a8\"],[0.3333333333333333,\"#9c179e\"],[0.4444444444444444,\"#bd3786\"],[0.5555555555555556,\"#d8576b\"],[0.6666666666666666,\"#ed7953\"],[0.7777777777777778,\"#fb9f3a\"],[0.8888888888888888,\"#fdca26\"],[1.0,\"#f0f921\"]],\"type\":\"heatmapgl\"}],\"heatmap\":[{\"colorbar\":{\"outlinewidth\":0,\"ticks\":\"\"},\"colorscale\":[[0.0,\"#0d0887\"],[0.1111111111111111,\"#46039f\"],[0.2222222222222222,\"#7201a8\"],[0.3333333333333333,\"#9c179e\"],[0.4444444444444444,\"#bd3786\"],[0.5555555555555556,\"#d8576b\"],[0.6666666666666666,\"#ed7953\"],[0.7777777777777778,\"#fb9f3a\"],[0.8888888888888888,\"#fdca26\"],[1.0,\"#f0f921\"]],\"type\":\"heatmap\"}],\"histogram2dcontour\":[{\"colorbar\":{\"outlinewidth\":0,\"ticks\":\"\"},\"colorscale\":[[0.0,\"#0d0887\"],[0.1111111111111111,\"#46039f\"],[0.2222222222222222,\"#7201a8\"],[0.3333333333333333,\"#9c179e\"],[0.4444444444444444,\"#bd3786\"],[0.5555555555555556,\"#d8576b\"],[0.6666666666666666,\"#ed7953\"],[0.7777777777777778,\"#fb9f3a\"],[0.8888888888888888,\"#fdca26\"],[1.0,\"#f0f921\"]],\"type\":\"histogram2dcontour\"}],\"histogram2d\":[{\"colorbar\":{\"outlinewidth\":0,\"ticks\":\"\"},\"colorscale\":[[0.0,\"#0d0887\"],[0.1111111111111111,\"#46039f\"],[0.2222222222222222,\"#7201a8\"],[0.3333333333333333,\"#9c179e\"],[0.4444444444444444,\"#bd3786\"],[0.5555555555555556,\"#d8576b\"],[0.6666666666666666,\"#ed7953\"],[0.7777777777777778,\"#fb9f3a\"],[0.8888888888888888,\"#fdca26\"],[1.0,\"#f0f921\"]],\"type\":\"histogram2d\"}],\"histogram\":[{\"marker\":{\"pattern\":{\"fillmode\":\"overlay\",\"size\":10,\"solidity\":0.2}},\"type\":\"histogram\"}],\"mesh3d\":[{\"colorbar\":{\"outlinewidth\":0,\"ticks\":\"\"},\"type\":\"mesh3d\"}],\"parcoords\":[{\"line\":{\"colorbar\":{\"outlinewidth\":0,\"ticks\":\"\"}},\"type\":\"parcoords\"}],\"pie\":[{\"automargin\":true,\"type\":\"pie\"}],\"scatter3d\":[{\"line\":{\"colorbar\":{\"outlinewidth\":0,\"ticks\":\"\"}},\"marker\":{\"colorbar\":{\"outlinewidth\":0,\"ticks\":\"\"}},\"type\":\"scatter3d\"}],\"scattercarpet\":[{\"marker\":{\"colorbar\":{\"outlinewidth\":0,\"ticks\":\"\"}},\"type\":\"scattercarpet\"}],\"scattergeo\":[{\"marker\":{\"colorbar\":{\"outlinewidth\":0,\"ticks\":\"\"}},\"type\":\"scattergeo\"}],\"scattergl\":[{\"marker\":{\"colorbar\":{\"outlinewidth\":0,\"ticks\":\"\"}},\"type\":\"scattergl\"}],\"scattermapbox\":[{\"marker\":{\"colorbar\":{\"outlinewidth\":0,\"ticks\":\"\"}},\"type\":\"scattermapbox\"}],\"scatterpolargl\":[{\"marker\":{\"colorbar\":{\"outlinewidth\":0,\"ticks\":\"\"}},\"type\":\"scatterpolargl\"}],\"scatterpolar\":[{\"marker\":{\"colorbar\":{\"outlinewidth\":0,\"ticks\":\"\"}},\"type\":\"scatterpolar\"}],\"scatter\":[{\"fillpattern\":{\"fillmode\":\"overlay\",\"size\":10,\"solidity\":0.2},\"type\":\"scatter\"}],\"scatterternary\":[{\"marker\":{\"colorbar\":{\"outlinewidth\":0,\"ticks\":\"\"}},\"type\":\"scatterternary\"}],\"surface\":[{\"colorbar\":{\"outlinewidth\":0,\"ticks\":\"\"},\"colorscale\":[[0.0,\"#0d0887\"],[0.1111111111111111,\"#46039f\"],[0.2222222222222222,\"#7201a8\"],[0.3333333333333333,\"#9c179e\"],[0.4444444444444444,\"#bd3786\"],[0.5555555555555556,\"#d8576b\"],[0.6666666666666666,\"#ed7953\"],[0.7777777777777778,\"#fb9f3a\"],[0.8888888888888888,\"#fdca26\"],[1.0,\"#f0f921\"]],\"type\":\"surface\"}],\"table\":[{\"cells\":{\"fill\":{\"color\":\"#EBF0F8\"},\"line\":{\"color\":\"white\"}},\"header\":{\"fill\":{\"color\":\"#C8D4E3\"},\"line\":{\"color\":\"white\"}},\"type\":\"table\"}]},\"layout\":{\"annotationdefaults\":{\"arrowcolor\":\"#2a3f5f\",\"arrowhead\":0,\"arrowwidth\":1},\"autotypenumbers\":\"strict\",\"coloraxis\":{\"colorbar\":{\"outlinewidth\":0,\"ticks\":\"\"}},\"colorscale\":{\"diverging\":[[0,\"#8e0152\"],[0.1,\"#c51b7d\"],[0.2,\"#de77ae\"],[0.3,\"#f1b6da\"],[0.4,\"#fde0ef\"],[0.5,\"#f7f7f7\"],[0.6,\"#e6f5d0\"],[0.7,\"#b8e186\"],[0.8,\"#7fbc41\"],[0.9,\"#4d9221\"],[1,\"#276419\"]],\"sequential\":[[0.0,\"#0d0887\"],[0.1111111111111111,\"#46039f\"],[0.2222222222222222,\"#7201a8\"],[0.3333333333333333,\"#9c179e\"],[0.4444444444444444,\"#bd3786\"],[0.5555555555555556,\"#d8576b\"],[0.6666666666666666,\"#ed7953\"],[0.7777777777777778,\"#fb9f3a\"],[0.8888888888888888,\"#fdca26\"],[1.0,\"#f0f921\"]],\"sequentialminus\":[[0.0,\"#0d0887\"],[0.1111111111111111,\"#46039f\"],[0.2222222222222222,\"#7201a8\"],[0.3333333333333333,\"#9c179e\"],[0.4444444444444444,\"#bd3786\"],[0.5555555555555556,\"#d8576b\"],[0.6666666666666666,\"#ed7953\"],[0.7777777777777778,\"#fb9f3a\"],[0.8888888888888888,\"#fdca26\"],[1.0,\"#f0f921\"]]},\"colorway\":[\"#636efa\",\"#EF553B\",\"#00cc96\",\"#ab63fa\",\"#FFA15A\",\"#19d3f3\",\"#FF6692\",\"#B6E880\",\"#FF97FF\",\"#FECB52\"],\"font\":{\"color\":\"#2a3f5f\"},\"geo\":{\"bgcolor\":\"white\",\"lakecolor\":\"white\",\"landcolor\":\"#E5ECF6\",\"showlakes\":true,\"showland\":true,\"subunitcolor\":\"white\"},\"hoverlabel\":{\"align\":\"left\"},\"hovermode\":\"closest\",\"mapbox\":{\"style\":\"light\"},\"paper_bgcolor\":\"white\",\"plot_bgcolor\":\"#E5ECF6\",\"polar\":{\"angularaxis\":{\"gridcolor\":\"white\",\"linecolor\":\"white\",\"ticks\":\"\"},\"bgcolor\":\"#E5ECF6\",\"radialaxis\":{\"gridcolor\":\"white\",\"linecolor\":\"white\",\"ticks\":\"\"}},\"scene\":{\"xaxis\":{\"backgroundcolor\":\"#E5ECF6\",\"gridcolor\":\"white\",\"gridwidth\":2,\"linecolor\":\"white\",\"showbackground\":true,\"ticks\":\"\",\"zerolinecolor\":\"white\"},\"yaxis\":{\"backgroundcolor\":\"#E5ECF6\",\"gridcolor\":\"white\",\"gridwidth\":2,\"linecolor\":\"white\",\"showbackground\":true,\"ticks\":\"\",\"zerolinecolor\":\"white\"},\"zaxis\":{\"backgroundcolor\":\"#E5ECF6\",\"gridcolor\":\"white\",\"gridwidth\":2,\"linecolor\":\"white\",\"showbackground\":true,\"ticks\":\"\",\"zerolinecolor\":\"white\"}},\"shapedefaults\":{\"line\":{\"color\":\"#2a3f5f\"}},\"ternary\":{\"aaxis\":{\"gridcolor\":\"white\",\"linecolor\":\"white\",\"ticks\":\"\"},\"baxis\":{\"gridcolor\":\"white\",\"linecolor\":\"white\",\"ticks\":\"\"},\"bgcolor\":\"#E5ECF6\",\"caxis\":{\"gridcolor\":\"white\",\"linecolor\":\"white\",\"ticks\":\"\"}},\"title\":{\"x\":0.05},\"xaxis\":{\"automargin\":true,\"gridcolor\":\"white\",\"linecolor\":\"white\",\"ticks\":\"\",\"title\":{\"standoff\":15},\"zerolinecolor\":\"white\",\"zerolinewidth\":2},\"yaxis\":{\"automargin\":true,\"gridcolor\":\"white\",\"linecolor\":\"white\",\"ticks\":\"\",\"title\":{\"standoff\":15},\"zerolinecolor\":\"white\",\"zerolinewidth\":2}}},\"title\":{\"font\":{\"color\":\"#4D5663\"}},\"xaxis\":{\"gridcolor\":\"#E1E5ED\",\"showgrid\":true,\"tickfont\":{\"color\":\"#4D5663\"},\"title\":{\"font\":{\"color\":\"#4D5663\"},\"text\":\"\"},\"zerolinecolor\":\"#E1E5ED\"},\"yaxis\":{\"gridcolor\":\"#E1E5ED\",\"showgrid\":true,\"tickfont\":{\"color\":\"#4D5663\"},\"title\":{\"font\":{\"color\":\"#4D5663\"},\"text\":\"\"},\"zerolinecolor\":\"#E1E5ED\"}},                        {\"showLink\": true, \"linkText\": \"Export to plot.ly\", \"plotlyServerURL\": \"https://plot.ly\", \"responsive\": true}                    ).then(function(){\n",
       "                            \n",
       "var gd = document.getElementById('c9a36f9d-be87-43cb-8f5a-1e95a0052f9d');\n",
       "var x = new MutationObserver(function (mutations, observer) {{\n",
       "        var display = window.getComputedStyle(gd).display;\n",
       "        if (!display || display === 'none') {{\n",
       "            console.log([gd, 'removed!']);\n",
       "            Plotly.purge(gd);\n",
       "            observer.disconnect();\n",
       "        }}\n",
       "}});\n",
       "\n",
       "// Listen for the removal of the full notebook cells\n",
       "var notebookContainer = gd.closest('#notebook-container');\n",
       "if (notebookContainer) {{\n",
       "    x.observe(notebookContainer, {childList: true});\n",
       "}}\n",
       "\n",
       "// Listen for the clearing of the current output cell\n",
       "var outputEl = gd.closest('.output');\n",
       "if (outputEl) {{\n",
       "    x.observe(outputEl, {childList: true});\n",
       "}}\n",
       "\n",
       "                        })                };                });            </script>        </div>"
      ]
     },
     "metadata": {},
     "output_type": "display_data"
    }
   ],
   "source": [
    "df.iplot(kind='scatter',x='Beverage_category',y='Calories',mode='markers',size=10)"
   ]
  },
  {
   "cell_type": "markdown",
   "metadata": {},
   "source": [
    "# Bar plot"
   ]
  },
  {
   "cell_type": "code",
   "execution_count": 17,
   "metadata": {},
   "outputs": [
    {
     "data": {
      "application/vnd.plotly.v1+json": {
       "config": {
        "linkText": "Export to plot.ly",
        "plotlyServerURL": "https://plot.ly",
        "showLink": true
       },
       "data": [
        {
         "marker": {
          "color": "rgba(255, 153, 51, 0.6)",
          "line": {
           "color": "rgba(255, 153, 51, 1.0)",
           "width": 1
          }
         },
         "name": "Beverage_prep",
         "orientation": "v",
         "text": "",
         "type": "bar",
         "x": [
          "Brewed Coffee",
          "Brewed Coffee",
          "Brewed Coffee",
          "Brewed Coffee",
          "Caffè Latte",
          "Caffè Latte",
          "Caffè Latte",
          "Caffè Latte",
          "Caffè Latte",
          "Caffè Latte",
          "Caffè Latte",
          "Caffè Latte",
          "Caffè Latte",
          "Caffè Latte",
          "Caffè Latte",
          "Caffè Latte",
          "Caffè Mocha (Without Whipped Cream)",
          "Caffè Mocha (Without Whipped Cream)",
          "Caffè Mocha (Without Whipped Cream)",
          "Caffè Mocha (Without Whipped Cream)",
          "Caffè Mocha (Without Whipped Cream)",
          "Caffè Mocha (Without Whipped Cream)",
          "Caffè Mocha (Without Whipped Cream)",
          "Caffè Mocha (Without Whipped Cream)",
          "Caffè Mocha (Without Whipped Cream)",
          "Caffè Mocha (Without Whipped Cream)",
          "Caffè Mocha (Without Whipped Cream)",
          "Caffè Mocha (Without Whipped Cream)",
          "Vanilla Latte (Or Other Flavoured Latte)",
          "Vanilla Latte (Or Other Flavoured Latte)",
          "Vanilla Latte (Or Other Flavoured Latte)",
          "Vanilla Latte (Or Other Flavoured Latte)",
          "Vanilla Latte (Or Other Flavoured Latte)",
          "Vanilla Latte (Or Other Flavoured Latte)",
          "Vanilla Latte (Or Other Flavoured Latte)",
          "Vanilla Latte (Or Other Flavoured Latte)",
          "Vanilla Latte (Or Other Flavoured Latte)",
          "Vanilla Latte (Or Other Flavoured Latte)",
          "Vanilla Latte (Or Other Flavoured Latte)",
          "Vanilla Latte (Or Other Flavoured Latte)",
          "Caffè Americano",
          "Caffè Americano",
          "Caffè Americano",
          "Caffè Americano",
          "Cappuccino",
          "Cappuccino",
          "Cappuccino",
          "Cappuccino",
          "Cappuccino",
          "Cappuccino",
          "Cappuccino",
          "Cappuccino",
          "Cappuccino",
          "Cappuccino",
          "Cappuccino",
          "Cappuccino",
          "Espresso",
          "Espresso",
          "Skinny Latte (Any Flavour)",
          "Skinny Latte (Any Flavour)",
          "Skinny Latte (Any Flavour)",
          "Skinny Latte (Any Flavour)",
          "Caramel Macchiato",
          "Caramel Macchiato",
          "Caramel Macchiato",
          "Caramel Macchiato",
          "Caramel Macchiato",
          "Caramel Macchiato",
          "Caramel Macchiato",
          "Caramel Macchiato",
          "Caramel Macchiato",
          "Caramel Macchiato",
          "Caramel Macchiato",
          "Caramel Macchiato",
          "White Chocolate Mocha (Without Whipped Cream)",
          "White Chocolate Mocha (Without Whipped Cream)",
          "White Chocolate Mocha (Without Whipped Cream)",
          "White Chocolate Mocha (Without Whipped Cream)",
          "White Chocolate Mocha (Without Whipped Cream)",
          "White Chocolate Mocha (Without Whipped Cream)",
          "White Chocolate Mocha (Without Whipped Cream)",
          "White Chocolate Mocha (Without Whipped Cream)",
          "White Chocolate Mocha (Without Whipped Cream)",
          "White Chocolate Mocha (Without Whipped Cream)",
          "White Chocolate Mocha (Without Whipped Cream)",
          "White Chocolate Mocha (Without Whipped Cream)",
          "Hot Chocolate (Without Whipped Cream)",
          "Hot Chocolate (Without Whipped Cream)",
          "Hot Chocolate (Without Whipped Cream)",
          "Hot Chocolate (Without Whipped Cream)",
          "Hot Chocolate (Without Whipped Cream)",
          "Hot Chocolate (Without Whipped Cream)",
          "Hot Chocolate (Without Whipped Cream)",
          "Hot Chocolate (Without Whipped Cream)",
          "Hot Chocolate (Without Whipped Cream)",
          "Hot Chocolate (Without Whipped Cream)",
          "Hot Chocolate (Without Whipped Cream)",
          "Hot Chocolate (Without Whipped Cream)",
          "Caramel Apple Spice (Without Whipped Cream)",
          "Caramel Apple Spice (Without Whipped Cream)",
          "Caramel Apple Spice (Without Whipped Cream)",
          "Caramel Apple Spice (Without Whipped Cream)",
          "Tazo® Tea",
          "Tazo® Tea",
          "Tazo® Tea",
          "Tazo® Tea",
          "Tazo® Chai Tea Latte",
          "Tazo® Chai Tea Latte",
          "Tazo® Chai Tea Latte",
          "Tazo® Chai Tea Latte",
          "Tazo® Chai Tea Latte",
          "Tazo® Chai Tea Latte",
          "Tazo® Chai Tea Latte",
          "Tazo® Chai Tea Latte",
          "Tazo® Chai Tea Latte",
          "Tazo® Chai Tea Latte",
          "Tazo® Chai Tea Latte",
          "Tazo® Chai Tea Latte",
          "Tazo® Green Tea Latte",
          "Tazo® Green Tea Latte",
          "Tazo® Green Tea Latte",
          "Tazo® Green Tea Latte",
          "Tazo® Green Tea Latte",
          "Tazo® Green Tea Latte",
          "Tazo® Green Tea Latte",
          "Tazo® Green Tea Latte",
          "Tazo® Green Tea Latte",
          "Tazo® Green Tea Latte",
          "Tazo® Green Tea Latte",
          "Tazo® Green Tea Latte",
          "Tazo® Full-Leaf Tea Latte",
          "Tazo® Full-Leaf Tea Latte",
          "Tazo® Full-Leaf Tea Latte",
          "Tazo® Full-Leaf Tea Latte",
          "Tazo® Full-Leaf Tea Latte",
          "Tazo® Full-Leaf Tea Latte",
          "Tazo® Full-Leaf Tea Latte",
          "Tazo® Full-Leaf Tea Latte",
          "Tazo® Full-Leaf Tea Latte",
          "Tazo® Full-Leaf Tea Latte",
          "Tazo® Full-Leaf Tea Latte",
          "Tazo® Full-Leaf Tea Latte",
          "Tazo® Full-Leaf Red Tea Latte (Vanilla Rooibos)",
          "Tazo® Full-Leaf Red Tea Latte (Vanilla Rooibos)",
          "Tazo® Full-Leaf Red Tea Latte (Vanilla Rooibos)",
          "Tazo® Full-Leaf Red Tea Latte (Vanilla Rooibos)",
          "Tazo® Full-Leaf Red Tea Latte (Vanilla Rooibos)",
          "Tazo® Full-Leaf Red Tea Latte (Vanilla Rooibos)",
          "Tazo® Full-Leaf Red Tea Latte (Vanilla Rooibos)",
          "Tazo® Full-Leaf Red Tea Latte (Vanilla Rooibos)",
          "Tazo® Full-Leaf Red Tea Latte (Vanilla Rooibos)",
          "Tazo® Full-Leaf Red Tea Latte (Vanilla Rooibos)",
          "Tazo® Full-Leaf Red Tea Latte (Vanilla Rooibos)",
          "Tazo® Full-Leaf Red Tea Latte (Vanilla Rooibos)",
          "Iced Brewed Coffee (With Classic Syrup)",
          "Iced Brewed Coffee (With Classic Syrup)",
          "Iced Brewed Coffee (With Classic Syrup)",
          "Iced Brewed Coffee (With Milk & Classic Syrup)",
          "Iced Brewed Coffee (With Milk & Classic Syrup)",
          "Iced Brewed Coffee (With Milk & Classic Syrup)",
          "Iced Brewed Coffee (With Milk & Classic Syrup)",
          "Iced Brewed Coffee (With Milk & Classic Syrup)",
          "Iced Brewed Coffee (With Milk & Classic Syrup)",
          "Iced Brewed Coffee (With Milk & Classic Syrup)",
          "Iced Brewed Coffee (With Milk & Classic Syrup)",
          "Iced Brewed Coffee (With Milk & Classic Syrup)",
          "Shaken Iced Tazo® Tea (With Classic Syrup)",
          "Shaken Iced Tazo® Tea (With Classic Syrup)",
          "Shaken Iced Tazo® Tea (With Classic Syrup)",
          "Shaken Iced Tazo® Tea Lemonade (With Classic Syrup)",
          "Shaken Iced Tazo® Tea Lemonade (With Classic Syrup)",
          "Shaken Iced Tazo® Tea Lemonade (With Classic Syrup)",
          "Banana Chocolate Smoothie",
          "Banana Chocolate Smoothie",
          "Banana Chocolate Smoothie",
          "Orange Mango Banana Smoothie",
          "Orange Mango Banana Smoothie",
          "Orange Mango Banana Smoothie",
          "Strawberry Banana Smoothie",
          "Strawberry Banana Smoothie",
          "Strawberry Banana Smoothie",
          "Coffee",
          "Coffee",
          "Coffee",
          "Coffee",
          "Coffee",
          "Coffee",
          "Coffee",
          "Coffee",
          "Coffee",
          "Mocha (Without Whipped Cream)",
          "Mocha (Without Whipped Cream)",
          "Mocha (Without Whipped Cream)",
          "Mocha (Without Whipped Cream)",
          "Mocha (Without Whipped Cream)",
          "Mocha (Without Whipped Cream)",
          "Mocha (Without Whipped Cream)",
          "Mocha (Without Whipped Cream)",
          "Mocha (Without Whipped Cream)",
          "Caramel (Without Whipped Cream)",
          "Caramel (Without Whipped Cream)",
          "Caramel (Without Whipped Cream)",
          "Caramel (Without Whipped Cream)",
          "Caramel (Without Whipped Cream)",
          "Caramel (Without Whipped Cream)",
          "Caramel (Without Whipped Cream)",
          "Caramel (Without Whipped Cream)",
          "Caramel (Without Whipped Cream)",
          "Java Chip (Without Whipped Cream)",
          "Java Chip (Without Whipped Cream)",
          "Java Chip (Without Whipped Cream)",
          "Java Chip (Without Whipped Cream)",
          "Java Chip (Without Whipped Cream)",
          "Java Chip (Without Whipped Cream)",
          "Java Chip (Without Whipped Cream)",
          "Java Chip (Without Whipped Cream)",
          "Java Chip (Without Whipped Cream)",
          "Coffee",
          "Coffee",
          "Coffee",
          "Mocha",
          "Mocha",
          "Mocha",
          "Caramel",
          "Caramel",
          "Caramel",
          "Java Chip",
          "Java Chip",
          "Java Chip",
          "Strawberries & Crème (Without Whipped Cream)",
          "Strawberries & Crème (Without Whipped Cream)",
          "Strawberries & Crème (Without Whipped Cream)",
          "Strawberries & Crème (Without Whipped Cream)",
          "Strawberries & Crème (Without Whipped Cream)",
          "Strawberries & Crème (Without Whipped Cream)",
          "Strawberries & Crème (Without Whipped Cream)",
          "Strawberries & Crème (Without Whipped Cream)",
          "Strawberries & Crème (Without Whipped Cream)",
          "Vanilla Bean (Without Whipped Cream)",
          "Vanilla Bean (Without Whipped Cream)",
          "Vanilla Bean (Without Whipped Cream)",
          "Vanilla Bean (Without Whipped Cream)"
         ],
         "y": [
          "Short",
          "Tall",
          "Grande",
          "Venti",
          "Short Nonfat Milk",
          "2% Milk",
          "Soymilk",
          "Tall Nonfat Milk",
          "2% Milk",
          "Soymilk",
          "Grande Nonfat Milk",
          "2% Milk",
          "Soymilk",
          "Venti Nonfat Milk",
          "2% Milk",
          "Soymilk",
          "Short Nonfat Milk",
          "2% Milk",
          "Soymilk",
          "Tall Nonfat Milk",
          "2% Milk",
          "Soymilk",
          "Grande Nonfat Milk",
          "2% Milk",
          "Soymilk",
          "Venti Nonfat Milk",
          "2% Milk",
          "Soymilk",
          "Short Nonfat Milk",
          "2% Milk",
          "Soymilk",
          "Tall Nonfat Milk",
          "2% Milk",
          "Soymilk",
          "Grande Nonfat Milk",
          "2% Milk",
          "Soymilk",
          "Venti Nonfat Milk",
          "2% Milk",
          "Soymilk",
          "Short",
          "Tall",
          "Grande",
          "Venti",
          "Short Nonfat Milk",
          "2% Milk",
          "Soymilk",
          "Tall Nonfat Milk",
          "2% Milk",
          "Soymilk",
          "Grande Nonfat Milk",
          "2% Milk",
          "Soymilk",
          "Venti Nonfat Milk",
          "2% Milk",
          "Soymilk",
          "Solo",
          "Doppio",
          "Short Nonfat Milk",
          "Tall Nonfat Milk",
          "Grande Nonfat Milk",
          "Venti Nonfat Milk",
          "Short Nonfat Milk",
          "2% Milk",
          "Soymilk",
          "Tall Nonfat Milk",
          "2% Milk",
          "Soymilk",
          "Grande Nonfat Milk",
          "2% Milk",
          "Soymilk",
          "Venti Nonfat Milk",
          "2% Milk",
          "Soymilk",
          "Short Nonfat Milk",
          "2% Milk",
          "Soymilk",
          "Tall Nonfat Milk",
          "2% Milk",
          "Soymilk",
          "Grande Nonfat Milk",
          "2% Milk",
          "Soymilk",
          "Venti Nonfat Milk",
          "2% Milk",
          "Soymilk",
          "Short Nonfat Milk",
          "2% Milk",
          "Soymilk",
          "Tall Nonfat Milk",
          "2% Milk",
          "Soymilk",
          "Grande Nonfat Milk",
          "2% Milk",
          "Soymilk",
          "Venti Nonfat Milk",
          "2% Milk",
          "Soymilk",
          "Short",
          "Tall",
          "Grande",
          "Venti",
          "Short",
          "Tall",
          "Grande",
          "Venti",
          "Short Nonfat Milk",
          "2% Milk",
          "Soymilk",
          "Tall Nonfat Milk",
          "2% Milk",
          "Soymilk",
          "Grande Nonfat Milk",
          "2% Milk",
          "Soymilk",
          "Venti Nonfat Milk",
          "2% Milk",
          "Soymilk",
          "Short Nonfat Milk",
          "2% Milk",
          "Soymilk",
          "Tall Nonfat Milk",
          "2% Milk",
          "Soymilk",
          "Grande Nonfat Milk",
          "2% Milk",
          "Soymilk",
          "Venti Nonfat Milk",
          "2% Milk",
          "Soymilk",
          "Short Nonfat Milk",
          "2% Milk",
          "Soymilk",
          "Tall Nonfat Milk",
          "2% Milk",
          "Soymilk",
          "Grande Nonfat Milk",
          "2% Milk",
          "Soymilk",
          "Venti Nonfat Milk",
          "2% Milk",
          "Soymilk",
          "Short Nonfat Milk",
          "2% Milk",
          "Soymilk",
          "Tall Nonfat Milk",
          "2% Milk",
          "Soymilk",
          "Grande Nonfat Milk",
          "2% Milk",
          "Soymilk",
          "Venti Nonfat Milk",
          "2% Milk",
          "Soymilk",
          "Tall",
          "Grande",
          "Venti",
          "Tall Nonfat Milk",
          "2% Milk",
          "Soymilk",
          "Grande Nonfat Milk",
          "2% Milk",
          "Soymilk",
          "Venti Nonfat Milk",
          "2% Milk",
          "Soymilk",
          "Tall",
          "Grande",
          "Venti",
          "Tall",
          "Grande",
          "Venti",
          "Grande Nonfat Milk",
          "2% Milk",
          "Soymilk",
          "Grande Nonfat Milk",
          "2% Milk",
          "Soymilk",
          "Grande Nonfat Milk",
          "2% Milk",
          "Soymilk",
          "Tall Nonfat Milk",
          "Whole Milk",
          "Soymilk",
          "Grande Nonfat Milk",
          "Whole Milk",
          "Soymilk",
          "Venti Nonfat Milk",
          "Whole Milk",
          "Soymilk",
          "Tall Nonfat Milk",
          "Whole Milk",
          "Soymilk",
          "Grande Nonfat Milk",
          "Whole Milk",
          "Soymilk",
          "Venti Nonfat Milk",
          "Whole Milk",
          "Soymilk",
          "Tall Nonfat Milk",
          "Whole Milk",
          "Soymilk",
          "Grande Nonfat Milk",
          "Whole Milk",
          "Soymilk",
          "Venti Nonfat Milk",
          "Whole Milk",
          "Soymilk",
          "Tall Nonfat Milk",
          "Whole Milk",
          "Soymilk",
          "Grande Nonfat Milk",
          "Whole Milk",
          "Soymilk",
          "Venti Nonfat Milk",
          "Whole Milk",
          "Soymilk",
          "Tall Nonfat Milk",
          "Grande Nonfat Milk",
          "Venti Nonfat Milk",
          "Tall Nonfat Milk",
          "Grande Nonfat Milk",
          "Venti Nonfat Milk",
          "Tall Nonfat Milk",
          "Grande Nonfat Milk",
          "Venti Nonfat Milk",
          "Tall Nonfat Milk",
          "Grande Nonfat Milk",
          "Venti Nonfat Milk",
          "Tall Nonfat Milk",
          "Whole Milk",
          "Soymilk",
          "Grande Nonfat Milk",
          "Whole Milk",
          "Soymilk",
          "Venti Nonfat Milk",
          "Whole Milk",
          "Soymilk",
          "Tall Nonfat Milk",
          "Whole Milk",
          "Soymilk",
          "Grande Nonfat Milk"
         ]
        }
       ],
       "layout": {
        "legend": {
         "bgcolor": "#F5F6F9",
         "font": {
          "color": "#4D5663"
         }
        },
        "paper_bgcolor": "#F5F6F9",
        "plot_bgcolor": "#F5F6F9",
        "template": {
         "data": {
          "bar": [
           {
            "error_x": {
             "color": "#2a3f5f"
            },
            "error_y": {
             "color": "#2a3f5f"
            },
            "marker": {
             "line": {
              "color": "#E5ECF6",
              "width": 0.5
             },
             "pattern": {
              "fillmode": "overlay",
              "size": 10,
              "solidity": 0.2
             }
            },
            "type": "bar"
           }
          ],
          "barpolar": [
           {
            "marker": {
             "line": {
              "color": "#E5ECF6",
              "width": 0.5
             },
             "pattern": {
              "fillmode": "overlay",
              "size": 10,
              "solidity": 0.2
             }
            },
            "type": "barpolar"
           }
          ],
          "carpet": [
           {
            "aaxis": {
             "endlinecolor": "#2a3f5f",
             "gridcolor": "white",
             "linecolor": "white",
             "minorgridcolor": "white",
             "startlinecolor": "#2a3f5f"
            },
            "baxis": {
             "endlinecolor": "#2a3f5f",
             "gridcolor": "white",
             "linecolor": "white",
             "minorgridcolor": "white",
             "startlinecolor": "#2a3f5f"
            },
            "type": "carpet"
           }
          ],
          "choropleth": [
           {
            "colorbar": {
             "outlinewidth": 0,
             "ticks": ""
            },
            "type": "choropleth"
           }
          ],
          "contour": [
           {
            "colorbar": {
             "outlinewidth": 0,
             "ticks": ""
            },
            "colorscale": [
             [
              0,
              "#0d0887"
             ],
             [
              0.1111111111111111,
              "#46039f"
             ],
             [
              0.2222222222222222,
              "#7201a8"
             ],
             [
              0.3333333333333333,
              "#9c179e"
             ],
             [
              0.4444444444444444,
              "#bd3786"
             ],
             [
              0.5555555555555556,
              "#d8576b"
             ],
             [
              0.6666666666666666,
              "#ed7953"
             ],
             [
              0.7777777777777778,
              "#fb9f3a"
             ],
             [
              0.8888888888888888,
              "#fdca26"
             ],
             [
              1,
              "#f0f921"
             ]
            ],
            "type": "contour"
           }
          ],
          "contourcarpet": [
           {
            "colorbar": {
             "outlinewidth": 0,
             "ticks": ""
            },
            "type": "contourcarpet"
           }
          ],
          "heatmap": [
           {
            "colorbar": {
             "outlinewidth": 0,
             "ticks": ""
            },
            "colorscale": [
             [
              0,
              "#0d0887"
             ],
             [
              0.1111111111111111,
              "#46039f"
             ],
             [
              0.2222222222222222,
              "#7201a8"
             ],
             [
              0.3333333333333333,
              "#9c179e"
             ],
             [
              0.4444444444444444,
              "#bd3786"
             ],
             [
              0.5555555555555556,
              "#d8576b"
             ],
             [
              0.6666666666666666,
              "#ed7953"
             ],
             [
              0.7777777777777778,
              "#fb9f3a"
             ],
             [
              0.8888888888888888,
              "#fdca26"
             ],
             [
              1,
              "#f0f921"
             ]
            ],
            "type": "heatmap"
           }
          ],
          "heatmapgl": [
           {
            "colorbar": {
             "outlinewidth": 0,
             "ticks": ""
            },
            "colorscale": [
             [
              0,
              "#0d0887"
             ],
             [
              0.1111111111111111,
              "#46039f"
             ],
             [
              0.2222222222222222,
              "#7201a8"
             ],
             [
              0.3333333333333333,
              "#9c179e"
             ],
             [
              0.4444444444444444,
              "#bd3786"
             ],
             [
              0.5555555555555556,
              "#d8576b"
             ],
             [
              0.6666666666666666,
              "#ed7953"
             ],
             [
              0.7777777777777778,
              "#fb9f3a"
             ],
             [
              0.8888888888888888,
              "#fdca26"
             ],
             [
              1,
              "#f0f921"
             ]
            ],
            "type": "heatmapgl"
           }
          ],
          "histogram": [
           {
            "marker": {
             "pattern": {
              "fillmode": "overlay",
              "size": 10,
              "solidity": 0.2
             }
            },
            "type": "histogram"
           }
          ],
          "histogram2d": [
           {
            "colorbar": {
             "outlinewidth": 0,
             "ticks": ""
            },
            "colorscale": [
             [
              0,
              "#0d0887"
             ],
             [
              0.1111111111111111,
              "#46039f"
             ],
             [
              0.2222222222222222,
              "#7201a8"
             ],
             [
              0.3333333333333333,
              "#9c179e"
             ],
             [
              0.4444444444444444,
              "#bd3786"
             ],
             [
              0.5555555555555556,
              "#d8576b"
             ],
             [
              0.6666666666666666,
              "#ed7953"
             ],
             [
              0.7777777777777778,
              "#fb9f3a"
             ],
             [
              0.8888888888888888,
              "#fdca26"
             ],
             [
              1,
              "#f0f921"
             ]
            ],
            "type": "histogram2d"
           }
          ],
          "histogram2dcontour": [
           {
            "colorbar": {
             "outlinewidth": 0,
             "ticks": ""
            },
            "colorscale": [
             [
              0,
              "#0d0887"
             ],
             [
              0.1111111111111111,
              "#46039f"
             ],
             [
              0.2222222222222222,
              "#7201a8"
             ],
             [
              0.3333333333333333,
              "#9c179e"
             ],
             [
              0.4444444444444444,
              "#bd3786"
             ],
             [
              0.5555555555555556,
              "#d8576b"
             ],
             [
              0.6666666666666666,
              "#ed7953"
             ],
             [
              0.7777777777777778,
              "#fb9f3a"
             ],
             [
              0.8888888888888888,
              "#fdca26"
             ],
             [
              1,
              "#f0f921"
             ]
            ],
            "type": "histogram2dcontour"
           }
          ],
          "mesh3d": [
           {
            "colorbar": {
             "outlinewidth": 0,
             "ticks": ""
            },
            "type": "mesh3d"
           }
          ],
          "parcoords": [
           {
            "line": {
             "colorbar": {
              "outlinewidth": 0,
              "ticks": ""
             }
            },
            "type": "parcoords"
           }
          ],
          "pie": [
           {
            "automargin": true,
            "type": "pie"
           }
          ],
          "scatter": [
           {
            "fillpattern": {
             "fillmode": "overlay",
             "size": 10,
             "solidity": 0.2
            },
            "type": "scatter"
           }
          ],
          "scatter3d": [
           {
            "line": {
             "colorbar": {
              "outlinewidth": 0,
              "ticks": ""
             }
            },
            "marker": {
             "colorbar": {
              "outlinewidth": 0,
              "ticks": ""
             }
            },
            "type": "scatter3d"
           }
          ],
          "scattercarpet": [
           {
            "marker": {
             "colorbar": {
              "outlinewidth": 0,
              "ticks": ""
             }
            },
            "type": "scattercarpet"
           }
          ],
          "scattergeo": [
           {
            "marker": {
             "colorbar": {
              "outlinewidth": 0,
              "ticks": ""
             }
            },
            "type": "scattergeo"
           }
          ],
          "scattergl": [
           {
            "marker": {
             "colorbar": {
              "outlinewidth": 0,
              "ticks": ""
             }
            },
            "type": "scattergl"
           }
          ],
          "scattermapbox": [
           {
            "marker": {
             "colorbar": {
              "outlinewidth": 0,
              "ticks": ""
             }
            },
            "type": "scattermapbox"
           }
          ],
          "scatterpolar": [
           {
            "marker": {
             "colorbar": {
              "outlinewidth": 0,
              "ticks": ""
             }
            },
            "type": "scatterpolar"
           }
          ],
          "scatterpolargl": [
           {
            "marker": {
             "colorbar": {
              "outlinewidth": 0,
              "ticks": ""
             }
            },
            "type": "scatterpolargl"
           }
          ],
          "scatterternary": [
           {
            "marker": {
             "colorbar": {
              "outlinewidth": 0,
              "ticks": ""
             }
            },
            "type": "scatterternary"
           }
          ],
          "surface": [
           {
            "colorbar": {
             "outlinewidth": 0,
             "ticks": ""
            },
            "colorscale": [
             [
              0,
              "#0d0887"
             ],
             [
              0.1111111111111111,
              "#46039f"
             ],
             [
              0.2222222222222222,
              "#7201a8"
             ],
             [
              0.3333333333333333,
              "#9c179e"
             ],
             [
              0.4444444444444444,
              "#bd3786"
             ],
             [
              0.5555555555555556,
              "#d8576b"
             ],
             [
              0.6666666666666666,
              "#ed7953"
             ],
             [
              0.7777777777777778,
              "#fb9f3a"
             ],
             [
              0.8888888888888888,
              "#fdca26"
             ],
             [
              1,
              "#f0f921"
             ]
            ],
            "type": "surface"
           }
          ],
          "table": [
           {
            "cells": {
             "fill": {
              "color": "#EBF0F8"
             },
             "line": {
              "color": "white"
             }
            },
            "header": {
             "fill": {
              "color": "#C8D4E3"
             },
             "line": {
              "color": "white"
             }
            },
            "type": "table"
           }
          ]
         },
         "layout": {
          "annotationdefaults": {
           "arrowcolor": "#2a3f5f",
           "arrowhead": 0,
           "arrowwidth": 1
          },
          "autotypenumbers": "strict",
          "coloraxis": {
           "colorbar": {
            "outlinewidth": 0,
            "ticks": ""
           }
          },
          "colorscale": {
           "diverging": [
            [
             0,
             "#8e0152"
            ],
            [
             0.1,
             "#c51b7d"
            ],
            [
             0.2,
             "#de77ae"
            ],
            [
             0.3,
             "#f1b6da"
            ],
            [
             0.4,
             "#fde0ef"
            ],
            [
             0.5,
             "#f7f7f7"
            ],
            [
             0.6,
             "#e6f5d0"
            ],
            [
             0.7,
             "#b8e186"
            ],
            [
             0.8,
             "#7fbc41"
            ],
            [
             0.9,
             "#4d9221"
            ],
            [
             1,
             "#276419"
            ]
           ],
           "sequential": [
            [
             0,
             "#0d0887"
            ],
            [
             0.1111111111111111,
             "#46039f"
            ],
            [
             0.2222222222222222,
             "#7201a8"
            ],
            [
             0.3333333333333333,
             "#9c179e"
            ],
            [
             0.4444444444444444,
             "#bd3786"
            ],
            [
             0.5555555555555556,
             "#d8576b"
            ],
            [
             0.6666666666666666,
             "#ed7953"
            ],
            [
             0.7777777777777778,
             "#fb9f3a"
            ],
            [
             0.8888888888888888,
             "#fdca26"
            ],
            [
             1,
             "#f0f921"
            ]
           ],
           "sequentialminus": [
            [
             0,
             "#0d0887"
            ],
            [
             0.1111111111111111,
             "#46039f"
            ],
            [
             0.2222222222222222,
             "#7201a8"
            ],
            [
             0.3333333333333333,
             "#9c179e"
            ],
            [
             0.4444444444444444,
             "#bd3786"
            ],
            [
             0.5555555555555556,
             "#d8576b"
            ],
            [
             0.6666666666666666,
             "#ed7953"
            ],
            [
             0.7777777777777778,
             "#fb9f3a"
            ],
            [
             0.8888888888888888,
             "#fdca26"
            ],
            [
             1,
             "#f0f921"
            ]
           ]
          },
          "colorway": [
           "#636efa",
           "#EF553B",
           "#00cc96",
           "#ab63fa",
           "#FFA15A",
           "#19d3f3",
           "#FF6692",
           "#B6E880",
           "#FF97FF",
           "#FECB52"
          ],
          "font": {
           "color": "#2a3f5f"
          },
          "geo": {
           "bgcolor": "white",
           "lakecolor": "white",
           "landcolor": "#E5ECF6",
           "showlakes": true,
           "showland": true,
           "subunitcolor": "white"
          },
          "hoverlabel": {
           "align": "left"
          },
          "hovermode": "closest",
          "mapbox": {
           "style": "light"
          },
          "paper_bgcolor": "white",
          "plot_bgcolor": "#E5ECF6",
          "polar": {
           "angularaxis": {
            "gridcolor": "white",
            "linecolor": "white",
            "ticks": ""
           },
           "bgcolor": "#E5ECF6",
           "radialaxis": {
            "gridcolor": "white",
            "linecolor": "white",
            "ticks": ""
           }
          },
          "scene": {
           "xaxis": {
            "backgroundcolor": "#E5ECF6",
            "gridcolor": "white",
            "gridwidth": 2,
            "linecolor": "white",
            "showbackground": true,
            "ticks": "",
            "zerolinecolor": "white"
           },
           "yaxis": {
            "backgroundcolor": "#E5ECF6",
            "gridcolor": "white",
            "gridwidth": 2,
            "linecolor": "white",
            "showbackground": true,
            "ticks": "",
            "zerolinecolor": "white"
           },
           "zaxis": {
            "backgroundcolor": "#E5ECF6",
            "gridcolor": "white",
            "gridwidth": 2,
            "linecolor": "white",
            "showbackground": true,
            "ticks": "",
            "zerolinecolor": "white"
           }
          },
          "shapedefaults": {
           "line": {
            "color": "#2a3f5f"
           }
          },
          "ternary": {
           "aaxis": {
            "gridcolor": "white",
            "linecolor": "white",
            "ticks": ""
           },
           "baxis": {
            "gridcolor": "white",
            "linecolor": "white",
            "ticks": ""
           },
           "bgcolor": "#E5ECF6",
           "caxis": {
            "gridcolor": "white",
            "linecolor": "white",
            "ticks": ""
           }
          },
          "title": {
           "x": 0.05
          },
          "xaxis": {
           "automargin": true,
           "gridcolor": "white",
           "linecolor": "white",
           "ticks": "",
           "title": {
            "standoff": 15
           },
           "zerolinecolor": "white",
           "zerolinewidth": 2
          },
          "yaxis": {
           "automargin": true,
           "gridcolor": "white",
           "linecolor": "white",
           "ticks": "",
           "title": {
            "standoff": 15
           },
           "zerolinecolor": "white",
           "zerolinewidth": 2
          }
         }
        },
        "title": {
         "font": {
          "color": "#4D5663"
         }
        },
        "xaxis": {
         "gridcolor": "#E1E5ED",
         "showgrid": true,
         "tickfont": {
          "color": "#4D5663"
         },
         "title": {
          "font": {
           "color": "#4D5663"
          },
          "text": ""
         },
         "zerolinecolor": "#E1E5ED"
        },
        "yaxis": {
         "gridcolor": "#E1E5ED",
         "showgrid": true,
         "tickfont": {
          "color": "#4D5663"
         },
         "title": {
          "font": {
           "color": "#4D5663"
          },
          "text": ""
         },
         "zerolinecolor": "#E1E5ED"
        }
       }
      },
      "text/html": [
       "<div>                            <div id=\"fad0cb55-fcb2-47e9-a6b3-e80bea149b29\" class=\"plotly-graph-div\" style=\"height:525px; width:100%;\"></div>            <script type=\"text/javascript\">                require([\"plotly\"], function(Plotly) {                    window.PLOTLYENV=window.PLOTLYENV || {};\n",
       "                    window.PLOTLYENV.BASE_URL='https://plot.ly';                                    if (document.getElementById(\"fad0cb55-fcb2-47e9-a6b3-e80bea149b29\")) {                    Plotly.newPlot(                        \"fad0cb55-fcb2-47e9-a6b3-e80bea149b29\",                        [{\"marker\":{\"color\":\"rgba(255, 153, 51, 0.6)\",\"line\":{\"color\":\"rgba(255, 153, 51, 1.0)\",\"width\":1}},\"name\":\"Beverage_prep\",\"orientation\":\"v\",\"text\":\"\",\"x\":[\"Brewed Coffee\",\"Brewed Coffee\",\"Brewed Coffee\",\"Brewed Coffee\",\"Caff\\u00e8 Latte\",\"Caff\\u00e8 Latte\",\"Caff\\u00e8 Latte\",\"Caff\\u00e8 Latte\",\"Caff\\u00e8 Latte\",\"Caff\\u00e8 Latte\",\"Caff\\u00e8 Latte\",\"Caff\\u00e8 Latte\",\"Caff\\u00e8 Latte\",\"Caff\\u00e8 Latte\",\"Caff\\u00e8 Latte\",\"Caff\\u00e8 Latte\",\"Caff\\u00e8 Mocha (Without Whipped Cream)\",\"Caff\\u00e8 Mocha (Without Whipped Cream)\",\"Caff\\u00e8 Mocha (Without Whipped Cream)\",\"Caff\\u00e8 Mocha (Without Whipped Cream)\",\"Caff\\u00e8 Mocha (Without Whipped Cream)\",\"Caff\\u00e8 Mocha (Without Whipped Cream)\",\"Caff\\u00e8 Mocha (Without Whipped Cream)\",\"Caff\\u00e8 Mocha (Without Whipped Cream)\",\"Caff\\u00e8 Mocha (Without Whipped Cream)\",\"Caff\\u00e8 Mocha (Without Whipped Cream)\",\"Caff\\u00e8 Mocha (Without Whipped Cream)\",\"Caff\\u00e8 Mocha (Without Whipped Cream)\",\"Vanilla Latte (Or Other Flavoured Latte)\",\"Vanilla Latte (Or Other Flavoured Latte)\",\"Vanilla Latte (Or Other Flavoured Latte)\",\"Vanilla Latte (Or Other Flavoured Latte)\",\"Vanilla Latte (Or Other Flavoured Latte)\",\"Vanilla Latte (Or Other Flavoured Latte)\",\"Vanilla Latte (Or Other Flavoured Latte)\",\"Vanilla Latte (Or Other Flavoured Latte)\",\"Vanilla Latte (Or Other Flavoured Latte)\",\"Vanilla Latte (Or Other Flavoured Latte)\",\"Vanilla Latte (Or Other Flavoured Latte)\",\"Vanilla Latte (Or Other Flavoured Latte)\",\"Caff\\u00e8 Americano\",\"Caff\\u00e8 Americano\",\"Caff\\u00e8 Americano\",\"Caff\\u00e8 Americano\",\"Cappuccino\",\"Cappuccino\",\"Cappuccino\",\"Cappuccino\",\"Cappuccino\",\"Cappuccino\",\"Cappuccino\",\"Cappuccino\",\"Cappuccino\",\"Cappuccino\",\"Cappuccino\",\"Cappuccino\",\"Espresso\",\"Espresso\",\"Skinny Latte (Any Flavour)\",\"Skinny Latte (Any Flavour)\",\"Skinny Latte (Any Flavour)\",\"Skinny Latte (Any Flavour)\",\"Caramel Macchiato\",\"Caramel Macchiato\",\"Caramel Macchiato\",\"Caramel Macchiato\",\"Caramel Macchiato\",\"Caramel Macchiato\",\"Caramel Macchiato\",\"Caramel Macchiato\",\"Caramel Macchiato\",\"Caramel Macchiato\",\"Caramel Macchiato\",\"Caramel Macchiato\",\"White Chocolate Mocha (Without Whipped Cream)\",\"White Chocolate Mocha (Without Whipped Cream)\",\"White Chocolate Mocha (Without Whipped Cream)\",\"White Chocolate Mocha (Without Whipped Cream)\",\"White Chocolate Mocha (Without Whipped Cream)\",\"White Chocolate Mocha (Without Whipped Cream)\",\"White Chocolate Mocha (Without Whipped Cream)\",\"White Chocolate Mocha (Without Whipped Cream)\",\"White Chocolate Mocha (Without Whipped Cream)\",\"White Chocolate Mocha (Without Whipped Cream)\",\"White Chocolate Mocha (Without Whipped Cream)\",\"White Chocolate Mocha (Without Whipped Cream)\",\"Hot Chocolate (Without Whipped Cream)\",\"Hot Chocolate (Without Whipped Cream)\",\"Hot Chocolate (Without Whipped Cream)\",\"Hot Chocolate (Without Whipped Cream)\",\"Hot Chocolate (Without Whipped Cream)\",\"Hot Chocolate (Without Whipped Cream)\",\"Hot Chocolate (Without Whipped Cream)\",\"Hot Chocolate (Without Whipped Cream)\",\"Hot Chocolate (Without Whipped Cream)\",\"Hot Chocolate (Without Whipped Cream)\",\"Hot Chocolate (Without Whipped Cream)\",\"Hot Chocolate (Without Whipped Cream)\",\"Caramel Apple Spice (Without Whipped Cream)\",\"Caramel Apple Spice (Without Whipped Cream)\",\"Caramel Apple Spice (Without Whipped Cream)\",\"Caramel Apple Spice (Without Whipped Cream)\",\"Tazo\\u00ae Tea\",\"Tazo\\u00ae Tea\",\"Tazo\\u00ae Tea\",\"Tazo\\u00ae Tea\",\"Tazo\\u00ae Chai Tea Latte\",\"Tazo\\u00ae Chai Tea Latte\",\"Tazo\\u00ae Chai Tea Latte\",\"Tazo\\u00ae Chai Tea Latte\",\"Tazo\\u00ae Chai Tea Latte\",\"Tazo\\u00ae Chai Tea Latte\",\"Tazo\\u00ae Chai Tea Latte\",\"Tazo\\u00ae Chai Tea Latte\",\"Tazo\\u00ae Chai Tea Latte\",\"Tazo\\u00ae Chai Tea Latte\",\"Tazo\\u00ae Chai Tea Latte\",\"Tazo\\u00ae Chai Tea Latte\",\"Tazo\\u00ae Green Tea Latte\",\"Tazo\\u00ae Green Tea Latte\",\"Tazo\\u00ae Green Tea Latte\",\"Tazo\\u00ae Green Tea Latte\",\"Tazo\\u00ae Green Tea Latte\",\"Tazo\\u00ae Green Tea Latte\",\"Tazo\\u00ae Green Tea Latte\",\"Tazo\\u00ae Green Tea Latte\",\"Tazo\\u00ae Green Tea Latte\",\"Tazo\\u00ae Green Tea Latte\",\"Tazo\\u00ae Green Tea Latte\",\"Tazo\\u00ae Green Tea Latte\",\"Tazo\\u00ae Full-Leaf Tea Latte\",\"Tazo\\u00ae Full-Leaf Tea Latte\",\"Tazo\\u00ae Full-Leaf Tea Latte\",\"Tazo\\u00ae Full-Leaf Tea Latte\",\"Tazo\\u00ae Full-Leaf Tea Latte\",\"Tazo\\u00ae Full-Leaf Tea Latte\",\"Tazo\\u00ae Full-Leaf Tea Latte\",\"Tazo\\u00ae Full-Leaf Tea Latte\",\"Tazo\\u00ae Full-Leaf Tea Latte\",\"Tazo\\u00ae Full-Leaf Tea Latte\",\"Tazo\\u00ae Full-Leaf Tea Latte\",\"Tazo\\u00ae Full-Leaf Tea Latte\",\"Tazo\\u00ae Full-Leaf Red Tea Latte (Vanilla Rooibos)\",\"Tazo\\u00ae Full-Leaf Red Tea Latte (Vanilla Rooibos)\",\"Tazo\\u00ae Full-Leaf Red Tea Latte (Vanilla Rooibos)\",\"Tazo\\u00ae Full-Leaf Red Tea Latte (Vanilla Rooibos)\",\"Tazo\\u00ae Full-Leaf Red Tea Latte (Vanilla Rooibos)\",\"Tazo\\u00ae Full-Leaf Red Tea Latte (Vanilla Rooibos)\",\"Tazo\\u00ae Full-Leaf Red Tea Latte (Vanilla Rooibos)\",\"Tazo\\u00ae Full-Leaf Red Tea Latte (Vanilla Rooibos)\",\"Tazo\\u00ae Full-Leaf Red Tea Latte (Vanilla Rooibos)\",\"Tazo\\u00ae Full-Leaf Red Tea Latte (Vanilla Rooibos)\",\"Tazo\\u00ae Full-Leaf Red Tea Latte (Vanilla Rooibos)\",\"Tazo\\u00ae Full-Leaf Red Tea Latte (Vanilla Rooibos)\",\"Iced Brewed Coffee (With Classic Syrup)\",\"Iced Brewed Coffee (With Classic Syrup)\",\"Iced Brewed Coffee (With Classic Syrup)\",\"Iced Brewed Coffee (With Milk & Classic Syrup)\",\"Iced Brewed Coffee (With Milk & Classic Syrup)\",\"Iced Brewed Coffee (With Milk & Classic Syrup)\",\"Iced Brewed Coffee (With Milk & Classic Syrup)\",\"Iced Brewed Coffee (With Milk & Classic Syrup)\",\"Iced Brewed Coffee (With Milk & Classic Syrup)\",\"Iced Brewed Coffee (With Milk & Classic Syrup)\",\"Iced Brewed Coffee (With Milk & Classic Syrup)\",\"Iced Brewed Coffee (With Milk & Classic Syrup)\",\"Shaken Iced Tazo\\u00ae Tea (With Classic Syrup)\",\"Shaken Iced Tazo\\u00ae Tea (With Classic Syrup)\",\"Shaken Iced Tazo\\u00ae Tea (With Classic Syrup)\",\"Shaken Iced Tazo\\u00ae Tea Lemonade (With Classic Syrup)\",\"Shaken Iced Tazo\\u00ae Tea Lemonade (With Classic Syrup)\",\"Shaken Iced Tazo\\u00ae Tea Lemonade (With Classic Syrup)\",\"Banana Chocolate Smoothie\",\"Banana Chocolate Smoothie\",\"Banana Chocolate Smoothie\",\"Orange Mango Banana Smoothie\",\"Orange Mango Banana Smoothie\",\"Orange Mango Banana Smoothie\",\"Strawberry Banana Smoothie\",\"Strawberry Banana Smoothie\",\"Strawberry Banana Smoothie\",\"Coffee\",\"Coffee\",\"Coffee\",\"Coffee\",\"Coffee\",\"Coffee\",\"Coffee\",\"Coffee\",\"Coffee\",\"Mocha (Without Whipped Cream)\",\"Mocha (Without Whipped Cream)\",\"Mocha (Without Whipped Cream)\",\"Mocha (Without Whipped Cream)\",\"Mocha (Without Whipped Cream)\",\"Mocha (Without Whipped Cream)\",\"Mocha (Without Whipped Cream)\",\"Mocha (Without Whipped Cream)\",\"Mocha (Without Whipped Cream)\",\"Caramel (Without Whipped Cream)\",\"Caramel (Without Whipped Cream)\",\"Caramel (Without Whipped Cream)\",\"Caramel (Without Whipped Cream)\",\"Caramel (Without Whipped Cream)\",\"Caramel (Without Whipped Cream)\",\"Caramel (Without Whipped Cream)\",\"Caramel (Without Whipped Cream)\",\"Caramel (Without Whipped Cream)\",\"Java Chip (Without Whipped Cream)\",\"Java Chip (Without Whipped Cream)\",\"Java Chip (Without Whipped Cream)\",\"Java Chip (Without Whipped Cream)\",\"Java Chip (Without Whipped Cream)\",\"Java Chip (Without Whipped Cream)\",\"Java Chip (Without Whipped Cream)\",\"Java Chip (Without Whipped Cream)\",\"Java Chip (Without Whipped Cream)\",\"Coffee\",\"Coffee\",\"Coffee\",\"Mocha\",\"Mocha\",\"Mocha\",\"Caramel\",\"Caramel\",\"Caramel\",\"Java Chip\",\"Java Chip\",\"Java Chip\",\"Strawberries & Cr\\u00e8me (Without Whipped Cream)\",\"Strawberries & Cr\\u00e8me (Without Whipped Cream)\",\"Strawberries & Cr\\u00e8me (Without Whipped Cream)\",\"Strawberries & Cr\\u00e8me (Without Whipped Cream)\",\"Strawberries & Cr\\u00e8me (Without Whipped Cream)\",\"Strawberries & Cr\\u00e8me (Without Whipped Cream)\",\"Strawberries & Cr\\u00e8me (Without Whipped Cream)\",\"Strawberries & Cr\\u00e8me (Without Whipped Cream)\",\"Strawberries & Cr\\u00e8me (Without Whipped Cream)\",\"Vanilla Bean (Without Whipped Cream)\",\"Vanilla Bean (Without Whipped Cream)\",\"Vanilla Bean (Without Whipped Cream)\",\"Vanilla Bean (Without Whipped Cream)\"],\"y\":[\"Short\",\"Tall\",\"Grande\",\"Venti\",\"Short Nonfat Milk\",\"2% Milk\",\"Soymilk\",\"Tall Nonfat Milk\",\"2% Milk\",\"Soymilk\",\"Grande Nonfat Milk\",\"2% Milk\",\"Soymilk\",\"Venti Nonfat Milk\",\"2% Milk\",\"Soymilk\",\"Short Nonfat Milk\",\"2% Milk\",\"Soymilk\",\"Tall Nonfat Milk\",\"2% Milk\",\"Soymilk\",\"Grande Nonfat Milk\",\"2% Milk\",\"Soymilk\",\"Venti Nonfat Milk\",\"2% Milk\",\"Soymilk\",\"Short Nonfat Milk\",\"2% Milk\",\"Soymilk\",\"Tall Nonfat Milk\",\"2% Milk\",\"Soymilk\",\"Grande Nonfat Milk\",\"2% Milk\",\"Soymilk\",\"Venti Nonfat Milk\",\"2% Milk\",\"Soymilk\",\"Short\",\"Tall\",\"Grande\",\"Venti\",\"Short Nonfat Milk\",\"2% Milk\",\"Soymilk\",\"Tall Nonfat Milk\",\"2% Milk\",\"Soymilk\",\"Grande Nonfat Milk\",\"2% Milk\",\"Soymilk\",\"Venti Nonfat Milk\",\"2% Milk\",\"Soymilk\",\"Solo\",\"Doppio\",\"Short Nonfat Milk\",\"Tall Nonfat Milk\",\"Grande Nonfat Milk\",\"Venti Nonfat Milk\",\"Short Nonfat Milk\",\"2% Milk\",\"Soymilk\",\"Tall Nonfat Milk\",\"2% Milk\",\"Soymilk\",\"Grande Nonfat Milk\",\"2% Milk\",\"Soymilk\",\"Venti Nonfat Milk\",\"2% Milk\",\"Soymilk\",\"Short Nonfat Milk\",\"2% Milk\",\"Soymilk\",\"Tall Nonfat Milk\",\"2% Milk\",\"Soymilk\",\"Grande Nonfat Milk\",\"2% Milk\",\"Soymilk\",\"Venti Nonfat Milk\",\"2% Milk\",\"Soymilk\",\"Short Nonfat Milk\",\"2% Milk\",\"Soymilk\",\"Tall Nonfat Milk\",\"2% Milk\",\"Soymilk\",\"Grande Nonfat Milk\",\"2% Milk\",\"Soymilk\",\"Venti Nonfat Milk\",\"2% Milk\",\"Soymilk\",\"Short\",\"Tall\",\"Grande\",\"Venti\",\"Short\",\"Tall\",\"Grande\",\"Venti\",\"Short Nonfat Milk\",\"2% Milk\",\"Soymilk\",\"Tall Nonfat Milk\",\"2% Milk\",\"Soymilk\",\"Grande Nonfat Milk\",\"2% Milk\",\"Soymilk\",\"Venti Nonfat Milk\",\"2% Milk\",\"Soymilk\",\"Short Nonfat Milk\",\"2% Milk\",\"Soymilk\",\"Tall Nonfat Milk\",\"2% Milk\",\"Soymilk\",\"Grande Nonfat Milk\",\"2% Milk\",\"Soymilk\",\"Venti Nonfat Milk\",\"2% Milk\",\"Soymilk\",\"Short Nonfat Milk\",\"2% Milk\",\"Soymilk\",\"Tall Nonfat Milk\",\"2% Milk\",\"Soymilk\",\"Grande Nonfat Milk\",\"2% Milk\",\"Soymilk\",\"Venti Nonfat Milk\",\"2% Milk\",\"Soymilk\",\"Short Nonfat Milk\",\"2% Milk\",\"Soymilk\",\"Tall Nonfat Milk\",\"2% Milk\",\"Soymilk\",\"Grande Nonfat Milk\",\"2% Milk\",\"Soymilk\",\"Venti Nonfat Milk\",\"2% Milk\",\"Soymilk\",\"Tall\",\"Grande\",\"Venti\",\"Tall Nonfat Milk\",\"2% Milk\",\"Soymilk\",\"Grande Nonfat Milk\",\"2% Milk\",\"Soymilk\",\"Venti Nonfat Milk\",\"2% Milk\",\"Soymilk\",\"Tall\",\"Grande\",\"Venti\",\"Tall\",\"Grande\",\"Venti\",\"Grande Nonfat Milk\",\"2% Milk\",\"Soymilk\",\"Grande Nonfat Milk\",\"2% Milk\",\"Soymilk\",\"Grande Nonfat Milk\",\"2% Milk\",\"Soymilk\",\"Tall Nonfat Milk\",\"Whole Milk\",\"Soymilk\",\"Grande Nonfat Milk\",\"Whole Milk\",\"Soymilk\",\"Venti Nonfat Milk\",\"Whole Milk\",\"Soymilk\",\"Tall Nonfat Milk\",\"Whole Milk\",\"Soymilk\",\"Grande Nonfat Milk\",\"Whole Milk\",\"Soymilk\",\"Venti Nonfat Milk\",\"Whole Milk\",\"Soymilk\",\"Tall Nonfat Milk\",\"Whole Milk\",\"Soymilk\",\"Grande Nonfat Milk\",\"Whole Milk\",\"Soymilk\",\"Venti Nonfat Milk\",\"Whole Milk\",\"Soymilk\",\"Tall Nonfat Milk\",\"Whole Milk\",\"Soymilk\",\"Grande Nonfat Milk\",\"Whole Milk\",\"Soymilk\",\"Venti Nonfat Milk\",\"Whole Milk\",\"Soymilk\",\"Tall Nonfat Milk\",\"Grande Nonfat Milk\",\"Venti Nonfat Milk\",\"Tall Nonfat Milk\",\"Grande Nonfat Milk\",\"Venti Nonfat Milk\",\"Tall Nonfat Milk\",\"Grande Nonfat Milk\",\"Venti Nonfat Milk\",\"Tall Nonfat Milk\",\"Grande Nonfat Milk\",\"Venti Nonfat Milk\",\"Tall Nonfat Milk\",\"Whole Milk\",\"Soymilk\",\"Grande Nonfat Milk\",\"Whole Milk\",\"Soymilk\",\"Venti Nonfat Milk\",\"Whole Milk\",\"Soymilk\",\"Tall Nonfat Milk\",\"Whole Milk\",\"Soymilk\",\"Grande Nonfat Milk\"],\"type\":\"bar\"}],                        {\"legend\":{\"bgcolor\":\"#F5F6F9\",\"font\":{\"color\":\"#4D5663\"}},\"paper_bgcolor\":\"#F5F6F9\",\"plot_bgcolor\":\"#F5F6F9\",\"template\":{\"data\":{\"barpolar\":[{\"marker\":{\"line\":{\"color\":\"#E5ECF6\",\"width\":0.5},\"pattern\":{\"fillmode\":\"overlay\",\"size\":10,\"solidity\":0.2}},\"type\":\"barpolar\"}],\"bar\":[{\"error_x\":{\"color\":\"#2a3f5f\"},\"error_y\":{\"color\":\"#2a3f5f\"},\"marker\":{\"line\":{\"color\":\"#E5ECF6\",\"width\":0.5},\"pattern\":{\"fillmode\":\"overlay\",\"size\":10,\"solidity\":0.2}},\"type\":\"bar\"}],\"carpet\":[{\"aaxis\":{\"endlinecolor\":\"#2a3f5f\",\"gridcolor\":\"white\",\"linecolor\":\"white\",\"minorgridcolor\":\"white\",\"startlinecolor\":\"#2a3f5f\"},\"baxis\":{\"endlinecolor\":\"#2a3f5f\",\"gridcolor\":\"white\",\"linecolor\":\"white\",\"minorgridcolor\":\"white\",\"startlinecolor\":\"#2a3f5f\"},\"type\":\"carpet\"}],\"choropleth\":[{\"colorbar\":{\"outlinewidth\":0,\"ticks\":\"\"},\"type\":\"choropleth\"}],\"contourcarpet\":[{\"colorbar\":{\"outlinewidth\":0,\"ticks\":\"\"},\"type\":\"contourcarpet\"}],\"contour\":[{\"colorbar\":{\"outlinewidth\":0,\"ticks\":\"\"},\"colorscale\":[[0.0,\"#0d0887\"],[0.1111111111111111,\"#46039f\"],[0.2222222222222222,\"#7201a8\"],[0.3333333333333333,\"#9c179e\"],[0.4444444444444444,\"#bd3786\"],[0.5555555555555556,\"#d8576b\"],[0.6666666666666666,\"#ed7953\"],[0.7777777777777778,\"#fb9f3a\"],[0.8888888888888888,\"#fdca26\"],[1.0,\"#f0f921\"]],\"type\":\"contour\"}],\"heatmapgl\":[{\"colorbar\":{\"outlinewidth\":0,\"ticks\":\"\"},\"colorscale\":[[0.0,\"#0d0887\"],[0.1111111111111111,\"#46039f\"],[0.2222222222222222,\"#7201a8\"],[0.3333333333333333,\"#9c179e\"],[0.4444444444444444,\"#bd3786\"],[0.5555555555555556,\"#d8576b\"],[0.6666666666666666,\"#ed7953\"],[0.7777777777777778,\"#fb9f3a\"],[0.8888888888888888,\"#fdca26\"],[1.0,\"#f0f921\"]],\"type\":\"heatmapgl\"}],\"heatmap\":[{\"colorbar\":{\"outlinewidth\":0,\"ticks\":\"\"},\"colorscale\":[[0.0,\"#0d0887\"],[0.1111111111111111,\"#46039f\"],[0.2222222222222222,\"#7201a8\"],[0.3333333333333333,\"#9c179e\"],[0.4444444444444444,\"#bd3786\"],[0.5555555555555556,\"#d8576b\"],[0.6666666666666666,\"#ed7953\"],[0.7777777777777778,\"#fb9f3a\"],[0.8888888888888888,\"#fdca26\"],[1.0,\"#f0f921\"]],\"type\":\"heatmap\"}],\"histogram2dcontour\":[{\"colorbar\":{\"outlinewidth\":0,\"ticks\":\"\"},\"colorscale\":[[0.0,\"#0d0887\"],[0.1111111111111111,\"#46039f\"],[0.2222222222222222,\"#7201a8\"],[0.3333333333333333,\"#9c179e\"],[0.4444444444444444,\"#bd3786\"],[0.5555555555555556,\"#d8576b\"],[0.6666666666666666,\"#ed7953\"],[0.7777777777777778,\"#fb9f3a\"],[0.8888888888888888,\"#fdca26\"],[1.0,\"#f0f921\"]],\"type\":\"histogram2dcontour\"}],\"histogram2d\":[{\"colorbar\":{\"outlinewidth\":0,\"ticks\":\"\"},\"colorscale\":[[0.0,\"#0d0887\"],[0.1111111111111111,\"#46039f\"],[0.2222222222222222,\"#7201a8\"],[0.3333333333333333,\"#9c179e\"],[0.4444444444444444,\"#bd3786\"],[0.5555555555555556,\"#d8576b\"],[0.6666666666666666,\"#ed7953\"],[0.7777777777777778,\"#fb9f3a\"],[0.8888888888888888,\"#fdca26\"],[1.0,\"#f0f921\"]],\"type\":\"histogram2d\"}],\"histogram\":[{\"marker\":{\"pattern\":{\"fillmode\":\"overlay\",\"size\":10,\"solidity\":0.2}},\"type\":\"histogram\"}],\"mesh3d\":[{\"colorbar\":{\"outlinewidth\":0,\"ticks\":\"\"},\"type\":\"mesh3d\"}],\"parcoords\":[{\"line\":{\"colorbar\":{\"outlinewidth\":0,\"ticks\":\"\"}},\"type\":\"parcoords\"}],\"pie\":[{\"automargin\":true,\"type\":\"pie\"}],\"scatter3d\":[{\"line\":{\"colorbar\":{\"outlinewidth\":0,\"ticks\":\"\"}},\"marker\":{\"colorbar\":{\"outlinewidth\":0,\"ticks\":\"\"}},\"type\":\"scatter3d\"}],\"scattercarpet\":[{\"marker\":{\"colorbar\":{\"outlinewidth\":0,\"ticks\":\"\"}},\"type\":\"scattercarpet\"}],\"scattergeo\":[{\"marker\":{\"colorbar\":{\"outlinewidth\":0,\"ticks\":\"\"}},\"type\":\"scattergeo\"}],\"scattergl\":[{\"marker\":{\"colorbar\":{\"outlinewidth\":0,\"ticks\":\"\"}},\"type\":\"scattergl\"}],\"scattermapbox\":[{\"marker\":{\"colorbar\":{\"outlinewidth\":0,\"ticks\":\"\"}},\"type\":\"scattermapbox\"}],\"scatterpolargl\":[{\"marker\":{\"colorbar\":{\"outlinewidth\":0,\"ticks\":\"\"}},\"type\":\"scatterpolargl\"}],\"scatterpolar\":[{\"marker\":{\"colorbar\":{\"outlinewidth\":0,\"ticks\":\"\"}},\"type\":\"scatterpolar\"}],\"scatter\":[{\"fillpattern\":{\"fillmode\":\"overlay\",\"size\":10,\"solidity\":0.2},\"type\":\"scatter\"}],\"scatterternary\":[{\"marker\":{\"colorbar\":{\"outlinewidth\":0,\"ticks\":\"\"}},\"type\":\"scatterternary\"}],\"surface\":[{\"colorbar\":{\"outlinewidth\":0,\"ticks\":\"\"},\"colorscale\":[[0.0,\"#0d0887\"],[0.1111111111111111,\"#46039f\"],[0.2222222222222222,\"#7201a8\"],[0.3333333333333333,\"#9c179e\"],[0.4444444444444444,\"#bd3786\"],[0.5555555555555556,\"#d8576b\"],[0.6666666666666666,\"#ed7953\"],[0.7777777777777778,\"#fb9f3a\"],[0.8888888888888888,\"#fdca26\"],[1.0,\"#f0f921\"]],\"type\":\"surface\"}],\"table\":[{\"cells\":{\"fill\":{\"color\":\"#EBF0F8\"},\"line\":{\"color\":\"white\"}},\"header\":{\"fill\":{\"color\":\"#C8D4E3\"},\"line\":{\"color\":\"white\"}},\"type\":\"table\"}]},\"layout\":{\"annotationdefaults\":{\"arrowcolor\":\"#2a3f5f\",\"arrowhead\":0,\"arrowwidth\":1},\"autotypenumbers\":\"strict\",\"coloraxis\":{\"colorbar\":{\"outlinewidth\":0,\"ticks\":\"\"}},\"colorscale\":{\"diverging\":[[0,\"#8e0152\"],[0.1,\"#c51b7d\"],[0.2,\"#de77ae\"],[0.3,\"#f1b6da\"],[0.4,\"#fde0ef\"],[0.5,\"#f7f7f7\"],[0.6,\"#e6f5d0\"],[0.7,\"#b8e186\"],[0.8,\"#7fbc41\"],[0.9,\"#4d9221\"],[1,\"#276419\"]],\"sequential\":[[0.0,\"#0d0887\"],[0.1111111111111111,\"#46039f\"],[0.2222222222222222,\"#7201a8\"],[0.3333333333333333,\"#9c179e\"],[0.4444444444444444,\"#bd3786\"],[0.5555555555555556,\"#d8576b\"],[0.6666666666666666,\"#ed7953\"],[0.7777777777777778,\"#fb9f3a\"],[0.8888888888888888,\"#fdca26\"],[1.0,\"#f0f921\"]],\"sequentialminus\":[[0.0,\"#0d0887\"],[0.1111111111111111,\"#46039f\"],[0.2222222222222222,\"#7201a8\"],[0.3333333333333333,\"#9c179e\"],[0.4444444444444444,\"#bd3786\"],[0.5555555555555556,\"#d8576b\"],[0.6666666666666666,\"#ed7953\"],[0.7777777777777778,\"#fb9f3a\"],[0.8888888888888888,\"#fdca26\"],[1.0,\"#f0f921\"]]},\"colorway\":[\"#636efa\",\"#EF553B\",\"#00cc96\",\"#ab63fa\",\"#FFA15A\",\"#19d3f3\",\"#FF6692\",\"#B6E880\",\"#FF97FF\",\"#FECB52\"],\"font\":{\"color\":\"#2a3f5f\"},\"geo\":{\"bgcolor\":\"white\",\"lakecolor\":\"white\",\"landcolor\":\"#E5ECF6\",\"showlakes\":true,\"showland\":true,\"subunitcolor\":\"white\"},\"hoverlabel\":{\"align\":\"left\"},\"hovermode\":\"closest\",\"mapbox\":{\"style\":\"light\"},\"paper_bgcolor\":\"white\",\"plot_bgcolor\":\"#E5ECF6\",\"polar\":{\"angularaxis\":{\"gridcolor\":\"white\",\"linecolor\":\"white\",\"ticks\":\"\"},\"bgcolor\":\"#E5ECF6\",\"radialaxis\":{\"gridcolor\":\"white\",\"linecolor\":\"white\",\"ticks\":\"\"}},\"scene\":{\"xaxis\":{\"backgroundcolor\":\"#E5ECF6\",\"gridcolor\":\"white\",\"gridwidth\":2,\"linecolor\":\"white\",\"showbackground\":true,\"ticks\":\"\",\"zerolinecolor\":\"white\"},\"yaxis\":{\"backgroundcolor\":\"#E5ECF6\",\"gridcolor\":\"white\",\"gridwidth\":2,\"linecolor\":\"white\",\"showbackground\":true,\"ticks\":\"\",\"zerolinecolor\":\"white\"},\"zaxis\":{\"backgroundcolor\":\"#E5ECF6\",\"gridcolor\":\"white\",\"gridwidth\":2,\"linecolor\":\"white\",\"showbackground\":true,\"ticks\":\"\",\"zerolinecolor\":\"white\"}},\"shapedefaults\":{\"line\":{\"color\":\"#2a3f5f\"}},\"ternary\":{\"aaxis\":{\"gridcolor\":\"white\",\"linecolor\":\"white\",\"ticks\":\"\"},\"baxis\":{\"gridcolor\":\"white\",\"linecolor\":\"white\",\"ticks\":\"\"},\"bgcolor\":\"#E5ECF6\",\"caxis\":{\"gridcolor\":\"white\",\"linecolor\":\"white\",\"ticks\":\"\"}},\"title\":{\"x\":0.05},\"xaxis\":{\"automargin\":true,\"gridcolor\":\"white\",\"linecolor\":\"white\",\"ticks\":\"\",\"title\":{\"standoff\":15},\"zerolinecolor\":\"white\",\"zerolinewidth\":2},\"yaxis\":{\"automargin\":true,\"gridcolor\":\"white\",\"linecolor\":\"white\",\"ticks\":\"\",\"title\":{\"standoff\":15},\"zerolinecolor\":\"white\",\"zerolinewidth\":2}}},\"title\":{\"font\":{\"color\":\"#4D5663\"}},\"xaxis\":{\"gridcolor\":\"#E1E5ED\",\"showgrid\":true,\"tickfont\":{\"color\":\"#4D5663\"},\"title\":{\"font\":{\"color\":\"#4D5663\"},\"text\":\"\"},\"zerolinecolor\":\"#E1E5ED\"},\"yaxis\":{\"gridcolor\":\"#E1E5ED\",\"showgrid\":true,\"tickfont\":{\"color\":\"#4D5663\"},\"title\":{\"font\":{\"color\":\"#4D5663\"},\"text\":\"\"},\"zerolinecolor\":\"#E1E5ED\"}},                        {\"showLink\": true, \"linkText\": \"Export to plot.ly\", \"plotlyServerURL\": \"https://plot.ly\", \"responsive\": true}                    ).then(function(){\n",
       "                            \n",
       "var gd = document.getElementById('fad0cb55-fcb2-47e9-a6b3-e80bea149b29');\n",
       "var x = new MutationObserver(function (mutations, observer) {{\n",
       "        var display = window.getComputedStyle(gd).display;\n",
       "        if (!display || display === 'none') {{\n",
       "            console.log([gd, 'removed!']);\n",
       "            Plotly.purge(gd);\n",
       "            observer.disconnect();\n",
       "        }}\n",
       "}});\n",
       "\n",
       "// Listen for the removal of the full notebook cells\n",
       "var notebookContainer = gd.closest('#notebook-container');\n",
       "if (notebookContainer) {{\n",
       "    x.observe(notebookContainer, {childList: true});\n",
       "}}\n",
       "\n",
       "// Listen for the clearing of the current output cell\n",
       "var outputEl = gd.closest('.output');\n",
       "if (outputEl) {{\n",
       "    x.observe(outputEl, {childList: true});\n",
       "}}\n",
       "\n",
       "                        })                };                });            </script>        </div>"
      ]
     },
     "metadata": {},
     "output_type": "display_data"
    }
   ],
   "source": [
    "df.iplot(kind='bar',x='Beverage',y='Beverage_prep')"
   ]
  },
  {
   "cell_type": "code",
   "execution_count": 18,
   "metadata": {},
   "outputs": [
    {
     "data": {
      "application/vnd.plotly.v1+json": {
       "config": {
        "linkText": "Export to plot.ly",
        "plotlyServerURL": "https://plot.ly",
        "showLink": true
       },
       "data": [
        {
         "marker": {
          "color": "rgba(255, 153, 51, 0.6)",
          "line": {
           "color": "rgba(255, 153, 51, 1.0)",
           "width": 1
          }
         },
         "name": "Calories",
         "orientation": "v",
         "text": "",
         "type": "bar",
         "x": [
          "Brewed Coffee",
          "Brewed Coffee",
          "Brewed Coffee",
          "Brewed Coffee",
          "Caffè Latte",
          "Caffè Latte",
          "Caffè Latte",
          "Caffè Latte",
          "Caffè Latte",
          "Caffè Latte",
          "Caffè Latte",
          "Caffè Latte",
          "Caffè Latte",
          "Caffè Latte",
          "Caffè Latte",
          "Caffè Latte",
          "Caffè Mocha (Without Whipped Cream)",
          "Caffè Mocha (Without Whipped Cream)",
          "Caffè Mocha (Without Whipped Cream)",
          "Caffè Mocha (Without Whipped Cream)",
          "Caffè Mocha (Without Whipped Cream)",
          "Caffè Mocha (Without Whipped Cream)",
          "Caffè Mocha (Without Whipped Cream)",
          "Caffè Mocha (Without Whipped Cream)",
          "Caffè Mocha (Without Whipped Cream)",
          "Caffè Mocha (Without Whipped Cream)",
          "Caffè Mocha (Without Whipped Cream)",
          "Caffè Mocha (Without Whipped Cream)",
          "Vanilla Latte (Or Other Flavoured Latte)",
          "Vanilla Latte (Or Other Flavoured Latte)",
          "Vanilla Latte (Or Other Flavoured Latte)",
          "Vanilla Latte (Or Other Flavoured Latte)",
          "Vanilla Latte (Or Other Flavoured Latte)",
          "Vanilla Latte (Or Other Flavoured Latte)",
          "Vanilla Latte (Or Other Flavoured Latte)",
          "Vanilla Latte (Or Other Flavoured Latte)",
          "Vanilla Latte (Or Other Flavoured Latte)",
          "Vanilla Latte (Or Other Flavoured Latte)",
          "Vanilla Latte (Or Other Flavoured Latte)",
          "Vanilla Latte (Or Other Flavoured Latte)",
          "Caffè Americano",
          "Caffè Americano",
          "Caffè Americano",
          "Caffè Americano",
          "Cappuccino",
          "Cappuccino",
          "Cappuccino",
          "Cappuccino",
          "Cappuccino",
          "Cappuccino",
          "Cappuccino",
          "Cappuccino",
          "Cappuccino",
          "Cappuccino",
          "Cappuccino",
          "Cappuccino",
          "Espresso",
          "Espresso",
          "Skinny Latte (Any Flavour)",
          "Skinny Latte (Any Flavour)",
          "Skinny Latte (Any Flavour)",
          "Skinny Latte (Any Flavour)",
          "Caramel Macchiato",
          "Caramel Macchiato",
          "Caramel Macchiato",
          "Caramel Macchiato",
          "Caramel Macchiato",
          "Caramel Macchiato",
          "Caramel Macchiato",
          "Caramel Macchiato",
          "Caramel Macchiato",
          "Caramel Macchiato",
          "Caramel Macchiato",
          "Caramel Macchiato",
          "White Chocolate Mocha (Without Whipped Cream)",
          "White Chocolate Mocha (Without Whipped Cream)",
          "White Chocolate Mocha (Without Whipped Cream)",
          "White Chocolate Mocha (Without Whipped Cream)",
          "White Chocolate Mocha (Without Whipped Cream)",
          "White Chocolate Mocha (Without Whipped Cream)",
          "White Chocolate Mocha (Without Whipped Cream)",
          "White Chocolate Mocha (Without Whipped Cream)",
          "White Chocolate Mocha (Without Whipped Cream)",
          "White Chocolate Mocha (Without Whipped Cream)",
          "White Chocolate Mocha (Without Whipped Cream)",
          "White Chocolate Mocha (Without Whipped Cream)",
          "Hot Chocolate (Without Whipped Cream)",
          "Hot Chocolate (Without Whipped Cream)",
          "Hot Chocolate (Without Whipped Cream)",
          "Hot Chocolate (Without Whipped Cream)",
          "Hot Chocolate (Without Whipped Cream)",
          "Hot Chocolate (Without Whipped Cream)",
          "Hot Chocolate (Without Whipped Cream)",
          "Hot Chocolate (Without Whipped Cream)",
          "Hot Chocolate (Without Whipped Cream)",
          "Hot Chocolate (Without Whipped Cream)",
          "Hot Chocolate (Without Whipped Cream)",
          "Hot Chocolate (Without Whipped Cream)",
          "Caramel Apple Spice (Without Whipped Cream)",
          "Caramel Apple Spice (Without Whipped Cream)",
          "Caramel Apple Spice (Without Whipped Cream)",
          "Caramel Apple Spice (Without Whipped Cream)",
          "Tazo® Tea",
          "Tazo® Tea",
          "Tazo® Tea",
          "Tazo® Tea",
          "Tazo® Chai Tea Latte",
          "Tazo® Chai Tea Latte",
          "Tazo® Chai Tea Latte",
          "Tazo® Chai Tea Latte",
          "Tazo® Chai Tea Latte",
          "Tazo® Chai Tea Latte",
          "Tazo® Chai Tea Latte",
          "Tazo® Chai Tea Latte",
          "Tazo® Chai Tea Latte",
          "Tazo® Chai Tea Latte",
          "Tazo® Chai Tea Latte",
          "Tazo® Chai Tea Latte",
          "Tazo® Green Tea Latte",
          "Tazo® Green Tea Latte",
          "Tazo® Green Tea Latte",
          "Tazo® Green Tea Latte",
          "Tazo® Green Tea Latte",
          "Tazo® Green Tea Latte",
          "Tazo® Green Tea Latte",
          "Tazo® Green Tea Latte",
          "Tazo® Green Tea Latte",
          "Tazo® Green Tea Latte",
          "Tazo® Green Tea Latte",
          "Tazo® Green Tea Latte",
          "Tazo® Full-Leaf Tea Latte",
          "Tazo® Full-Leaf Tea Latte",
          "Tazo® Full-Leaf Tea Latte",
          "Tazo® Full-Leaf Tea Latte",
          "Tazo® Full-Leaf Tea Latte",
          "Tazo® Full-Leaf Tea Latte",
          "Tazo® Full-Leaf Tea Latte",
          "Tazo® Full-Leaf Tea Latte",
          "Tazo® Full-Leaf Tea Latte",
          "Tazo® Full-Leaf Tea Latte",
          "Tazo® Full-Leaf Tea Latte",
          "Tazo® Full-Leaf Tea Latte",
          "Tazo® Full-Leaf Red Tea Latte (Vanilla Rooibos)",
          "Tazo® Full-Leaf Red Tea Latte (Vanilla Rooibos)",
          "Tazo® Full-Leaf Red Tea Latte (Vanilla Rooibos)",
          "Tazo® Full-Leaf Red Tea Latte (Vanilla Rooibos)",
          "Tazo® Full-Leaf Red Tea Latte (Vanilla Rooibos)",
          "Tazo® Full-Leaf Red Tea Latte (Vanilla Rooibos)",
          "Tazo® Full-Leaf Red Tea Latte (Vanilla Rooibos)",
          "Tazo® Full-Leaf Red Tea Latte (Vanilla Rooibos)",
          "Tazo® Full-Leaf Red Tea Latte (Vanilla Rooibos)",
          "Tazo® Full-Leaf Red Tea Latte (Vanilla Rooibos)",
          "Tazo® Full-Leaf Red Tea Latte (Vanilla Rooibos)",
          "Tazo® Full-Leaf Red Tea Latte (Vanilla Rooibos)",
          "Iced Brewed Coffee (With Classic Syrup)",
          "Iced Brewed Coffee (With Classic Syrup)",
          "Iced Brewed Coffee (With Classic Syrup)",
          "Iced Brewed Coffee (With Milk & Classic Syrup)",
          "Iced Brewed Coffee (With Milk & Classic Syrup)",
          "Iced Brewed Coffee (With Milk & Classic Syrup)",
          "Iced Brewed Coffee (With Milk & Classic Syrup)",
          "Iced Brewed Coffee (With Milk & Classic Syrup)",
          "Iced Brewed Coffee (With Milk & Classic Syrup)",
          "Iced Brewed Coffee (With Milk & Classic Syrup)",
          "Iced Brewed Coffee (With Milk & Classic Syrup)",
          "Iced Brewed Coffee (With Milk & Classic Syrup)",
          "Shaken Iced Tazo® Tea (With Classic Syrup)",
          "Shaken Iced Tazo® Tea (With Classic Syrup)",
          "Shaken Iced Tazo® Tea (With Classic Syrup)",
          "Shaken Iced Tazo® Tea Lemonade (With Classic Syrup)",
          "Shaken Iced Tazo® Tea Lemonade (With Classic Syrup)",
          "Shaken Iced Tazo® Tea Lemonade (With Classic Syrup)",
          "Banana Chocolate Smoothie",
          "Banana Chocolate Smoothie",
          "Banana Chocolate Smoothie",
          "Orange Mango Banana Smoothie",
          "Orange Mango Banana Smoothie",
          "Orange Mango Banana Smoothie",
          "Strawberry Banana Smoothie",
          "Strawberry Banana Smoothie",
          "Strawberry Banana Smoothie",
          "Coffee",
          "Coffee",
          "Coffee",
          "Coffee",
          "Coffee",
          "Coffee",
          "Coffee",
          "Coffee",
          "Coffee",
          "Mocha (Without Whipped Cream)",
          "Mocha (Without Whipped Cream)",
          "Mocha (Without Whipped Cream)",
          "Mocha (Without Whipped Cream)",
          "Mocha (Without Whipped Cream)",
          "Mocha (Without Whipped Cream)",
          "Mocha (Without Whipped Cream)",
          "Mocha (Without Whipped Cream)",
          "Mocha (Without Whipped Cream)",
          "Caramel (Without Whipped Cream)",
          "Caramel (Without Whipped Cream)",
          "Caramel (Without Whipped Cream)",
          "Caramel (Without Whipped Cream)",
          "Caramel (Without Whipped Cream)",
          "Caramel (Without Whipped Cream)",
          "Caramel (Without Whipped Cream)",
          "Caramel (Without Whipped Cream)",
          "Caramel (Without Whipped Cream)",
          "Java Chip (Without Whipped Cream)",
          "Java Chip (Without Whipped Cream)",
          "Java Chip (Without Whipped Cream)",
          "Java Chip (Without Whipped Cream)",
          "Java Chip (Without Whipped Cream)",
          "Java Chip (Without Whipped Cream)",
          "Java Chip (Without Whipped Cream)",
          "Java Chip (Without Whipped Cream)",
          "Java Chip (Without Whipped Cream)",
          "Coffee",
          "Coffee",
          "Coffee",
          "Mocha",
          "Mocha",
          "Mocha",
          "Caramel",
          "Caramel",
          "Caramel",
          "Java Chip",
          "Java Chip",
          "Java Chip",
          "Strawberries & Crème (Without Whipped Cream)",
          "Strawberries & Crème (Without Whipped Cream)",
          "Strawberries & Crème (Without Whipped Cream)",
          "Strawberries & Crème (Without Whipped Cream)",
          "Strawberries & Crème (Without Whipped Cream)",
          "Strawberries & Crème (Without Whipped Cream)",
          "Strawberries & Crème (Without Whipped Cream)",
          "Strawberries & Crème (Without Whipped Cream)",
          "Strawberries & Crème (Without Whipped Cream)",
          "Vanilla Bean (Without Whipped Cream)",
          "Vanilla Bean (Without Whipped Cream)",
          "Vanilla Bean (Without Whipped Cream)",
          "Vanilla Bean (Without Whipped Cream)"
         ],
         "y": [
          3,
          4,
          5,
          5,
          70,
          100,
          70,
          100,
          150,
          110,
          130,
          190,
          150,
          170,
          240,
          190,
          110,
          130,
          110,
          170,
          200,
          180,
          220,
          260,
          230,
          280,
          340,
          290,
          100,
          130,
          110,
          150,
          200,
          160,
          200,
          250,
          210,
          250,
          320,
          270,
          5,
          10,
          15,
          25,
          50,
          80,
          50,
          60,
          90,
          70,
          80,
          120,
          100,
          110,
          150,
          120,
          5,
          10,
          60,
          100,
          120,
          160,
          100,
          120,
          100,
          140,
          180,
          150,
          190,
          240,
          200,
          240,
          300,
          250,
          180,
          200,
          180,
          270,
          310,
          280,
          350,
          400,
          370,
          450,
          510,
          460,
          130,
          150,
          130,
          190,
          230,
          200,
          240,
          290,
          250,
          320,
          380,
          330,
          140,
          210,
          280,
          360,
          0,
          0,
          0,
          0,
          100,
          120,
          110,
          160,
          190,
          160,
          210,
          240,
          220,
          260,
          310,
          280,
          130,
          170,
          140,
          210,
          260,
          230,
          290,
          350,
          310,
          370,
          450,
          390,
          80,
          90,
          80,
          120,
          140,
          130,
          150,
          190,
          170,
          190,
          230,
          210,
          80,
          90,
          80,
          120,
          140,
          130,
          150,
          190,
          170,
          190,
          230,
          210,
          60,
          90,
          130,
          80,
          90,
          80,
          110,
          120,
          110,
          160,
          180,
          170,
          60,
          80,
          120,
          100,
          130,
          190,
          280,
          300,
          290,
          260,
          270,
          270,
          290,
          290,
          290,
          160,
          180,
          160,
          220,
          240,
          220,
          310,
          350,
          310,
          180,
          200,
          180,
          260,
          290,
          260,
          340,
          390,
          350,
          180,
          200,
          180,
          280,
          280,
          260,
          330,
          370,
          340,
          220,
          240,
          220,
          310,
          340,
          310,
          420,
          460,
          430,
          90,
          120,
          160,
          110,
          150,
          210,
          100,
          150,
          200,
          150,
          220,
          290,
          170,
          190,
          170,
          230,
          260,
          240,
          310,
          350,
          320,
          170,
          200,
          180,
          240
         ]
        }
       ],
       "layout": {
        "legend": {
         "bgcolor": "#F5F6F9",
         "font": {
          "color": "#4D5663"
         }
        },
        "paper_bgcolor": "#F5F6F9",
        "plot_bgcolor": "#F5F6F9",
        "template": {
         "data": {
          "bar": [
           {
            "error_x": {
             "color": "#2a3f5f"
            },
            "error_y": {
             "color": "#2a3f5f"
            },
            "marker": {
             "line": {
              "color": "#E5ECF6",
              "width": 0.5
             },
             "pattern": {
              "fillmode": "overlay",
              "size": 10,
              "solidity": 0.2
             }
            },
            "type": "bar"
           }
          ],
          "barpolar": [
           {
            "marker": {
             "line": {
              "color": "#E5ECF6",
              "width": 0.5
             },
             "pattern": {
              "fillmode": "overlay",
              "size": 10,
              "solidity": 0.2
             }
            },
            "type": "barpolar"
           }
          ],
          "carpet": [
           {
            "aaxis": {
             "endlinecolor": "#2a3f5f",
             "gridcolor": "white",
             "linecolor": "white",
             "minorgridcolor": "white",
             "startlinecolor": "#2a3f5f"
            },
            "baxis": {
             "endlinecolor": "#2a3f5f",
             "gridcolor": "white",
             "linecolor": "white",
             "minorgridcolor": "white",
             "startlinecolor": "#2a3f5f"
            },
            "type": "carpet"
           }
          ],
          "choropleth": [
           {
            "colorbar": {
             "outlinewidth": 0,
             "ticks": ""
            },
            "type": "choropleth"
           }
          ],
          "contour": [
           {
            "colorbar": {
             "outlinewidth": 0,
             "ticks": ""
            },
            "colorscale": [
             [
              0,
              "#0d0887"
             ],
             [
              0.1111111111111111,
              "#46039f"
             ],
             [
              0.2222222222222222,
              "#7201a8"
             ],
             [
              0.3333333333333333,
              "#9c179e"
             ],
             [
              0.4444444444444444,
              "#bd3786"
             ],
             [
              0.5555555555555556,
              "#d8576b"
             ],
             [
              0.6666666666666666,
              "#ed7953"
             ],
             [
              0.7777777777777778,
              "#fb9f3a"
             ],
             [
              0.8888888888888888,
              "#fdca26"
             ],
             [
              1,
              "#f0f921"
             ]
            ],
            "type": "contour"
           }
          ],
          "contourcarpet": [
           {
            "colorbar": {
             "outlinewidth": 0,
             "ticks": ""
            },
            "type": "contourcarpet"
           }
          ],
          "heatmap": [
           {
            "colorbar": {
             "outlinewidth": 0,
             "ticks": ""
            },
            "colorscale": [
             [
              0,
              "#0d0887"
             ],
             [
              0.1111111111111111,
              "#46039f"
             ],
             [
              0.2222222222222222,
              "#7201a8"
             ],
             [
              0.3333333333333333,
              "#9c179e"
             ],
             [
              0.4444444444444444,
              "#bd3786"
             ],
             [
              0.5555555555555556,
              "#d8576b"
             ],
             [
              0.6666666666666666,
              "#ed7953"
             ],
             [
              0.7777777777777778,
              "#fb9f3a"
             ],
             [
              0.8888888888888888,
              "#fdca26"
             ],
             [
              1,
              "#f0f921"
             ]
            ],
            "type": "heatmap"
           }
          ],
          "heatmapgl": [
           {
            "colorbar": {
             "outlinewidth": 0,
             "ticks": ""
            },
            "colorscale": [
             [
              0,
              "#0d0887"
             ],
             [
              0.1111111111111111,
              "#46039f"
             ],
             [
              0.2222222222222222,
              "#7201a8"
             ],
             [
              0.3333333333333333,
              "#9c179e"
             ],
             [
              0.4444444444444444,
              "#bd3786"
             ],
             [
              0.5555555555555556,
              "#d8576b"
             ],
             [
              0.6666666666666666,
              "#ed7953"
             ],
             [
              0.7777777777777778,
              "#fb9f3a"
             ],
             [
              0.8888888888888888,
              "#fdca26"
             ],
             [
              1,
              "#f0f921"
             ]
            ],
            "type": "heatmapgl"
           }
          ],
          "histogram": [
           {
            "marker": {
             "pattern": {
              "fillmode": "overlay",
              "size": 10,
              "solidity": 0.2
             }
            },
            "type": "histogram"
           }
          ],
          "histogram2d": [
           {
            "colorbar": {
             "outlinewidth": 0,
             "ticks": ""
            },
            "colorscale": [
             [
              0,
              "#0d0887"
             ],
             [
              0.1111111111111111,
              "#46039f"
             ],
             [
              0.2222222222222222,
              "#7201a8"
             ],
             [
              0.3333333333333333,
              "#9c179e"
             ],
             [
              0.4444444444444444,
              "#bd3786"
             ],
             [
              0.5555555555555556,
              "#d8576b"
             ],
             [
              0.6666666666666666,
              "#ed7953"
             ],
             [
              0.7777777777777778,
              "#fb9f3a"
             ],
             [
              0.8888888888888888,
              "#fdca26"
             ],
             [
              1,
              "#f0f921"
             ]
            ],
            "type": "histogram2d"
           }
          ],
          "histogram2dcontour": [
           {
            "colorbar": {
             "outlinewidth": 0,
             "ticks": ""
            },
            "colorscale": [
             [
              0,
              "#0d0887"
             ],
             [
              0.1111111111111111,
              "#46039f"
             ],
             [
              0.2222222222222222,
              "#7201a8"
             ],
             [
              0.3333333333333333,
              "#9c179e"
             ],
             [
              0.4444444444444444,
              "#bd3786"
             ],
             [
              0.5555555555555556,
              "#d8576b"
             ],
             [
              0.6666666666666666,
              "#ed7953"
             ],
             [
              0.7777777777777778,
              "#fb9f3a"
             ],
             [
              0.8888888888888888,
              "#fdca26"
             ],
             [
              1,
              "#f0f921"
             ]
            ],
            "type": "histogram2dcontour"
           }
          ],
          "mesh3d": [
           {
            "colorbar": {
             "outlinewidth": 0,
             "ticks": ""
            },
            "type": "mesh3d"
           }
          ],
          "parcoords": [
           {
            "line": {
             "colorbar": {
              "outlinewidth": 0,
              "ticks": ""
             }
            },
            "type": "parcoords"
           }
          ],
          "pie": [
           {
            "automargin": true,
            "type": "pie"
           }
          ],
          "scatter": [
           {
            "fillpattern": {
             "fillmode": "overlay",
             "size": 10,
             "solidity": 0.2
            },
            "type": "scatter"
           }
          ],
          "scatter3d": [
           {
            "line": {
             "colorbar": {
              "outlinewidth": 0,
              "ticks": ""
             }
            },
            "marker": {
             "colorbar": {
              "outlinewidth": 0,
              "ticks": ""
             }
            },
            "type": "scatter3d"
           }
          ],
          "scattercarpet": [
           {
            "marker": {
             "colorbar": {
              "outlinewidth": 0,
              "ticks": ""
             }
            },
            "type": "scattercarpet"
           }
          ],
          "scattergeo": [
           {
            "marker": {
             "colorbar": {
              "outlinewidth": 0,
              "ticks": ""
             }
            },
            "type": "scattergeo"
           }
          ],
          "scattergl": [
           {
            "marker": {
             "colorbar": {
              "outlinewidth": 0,
              "ticks": ""
             }
            },
            "type": "scattergl"
           }
          ],
          "scattermapbox": [
           {
            "marker": {
             "colorbar": {
              "outlinewidth": 0,
              "ticks": ""
             }
            },
            "type": "scattermapbox"
           }
          ],
          "scatterpolar": [
           {
            "marker": {
             "colorbar": {
              "outlinewidth": 0,
              "ticks": ""
             }
            },
            "type": "scatterpolar"
           }
          ],
          "scatterpolargl": [
           {
            "marker": {
             "colorbar": {
              "outlinewidth": 0,
              "ticks": ""
             }
            },
            "type": "scatterpolargl"
           }
          ],
          "scatterternary": [
           {
            "marker": {
             "colorbar": {
              "outlinewidth": 0,
              "ticks": ""
             }
            },
            "type": "scatterternary"
           }
          ],
          "surface": [
           {
            "colorbar": {
             "outlinewidth": 0,
             "ticks": ""
            },
            "colorscale": [
             [
              0,
              "#0d0887"
             ],
             [
              0.1111111111111111,
              "#46039f"
             ],
             [
              0.2222222222222222,
              "#7201a8"
             ],
             [
              0.3333333333333333,
              "#9c179e"
             ],
             [
              0.4444444444444444,
              "#bd3786"
             ],
             [
              0.5555555555555556,
              "#d8576b"
             ],
             [
              0.6666666666666666,
              "#ed7953"
             ],
             [
              0.7777777777777778,
              "#fb9f3a"
             ],
             [
              0.8888888888888888,
              "#fdca26"
             ],
             [
              1,
              "#f0f921"
             ]
            ],
            "type": "surface"
           }
          ],
          "table": [
           {
            "cells": {
             "fill": {
              "color": "#EBF0F8"
             },
             "line": {
              "color": "white"
             }
            },
            "header": {
             "fill": {
              "color": "#C8D4E3"
             },
             "line": {
              "color": "white"
             }
            },
            "type": "table"
           }
          ]
         },
         "layout": {
          "annotationdefaults": {
           "arrowcolor": "#2a3f5f",
           "arrowhead": 0,
           "arrowwidth": 1
          },
          "autotypenumbers": "strict",
          "coloraxis": {
           "colorbar": {
            "outlinewidth": 0,
            "ticks": ""
           }
          },
          "colorscale": {
           "diverging": [
            [
             0,
             "#8e0152"
            ],
            [
             0.1,
             "#c51b7d"
            ],
            [
             0.2,
             "#de77ae"
            ],
            [
             0.3,
             "#f1b6da"
            ],
            [
             0.4,
             "#fde0ef"
            ],
            [
             0.5,
             "#f7f7f7"
            ],
            [
             0.6,
             "#e6f5d0"
            ],
            [
             0.7,
             "#b8e186"
            ],
            [
             0.8,
             "#7fbc41"
            ],
            [
             0.9,
             "#4d9221"
            ],
            [
             1,
             "#276419"
            ]
           ],
           "sequential": [
            [
             0,
             "#0d0887"
            ],
            [
             0.1111111111111111,
             "#46039f"
            ],
            [
             0.2222222222222222,
             "#7201a8"
            ],
            [
             0.3333333333333333,
             "#9c179e"
            ],
            [
             0.4444444444444444,
             "#bd3786"
            ],
            [
             0.5555555555555556,
             "#d8576b"
            ],
            [
             0.6666666666666666,
             "#ed7953"
            ],
            [
             0.7777777777777778,
             "#fb9f3a"
            ],
            [
             0.8888888888888888,
             "#fdca26"
            ],
            [
             1,
             "#f0f921"
            ]
           ],
           "sequentialminus": [
            [
             0,
             "#0d0887"
            ],
            [
             0.1111111111111111,
             "#46039f"
            ],
            [
             0.2222222222222222,
             "#7201a8"
            ],
            [
             0.3333333333333333,
             "#9c179e"
            ],
            [
             0.4444444444444444,
             "#bd3786"
            ],
            [
             0.5555555555555556,
             "#d8576b"
            ],
            [
             0.6666666666666666,
             "#ed7953"
            ],
            [
             0.7777777777777778,
             "#fb9f3a"
            ],
            [
             0.8888888888888888,
             "#fdca26"
            ],
            [
             1,
             "#f0f921"
            ]
           ]
          },
          "colorway": [
           "#636efa",
           "#EF553B",
           "#00cc96",
           "#ab63fa",
           "#FFA15A",
           "#19d3f3",
           "#FF6692",
           "#B6E880",
           "#FF97FF",
           "#FECB52"
          ],
          "font": {
           "color": "#2a3f5f"
          },
          "geo": {
           "bgcolor": "white",
           "lakecolor": "white",
           "landcolor": "#E5ECF6",
           "showlakes": true,
           "showland": true,
           "subunitcolor": "white"
          },
          "hoverlabel": {
           "align": "left"
          },
          "hovermode": "closest",
          "mapbox": {
           "style": "light"
          },
          "paper_bgcolor": "white",
          "plot_bgcolor": "#E5ECF6",
          "polar": {
           "angularaxis": {
            "gridcolor": "white",
            "linecolor": "white",
            "ticks": ""
           },
           "bgcolor": "#E5ECF6",
           "radialaxis": {
            "gridcolor": "white",
            "linecolor": "white",
            "ticks": ""
           }
          },
          "scene": {
           "xaxis": {
            "backgroundcolor": "#E5ECF6",
            "gridcolor": "white",
            "gridwidth": 2,
            "linecolor": "white",
            "showbackground": true,
            "ticks": "",
            "zerolinecolor": "white"
           },
           "yaxis": {
            "backgroundcolor": "#E5ECF6",
            "gridcolor": "white",
            "gridwidth": 2,
            "linecolor": "white",
            "showbackground": true,
            "ticks": "",
            "zerolinecolor": "white"
           },
           "zaxis": {
            "backgroundcolor": "#E5ECF6",
            "gridcolor": "white",
            "gridwidth": 2,
            "linecolor": "white",
            "showbackground": true,
            "ticks": "",
            "zerolinecolor": "white"
           }
          },
          "shapedefaults": {
           "line": {
            "color": "#2a3f5f"
           }
          },
          "ternary": {
           "aaxis": {
            "gridcolor": "white",
            "linecolor": "white",
            "ticks": ""
           },
           "baxis": {
            "gridcolor": "white",
            "linecolor": "white",
            "ticks": ""
           },
           "bgcolor": "#E5ECF6",
           "caxis": {
            "gridcolor": "white",
            "linecolor": "white",
            "ticks": ""
           }
          },
          "title": {
           "x": 0.05
          },
          "xaxis": {
           "automargin": true,
           "gridcolor": "white",
           "linecolor": "white",
           "ticks": "",
           "title": {
            "standoff": 15
           },
           "zerolinecolor": "white",
           "zerolinewidth": 2
          },
          "yaxis": {
           "automargin": true,
           "gridcolor": "white",
           "linecolor": "white",
           "ticks": "",
           "title": {
            "standoff": 15
           },
           "zerolinecolor": "white",
           "zerolinewidth": 2
          }
         }
        },
        "title": {
         "font": {
          "color": "#4D5663"
         }
        },
        "xaxis": {
         "gridcolor": "#E1E5ED",
         "showgrid": true,
         "tickfont": {
          "color": "#4D5663"
         },
         "title": {
          "font": {
           "color": "#4D5663"
          },
          "text": ""
         },
         "zerolinecolor": "#E1E5ED"
        },
        "yaxis": {
         "gridcolor": "#E1E5ED",
         "showgrid": true,
         "tickfont": {
          "color": "#4D5663"
         },
         "title": {
          "font": {
           "color": "#4D5663"
          },
          "text": ""
         },
         "zerolinecolor": "#E1E5ED"
        }
       }
      },
      "text/html": [
       "<div>                            <div id=\"6fb86612-b801-4762-93a2-6022da5c7ff9\" class=\"plotly-graph-div\" style=\"height:525px; width:100%;\"></div>            <script type=\"text/javascript\">                require([\"plotly\"], function(Plotly) {                    window.PLOTLYENV=window.PLOTLYENV || {};\n",
       "                    window.PLOTLYENV.BASE_URL='https://plot.ly';                                    if (document.getElementById(\"6fb86612-b801-4762-93a2-6022da5c7ff9\")) {                    Plotly.newPlot(                        \"6fb86612-b801-4762-93a2-6022da5c7ff9\",                        [{\"marker\":{\"color\":\"rgba(255, 153, 51, 0.6)\",\"line\":{\"color\":\"rgba(255, 153, 51, 1.0)\",\"width\":1}},\"name\":\"Calories\",\"orientation\":\"v\",\"text\":\"\",\"x\":[\"Brewed Coffee\",\"Brewed Coffee\",\"Brewed Coffee\",\"Brewed Coffee\",\"Caff\\u00e8 Latte\",\"Caff\\u00e8 Latte\",\"Caff\\u00e8 Latte\",\"Caff\\u00e8 Latte\",\"Caff\\u00e8 Latte\",\"Caff\\u00e8 Latte\",\"Caff\\u00e8 Latte\",\"Caff\\u00e8 Latte\",\"Caff\\u00e8 Latte\",\"Caff\\u00e8 Latte\",\"Caff\\u00e8 Latte\",\"Caff\\u00e8 Latte\",\"Caff\\u00e8 Mocha (Without Whipped Cream)\",\"Caff\\u00e8 Mocha (Without Whipped Cream)\",\"Caff\\u00e8 Mocha (Without Whipped Cream)\",\"Caff\\u00e8 Mocha (Without Whipped Cream)\",\"Caff\\u00e8 Mocha (Without Whipped Cream)\",\"Caff\\u00e8 Mocha (Without Whipped Cream)\",\"Caff\\u00e8 Mocha (Without Whipped Cream)\",\"Caff\\u00e8 Mocha (Without Whipped Cream)\",\"Caff\\u00e8 Mocha (Without Whipped Cream)\",\"Caff\\u00e8 Mocha (Without Whipped Cream)\",\"Caff\\u00e8 Mocha (Without Whipped Cream)\",\"Caff\\u00e8 Mocha (Without Whipped Cream)\",\"Vanilla Latte (Or Other Flavoured Latte)\",\"Vanilla Latte (Or Other Flavoured Latte)\",\"Vanilla Latte (Or Other Flavoured Latte)\",\"Vanilla Latte (Or Other Flavoured Latte)\",\"Vanilla Latte (Or Other Flavoured Latte)\",\"Vanilla Latte (Or Other Flavoured Latte)\",\"Vanilla Latte (Or Other Flavoured Latte)\",\"Vanilla Latte (Or Other Flavoured Latte)\",\"Vanilla Latte (Or Other Flavoured Latte)\",\"Vanilla Latte (Or Other Flavoured Latte)\",\"Vanilla Latte (Or Other Flavoured Latte)\",\"Vanilla Latte (Or Other Flavoured Latte)\",\"Caff\\u00e8 Americano\",\"Caff\\u00e8 Americano\",\"Caff\\u00e8 Americano\",\"Caff\\u00e8 Americano\",\"Cappuccino\",\"Cappuccino\",\"Cappuccino\",\"Cappuccino\",\"Cappuccino\",\"Cappuccino\",\"Cappuccino\",\"Cappuccino\",\"Cappuccino\",\"Cappuccino\",\"Cappuccino\",\"Cappuccino\",\"Espresso\",\"Espresso\",\"Skinny Latte (Any Flavour)\",\"Skinny Latte (Any Flavour)\",\"Skinny Latte (Any Flavour)\",\"Skinny Latte (Any Flavour)\",\"Caramel Macchiato\",\"Caramel Macchiato\",\"Caramel Macchiato\",\"Caramel Macchiato\",\"Caramel Macchiato\",\"Caramel Macchiato\",\"Caramel Macchiato\",\"Caramel Macchiato\",\"Caramel Macchiato\",\"Caramel Macchiato\",\"Caramel Macchiato\",\"Caramel Macchiato\",\"White Chocolate Mocha (Without Whipped Cream)\",\"White Chocolate Mocha (Without Whipped Cream)\",\"White Chocolate Mocha (Without Whipped Cream)\",\"White Chocolate Mocha (Without Whipped Cream)\",\"White Chocolate Mocha (Without Whipped Cream)\",\"White Chocolate Mocha (Without Whipped Cream)\",\"White Chocolate Mocha (Without Whipped Cream)\",\"White Chocolate Mocha (Without Whipped Cream)\",\"White Chocolate Mocha (Without Whipped Cream)\",\"White Chocolate Mocha (Without Whipped Cream)\",\"White Chocolate Mocha (Without Whipped Cream)\",\"White Chocolate Mocha (Without Whipped Cream)\",\"Hot Chocolate (Without Whipped Cream)\",\"Hot Chocolate (Without Whipped Cream)\",\"Hot Chocolate (Without Whipped Cream)\",\"Hot Chocolate (Without Whipped Cream)\",\"Hot Chocolate (Without Whipped Cream)\",\"Hot Chocolate (Without Whipped Cream)\",\"Hot Chocolate (Without Whipped Cream)\",\"Hot Chocolate (Without Whipped Cream)\",\"Hot Chocolate (Without Whipped Cream)\",\"Hot Chocolate (Without Whipped Cream)\",\"Hot Chocolate (Without Whipped Cream)\",\"Hot Chocolate (Without Whipped Cream)\",\"Caramel Apple Spice (Without Whipped Cream)\",\"Caramel Apple Spice (Without Whipped Cream)\",\"Caramel Apple Spice (Without Whipped Cream)\",\"Caramel Apple Spice (Without Whipped Cream)\",\"Tazo\\u00ae Tea\",\"Tazo\\u00ae Tea\",\"Tazo\\u00ae Tea\",\"Tazo\\u00ae Tea\",\"Tazo\\u00ae Chai Tea Latte\",\"Tazo\\u00ae Chai Tea Latte\",\"Tazo\\u00ae Chai Tea Latte\",\"Tazo\\u00ae Chai Tea Latte\",\"Tazo\\u00ae Chai Tea Latte\",\"Tazo\\u00ae Chai Tea Latte\",\"Tazo\\u00ae Chai Tea Latte\",\"Tazo\\u00ae Chai Tea Latte\",\"Tazo\\u00ae Chai Tea Latte\",\"Tazo\\u00ae Chai Tea Latte\",\"Tazo\\u00ae Chai Tea Latte\",\"Tazo\\u00ae Chai Tea Latte\",\"Tazo\\u00ae Green Tea Latte\",\"Tazo\\u00ae Green Tea Latte\",\"Tazo\\u00ae Green Tea Latte\",\"Tazo\\u00ae Green Tea Latte\",\"Tazo\\u00ae Green Tea Latte\",\"Tazo\\u00ae Green Tea Latte\",\"Tazo\\u00ae Green Tea Latte\",\"Tazo\\u00ae Green Tea Latte\",\"Tazo\\u00ae Green Tea Latte\",\"Tazo\\u00ae Green Tea Latte\",\"Tazo\\u00ae Green Tea Latte\",\"Tazo\\u00ae Green Tea Latte\",\"Tazo\\u00ae Full-Leaf Tea Latte\",\"Tazo\\u00ae Full-Leaf Tea Latte\",\"Tazo\\u00ae Full-Leaf Tea Latte\",\"Tazo\\u00ae Full-Leaf Tea Latte\",\"Tazo\\u00ae Full-Leaf Tea Latte\",\"Tazo\\u00ae Full-Leaf Tea Latte\",\"Tazo\\u00ae Full-Leaf Tea Latte\",\"Tazo\\u00ae Full-Leaf Tea Latte\",\"Tazo\\u00ae Full-Leaf Tea Latte\",\"Tazo\\u00ae Full-Leaf Tea Latte\",\"Tazo\\u00ae Full-Leaf Tea Latte\",\"Tazo\\u00ae Full-Leaf Tea Latte\",\"Tazo\\u00ae Full-Leaf Red Tea Latte (Vanilla Rooibos)\",\"Tazo\\u00ae Full-Leaf Red Tea Latte (Vanilla Rooibos)\",\"Tazo\\u00ae Full-Leaf Red Tea Latte (Vanilla Rooibos)\",\"Tazo\\u00ae Full-Leaf Red Tea Latte (Vanilla Rooibos)\",\"Tazo\\u00ae Full-Leaf Red Tea Latte (Vanilla Rooibos)\",\"Tazo\\u00ae Full-Leaf Red Tea Latte (Vanilla Rooibos)\",\"Tazo\\u00ae Full-Leaf Red Tea Latte (Vanilla Rooibos)\",\"Tazo\\u00ae Full-Leaf Red Tea Latte (Vanilla Rooibos)\",\"Tazo\\u00ae Full-Leaf Red Tea Latte (Vanilla Rooibos)\",\"Tazo\\u00ae Full-Leaf Red Tea Latte (Vanilla Rooibos)\",\"Tazo\\u00ae Full-Leaf Red Tea Latte (Vanilla Rooibos)\",\"Tazo\\u00ae Full-Leaf Red Tea Latte (Vanilla Rooibos)\",\"Iced Brewed Coffee (With Classic Syrup)\",\"Iced Brewed Coffee (With Classic Syrup)\",\"Iced Brewed Coffee (With Classic Syrup)\",\"Iced Brewed Coffee (With Milk & Classic Syrup)\",\"Iced Brewed Coffee (With Milk & Classic Syrup)\",\"Iced Brewed Coffee (With Milk & Classic Syrup)\",\"Iced Brewed Coffee (With Milk & Classic Syrup)\",\"Iced Brewed Coffee (With Milk & Classic Syrup)\",\"Iced Brewed Coffee (With Milk & Classic Syrup)\",\"Iced Brewed Coffee (With Milk & Classic Syrup)\",\"Iced Brewed Coffee (With Milk & Classic Syrup)\",\"Iced Brewed Coffee (With Milk & Classic Syrup)\",\"Shaken Iced Tazo\\u00ae Tea (With Classic Syrup)\",\"Shaken Iced Tazo\\u00ae Tea (With Classic Syrup)\",\"Shaken Iced Tazo\\u00ae Tea (With Classic Syrup)\",\"Shaken Iced Tazo\\u00ae Tea Lemonade (With Classic Syrup)\",\"Shaken Iced Tazo\\u00ae Tea Lemonade (With Classic Syrup)\",\"Shaken Iced Tazo\\u00ae Tea Lemonade (With Classic Syrup)\",\"Banana Chocolate Smoothie\",\"Banana Chocolate Smoothie\",\"Banana Chocolate Smoothie\",\"Orange Mango Banana Smoothie\",\"Orange Mango Banana Smoothie\",\"Orange Mango Banana Smoothie\",\"Strawberry Banana Smoothie\",\"Strawberry Banana Smoothie\",\"Strawberry Banana Smoothie\",\"Coffee\",\"Coffee\",\"Coffee\",\"Coffee\",\"Coffee\",\"Coffee\",\"Coffee\",\"Coffee\",\"Coffee\",\"Mocha (Without Whipped Cream)\",\"Mocha (Without Whipped Cream)\",\"Mocha (Without Whipped Cream)\",\"Mocha (Without Whipped Cream)\",\"Mocha (Without Whipped Cream)\",\"Mocha (Without Whipped Cream)\",\"Mocha (Without Whipped Cream)\",\"Mocha (Without Whipped Cream)\",\"Mocha (Without Whipped Cream)\",\"Caramel (Without Whipped Cream)\",\"Caramel (Without Whipped Cream)\",\"Caramel (Without Whipped Cream)\",\"Caramel (Without Whipped Cream)\",\"Caramel (Without Whipped Cream)\",\"Caramel (Without Whipped Cream)\",\"Caramel (Without Whipped Cream)\",\"Caramel (Without Whipped Cream)\",\"Caramel (Without Whipped Cream)\",\"Java Chip (Without Whipped Cream)\",\"Java Chip (Without Whipped Cream)\",\"Java Chip (Without Whipped Cream)\",\"Java Chip (Without Whipped Cream)\",\"Java Chip (Without Whipped Cream)\",\"Java Chip (Without Whipped Cream)\",\"Java Chip (Without Whipped Cream)\",\"Java Chip (Without Whipped Cream)\",\"Java Chip (Without Whipped Cream)\",\"Coffee\",\"Coffee\",\"Coffee\",\"Mocha\",\"Mocha\",\"Mocha\",\"Caramel\",\"Caramel\",\"Caramel\",\"Java Chip\",\"Java Chip\",\"Java Chip\",\"Strawberries & Cr\\u00e8me (Without Whipped Cream)\",\"Strawberries & Cr\\u00e8me (Without Whipped Cream)\",\"Strawberries & Cr\\u00e8me (Without Whipped Cream)\",\"Strawberries & Cr\\u00e8me (Without Whipped Cream)\",\"Strawberries & Cr\\u00e8me (Without Whipped Cream)\",\"Strawberries & Cr\\u00e8me (Without Whipped Cream)\",\"Strawberries & Cr\\u00e8me (Without Whipped Cream)\",\"Strawberries & Cr\\u00e8me (Without Whipped Cream)\",\"Strawberries & Cr\\u00e8me (Without Whipped Cream)\",\"Vanilla Bean (Without Whipped Cream)\",\"Vanilla Bean (Without Whipped Cream)\",\"Vanilla Bean (Without Whipped Cream)\",\"Vanilla Bean (Without Whipped Cream)\"],\"y\":[3,4,5,5,70,100,70,100,150,110,130,190,150,170,240,190,110,130,110,170,200,180,220,260,230,280,340,290,100,130,110,150,200,160,200,250,210,250,320,270,5,10,15,25,50,80,50,60,90,70,80,120,100,110,150,120,5,10,60,100,120,160,100,120,100,140,180,150,190,240,200,240,300,250,180,200,180,270,310,280,350,400,370,450,510,460,130,150,130,190,230,200,240,290,250,320,380,330,140,210,280,360,0,0,0,0,100,120,110,160,190,160,210,240,220,260,310,280,130,170,140,210,260,230,290,350,310,370,450,390,80,90,80,120,140,130,150,190,170,190,230,210,80,90,80,120,140,130,150,190,170,190,230,210,60,90,130,80,90,80,110,120,110,160,180,170,60,80,120,100,130,190,280,300,290,260,270,270,290,290,290,160,180,160,220,240,220,310,350,310,180,200,180,260,290,260,340,390,350,180,200,180,280,280,260,330,370,340,220,240,220,310,340,310,420,460,430,90,120,160,110,150,210,100,150,200,150,220,290,170,190,170,230,260,240,310,350,320,170,200,180,240],\"type\":\"bar\"}],                        {\"legend\":{\"bgcolor\":\"#F5F6F9\",\"font\":{\"color\":\"#4D5663\"}},\"paper_bgcolor\":\"#F5F6F9\",\"plot_bgcolor\":\"#F5F6F9\",\"template\":{\"data\":{\"barpolar\":[{\"marker\":{\"line\":{\"color\":\"#E5ECF6\",\"width\":0.5},\"pattern\":{\"fillmode\":\"overlay\",\"size\":10,\"solidity\":0.2}},\"type\":\"barpolar\"}],\"bar\":[{\"error_x\":{\"color\":\"#2a3f5f\"},\"error_y\":{\"color\":\"#2a3f5f\"},\"marker\":{\"line\":{\"color\":\"#E5ECF6\",\"width\":0.5},\"pattern\":{\"fillmode\":\"overlay\",\"size\":10,\"solidity\":0.2}},\"type\":\"bar\"}],\"carpet\":[{\"aaxis\":{\"endlinecolor\":\"#2a3f5f\",\"gridcolor\":\"white\",\"linecolor\":\"white\",\"minorgridcolor\":\"white\",\"startlinecolor\":\"#2a3f5f\"},\"baxis\":{\"endlinecolor\":\"#2a3f5f\",\"gridcolor\":\"white\",\"linecolor\":\"white\",\"minorgridcolor\":\"white\",\"startlinecolor\":\"#2a3f5f\"},\"type\":\"carpet\"}],\"choropleth\":[{\"colorbar\":{\"outlinewidth\":0,\"ticks\":\"\"},\"type\":\"choropleth\"}],\"contourcarpet\":[{\"colorbar\":{\"outlinewidth\":0,\"ticks\":\"\"},\"type\":\"contourcarpet\"}],\"contour\":[{\"colorbar\":{\"outlinewidth\":0,\"ticks\":\"\"},\"colorscale\":[[0.0,\"#0d0887\"],[0.1111111111111111,\"#46039f\"],[0.2222222222222222,\"#7201a8\"],[0.3333333333333333,\"#9c179e\"],[0.4444444444444444,\"#bd3786\"],[0.5555555555555556,\"#d8576b\"],[0.6666666666666666,\"#ed7953\"],[0.7777777777777778,\"#fb9f3a\"],[0.8888888888888888,\"#fdca26\"],[1.0,\"#f0f921\"]],\"type\":\"contour\"}],\"heatmapgl\":[{\"colorbar\":{\"outlinewidth\":0,\"ticks\":\"\"},\"colorscale\":[[0.0,\"#0d0887\"],[0.1111111111111111,\"#46039f\"],[0.2222222222222222,\"#7201a8\"],[0.3333333333333333,\"#9c179e\"],[0.4444444444444444,\"#bd3786\"],[0.5555555555555556,\"#d8576b\"],[0.6666666666666666,\"#ed7953\"],[0.7777777777777778,\"#fb9f3a\"],[0.8888888888888888,\"#fdca26\"],[1.0,\"#f0f921\"]],\"type\":\"heatmapgl\"}],\"heatmap\":[{\"colorbar\":{\"outlinewidth\":0,\"ticks\":\"\"},\"colorscale\":[[0.0,\"#0d0887\"],[0.1111111111111111,\"#46039f\"],[0.2222222222222222,\"#7201a8\"],[0.3333333333333333,\"#9c179e\"],[0.4444444444444444,\"#bd3786\"],[0.5555555555555556,\"#d8576b\"],[0.6666666666666666,\"#ed7953\"],[0.7777777777777778,\"#fb9f3a\"],[0.8888888888888888,\"#fdca26\"],[1.0,\"#f0f921\"]],\"type\":\"heatmap\"}],\"histogram2dcontour\":[{\"colorbar\":{\"outlinewidth\":0,\"ticks\":\"\"},\"colorscale\":[[0.0,\"#0d0887\"],[0.1111111111111111,\"#46039f\"],[0.2222222222222222,\"#7201a8\"],[0.3333333333333333,\"#9c179e\"],[0.4444444444444444,\"#bd3786\"],[0.5555555555555556,\"#d8576b\"],[0.6666666666666666,\"#ed7953\"],[0.7777777777777778,\"#fb9f3a\"],[0.8888888888888888,\"#fdca26\"],[1.0,\"#f0f921\"]],\"type\":\"histogram2dcontour\"}],\"histogram2d\":[{\"colorbar\":{\"outlinewidth\":0,\"ticks\":\"\"},\"colorscale\":[[0.0,\"#0d0887\"],[0.1111111111111111,\"#46039f\"],[0.2222222222222222,\"#7201a8\"],[0.3333333333333333,\"#9c179e\"],[0.4444444444444444,\"#bd3786\"],[0.5555555555555556,\"#d8576b\"],[0.6666666666666666,\"#ed7953\"],[0.7777777777777778,\"#fb9f3a\"],[0.8888888888888888,\"#fdca26\"],[1.0,\"#f0f921\"]],\"type\":\"histogram2d\"}],\"histogram\":[{\"marker\":{\"pattern\":{\"fillmode\":\"overlay\",\"size\":10,\"solidity\":0.2}},\"type\":\"histogram\"}],\"mesh3d\":[{\"colorbar\":{\"outlinewidth\":0,\"ticks\":\"\"},\"type\":\"mesh3d\"}],\"parcoords\":[{\"line\":{\"colorbar\":{\"outlinewidth\":0,\"ticks\":\"\"}},\"type\":\"parcoords\"}],\"pie\":[{\"automargin\":true,\"type\":\"pie\"}],\"scatter3d\":[{\"line\":{\"colorbar\":{\"outlinewidth\":0,\"ticks\":\"\"}},\"marker\":{\"colorbar\":{\"outlinewidth\":0,\"ticks\":\"\"}},\"type\":\"scatter3d\"}],\"scattercarpet\":[{\"marker\":{\"colorbar\":{\"outlinewidth\":0,\"ticks\":\"\"}},\"type\":\"scattercarpet\"}],\"scattergeo\":[{\"marker\":{\"colorbar\":{\"outlinewidth\":0,\"ticks\":\"\"}},\"type\":\"scattergeo\"}],\"scattergl\":[{\"marker\":{\"colorbar\":{\"outlinewidth\":0,\"ticks\":\"\"}},\"type\":\"scattergl\"}],\"scattermapbox\":[{\"marker\":{\"colorbar\":{\"outlinewidth\":0,\"ticks\":\"\"}},\"type\":\"scattermapbox\"}],\"scatterpolargl\":[{\"marker\":{\"colorbar\":{\"outlinewidth\":0,\"ticks\":\"\"}},\"type\":\"scatterpolargl\"}],\"scatterpolar\":[{\"marker\":{\"colorbar\":{\"outlinewidth\":0,\"ticks\":\"\"}},\"type\":\"scatterpolar\"}],\"scatter\":[{\"fillpattern\":{\"fillmode\":\"overlay\",\"size\":10,\"solidity\":0.2},\"type\":\"scatter\"}],\"scatterternary\":[{\"marker\":{\"colorbar\":{\"outlinewidth\":0,\"ticks\":\"\"}},\"type\":\"scatterternary\"}],\"surface\":[{\"colorbar\":{\"outlinewidth\":0,\"ticks\":\"\"},\"colorscale\":[[0.0,\"#0d0887\"],[0.1111111111111111,\"#46039f\"],[0.2222222222222222,\"#7201a8\"],[0.3333333333333333,\"#9c179e\"],[0.4444444444444444,\"#bd3786\"],[0.5555555555555556,\"#d8576b\"],[0.6666666666666666,\"#ed7953\"],[0.7777777777777778,\"#fb9f3a\"],[0.8888888888888888,\"#fdca26\"],[1.0,\"#f0f921\"]],\"type\":\"surface\"}],\"table\":[{\"cells\":{\"fill\":{\"color\":\"#EBF0F8\"},\"line\":{\"color\":\"white\"}},\"header\":{\"fill\":{\"color\":\"#C8D4E3\"},\"line\":{\"color\":\"white\"}},\"type\":\"table\"}]},\"layout\":{\"annotationdefaults\":{\"arrowcolor\":\"#2a3f5f\",\"arrowhead\":0,\"arrowwidth\":1},\"autotypenumbers\":\"strict\",\"coloraxis\":{\"colorbar\":{\"outlinewidth\":0,\"ticks\":\"\"}},\"colorscale\":{\"diverging\":[[0,\"#8e0152\"],[0.1,\"#c51b7d\"],[0.2,\"#de77ae\"],[0.3,\"#f1b6da\"],[0.4,\"#fde0ef\"],[0.5,\"#f7f7f7\"],[0.6,\"#e6f5d0\"],[0.7,\"#b8e186\"],[0.8,\"#7fbc41\"],[0.9,\"#4d9221\"],[1,\"#276419\"]],\"sequential\":[[0.0,\"#0d0887\"],[0.1111111111111111,\"#46039f\"],[0.2222222222222222,\"#7201a8\"],[0.3333333333333333,\"#9c179e\"],[0.4444444444444444,\"#bd3786\"],[0.5555555555555556,\"#d8576b\"],[0.6666666666666666,\"#ed7953\"],[0.7777777777777778,\"#fb9f3a\"],[0.8888888888888888,\"#fdca26\"],[1.0,\"#f0f921\"]],\"sequentialminus\":[[0.0,\"#0d0887\"],[0.1111111111111111,\"#46039f\"],[0.2222222222222222,\"#7201a8\"],[0.3333333333333333,\"#9c179e\"],[0.4444444444444444,\"#bd3786\"],[0.5555555555555556,\"#d8576b\"],[0.6666666666666666,\"#ed7953\"],[0.7777777777777778,\"#fb9f3a\"],[0.8888888888888888,\"#fdca26\"],[1.0,\"#f0f921\"]]},\"colorway\":[\"#636efa\",\"#EF553B\",\"#00cc96\",\"#ab63fa\",\"#FFA15A\",\"#19d3f3\",\"#FF6692\",\"#B6E880\",\"#FF97FF\",\"#FECB52\"],\"font\":{\"color\":\"#2a3f5f\"},\"geo\":{\"bgcolor\":\"white\",\"lakecolor\":\"white\",\"landcolor\":\"#E5ECF6\",\"showlakes\":true,\"showland\":true,\"subunitcolor\":\"white\"},\"hoverlabel\":{\"align\":\"left\"},\"hovermode\":\"closest\",\"mapbox\":{\"style\":\"light\"},\"paper_bgcolor\":\"white\",\"plot_bgcolor\":\"#E5ECF6\",\"polar\":{\"angularaxis\":{\"gridcolor\":\"white\",\"linecolor\":\"white\",\"ticks\":\"\"},\"bgcolor\":\"#E5ECF6\",\"radialaxis\":{\"gridcolor\":\"white\",\"linecolor\":\"white\",\"ticks\":\"\"}},\"scene\":{\"xaxis\":{\"backgroundcolor\":\"#E5ECF6\",\"gridcolor\":\"white\",\"gridwidth\":2,\"linecolor\":\"white\",\"showbackground\":true,\"ticks\":\"\",\"zerolinecolor\":\"white\"},\"yaxis\":{\"backgroundcolor\":\"#E5ECF6\",\"gridcolor\":\"white\",\"gridwidth\":2,\"linecolor\":\"white\",\"showbackground\":true,\"ticks\":\"\",\"zerolinecolor\":\"white\"},\"zaxis\":{\"backgroundcolor\":\"#E5ECF6\",\"gridcolor\":\"white\",\"gridwidth\":2,\"linecolor\":\"white\",\"showbackground\":true,\"ticks\":\"\",\"zerolinecolor\":\"white\"}},\"shapedefaults\":{\"line\":{\"color\":\"#2a3f5f\"}},\"ternary\":{\"aaxis\":{\"gridcolor\":\"white\",\"linecolor\":\"white\",\"ticks\":\"\"},\"baxis\":{\"gridcolor\":\"white\",\"linecolor\":\"white\",\"ticks\":\"\"},\"bgcolor\":\"#E5ECF6\",\"caxis\":{\"gridcolor\":\"white\",\"linecolor\":\"white\",\"ticks\":\"\"}},\"title\":{\"x\":0.05},\"xaxis\":{\"automargin\":true,\"gridcolor\":\"white\",\"linecolor\":\"white\",\"ticks\":\"\",\"title\":{\"standoff\":15},\"zerolinecolor\":\"white\",\"zerolinewidth\":2},\"yaxis\":{\"automargin\":true,\"gridcolor\":\"white\",\"linecolor\":\"white\",\"ticks\":\"\",\"title\":{\"standoff\":15},\"zerolinecolor\":\"white\",\"zerolinewidth\":2}}},\"title\":{\"font\":{\"color\":\"#4D5663\"}},\"xaxis\":{\"gridcolor\":\"#E1E5ED\",\"showgrid\":true,\"tickfont\":{\"color\":\"#4D5663\"},\"title\":{\"font\":{\"color\":\"#4D5663\"},\"text\":\"\"},\"zerolinecolor\":\"#E1E5ED\"},\"yaxis\":{\"gridcolor\":\"#E1E5ED\",\"showgrid\":true,\"tickfont\":{\"color\":\"#4D5663\"},\"title\":{\"font\":{\"color\":\"#4D5663\"},\"text\":\"\"},\"zerolinecolor\":\"#E1E5ED\"}},                        {\"showLink\": true, \"linkText\": \"Export to plot.ly\", \"plotlyServerURL\": \"https://plot.ly\", \"responsive\": true}                    ).then(function(){\n",
       "                            \n",
       "var gd = document.getElementById('6fb86612-b801-4762-93a2-6022da5c7ff9');\n",
       "var x = new MutationObserver(function (mutations, observer) {{\n",
       "        var display = window.getComputedStyle(gd).display;\n",
       "        if (!display || display === 'none') {{\n",
       "            console.log([gd, 'removed!']);\n",
       "            Plotly.purge(gd);\n",
       "            observer.disconnect();\n",
       "        }}\n",
       "}});\n",
       "\n",
       "// Listen for the removal of the full notebook cells\n",
       "var notebookContainer = gd.closest('#notebook-container');\n",
       "if (notebookContainer) {{\n",
       "    x.observe(notebookContainer, {childList: true});\n",
       "}}\n",
       "\n",
       "// Listen for the clearing of the current output cell\n",
       "var outputEl = gd.closest('.output');\n",
       "if (outputEl) {{\n",
       "    x.observe(outputEl, {childList: true});\n",
       "}}\n",
       "\n",
       "                        })                };                });            </script>        </div>"
      ]
     },
     "metadata": {},
     "output_type": "display_data"
    }
   ],
   "source": [
    "df.iplot(kind='bar', x='Beverage', y='Calories')"
   ]
  },
  {
   "cell_type": "code",
   "execution_count": 10,
   "metadata": {},
   "outputs": [
    {
     "data": {
      "application/vnd.plotly.v1+json": {
       "config": {
        "linkText": "Export to plot.ly",
        "plotlyServerURL": "https://plot.ly",
        "showLink": true
       },
       "data": [
        {
         "marker": {
          "color": "rgba(255, 153, 51, 0.6)",
          "line": {
           "color": "rgba(255, 153, 51, 1.0)",
           "width": 1
          }
         },
         "name": "None",
         "orientation": "v",
         "text": "",
         "type": "bar",
         "x": [
          "Beverage_category",
          "Beverage",
          "Beverage_prep",
          "Calories",
          " Total Fat (g)",
          "Trans Fat (g) ",
          "Saturated Fat (g)",
          " Sodium (mg)",
          " Total Carbohydrates (g) ",
          "Cholesterol (mg)",
          " Dietary Fibre (g)",
          " Sugars (g)",
          " Protein (g) ",
          "Vitamin A (% DV) ",
          "Vitamin C (% DV)",
          " Calcium (% DV) ",
          "Iron (% DV) ",
          "Caffeine (mg)"
         ],
         "y": [
          242,
          242,
          242,
          242,
          242,
          242,
          242,
          242,
          242,
          242,
          242,
          242,
          242,
          242,
          242,
          242,
          242,
          241
         ]
        }
       ],
       "layout": {
        "legend": {
         "bgcolor": "#F5F6F9",
         "font": {
          "color": "#4D5663"
         }
        },
        "paper_bgcolor": "#F5F6F9",
        "plot_bgcolor": "#F5F6F9",
        "template": {
         "data": {
          "bar": [
           {
            "error_x": {
             "color": "#2a3f5f"
            },
            "error_y": {
             "color": "#2a3f5f"
            },
            "marker": {
             "line": {
              "color": "#E5ECF6",
              "width": 0.5
             },
             "pattern": {
              "fillmode": "overlay",
              "size": 10,
              "solidity": 0.2
             }
            },
            "type": "bar"
           }
          ],
          "barpolar": [
           {
            "marker": {
             "line": {
              "color": "#E5ECF6",
              "width": 0.5
             },
             "pattern": {
              "fillmode": "overlay",
              "size": 10,
              "solidity": 0.2
             }
            },
            "type": "barpolar"
           }
          ],
          "carpet": [
           {
            "aaxis": {
             "endlinecolor": "#2a3f5f",
             "gridcolor": "white",
             "linecolor": "white",
             "minorgridcolor": "white",
             "startlinecolor": "#2a3f5f"
            },
            "baxis": {
             "endlinecolor": "#2a3f5f",
             "gridcolor": "white",
             "linecolor": "white",
             "minorgridcolor": "white",
             "startlinecolor": "#2a3f5f"
            },
            "type": "carpet"
           }
          ],
          "choropleth": [
           {
            "colorbar": {
             "outlinewidth": 0,
             "ticks": ""
            },
            "type": "choropleth"
           }
          ],
          "contour": [
           {
            "colorbar": {
             "outlinewidth": 0,
             "ticks": ""
            },
            "colorscale": [
             [
              0,
              "#0d0887"
             ],
             [
              0.1111111111111111,
              "#46039f"
             ],
             [
              0.2222222222222222,
              "#7201a8"
             ],
             [
              0.3333333333333333,
              "#9c179e"
             ],
             [
              0.4444444444444444,
              "#bd3786"
             ],
             [
              0.5555555555555556,
              "#d8576b"
             ],
             [
              0.6666666666666666,
              "#ed7953"
             ],
             [
              0.7777777777777778,
              "#fb9f3a"
             ],
             [
              0.8888888888888888,
              "#fdca26"
             ],
             [
              1,
              "#f0f921"
             ]
            ],
            "type": "contour"
           }
          ],
          "contourcarpet": [
           {
            "colorbar": {
             "outlinewidth": 0,
             "ticks": ""
            },
            "type": "contourcarpet"
           }
          ],
          "heatmap": [
           {
            "colorbar": {
             "outlinewidth": 0,
             "ticks": ""
            },
            "colorscale": [
             [
              0,
              "#0d0887"
             ],
             [
              0.1111111111111111,
              "#46039f"
             ],
             [
              0.2222222222222222,
              "#7201a8"
             ],
             [
              0.3333333333333333,
              "#9c179e"
             ],
             [
              0.4444444444444444,
              "#bd3786"
             ],
             [
              0.5555555555555556,
              "#d8576b"
             ],
             [
              0.6666666666666666,
              "#ed7953"
             ],
             [
              0.7777777777777778,
              "#fb9f3a"
             ],
             [
              0.8888888888888888,
              "#fdca26"
             ],
             [
              1,
              "#f0f921"
             ]
            ],
            "type": "heatmap"
           }
          ],
          "heatmapgl": [
           {
            "colorbar": {
             "outlinewidth": 0,
             "ticks": ""
            },
            "colorscale": [
             [
              0,
              "#0d0887"
             ],
             [
              0.1111111111111111,
              "#46039f"
             ],
             [
              0.2222222222222222,
              "#7201a8"
             ],
             [
              0.3333333333333333,
              "#9c179e"
             ],
             [
              0.4444444444444444,
              "#bd3786"
             ],
             [
              0.5555555555555556,
              "#d8576b"
             ],
             [
              0.6666666666666666,
              "#ed7953"
             ],
             [
              0.7777777777777778,
              "#fb9f3a"
             ],
             [
              0.8888888888888888,
              "#fdca26"
             ],
             [
              1,
              "#f0f921"
             ]
            ],
            "type": "heatmapgl"
           }
          ],
          "histogram": [
           {
            "marker": {
             "pattern": {
              "fillmode": "overlay",
              "size": 10,
              "solidity": 0.2
             }
            },
            "type": "histogram"
           }
          ],
          "histogram2d": [
           {
            "colorbar": {
             "outlinewidth": 0,
             "ticks": ""
            },
            "colorscale": [
             [
              0,
              "#0d0887"
             ],
             [
              0.1111111111111111,
              "#46039f"
             ],
             [
              0.2222222222222222,
              "#7201a8"
             ],
             [
              0.3333333333333333,
              "#9c179e"
             ],
             [
              0.4444444444444444,
              "#bd3786"
             ],
             [
              0.5555555555555556,
              "#d8576b"
             ],
             [
              0.6666666666666666,
              "#ed7953"
             ],
             [
              0.7777777777777778,
              "#fb9f3a"
             ],
             [
              0.8888888888888888,
              "#fdca26"
             ],
             [
              1,
              "#f0f921"
             ]
            ],
            "type": "histogram2d"
           }
          ],
          "histogram2dcontour": [
           {
            "colorbar": {
             "outlinewidth": 0,
             "ticks": ""
            },
            "colorscale": [
             [
              0,
              "#0d0887"
             ],
             [
              0.1111111111111111,
              "#46039f"
             ],
             [
              0.2222222222222222,
              "#7201a8"
             ],
             [
              0.3333333333333333,
              "#9c179e"
             ],
             [
              0.4444444444444444,
              "#bd3786"
             ],
             [
              0.5555555555555556,
              "#d8576b"
             ],
             [
              0.6666666666666666,
              "#ed7953"
             ],
             [
              0.7777777777777778,
              "#fb9f3a"
             ],
             [
              0.8888888888888888,
              "#fdca26"
             ],
             [
              1,
              "#f0f921"
             ]
            ],
            "type": "histogram2dcontour"
           }
          ],
          "mesh3d": [
           {
            "colorbar": {
             "outlinewidth": 0,
             "ticks": ""
            },
            "type": "mesh3d"
           }
          ],
          "parcoords": [
           {
            "line": {
             "colorbar": {
              "outlinewidth": 0,
              "ticks": ""
             }
            },
            "type": "parcoords"
           }
          ],
          "pie": [
           {
            "automargin": true,
            "type": "pie"
           }
          ],
          "scatter": [
           {
            "fillpattern": {
             "fillmode": "overlay",
             "size": 10,
             "solidity": 0.2
            },
            "type": "scatter"
           }
          ],
          "scatter3d": [
           {
            "line": {
             "colorbar": {
              "outlinewidth": 0,
              "ticks": ""
             }
            },
            "marker": {
             "colorbar": {
              "outlinewidth": 0,
              "ticks": ""
             }
            },
            "type": "scatter3d"
           }
          ],
          "scattercarpet": [
           {
            "marker": {
             "colorbar": {
              "outlinewidth": 0,
              "ticks": ""
             }
            },
            "type": "scattercarpet"
           }
          ],
          "scattergeo": [
           {
            "marker": {
             "colorbar": {
              "outlinewidth": 0,
              "ticks": ""
             }
            },
            "type": "scattergeo"
           }
          ],
          "scattergl": [
           {
            "marker": {
             "colorbar": {
              "outlinewidth": 0,
              "ticks": ""
             }
            },
            "type": "scattergl"
           }
          ],
          "scattermapbox": [
           {
            "marker": {
             "colorbar": {
              "outlinewidth": 0,
              "ticks": ""
             }
            },
            "type": "scattermapbox"
           }
          ],
          "scatterpolar": [
           {
            "marker": {
             "colorbar": {
              "outlinewidth": 0,
              "ticks": ""
             }
            },
            "type": "scatterpolar"
           }
          ],
          "scatterpolargl": [
           {
            "marker": {
             "colorbar": {
              "outlinewidth": 0,
              "ticks": ""
             }
            },
            "type": "scatterpolargl"
           }
          ],
          "scatterternary": [
           {
            "marker": {
             "colorbar": {
              "outlinewidth": 0,
              "ticks": ""
             }
            },
            "type": "scatterternary"
           }
          ],
          "surface": [
           {
            "colorbar": {
             "outlinewidth": 0,
             "ticks": ""
            },
            "colorscale": [
             [
              0,
              "#0d0887"
             ],
             [
              0.1111111111111111,
              "#46039f"
             ],
             [
              0.2222222222222222,
              "#7201a8"
             ],
             [
              0.3333333333333333,
              "#9c179e"
             ],
             [
              0.4444444444444444,
              "#bd3786"
             ],
             [
              0.5555555555555556,
              "#d8576b"
             ],
             [
              0.6666666666666666,
              "#ed7953"
             ],
             [
              0.7777777777777778,
              "#fb9f3a"
             ],
             [
              0.8888888888888888,
              "#fdca26"
             ],
             [
              1,
              "#f0f921"
             ]
            ],
            "type": "surface"
           }
          ],
          "table": [
           {
            "cells": {
             "fill": {
              "color": "#EBF0F8"
             },
             "line": {
              "color": "white"
             }
            },
            "header": {
             "fill": {
              "color": "#C8D4E3"
             },
             "line": {
              "color": "white"
             }
            },
            "type": "table"
           }
          ]
         },
         "layout": {
          "annotationdefaults": {
           "arrowcolor": "#2a3f5f",
           "arrowhead": 0,
           "arrowwidth": 1
          },
          "autotypenumbers": "strict",
          "coloraxis": {
           "colorbar": {
            "outlinewidth": 0,
            "ticks": ""
           }
          },
          "colorscale": {
           "diverging": [
            [
             0,
             "#8e0152"
            ],
            [
             0.1,
             "#c51b7d"
            ],
            [
             0.2,
             "#de77ae"
            ],
            [
             0.3,
             "#f1b6da"
            ],
            [
             0.4,
             "#fde0ef"
            ],
            [
             0.5,
             "#f7f7f7"
            ],
            [
             0.6,
             "#e6f5d0"
            ],
            [
             0.7,
             "#b8e186"
            ],
            [
             0.8,
             "#7fbc41"
            ],
            [
             0.9,
             "#4d9221"
            ],
            [
             1,
             "#276419"
            ]
           ],
           "sequential": [
            [
             0,
             "#0d0887"
            ],
            [
             0.1111111111111111,
             "#46039f"
            ],
            [
             0.2222222222222222,
             "#7201a8"
            ],
            [
             0.3333333333333333,
             "#9c179e"
            ],
            [
             0.4444444444444444,
             "#bd3786"
            ],
            [
             0.5555555555555556,
             "#d8576b"
            ],
            [
             0.6666666666666666,
             "#ed7953"
            ],
            [
             0.7777777777777778,
             "#fb9f3a"
            ],
            [
             0.8888888888888888,
             "#fdca26"
            ],
            [
             1,
             "#f0f921"
            ]
           ],
           "sequentialminus": [
            [
             0,
             "#0d0887"
            ],
            [
             0.1111111111111111,
             "#46039f"
            ],
            [
             0.2222222222222222,
             "#7201a8"
            ],
            [
             0.3333333333333333,
             "#9c179e"
            ],
            [
             0.4444444444444444,
             "#bd3786"
            ],
            [
             0.5555555555555556,
             "#d8576b"
            ],
            [
             0.6666666666666666,
             "#ed7953"
            ],
            [
             0.7777777777777778,
             "#fb9f3a"
            ],
            [
             0.8888888888888888,
             "#fdca26"
            ],
            [
             1,
             "#f0f921"
            ]
           ]
          },
          "colorway": [
           "#636efa",
           "#EF553B",
           "#00cc96",
           "#ab63fa",
           "#FFA15A",
           "#19d3f3",
           "#FF6692",
           "#B6E880",
           "#FF97FF",
           "#FECB52"
          ],
          "font": {
           "color": "#2a3f5f"
          },
          "geo": {
           "bgcolor": "white",
           "lakecolor": "white",
           "landcolor": "#E5ECF6",
           "showlakes": true,
           "showland": true,
           "subunitcolor": "white"
          },
          "hoverlabel": {
           "align": "left"
          },
          "hovermode": "closest",
          "mapbox": {
           "style": "light"
          },
          "paper_bgcolor": "white",
          "plot_bgcolor": "#E5ECF6",
          "polar": {
           "angularaxis": {
            "gridcolor": "white",
            "linecolor": "white",
            "ticks": ""
           },
           "bgcolor": "#E5ECF6",
           "radialaxis": {
            "gridcolor": "white",
            "linecolor": "white",
            "ticks": ""
           }
          },
          "scene": {
           "xaxis": {
            "backgroundcolor": "#E5ECF6",
            "gridcolor": "white",
            "gridwidth": 2,
            "linecolor": "white",
            "showbackground": true,
            "ticks": "",
            "zerolinecolor": "white"
           },
           "yaxis": {
            "backgroundcolor": "#E5ECF6",
            "gridcolor": "white",
            "gridwidth": 2,
            "linecolor": "white",
            "showbackground": true,
            "ticks": "",
            "zerolinecolor": "white"
           },
           "zaxis": {
            "backgroundcolor": "#E5ECF6",
            "gridcolor": "white",
            "gridwidth": 2,
            "linecolor": "white",
            "showbackground": true,
            "ticks": "",
            "zerolinecolor": "white"
           }
          },
          "shapedefaults": {
           "line": {
            "color": "#2a3f5f"
           }
          },
          "ternary": {
           "aaxis": {
            "gridcolor": "white",
            "linecolor": "white",
            "ticks": ""
           },
           "baxis": {
            "gridcolor": "white",
            "linecolor": "white",
            "ticks": ""
           },
           "bgcolor": "#E5ECF6",
           "caxis": {
            "gridcolor": "white",
            "linecolor": "white",
            "ticks": ""
           }
          },
          "title": {
           "x": 0.05
          },
          "xaxis": {
           "automargin": true,
           "gridcolor": "white",
           "linecolor": "white",
           "ticks": "",
           "title": {
            "standoff": 15
           },
           "zerolinecolor": "white",
           "zerolinewidth": 2
          },
          "yaxis": {
           "automargin": true,
           "gridcolor": "white",
           "linecolor": "white",
           "ticks": "",
           "title": {
            "standoff": 15
           },
           "zerolinecolor": "white",
           "zerolinewidth": 2
          }
         }
        },
        "title": {
         "font": {
          "color": "#4D5663"
         }
        },
        "xaxis": {
         "gridcolor": "#E1E5ED",
         "showgrid": true,
         "tickfont": {
          "color": "#4D5663"
         },
         "title": {
          "font": {
           "color": "#4D5663"
          },
          "text": ""
         },
         "zerolinecolor": "#E1E5ED"
        },
        "yaxis": {
         "gridcolor": "#E1E5ED",
         "showgrid": true,
         "tickfont": {
          "color": "#4D5663"
         },
         "title": {
          "font": {
           "color": "#4D5663"
          },
          "text": ""
         },
         "zerolinecolor": "#E1E5ED"
        }
       }
      },
      "text/html": [
       "<div>                            <div id=\"f927ac76-581b-4864-8ca1-991ccc80f876\" class=\"plotly-graph-div\" style=\"height:525px; width:100%;\"></div>            <script type=\"text/javascript\">                require([\"plotly\"], function(Plotly) {                    window.PLOTLYENV=window.PLOTLYENV || {};\n",
       "                    window.PLOTLYENV.BASE_URL='https://plot.ly';                                    if (document.getElementById(\"f927ac76-581b-4864-8ca1-991ccc80f876\")) {                    Plotly.newPlot(                        \"f927ac76-581b-4864-8ca1-991ccc80f876\",                        [{\"marker\":{\"color\":\"rgba(255, 153, 51, 0.6)\",\"line\":{\"color\":\"rgba(255, 153, 51, 1.0)\",\"width\":1}},\"name\":\"None\",\"orientation\":\"v\",\"text\":\"\",\"x\":[\"Beverage_category\",\"Beverage\",\"Beverage_prep\",\"Calories\",\" Total Fat (g)\",\"Trans Fat (g) \",\"Saturated Fat (g)\",\" Sodium (mg)\",\" Total Carbohydrates (g) \",\"Cholesterol (mg)\",\" Dietary Fibre (g)\",\" Sugars (g)\",\" Protein (g) \",\"Vitamin A (% DV) \",\"Vitamin C (% DV)\",\" Calcium (% DV) \",\"Iron (% DV) \",\"Caffeine (mg)\"],\"y\":[242,242,242,242,242,242,242,242,242,242,242,242,242,242,242,242,242,241],\"type\":\"bar\"}],                        {\"legend\":{\"bgcolor\":\"#F5F6F9\",\"font\":{\"color\":\"#4D5663\"}},\"paper_bgcolor\":\"#F5F6F9\",\"plot_bgcolor\":\"#F5F6F9\",\"template\":{\"data\":{\"barpolar\":[{\"marker\":{\"line\":{\"color\":\"#E5ECF6\",\"width\":0.5},\"pattern\":{\"fillmode\":\"overlay\",\"size\":10,\"solidity\":0.2}},\"type\":\"barpolar\"}],\"bar\":[{\"error_x\":{\"color\":\"#2a3f5f\"},\"error_y\":{\"color\":\"#2a3f5f\"},\"marker\":{\"line\":{\"color\":\"#E5ECF6\",\"width\":0.5},\"pattern\":{\"fillmode\":\"overlay\",\"size\":10,\"solidity\":0.2}},\"type\":\"bar\"}],\"carpet\":[{\"aaxis\":{\"endlinecolor\":\"#2a3f5f\",\"gridcolor\":\"white\",\"linecolor\":\"white\",\"minorgridcolor\":\"white\",\"startlinecolor\":\"#2a3f5f\"},\"baxis\":{\"endlinecolor\":\"#2a3f5f\",\"gridcolor\":\"white\",\"linecolor\":\"white\",\"minorgridcolor\":\"white\",\"startlinecolor\":\"#2a3f5f\"},\"type\":\"carpet\"}],\"choropleth\":[{\"colorbar\":{\"outlinewidth\":0,\"ticks\":\"\"},\"type\":\"choropleth\"}],\"contourcarpet\":[{\"colorbar\":{\"outlinewidth\":0,\"ticks\":\"\"},\"type\":\"contourcarpet\"}],\"contour\":[{\"colorbar\":{\"outlinewidth\":0,\"ticks\":\"\"},\"colorscale\":[[0.0,\"#0d0887\"],[0.1111111111111111,\"#46039f\"],[0.2222222222222222,\"#7201a8\"],[0.3333333333333333,\"#9c179e\"],[0.4444444444444444,\"#bd3786\"],[0.5555555555555556,\"#d8576b\"],[0.6666666666666666,\"#ed7953\"],[0.7777777777777778,\"#fb9f3a\"],[0.8888888888888888,\"#fdca26\"],[1.0,\"#f0f921\"]],\"type\":\"contour\"}],\"heatmapgl\":[{\"colorbar\":{\"outlinewidth\":0,\"ticks\":\"\"},\"colorscale\":[[0.0,\"#0d0887\"],[0.1111111111111111,\"#46039f\"],[0.2222222222222222,\"#7201a8\"],[0.3333333333333333,\"#9c179e\"],[0.4444444444444444,\"#bd3786\"],[0.5555555555555556,\"#d8576b\"],[0.6666666666666666,\"#ed7953\"],[0.7777777777777778,\"#fb9f3a\"],[0.8888888888888888,\"#fdca26\"],[1.0,\"#f0f921\"]],\"type\":\"heatmapgl\"}],\"heatmap\":[{\"colorbar\":{\"outlinewidth\":0,\"ticks\":\"\"},\"colorscale\":[[0.0,\"#0d0887\"],[0.1111111111111111,\"#46039f\"],[0.2222222222222222,\"#7201a8\"],[0.3333333333333333,\"#9c179e\"],[0.4444444444444444,\"#bd3786\"],[0.5555555555555556,\"#d8576b\"],[0.6666666666666666,\"#ed7953\"],[0.7777777777777778,\"#fb9f3a\"],[0.8888888888888888,\"#fdca26\"],[1.0,\"#f0f921\"]],\"type\":\"heatmap\"}],\"histogram2dcontour\":[{\"colorbar\":{\"outlinewidth\":0,\"ticks\":\"\"},\"colorscale\":[[0.0,\"#0d0887\"],[0.1111111111111111,\"#46039f\"],[0.2222222222222222,\"#7201a8\"],[0.3333333333333333,\"#9c179e\"],[0.4444444444444444,\"#bd3786\"],[0.5555555555555556,\"#d8576b\"],[0.6666666666666666,\"#ed7953\"],[0.7777777777777778,\"#fb9f3a\"],[0.8888888888888888,\"#fdca26\"],[1.0,\"#f0f921\"]],\"type\":\"histogram2dcontour\"}],\"histogram2d\":[{\"colorbar\":{\"outlinewidth\":0,\"ticks\":\"\"},\"colorscale\":[[0.0,\"#0d0887\"],[0.1111111111111111,\"#46039f\"],[0.2222222222222222,\"#7201a8\"],[0.3333333333333333,\"#9c179e\"],[0.4444444444444444,\"#bd3786\"],[0.5555555555555556,\"#d8576b\"],[0.6666666666666666,\"#ed7953\"],[0.7777777777777778,\"#fb9f3a\"],[0.8888888888888888,\"#fdca26\"],[1.0,\"#f0f921\"]],\"type\":\"histogram2d\"}],\"histogram\":[{\"marker\":{\"pattern\":{\"fillmode\":\"overlay\",\"size\":10,\"solidity\":0.2}},\"type\":\"histogram\"}],\"mesh3d\":[{\"colorbar\":{\"outlinewidth\":0,\"ticks\":\"\"},\"type\":\"mesh3d\"}],\"parcoords\":[{\"line\":{\"colorbar\":{\"outlinewidth\":0,\"ticks\":\"\"}},\"type\":\"parcoords\"}],\"pie\":[{\"automargin\":true,\"type\":\"pie\"}],\"scatter3d\":[{\"line\":{\"colorbar\":{\"outlinewidth\":0,\"ticks\":\"\"}},\"marker\":{\"colorbar\":{\"outlinewidth\":0,\"ticks\":\"\"}},\"type\":\"scatter3d\"}],\"scattercarpet\":[{\"marker\":{\"colorbar\":{\"outlinewidth\":0,\"ticks\":\"\"}},\"type\":\"scattercarpet\"}],\"scattergeo\":[{\"marker\":{\"colorbar\":{\"outlinewidth\":0,\"ticks\":\"\"}},\"type\":\"scattergeo\"}],\"scattergl\":[{\"marker\":{\"colorbar\":{\"outlinewidth\":0,\"ticks\":\"\"}},\"type\":\"scattergl\"}],\"scattermapbox\":[{\"marker\":{\"colorbar\":{\"outlinewidth\":0,\"ticks\":\"\"}},\"type\":\"scattermapbox\"}],\"scatterpolargl\":[{\"marker\":{\"colorbar\":{\"outlinewidth\":0,\"ticks\":\"\"}},\"type\":\"scatterpolargl\"}],\"scatterpolar\":[{\"marker\":{\"colorbar\":{\"outlinewidth\":0,\"ticks\":\"\"}},\"type\":\"scatterpolar\"}],\"scatter\":[{\"fillpattern\":{\"fillmode\":\"overlay\",\"size\":10,\"solidity\":0.2},\"type\":\"scatter\"}],\"scatterternary\":[{\"marker\":{\"colorbar\":{\"outlinewidth\":0,\"ticks\":\"\"}},\"type\":\"scatterternary\"}],\"surface\":[{\"colorbar\":{\"outlinewidth\":0,\"ticks\":\"\"},\"colorscale\":[[0.0,\"#0d0887\"],[0.1111111111111111,\"#46039f\"],[0.2222222222222222,\"#7201a8\"],[0.3333333333333333,\"#9c179e\"],[0.4444444444444444,\"#bd3786\"],[0.5555555555555556,\"#d8576b\"],[0.6666666666666666,\"#ed7953\"],[0.7777777777777778,\"#fb9f3a\"],[0.8888888888888888,\"#fdca26\"],[1.0,\"#f0f921\"]],\"type\":\"surface\"}],\"table\":[{\"cells\":{\"fill\":{\"color\":\"#EBF0F8\"},\"line\":{\"color\":\"white\"}},\"header\":{\"fill\":{\"color\":\"#C8D4E3\"},\"line\":{\"color\":\"white\"}},\"type\":\"table\"}]},\"layout\":{\"annotationdefaults\":{\"arrowcolor\":\"#2a3f5f\",\"arrowhead\":0,\"arrowwidth\":1},\"autotypenumbers\":\"strict\",\"coloraxis\":{\"colorbar\":{\"outlinewidth\":0,\"ticks\":\"\"}},\"colorscale\":{\"diverging\":[[0,\"#8e0152\"],[0.1,\"#c51b7d\"],[0.2,\"#de77ae\"],[0.3,\"#f1b6da\"],[0.4,\"#fde0ef\"],[0.5,\"#f7f7f7\"],[0.6,\"#e6f5d0\"],[0.7,\"#b8e186\"],[0.8,\"#7fbc41\"],[0.9,\"#4d9221\"],[1,\"#276419\"]],\"sequential\":[[0.0,\"#0d0887\"],[0.1111111111111111,\"#46039f\"],[0.2222222222222222,\"#7201a8\"],[0.3333333333333333,\"#9c179e\"],[0.4444444444444444,\"#bd3786\"],[0.5555555555555556,\"#d8576b\"],[0.6666666666666666,\"#ed7953\"],[0.7777777777777778,\"#fb9f3a\"],[0.8888888888888888,\"#fdca26\"],[1.0,\"#f0f921\"]],\"sequentialminus\":[[0.0,\"#0d0887\"],[0.1111111111111111,\"#46039f\"],[0.2222222222222222,\"#7201a8\"],[0.3333333333333333,\"#9c179e\"],[0.4444444444444444,\"#bd3786\"],[0.5555555555555556,\"#d8576b\"],[0.6666666666666666,\"#ed7953\"],[0.7777777777777778,\"#fb9f3a\"],[0.8888888888888888,\"#fdca26\"],[1.0,\"#f0f921\"]]},\"colorway\":[\"#636efa\",\"#EF553B\",\"#00cc96\",\"#ab63fa\",\"#FFA15A\",\"#19d3f3\",\"#FF6692\",\"#B6E880\",\"#FF97FF\",\"#FECB52\"],\"font\":{\"color\":\"#2a3f5f\"},\"geo\":{\"bgcolor\":\"white\",\"lakecolor\":\"white\",\"landcolor\":\"#E5ECF6\",\"showlakes\":true,\"showland\":true,\"subunitcolor\":\"white\"},\"hoverlabel\":{\"align\":\"left\"},\"hovermode\":\"closest\",\"mapbox\":{\"style\":\"light\"},\"paper_bgcolor\":\"white\",\"plot_bgcolor\":\"#E5ECF6\",\"polar\":{\"angularaxis\":{\"gridcolor\":\"white\",\"linecolor\":\"white\",\"ticks\":\"\"},\"bgcolor\":\"#E5ECF6\",\"radialaxis\":{\"gridcolor\":\"white\",\"linecolor\":\"white\",\"ticks\":\"\"}},\"scene\":{\"xaxis\":{\"backgroundcolor\":\"#E5ECF6\",\"gridcolor\":\"white\",\"gridwidth\":2,\"linecolor\":\"white\",\"showbackground\":true,\"ticks\":\"\",\"zerolinecolor\":\"white\"},\"yaxis\":{\"backgroundcolor\":\"#E5ECF6\",\"gridcolor\":\"white\",\"gridwidth\":2,\"linecolor\":\"white\",\"showbackground\":true,\"ticks\":\"\",\"zerolinecolor\":\"white\"},\"zaxis\":{\"backgroundcolor\":\"#E5ECF6\",\"gridcolor\":\"white\",\"gridwidth\":2,\"linecolor\":\"white\",\"showbackground\":true,\"ticks\":\"\",\"zerolinecolor\":\"white\"}},\"shapedefaults\":{\"line\":{\"color\":\"#2a3f5f\"}},\"ternary\":{\"aaxis\":{\"gridcolor\":\"white\",\"linecolor\":\"white\",\"ticks\":\"\"},\"baxis\":{\"gridcolor\":\"white\",\"linecolor\":\"white\",\"ticks\":\"\"},\"bgcolor\":\"#E5ECF6\",\"caxis\":{\"gridcolor\":\"white\",\"linecolor\":\"white\",\"ticks\":\"\"}},\"title\":{\"x\":0.05},\"xaxis\":{\"automargin\":true,\"gridcolor\":\"white\",\"linecolor\":\"white\",\"ticks\":\"\",\"title\":{\"standoff\":15},\"zerolinecolor\":\"white\",\"zerolinewidth\":2},\"yaxis\":{\"automargin\":true,\"gridcolor\":\"white\",\"linecolor\":\"white\",\"ticks\":\"\",\"title\":{\"standoff\":15},\"zerolinecolor\":\"white\",\"zerolinewidth\":2}}},\"title\":{\"font\":{\"color\":\"#4D5663\"}},\"xaxis\":{\"gridcolor\":\"#E1E5ED\",\"showgrid\":true,\"tickfont\":{\"color\":\"#4D5663\"},\"title\":{\"font\":{\"color\":\"#4D5663\"},\"text\":\"\"},\"zerolinecolor\":\"#E1E5ED\"},\"yaxis\":{\"gridcolor\":\"#E1E5ED\",\"showgrid\":true,\"tickfont\":{\"color\":\"#4D5663\"},\"title\":{\"font\":{\"color\":\"#4D5663\"},\"text\":\"\"},\"zerolinecolor\":\"#E1E5ED\"}},                        {\"showLink\": true, \"linkText\": \"Export to plot.ly\", \"plotlyServerURL\": \"https://plot.ly\", \"responsive\": true}                    ).then(function(){\n",
       "                            \n",
       "var gd = document.getElementById('f927ac76-581b-4864-8ca1-991ccc80f876');\n",
       "var x = new MutationObserver(function (mutations, observer) {{\n",
       "        var display = window.getComputedStyle(gd).display;\n",
       "        if (!display || display === 'none') {{\n",
       "            console.log([gd, 'removed!']);\n",
       "            Plotly.purge(gd);\n",
       "            observer.disconnect();\n",
       "        }}\n",
       "}});\n",
       "\n",
       "// Listen for the removal of the full notebook cells\n",
       "var notebookContainer = gd.closest('#notebook-container');\n",
       "if (notebookContainer) {{\n",
       "    x.observe(notebookContainer, {childList: true});\n",
       "}}\n",
       "\n",
       "// Listen for the clearing of the current output cell\n",
       "var outputEl = gd.closest('.output');\n",
       "if (outputEl) {{\n",
       "    x.observe(outputEl, {childList: true});\n",
       "}}\n",
       "\n",
       "                        })                };                });            </script>        </div>"
      ]
     },
     "metadata": {},
     "output_type": "display_data"
    }
   ],
   "source": [
    "df.count().iplot(kind='bar')"
   ]
  },
  {
   "cell_type": "markdown",
   "metadata": {},
   "source": [
    "# Spread"
   ]
  },
  {
   "cell_type": "code",
   "execution_count": 22,
   "metadata": {},
   "outputs": [
    {
     "data": {
      "application/vnd.plotly.v1+json": {
       "config": {
        "linkText": "Export to plot.ly",
        "plotlyServerURL": "https://plot.ly",
        "showLink": true
       },
       "data": [
        {
         "line": {
          "color": "rgba(255, 153, 51, 1.0)",
          "dash": "solid",
          "shape": "linear",
          "width": 1.3
         },
         "mode": "lines",
         "name": "Calories",
         "text": "",
         "type": "scatter",
         "x": [
          0,
          1,
          2,
          3,
          4,
          5,
          6,
          7,
          8,
          9,
          10,
          11,
          12,
          13,
          14,
          15,
          16,
          17,
          18,
          19,
          20,
          21,
          22,
          23,
          24,
          25,
          26,
          27,
          28,
          29,
          30,
          31,
          32,
          33,
          34,
          35,
          36,
          37,
          38,
          39,
          40,
          41,
          42,
          43,
          44,
          45,
          46,
          47,
          48,
          49,
          50,
          51,
          52,
          53,
          54,
          55,
          56,
          57,
          58,
          59,
          60,
          61,
          62,
          63,
          64,
          65,
          66,
          67,
          68,
          69,
          70,
          71,
          72,
          73,
          74,
          75,
          76,
          77,
          78,
          79,
          80,
          81,
          82,
          83,
          84,
          85,
          86,
          87,
          88,
          89,
          90,
          91,
          92,
          93,
          94,
          95,
          96,
          97,
          98,
          99,
          100,
          101,
          102,
          103,
          104,
          105,
          106,
          107,
          108,
          109,
          110,
          111,
          112,
          113,
          114,
          115,
          116,
          117,
          118,
          119,
          120,
          121,
          122,
          123,
          124,
          125,
          126,
          127,
          128,
          129,
          130,
          131,
          132,
          133,
          134,
          135,
          136,
          137,
          138,
          139,
          140,
          141,
          142,
          143,
          144,
          145,
          146,
          147,
          148,
          149,
          150,
          151,
          152,
          153,
          154,
          155,
          156,
          157,
          158,
          159,
          160,
          161,
          162,
          163,
          164,
          165,
          166,
          167,
          168,
          169,
          170,
          171,
          172,
          173,
          174,
          175,
          176,
          177,
          178,
          179,
          180,
          181,
          182,
          183,
          184,
          185,
          186,
          187,
          188,
          189,
          190,
          191,
          192,
          193,
          194,
          195,
          196,
          197,
          198,
          199,
          200,
          201,
          202,
          203,
          204,
          205,
          206,
          207,
          208,
          209,
          210,
          211,
          212,
          213,
          214,
          215,
          216,
          217,
          218,
          219,
          220,
          221,
          222,
          223,
          224,
          225,
          226,
          227,
          228,
          229,
          230,
          231,
          232,
          233,
          234,
          235,
          236,
          237,
          238,
          239,
          240,
          241
         ],
         "y": [
          3,
          4,
          5,
          5,
          70,
          100,
          70,
          100,
          150,
          110,
          130,
          190,
          150,
          170,
          240,
          190,
          110,
          130,
          110,
          170,
          200,
          180,
          220,
          260,
          230,
          280,
          340,
          290,
          100,
          130,
          110,
          150,
          200,
          160,
          200,
          250,
          210,
          250,
          320,
          270,
          5,
          10,
          15,
          25,
          50,
          80,
          50,
          60,
          90,
          70,
          80,
          120,
          100,
          110,
          150,
          120,
          5,
          10,
          60,
          100,
          120,
          160,
          100,
          120,
          100,
          140,
          180,
          150,
          190,
          240,
          200,
          240,
          300,
          250,
          180,
          200,
          180,
          270,
          310,
          280,
          350,
          400,
          370,
          450,
          510,
          460,
          130,
          150,
          130,
          190,
          230,
          200,
          240,
          290,
          250,
          320,
          380,
          330,
          140,
          210,
          280,
          360,
          0,
          0,
          0,
          0,
          100,
          120,
          110,
          160,
          190,
          160,
          210,
          240,
          220,
          260,
          310,
          280,
          130,
          170,
          140,
          210,
          260,
          230,
          290,
          350,
          310,
          370,
          450,
          390,
          80,
          90,
          80,
          120,
          140,
          130,
          150,
          190,
          170,
          190,
          230,
          210,
          80,
          90,
          80,
          120,
          140,
          130,
          150,
          190,
          170,
          190,
          230,
          210,
          60,
          90,
          130,
          80,
          90,
          80,
          110,
          120,
          110,
          160,
          180,
          170,
          60,
          80,
          120,
          100,
          130,
          190,
          280,
          300,
          290,
          260,
          270,
          270,
          290,
          290,
          290,
          160,
          180,
          160,
          220,
          240,
          220,
          310,
          350,
          310,
          180,
          200,
          180,
          260,
          290,
          260,
          340,
          390,
          350,
          180,
          200,
          180,
          280,
          280,
          260,
          330,
          370,
          340,
          220,
          240,
          220,
          310,
          340,
          310,
          420,
          460,
          430,
          90,
          120,
          160,
          110,
          150,
          210,
          100,
          150,
          200,
          150,
          220,
          290,
          170,
          190,
          170,
          230,
          260,
          240,
          310,
          350,
          320,
          170,
          200,
          180,
          240
         ]
        },
        {
         "line": {
          "color": "rgba(55, 128, 191, 1.0)",
          "dash": "solid",
          "shape": "linear",
          "width": 1.3
         },
         "mode": "lines",
         "name": "Caffeine (mg)",
         "text": "",
         "type": "scatter",
         "x": [
          0,
          1,
          2,
          3,
          4,
          5,
          6,
          7,
          8,
          9,
          10,
          11,
          12,
          13,
          14,
          15,
          16,
          17,
          18,
          19,
          20,
          21,
          22,
          23,
          24,
          25,
          26,
          27,
          28,
          29,
          30,
          31,
          32,
          33,
          34,
          35,
          36,
          37,
          38,
          39,
          40,
          41,
          42,
          43,
          44,
          45,
          46,
          47,
          48,
          49,
          50,
          51,
          52,
          53,
          54,
          55,
          56,
          57,
          58,
          59,
          60,
          61,
          62,
          63,
          64,
          65,
          66,
          67,
          68,
          69,
          70,
          71,
          72,
          73,
          74,
          75,
          76,
          77,
          78,
          79,
          80,
          81,
          82,
          83,
          84,
          85,
          86,
          87,
          88,
          89,
          90,
          91,
          92,
          93,
          94,
          95,
          96,
          97,
          98,
          99,
          100,
          101,
          102,
          103,
          104,
          105,
          106,
          107,
          108,
          109,
          110,
          111,
          112,
          113,
          114,
          115,
          116,
          117,
          118,
          119,
          120,
          121,
          122,
          123,
          124,
          125,
          126,
          127,
          128,
          129,
          130,
          131,
          132,
          133,
          134,
          135,
          136,
          137,
          138,
          139,
          140,
          141,
          142,
          143,
          144,
          145,
          146,
          147,
          148,
          149,
          150,
          151,
          152,
          153,
          154,
          155,
          156,
          157,
          158,
          159,
          160,
          161,
          162,
          163,
          164,
          165,
          166,
          167,
          168,
          169,
          170,
          171,
          172,
          173,
          174,
          175,
          176,
          177,
          178,
          179,
          180,
          181,
          182,
          183,
          184,
          185,
          186,
          187,
          188,
          189,
          190,
          191,
          192,
          193,
          194,
          195,
          196,
          197,
          198,
          199,
          200,
          201,
          202,
          203,
          204,
          205,
          206,
          207,
          208,
          209,
          210,
          211,
          212,
          213,
          214,
          215,
          216,
          217,
          218,
          219,
          220,
          221,
          222,
          223,
          224,
          225,
          226,
          227,
          228,
          229,
          230,
          231,
          232,
          233,
          234,
          235,
          236,
          237,
          238,
          239,
          240,
          241
         ],
         "y": [
          "175",
          "260",
          "330",
          "410",
          "75",
          "75",
          "75",
          "75",
          "75",
          "75",
          "150",
          "150",
          "150",
          "150",
          "150",
          "150",
          "85",
          "85",
          "85",
          "95",
          "95",
          "95",
          "175",
          "175",
          "175",
          "180",
          "180",
          "180",
          "75",
          "75",
          "75",
          "75",
          "75",
          "75",
          "150",
          "150",
          "150",
          "150",
          "150",
          "150",
          "75",
          "150",
          "225",
          "300",
          "75",
          "75",
          "75",
          "75",
          "75",
          "75",
          "150",
          "150",
          "150",
          "150",
          "150",
          "150",
          "75",
          "150",
          "75",
          "75",
          "150",
          "150",
          "75",
          "75",
          "75",
          "75",
          "75",
          "75",
          "150",
          "150",
          "150",
          "150",
          "150",
          "150",
          "75",
          "75",
          "75",
          "75",
          "75",
          "75",
          "150",
          "150",
          "150",
          "150",
          "150",
          "150",
          "10",
          "10",
          "10",
          "20",
          "20",
          "20",
          "25",
          "25",
          "25",
          "30",
          "30",
          "30",
          "0",
          "0",
          "0",
          "0",
          "Varies",
          "Varies",
          "Varies",
          "Varies",
          "50",
          "50",
          "50",
          "70",
          "70",
          "70",
          "95",
          "95",
          "95",
          "120",
          "120",
          "120",
          "25",
          "25",
          "25",
          "55",
          "55",
          "55",
          "80",
          "80",
          "80",
          "110",
          "110",
          "110",
          "varies",
          "varies",
          "varies",
          "varies",
          "varies",
          "varies",
          "varies",
          "varies",
          "varies",
          "varies",
          "varies",
          "varies",
          "0",
          "0",
          "0",
          "0",
          "0",
          "0",
          "0",
          "0",
          "0",
          "0",
          "0",
          "0",
          "120",
          "165",
          "235",
          "90",
          "",
          "90",
          "90",
          "125",
          "125",
          "125",
          "170",
          "170",
          "170",
          "Varies",
          "Varies",
          "Varies",
          "Varies",
          "Varies",
          "Varies",
          "15",
          "15",
          "15",
          "0",
          "0",
          "0",
          "0",
          "0",
          "0",
          "70",
          "70",
          "70",
          "95",
          "95",
          "95",
          "130",
          "130",
          "130",
          "70",
          "70",
          "110",
          "110",
          "110",
          "140",
          "140",
          "140",
          "70",
          "70",
          "70",
          "100",
          "100",
          "100",
          "130",
          "130",
          "130",
          "75",
          "75",
          "75",
          "110",
          "110",
          "110",
          "145",
          "145",
          "145",
          "70",
          "95",
          "120",
          "70",
          "95",
          "130",
          "65",
          "90",
          "120",
          "70",
          "105",
          "165",
          "0",
          "0",
          "0",
          "0",
          "0",
          "0",
          "0",
          "0",
          "0",
          "0",
          "0",
          "0",
          "0"
         ]
        }
       ],
       "layout": {
        "legend": {
         "bgcolor": "#F5F6F9",
         "font": {
          "color": "#4D5663"
         }
        },
        "paper_bgcolor": "#F5F6F9",
        "plot_bgcolor": "#F5F6F9",
        "template": {
         "data": {
          "bar": [
           {
            "error_x": {
             "color": "#2a3f5f"
            },
            "error_y": {
             "color": "#2a3f5f"
            },
            "marker": {
             "line": {
              "color": "#E5ECF6",
              "width": 0.5
             },
             "pattern": {
              "fillmode": "overlay",
              "size": 10,
              "solidity": 0.2
             }
            },
            "type": "bar"
           }
          ],
          "barpolar": [
           {
            "marker": {
             "line": {
              "color": "#E5ECF6",
              "width": 0.5
             },
             "pattern": {
              "fillmode": "overlay",
              "size": 10,
              "solidity": 0.2
             }
            },
            "type": "barpolar"
           }
          ],
          "carpet": [
           {
            "aaxis": {
             "endlinecolor": "#2a3f5f",
             "gridcolor": "white",
             "linecolor": "white",
             "minorgridcolor": "white",
             "startlinecolor": "#2a3f5f"
            },
            "baxis": {
             "endlinecolor": "#2a3f5f",
             "gridcolor": "white",
             "linecolor": "white",
             "minorgridcolor": "white",
             "startlinecolor": "#2a3f5f"
            },
            "type": "carpet"
           }
          ],
          "choropleth": [
           {
            "colorbar": {
             "outlinewidth": 0,
             "ticks": ""
            },
            "type": "choropleth"
           }
          ],
          "contour": [
           {
            "colorbar": {
             "outlinewidth": 0,
             "ticks": ""
            },
            "colorscale": [
             [
              0,
              "#0d0887"
             ],
             [
              0.1111111111111111,
              "#46039f"
             ],
             [
              0.2222222222222222,
              "#7201a8"
             ],
             [
              0.3333333333333333,
              "#9c179e"
             ],
             [
              0.4444444444444444,
              "#bd3786"
             ],
             [
              0.5555555555555556,
              "#d8576b"
             ],
             [
              0.6666666666666666,
              "#ed7953"
             ],
             [
              0.7777777777777778,
              "#fb9f3a"
             ],
             [
              0.8888888888888888,
              "#fdca26"
             ],
             [
              1,
              "#f0f921"
             ]
            ],
            "type": "contour"
           }
          ],
          "contourcarpet": [
           {
            "colorbar": {
             "outlinewidth": 0,
             "ticks": ""
            },
            "type": "contourcarpet"
           }
          ],
          "heatmap": [
           {
            "colorbar": {
             "outlinewidth": 0,
             "ticks": ""
            },
            "colorscale": [
             [
              0,
              "#0d0887"
             ],
             [
              0.1111111111111111,
              "#46039f"
             ],
             [
              0.2222222222222222,
              "#7201a8"
             ],
             [
              0.3333333333333333,
              "#9c179e"
             ],
             [
              0.4444444444444444,
              "#bd3786"
             ],
             [
              0.5555555555555556,
              "#d8576b"
             ],
             [
              0.6666666666666666,
              "#ed7953"
             ],
             [
              0.7777777777777778,
              "#fb9f3a"
             ],
             [
              0.8888888888888888,
              "#fdca26"
             ],
             [
              1,
              "#f0f921"
             ]
            ],
            "type": "heatmap"
           }
          ],
          "heatmapgl": [
           {
            "colorbar": {
             "outlinewidth": 0,
             "ticks": ""
            },
            "colorscale": [
             [
              0,
              "#0d0887"
             ],
             [
              0.1111111111111111,
              "#46039f"
             ],
             [
              0.2222222222222222,
              "#7201a8"
             ],
             [
              0.3333333333333333,
              "#9c179e"
             ],
             [
              0.4444444444444444,
              "#bd3786"
             ],
             [
              0.5555555555555556,
              "#d8576b"
             ],
             [
              0.6666666666666666,
              "#ed7953"
             ],
             [
              0.7777777777777778,
              "#fb9f3a"
             ],
             [
              0.8888888888888888,
              "#fdca26"
             ],
             [
              1,
              "#f0f921"
             ]
            ],
            "type": "heatmapgl"
           }
          ],
          "histogram": [
           {
            "marker": {
             "pattern": {
              "fillmode": "overlay",
              "size": 10,
              "solidity": 0.2
             }
            },
            "type": "histogram"
           }
          ],
          "histogram2d": [
           {
            "colorbar": {
             "outlinewidth": 0,
             "ticks": ""
            },
            "colorscale": [
             [
              0,
              "#0d0887"
             ],
             [
              0.1111111111111111,
              "#46039f"
             ],
             [
              0.2222222222222222,
              "#7201a8"
             ],
             [
              0.3333333333333333,
              "#9c179e"
             ],
             [
              0.4444444444444444,
              "#bd3786"
             ],
             [
              0.5555555555555556,
              "#d8576b"
             ],
             [
              0.6666666666666666,
              "#ed7953"
             ],
             [
              0.7777777777777778,
              "#fb9f3a"
             ],
             [
              0.8888888888888888,
              "#fdca26"
             ],
             [
              1,
              "#f0f921"
             ]
            ],
            "type": "histogram2d"
           }
          ],
          "histogram2dcontour": [
           {
            "colorbar": {
             "outlinewidth": 0,
             "ticks": ""
            },
            "colorscale": [
             [
              0,
              "#0d0887"
             ],
             [
              0.1111111111111111,
              "#46039f"
             ],
             [
              0.2222222222222222,
              "#7201a8"
             ],
             [
              0.3333333333333333,
              "#9c179e"
             ],
             [
              0.4444444444444444,
              "#bd3786"
             ],
             [
              0.5555555555555556,
              "#d8576b"
             ],
             [
              0.6666666666666666,
              "#ed7953"
             ],
             [
              0.7777777777777778,
              "#fb9f3a"
             ],
             [
              0.8888888888888888,
              "#fdca26"
             ],
             [
              1,
              "#f0f921"
             ]
            ],
            "type": "histogram2dcontour"
           }
          ],
          "mesh3d": [
           {
            "colorbar": {
             "outlinewidth": 0,
             "ticks": ""
            },
            "type": "mesh3d"
           }
          ],
          "parcoords": [
           {
            "line": {
             "colorbar": {
              "outlinewidth": 0,
              "ticks": ""
             }
            },
            "type": "parcoords"
           }
          ],
          "pie": [
           {
            "automargin": true,
            "type": "pie"
           }
          ],
          "scatter": [
           {
            "fillpattern": {
             "fillmode": "overlay",
             "size": 10,
             "solidity": 0.2
            },
            "type": "scatter"
           }
          ],
          "scatter3d": [
           {
            "line": {
             "colorbar": {
              "outlinewidth": 0,
              "ticks": ""
             }
            },
            "marker": {
             "colorbar": {
              "outlinewidth": 0,
              "ticks": ""
             }
            },
            "type": "scatter3d"
           }
          ],
          "scattercarpet": [
           {
            "marker": {
             "colorbar": {
              "outlinewidth": 0,
              "ticks": ""
             }
            },
            "type": "scattercarpet"
           }
          ],
          "scattergeo": [
           {
            "marker": {
             "colorbar": {
              "outlinewidth": 0,
              "ticks": ""
             }
            },
            "type": "scattergeo"
           }
          ],
          "scattergl": [
           {
            "marker": {
             "colorbar": {
              "outlinewidth": 0,
              "ticks": ""
             }
            },
            "type": "scattergl"
           }
          ],
          "scattermapbox": [
           {
            "marker": {
             "colorbar": {
              "outlinewidth": 0,
              "ticks": ""
             }
            },
            "type": "scattermapbox"
           }
          ],
          "scatterpolar": [
           {
            "marker": {
             "colorbar": {
              "outlinewidth": 0,
              "ticks": ""
             }
            },
            "type": "scatterpolar"
           }
          ],
          "scatterpolargl": [
           {
            "marker": {
             "colorbar": {
              "outlinewidth": 0,
              "ticks": ""
             }
            },
            "type": "scatterpolargl"
           }
          ],
          "scatterternary": [
           {
            "marker": {
             "colorbar": {
              "outlinewidth": 0,
              "ticks": ""
             }
            },
            "type": "scatterternary"
           }
          ],
          "surface": [
           {
            "colorbar": {
             "outlinewidth": 0,
             "ticks": ""
            },
            "colorscale": [
             [
              0,
              "#0d0887"
             ],
             [
              0.1111111111111111,
              "#46039f"
             ],
             [
              0.2222222222222222,
              "#7201a8"
             ],
             [
              0.3333333333333333,
              "#9c179e"
             ],
             [
              0.4444444444444444,
              "#bd3786"
             ],
             [
              0.5555555555555556,
              "#d8576b"
             ],
             [
              0.6666666666666666,
              "#ed7953"
             ],
             [
              0.7777777777777778,
              "#fb9f3a"
             ],
             [
              0.8888888888888888,
              "#fdca26"
             ],
             [
              1,
              "#f0f921"
             ]
            ],
            "type": "surface"
           }
          ],
          "table": [
           {
            "cells": {
             "fill": {
              "color": "#EBF0F8"
             },
             "line": {
              "color": "white"
             }
            },
            "header": {
             "fill": {
              "color": "#C8D4E3"
             },
             "line": {
              "color": "white"
             }
            },
            "type": "table"
           }
          ]
         },
         "layout": {
          "annotationdefaults": {
           "arrowcolor": "#2a3f5f",
           "arrowhead": 0,
           "arrowwidth": 1
          },
          "autotypenumbers": "strict",
          "coloraxis": {
           "colorbar": {
            "outlinewidth": 0,
            "ticks": ""
           }
          },
          "colorscale": {
           "diverging": [
            [
             0,
             "#8e0152"
            ],
            [
             0.1,
             "#c51b7d"
            ],
            [
             0.2,
             "#de77ae"
            ],
            [
             0.3,
             "#f1b6da"
            ],
            [
             0.4,
             "#fde0ef"
            ],
            [
             0.5,
             "#f7f7f7"
            ],
            [
             0.6,
             "#e6f5d0"
            ],
            [
             0.7,
             "#b8e186"
            ],
            [
             0.8,
             "#7fbc41"
            ],
            [
             0.9,
             "#4d9221"
            ],
            [
             1,
             "#276419"
            ]
           ],
           "sequential": [
            [
             0,
             "#0d0887"
            ],
            [
             0.1111111111111111,
             "#46039f"
            ],
            [
             0.2222222222222222,
             "#7201a8"
            ],
            [
             0.3333333333333333,
             "#9c179e"
            ],
            [
             0.4444444444444444,
             "#bd3786"
            ],
            [
             0.5555555555555556,
             "#d8576b"
            ],
            [
             0.6666666666666666,
             "#ed7953"
            ],
            [
             0.7777777777777778,
             "#fb9f3a"
            ],
            [
             0.8888888888888888,
             "#fdca26"
            ],
            [
             1,
             "#f0f921"
            ]
           ],
           "sequentialminus": [
            [
             0,
             "#0d0887"
            ],
            [
             0.1111111111111111,
             "#46039f"
            ],
            [
             0.2222222222222222,
             "#7201a8"
            ],
            [
             0.3333333333333333,
             "#9c179e"
            ],
            [
             0.4444444444444444,
             "#bd3786"
            ],
            [
             0.5555555555555556,
             "#d8576b"
            ],
            [
             0.6666666666666666,
             "#ed7953"
            ],
            [
             0.7777777777777778,
             "#fb9f3a"
            ],
            [
             0.8888888888888888,
             "#fdca26"
            ],
            [
             1,
             "#f0f921"
            ]
           ]
          },
          "colorway": [
           "#636efa",
           "#EF553B",
           "#00cc96",
           "#ab63fa",
           "#FFA15A",
           "#19d3f3",
           "#FF6692",
           "#B6E880",
           "#FF97FF",
           "#FECB52"
          ],
          "font": {
           "color": "#2a3f5f"
          },
          "geo": {
           "bgcolor": "white",
           "lakecolor": "white",
           "landcolor": "#E5ECF6",
           "showlakes": true,
           "showland": true,
           "subunitcolor": "white"
          },
          "hoverlabel": {
           "align": "left"
          },
          "hovermode": "closest",
          "mapbox": {
           "style": "light"
          },
          "paper_bgcolor": "white",
          "plot_bgcolor": "#E5ECF6",
          "polar": {
           "angularaxis": {
            "gridcolor": "white",
            "linecolor": "white",
            "ticks": ""
           },
           "bgcolor": "#E5ECF6",
           "radialaxis": {
            "gridcolor": "white",
            "linecolor": "white",
            "ticks": ""
           }
          },
          "scene": {
           "xaxis": {
            "backgroundcolor": "#E5ECF6",
            "gridcolor": "white",
            "gridwidth": 2,
            "linecolor": "white",
            "showbackground": true,
            "ticks": "",
            "zerolinecolor": "white"
           },
           "yaxis": {
            "backgroundcolor": "#E5ECF6",
            "gridcolor": "white",
            "gridwidth": 2,
            "linecolor": "white",
            "showbackground": true,
            "ticks": "",
            "zerolinecolor": "white"
           },
           "zaxis": {
            "backgroundcolor": "#E5ECF6",
            "gridcolor": "white",
            "gridwidth": 2,
            "linecolor": "white",
            "showbackground": true,
            "ticks": "",
            "zerolinecolor": "white"
           }
          },
          "shapedefaults": {
           "line": {
            "color": "#2a3f5f"
           }
          },
          "ternary": {
           "aaxis": {
            "gridcolor": "white",
            "linecolor": "white",
            "ticks": ""
           },
           "baxis": {
            "gridcolor": "white",
            "linecolor": "white",
            "ticks": ""
           },
           "bgcolor": "#E5ECF6",
           "caxis": {
            "gridcolor": "white",
            "linecolor": "white",
            "ticks": ""
           }
          },
          "title": {
           "x": 0.05
          },
          "xaxis": {
           "automargin": true,
           "gridcolor": "white",
           "linecolor": "white",
           "ticks": "",
           "title": {
            "standoff": 15
           },
           "zerolinecolor": "white",
           "zerolinewidth": 2
          },
          "yaxis": {
           "automargin": true,
           "gridcolor": "white",
           "linecolor": "white",
           "ticks": "",
           "title": {
            "standoff": 15
           },
           "zerolinecolor": "white",
           "zerolinewidth": 2
          }
         }
        },
        "title": {
         "font": {
          "color": "#4D5663"
         }
        },
        "xaxis": {
         "gridcolor": "#E1E5ED",
         "showgrid": true,
         "tickfont": {
          "color": "#4D5663"
         },
         "title": {
          "font": {
           "color": "#4D5663"
          },
          "text": ""
         },
         "zerolinecolor": "#E1E5ED"
        },
        "yaxis": {
         "gridcolor": "#E1E5ED",
         "showgrid": true,
         "tickfont": {
          "color": "#4D5663"
         },
         "title": {
          "font": {
           "color": "#4D5663"
          },
          "text": ""
         },
         "zerolinecolor": "#E1E5ED"
        }
       }
      },
      "text/html": [
       "<div>                            <div id=\"10f0c3a2-2ee8-4882-8a2b-fa1f9637766d\" class=\"plotly-graph-div\" style=\"height:525px; width:100%;\"></div>            <script type=\"text/javascript\">                require([\"plotly\"], function(Plotly) {                    window.PLOTLYENV=window.PLOTLYENV || {};\n",
       "                    window.PLOTLYENV.BASE_URL='https://plot.ly';                                    if (document.getElementById(\"10f0c3a2-2ee8-4882-8a2b-fa1f9637766d\")) {                    Plotly.newPlot(                        \"10f0c3a2-2ee8-4882-8a2b-fa1f9637766d\",                        [{\"line\":{\"color\":\"rgba(255, 153, 51, 1.0)\",\"dash\":\"solid\",\"shape\":\"linear\",\"width\":1.3},\"mode\":\"lines\",\"name\":\"Calories\",\"text\":\"\",\"x\":[0,1,2,3,4,5,6,7,8,9,10,11,12,13,14,15,16,17,18,19,20,21,22,23,24,25,26,27,28,29,30,31,32,33,34,35,36,37,38,39,40,41,42,43,44,45,46,47,48,49,50,51,52,53,54,55,56,57,58,59,60,61,62,63,64,65,66,67,68,69,70,71,72,73,74,75,76,77,78,79,80,81,82,83,84,85,86,87,88,89,90,91,92,93,94,95,96,97,98,99,100,101,102,103,104,105,106,107,108,109,110,111,112,113,114,115,116,117,118,119,120,121,122,123,124,125,126,127,128,129,130,131,132,133,134,135,136,137,138,139,140,141,142,143,144,145,146,147,148,149,150,151,152,153,154,155,156,157,158,159,160,161,162,163,164,165,166,167,168,169,170,171,172,173,174,175,176,177,178,179,180,181,182,183,184,185,186,187,188,189,190,191,192,193,194,195,196,197,198,199,200,201,202,203,204,205,206,207,208,209,210,211,212,213,214,215,216,217,218,219,220,221,222,223,224,225,226,227,228,229,230,231,232,233,234,235,236,237,238,239,240,241],\"y\":[3,4,5,5,70,100,70,100,150,110,130,190,150,170,240,190,110,130,110,170,200,180,220,260,230,280,340,290,100,130,110,150,200,160,200,250,210,250,320,270,5,10,15,25,50,80,50,60,90,70,80,120,100,110,150,120,5,10,60,100,120,160,100,120,100,140,180,150,190,240,200,240,300,250,180,200,180,270,310,280,350,400,370,450,510,460,130,150,130,190,230,200,240,290,250,320,380,330,140,210,280,360,0,0,0,0,100,120,110,160,190,160,210,240,220,260,310,280,130,170,140,210,260,230,290,350,310,370,450,390,80,90,80,120,140,130,150,190,170,190,230,210,80,90,80,120,140,130,150,190,170,190,230,210,60,90,130,80,90,80,110,120,110,160,180,170,60,80,120,100,130,190,280,300,290,260,270,270,290,290,290,160,180,160,220,240,220,310,350,310,180,200,180,260,290,260,340,390,350,180,200,180,280,280,260,330,370,340,220,240,220,310,340,310,420,460,430,90,120,160,110,150,210,100,150,200,150,220,290,170,190,170,230,260,240,310,350,320,170,200,180,240],\"type\":\"scatter\"},{\"line\":{\"color\":\"rgba(55, 128, 191, 1.0)\",\"dash\":\"solid\",\"shape\":\"linear\",\"width\":1.3},\"mode\":\"lines\",\"name\":\"Caffeine (mg)\",\"text\":\"\",\"x\":[0,1,2,3,4,5,6,7,8,9,10,11,12,13,14,15,16,17,18,19,20,21,22,23,24,25,26,27,28,29,30,31,32,33,34,35,36,37,38,39,40,41,42,43,44,45,46,47,48,49,50,51,52,53,54,55,56,57,58,59,60,61,62,63,64,65,66,67,68,69,70,71,72,73,74,75,76,77,78,79,80,81,82,83,84,85,86,87,88,89,90,91,92,93,94,95,96,97,98,99,100,101,102,103,104,105,106,107,108,109,110,111,112,113,114,115,116,117,118,119,120,121,122,123,124,125,126,127,128,129,130,131,132,133,134,135,136,137,138,139,140,141,142,143,144,145,146,147,148,149,150,151,152,153,154,155,156,157,158,159,160,161,162,163,164,165,166,167,168,169,170,171,172,173,174,175,176,177,178,179,180,181,182,183,184,185,186,187,188,189,190,191,192,193,194,195,196,197,198,199,200,201,202,203,204,205,206,207,208,209,210,211,212,213,214,215,216,217,218,219,220,221,222,223,224,225,226,227,228,229,230,231,232,233,234,235,236,237,238,239,240,241],\"y\":[\"175\",\"260\",\"330\",\"410\",\"75\",\"75\",\"75\",\"75\",\"75\",\"75\",\"150\",\"150\",\"150\",\"150\",\"150\",\"150\",\"85\",\"85\",\"85\",\"95\",\"95\",\"95\",\"175\",\"175\",\"175\",\"180\",\"180\",\"180\",\"75\",\"75\",\"75\",\"75\",\"75\",\"75\",\"150\",\"150\",\"150\",\"150\",\"150\",\"150\",\"75\",\"150\",\"225\",\"300\",\"75\",\"75\",\"75\",\"75\",\"75\",\"75\",\"150\",\"150\",\"150\",\"150\",\"150\",\"150\",\"75\",\"150\",\"75\",\"75\",\"150\",\"150\",\"75\",\"75\",\"75\",\"75\",\"75\",\"75\",\"150\",\"150\",\"150\",\"150\",\"150\",\"150\",\"75\",\"75\",\"75\",\"75\",\"75\",\"75\",\"150\",\"150\",\"150\",\"150\",\"150\",\"150\",\"10\",\"10\",\"10\",\"20\",\"20\",\"20\",\"25\",\"25\",\"25\",\"30\",\"30\",\"30\",\"0\",\"0\",\"0\",\"0\",\"Varies\",\"Varies\",\"Varies\",\"Varies\",\"50\",\"50\",\"50\",\"70\",\"70\",\"70\",\"95\",\"95\",\"95\",\"120\",\"120\",\"120\",\"25\",\"25\",\"25\",\"55\",\"55\",\"55\",\"80\",\"80\",\"80\",\"110\",\"110\",\"110\",\"varies\",\"varies\",\"varies\",\"varies\",\"varies\",\"varies\",\"varies\",\"varies\",\"varies\",\"varies\",\"varies\",\"varies\",\"0\",\"0\",\"0\",\"0\",\"0\",\"0\",\"0\",\"0\",\"0\",\"0\",\"0\",\"0\",\"120\",\"165\",\"235\",\"90\",\"\",\"90\",\"90\",\"125\",\"125\",\"125\",\"170\",\"170\",\"170\",\"Varies\",\"Varies\",\"Varies\",\"Varies\",\"Varies\",\"Varies\",\"15\",\"15\",\"15\",\"0\",\"0\",\"0\",\"0\",\"0\",\"0\",\"70\",\"70\",\"70\",\"95\",\"95\",\"95\",\"130\",\"130\",\"130\",\"70\",\"70\",\"110\",\"110\",\"110\",\"140\",\"140\",\"140\",\"70\",\"70\",\"70\",\"100\",\"100\",\"100\",\"130\",\"130\",\"130\",\"75\",\"75\",\"75\",\"110\",\"110\",\"110\",\"145\",\"145\",\"145\",\"70\",\"95\",\"120\",\"70\",\"95\",\"130\",\"65\",\"90\",\"120\",\"70\",\"105\",\"165\",\"0\",\"0\",\"0\",\"0\",\"0\",\"0\",\"0\",\"0\",\"0\",\"0\",\"0\",\"0\",\"0\"],\"type\":\"scatter\"}],                        {\"legend\":{\"bgcolor\":\"#F5F6F9\",\"font\":{\"color\":\"#4D5663\"}},\"paper_bgcolor\":\"#F5F6F9\",\"plot_bgcolor\":\"#F5F6F9\",\"template\":{\"data\":{\"barpolar\":[{\"marker\":{\"line\":{\"color\":\"#E5ECF6\",\"width\":0.5},\"pattern\":{\"fillmode\":\"overlay\",\"size\":10,\"solidity\":0.2}},\"type\":\"barpolar\"}],\"bar\":[{\"error_x\":{\"color\":\"#2a3f5f\"},\"error_y\":{\"color\":\"#2a3f5f\"},\"marker\":{\"line\":{\"color\":\"#E5ECF6\",\"width\":0.5},\"pattern\":{\"fillmode\":\"overlay\",\"size\":10,\"solidity\":0.2}},\"type\":\"bar\"}],\"carpet\":[{\"aaxis\":{\"endlinecolor\":\"#2a3f5f\",\"gridcolor\":\"white\",\"linecolor\":\"white\",\"minorgridcolor\":\"white\",\"startlinecolor\":\"#2a3f5f\"},\"baxis\":{\"endlinecolor\":\"#2a3f5f\",\"gridcolor\":\"white\",\"linecolor\":\"white\",\"minorgridcolor\":\"white\",\"startlinecolor\":\"#2a3f5f\"},\"type\":\"carpet\"}],\"choropleth\":[{\"colorbar\":{\"outlinewidth\":0,\"ticks\":\"\"},\"type\":\"choropleth\"}],\"contourcarpet\":[{\"colorbar\":{\"outlinewidth\":0,\"ticks\":\"\"},\"type\":\"contourcarpet\"}],\"contour\":[{\"colorbar\":{\"outlinewidth\":0,\"ticks\":\"\"},\"colorscale\":[[0.0,\"#0d0887\"],[0.1111111111111111,\"#46039f\"],[0.2222222222222222,\"#7201a8\"],[0.3333333333333333,\"#9c179e\"],[0.4444444444444444,\"#bd3786\"],[0.5555555555555556,\"#d8576b\"],[0.6666666666666666,\"#ed7953\"],[0.7777777777777778,\"#fb9f3a\"],[0.8888888888888888,\"#fdca26\"],[1.0,\"#f0f921\"]],\"type\":\"contour\"}],\"heatmapgl\":[{\"colorbar\":{\"outlinewidth\":0,\"ticks\":\"\"},\"colorscale\":[[0.0,\"#0d0887\"],[0.1111111111111111,\"#46039f\"],[0.2222222222222222,\"#7201a8\"],[0.3333333333333333,\"#9c179e\"],[0.4444444444444444,\"#bd3786\"],[0.5555555555555556,\"#d8576b\"],[0.6666666666666666,\"#ed7953\"],[0.7777777777777778,\"#fb9f3a\"],[0.8888888888888888,\"#fdca26\"],[1.0,\"#f0f921\"]],\"type\":\"heatmapgl\"}],\"heatmap\":[{\"colorbar\":{\"outlinewidth\":0,\"ticks\":\"\"},\"colorscale\":[[0.0,\"#0d0887\"],[0.1111111111111111,\"#46039f\"],[0.2222222222222222,\"#7201a8\"],[0.3333333333333333,\"#9c179e\"],[0.4444444444444444,\"#bd3786\"],[0.5555555555555556,\"#d8576b\"],[0.6666666666666666,\"#ed7953\"],[0.7777777777777778,\"#fb9f3a\"],[0.8888888888888888,\"#fdca26\"],[1.0,\"#f0f921\"]],\"type\":\"heatmap\"}],\"histogram2dcontour\":[{\"colorbar\":{\"outlinewidth\":0,\"ticks\":\"\"},\"colorscale\":[[0.0,\"#0d0887\"],[0.1111111111111111,\"#46039f\"],[0.2222222222222222,\"#7201a8\"],[0.3333333333333333,\"#9c179e\"],[0.4444444444444444,\"#bd3786\"],[0.5555555555555556,\"#d8576b\"],[0.6666666666666666,\"#ed7953\"],[0.7777777777777778,\"#fb9f3a\"],[0.8888888888888888,\"#fdca26\"],[1.0,\"#f0f921\"]],\"type\":\"histogram2dcontour\"}],\"histogram2d\":[{\"colorbar\":{\"outlinewidth\":0,\"ticks\":\"\"},\"colorscale\":[[0.0,\"#0d0887\"],[0.1111111111111111,\"#46039f\"],[0.2222222222222222,\"#7201a8\"],[0.3333333333333333,\"#9c179e\"],[0.4444444444444444,\"#bd3786\"],[0.5555555555555556,\"#d8576b\"],[0.6666666666666666,\"#ed7953\"],[0.7777777777777778,\"#fb9f3a\"],[0.8888888888888888,\"#fdca26\"],[1.0,\"#f0f921\"]],\"type\":\"histogram2d\"}],\"histogram\":[{\"marker\":{\"pattern\":{\"fillmode\":\"overlay\",\"size\":10,\"solidity\":0.2}},\"type\":\"histogram\"}],\"mesh3d\":[{\"colorbar\":{\"outlinewidth\":0,\"ticks\":\"\"},\"type\":\"mesh3d\"}],\"parcoords\":[{\"line\":{\"colorbar\":{\"outlinewidth\":0,\"ticks\":\"\"}},\"type\":\"parcoords\"}],\"pie\":[{\"automargin\":true,\"type\":\"pie\"}],\"scatter3d\":[{\"line\":{\"colorbar\":{\"outlinewidth\":0,\"ticks\":\"\"}},\"marker\":{\"colorbar\":{\"outlinewidth\":0,\"ticks\":\"\"}},\"type\":\"scatter3d\"}],\"scattercarpet\":[{\"marker\":{\"colorbar\":{\"outlinewidth\":0,\"ticks\":\"\"}},\"type\":\"scattercarpet\"}],\"scattergeo\":[{\"marker\":{\"colorbar\":{\"outlinewidth\":0,\"ticks\":\"\"}},\"type\":\"scattergeo\"}],\"scattergl\":[{\"marker\":{\"colorbar\":{\"outlinewidth\":0,\"ticks\":\"\"}},\"type\":\"scattergl\"}],\"scattermapbox\":[{\"marker\":{\"colorbar\":{\"outlinewidth\":0,\"ticks\":\"\"}},\"type\":\"scattermapbox\"}],\"scatterpolargl\":[{\"marker\":{\"colorbar\":{\"outlinewidth\":0,\"ticks\":\"\"}},\"type\":\"scatterpolargl\"}],\"scatterpolar\":[{\"marker\":{\"colorbar\":{\"outlinewidth\":0,\"ticks\":\"\"}},\"type\":\"scatterpolar\"}],\"scatter\":[{\"fillpattern\":{\"fillmode\":\"overlay\",\"size\":10,\"solidity\":0.2},\"type\":\"scatter\"}],\"scatterternary\":[{\"marker\":{\"colorbar\":{\"outlinewidth\":0,\"ticks\":\"\"}},\"type\":\"scatterternary\"}],\"surface\":[{\"colorbar\":{\"outlinewidth\":0,\"ticks\":\"\"},\"colorscale\":[[0.0,\"#0d0887\"],[0.1111111111111111,\"#46039f\"],[0.2222222222222222,\"#7201a8\"],[0.3333333333333333,\"#9c179e\"],[0.4444444444444444,\"#bd3786\"],[0.5555555555555556,\"#d8576b\"],[0.6666666666666666,\"#ed7953\"],[0.7777777777777778,\"#fb9f3a\"],[0.8888888888888888,\"#fdca26\"],[1.0,\"#f0f921\"]],\"type\":\"surface\"}],\"table\":[{\"cells\":{\"fill\":{\"color\":\"#EBF0F8\"},\"line\":{\"color\":\"white\"}},\"header\":{\"fill\":{\"color\":\"#C8D4E3\"},\"line\":{\"color\":\"white\"}},\"type\":\"table\"}]},\"layout\":{\"annotationdefaults\":{\"arrowcolor\":\"#2a3f5f\",\"arrowhead\":0,\"arrowwidth\":1},\"autotypenumbers\":\"strict\",\"coloraxis\":{\"colorbar\":{\"outlinewidth\":0,\"ticks\":\"\"}},\"colorscale\":{\"diverging\":[[0,\"#8e0152\"],[0.1,\"#c51b7d\"],[0.2,\"#de77ae\"],[0.3,\"#f1b6da\"],[0.4,\"#fde0ef\"],[0.5,\"#f7f7f7\"],[0.6,\"#e6f5d0\"],[0.7,\"#b8e186\"],[0.8,\"#7fbc41\"],[0.9,\"#4d9221\"],[1,\"#276419\"]],\"sequential\":[[0.0,\"#0d0887\"],[0.1111111111111111,\"#46039f\"],[0.2222222222222222,\"#7201a8\"],[0.3333333333333333,\"#9c179e\"],[0.4444444444444444,\"#bd3786\"],[0.5555555555555556,\"#d8576b\"],[0.6666666666666666,\"#ed7953\"],[0.7777777777777778,\"#fb9f3a\"],[0.8888888888888888,\"#fdca26\"],[1.0,\"#f0f921\"]],\"sequentialminus\":[[0.0,\"#0d0887\"],[0.1111111111111111,\"#46039f\"],[0.2222222222222222,\"#7201a8\"],[0.3333333333333333,\"#9c179e\"],[0.4444444444444444,\"#bd3786\"],[0.5555555555555556,\"#d8576b\"],[0.6666666666666666,\"#ed7953\"],[0.7777777777777778,\"#fb9f3a\"],[0.8888888888888888,\"#fdca26\"],[1.0,\"#f0f921\"]]},\"colorway\":[\"#636efa\",\"#EF553B\",\"#00cc96\",\"#ab63fa\",\"#FFA15A\",\"#19d3f3\",\"#FF6692\",\"#B6E880\",\"#FF97FF\",\"#FECB52\"],\"font\":{\"color\":\"#2a3f5f\"},\"geo\":{\"bgcolor\":\"white\",\"lakecolor\":\"white\",\"landcolor\":\"#E5ECF6\",\"showlakes\":true,\"showland\":true,\"subunitcolor\":\"white\"},\"hoverlabel\":{\"align\":\"left\"},\"hovermode\":\"closest\",\"mapbox\":{\"style\":\"light\"},\"paper_bgcolor\":\"white\",\"plot_bgcolor\":\"#E5ECF6\",\"polar\":{\"angularaxis\":{\"gridcolor\":\"white\",\"linecolor\":\"white\",\"ticks\":\"\"},\"bgcolor\":\"#E5ECF6\",\"radialaxis\":{\"gridcolor\":\"white\",\"linecolor\":\"white\",\"ticks\":\"\"}},\"scene\":{\"xaxis\":{\"backgroundcolor\":\"#E5ECF6\",\"gridcolor\":\"white\",\"gridwidth\":2,\"linecolor\":\"white\",\"showbackground\":true,\"ticks\":\"\",\"zerolinecolor\":\"white\"},\"yaxis\":{\"backgroundcolor\":\"#E5ECF6\",\"gridcolor\":\"white\",\"gridwidth\":2,\"linecolor\":\"white\",\"showbackground\":true,\"ticks\":\"\",\"zerolinecolor\":\"white\"},\"zaxis\":{\"backgroundcolor\":\"#E5ECF6\",\"gridcolor\":\"white\",\"gridwidth\":2,\"linecolor\":\"white\",\"showbackground\":true,\"ticks\":\"\",\"zerolinecolor\":\"white\"}},\"shapedefaults\":{\"line\":{\"color\":\"#2a3f5f\"}},\"ternary\":{\"aaxis\":{\"gridcolor\":\"white\",\"linecolor\":\"white\",\"ticks\":\"\"},\"baxis\":{\"gridcolor\":\"white\",\"linecolor\":\"white\",\"ticks\":\"\"},\"bgcolor\":\"#E5ECF6\",\"caxis\":{\"gridcolor\":\"white\",\"linecolor\":\"white\",\"ticks\":\"\"}},\"title\":{\"x\":0.05},\"xaxis\":{\"automargin\":true,\"gridcolor\":\"white\",\"linecolor\":\"white\",\"ticks\":\"\",\"title\":{\"standoff\":15},\"zerolinecolor\":\"white\",\"zerolinewidth\":2},\"yaxis\":{\"automargin\":true,\"gridcolor\":\"white\",\"linecolor\":\"white\",\"ticks\":\"\",\"title\":{\"standoff\":15},\"zerolinecolor\":\"white\",\"zerolinewidth\":2}}},\"title\":{\"font\":{\"color\":\"#4D5663\"}},\"xaxis\":{\"gridcolor\":\"#E1E5ED\",\"showgrid\":true,\"tickfont\":{\"color\":\"#4D5663\"},\"title\":{\"font\":{\"color\":\"#4D5663\"},\"text\":\"\"},\"zerolinecolor\":\"#E1E5ED\"},\"yaxis\":{\"gridcolor\":\"#E1E5ED\",\"showgrid\":true,\"tickfont\":{\"color\":\"#4D5663\"},\"title\":{\"font\":{\"color\":\"#4D5663\"},\"text\":\"\"},\"zerolinecolor\":\"#E1E5ED\"}},                        {\"showLink\": true, \"linkText\": \"Export to plot.ly\", \"plotlyServerURL\": \"https://plot.ly\", \"responsive\": true}                    ).then(function(){\n",
       "                            \n",
       "var gd = document.getElementById('10f0c3a2-2ee8-4882-8a2b-fa1f9637766d');\n",
       "var x = new MutationObserver(function (mutations, observer) {{\n",
       "        var display = window.getComputedStyle(gd).display;\n",
       "        if (!display || display === 'none') {{\n",
       "            console.log([gd, 'removed!']);\n",
       "            Plotly.purge(gd);\n",
       "            observer.disconnect();\n",
       "        }}\n",
       "}});\n",
       "\n",
       "// Listen for the removal of the full notebook cells\n",
       "var notebookContainer = gd.closest('#notebook-container');\n",
       "if (notebookContainer) {{\n",
       "    x.observe(notebookContainer, {childList: true});\n",
       "}}\n",
       "\n",
       "// Listen for the clearing of the current output cell\n",
       "var outputEl = gd.closest('.output');\n",
       "if (outputEl) {{\n",
       "    x.observe(outputEl, {childList: true});\n",
       "}}\n",
       "\n",
       "                        })                };                });            </script>        </div>"
      ]
     },
     "metadata": {},
     "output_type": "display_data"
    }
   ],
   "source": [
    "df[['Calories', 'Caffeine (mg)']].iplot()"
   ]
  },
  {
   "cell_type": "markdown",
   "metadata": {},
   "source": [
    "# Histrogram"
   ]
  },
  {
   "cell_type": "code",
   "execution_count": 23,
   "metadata": {},
   "outputs": [
    {
     "data": {
      "application/vnd.plotly.v1+json": {
       "config": {
        "linkText": "Export to plot.ly",
        "plotlyServerURL": "https://plot.ly",
        "showLink": true
       },
       "data": [
        {
         "histfunc": "count",
         "histnorm": "",
         "marker": {
          "color": "rgba(255, 153, 51, 1.0)",
          "line": {
           "color": "#4D5663",
           "width": 1.3
          }
         },
         "name": "Beverage_prep",
         "nbinsx": 25,
         "opacity": 0.8,
         "orientation": "v",
         "type": "histogram",
         "x": [
          "Short",
          "Tall",
          "Grande",
          "Venti",
          "Short Nonfat Milk",
          "2% Milk",
          "Soymilk",
          "Tall Nonfat Milk",
          "2% Milk",
          "Soymilk",
          "Grande Nonfat Milk",
          "2% Milk",
          "Soymilk",
          "Venti Nonfat Milk",
          "2% Milk",
          "Soymilk",
          "Short Nonfat Milk",
          "2% Milk",
          "Soymilk",
          "Tall Nonfat Milk",
          "2% Milk",
          "Soymilk",
          "Grande Nonfat Milk",
          "2% Milk",
          "Soymilk",
          "Venti Nonfat Milk",
          "2% Milk",
          "Soymilk",
          "Short Nonfat Milk",
          "2% Milk",
          "Soymilk",
          "Tall Nonfat Milk",
          "2% Milk",
          "Soymilk",
          "Grande Nonfat Milk",
          "2% Milk",
          "Soymilk",
          "Venti Nonfat Milk",
          "2% Milk",
          "Soymilk",
          "Short",
          "Tall",
          "Grande",
          "Venti",
          "Short Nonfat Milk",
          "2% Milk",
          "Soymilk",
          "Tall Nonfat Milk",
          "2% Milk",
          "Soymilk",
          "Grande Nonfat Milk",
          "2% Milk",
          "Soymilk",
          "Venti Nonfat Milk",
          "2% Milk",
          "Soymilk",
          "Solo",
          "Doppio",
          "Short Nonfat Milk",
          "Tall Nonfat Milk",
          "Grande Nonfat Milk",
          "Venti Nonfat Milk",
          "Short Nonfat Milk",
          "2% Milk",
          "Soymilk",
          "Tall Nonfat Milk",
          "2% Milk",
          "Soymilk",
          "Grande Nonfat Milk",
          "2% Milk",
          "Soymilk",
          "Venti Nonfat Milk",
          "2% Milk",
          "Soymilk",
          "Short Nonfat Milk",
          "2% Milk",
          "Soymilk",
          "Tall Nonfat Milk",
          "2% Milk",
          "Soymilk",
          "Grande Nonfat Milk",
          "2% Milk",
          "Soymilk",
          "Venti Nonfat Milk",
          "2% Milk",
          "Soymilk",
          "Short Nonfat Milk",
          "2% Milk",
          "Soymilk",
          "Tall Nonfat Milk",
          "2% Milk",
          "Soymilk",
          "Grande Nonfat Milk",
          "2% Milk",
          "Soymilk",
          "Venti Nonfat Milk",
          "2% Milk",
          "Soymilk",
          "Short",
          "Tall",
          "Grande",
          "Venti",
          "Short",
          "Tall",
          "Grande",
          "Venti",
          "Short Nonfat Milk",
          "2% Milk",
          "Soymilk",
          "Tall Nonfat Milk",
          "2% Milk",
          "Soymilk",
          "Grande Nonfat Milk",
          "2% Milk",
          "Soymilk",
          "Venti Nonfat Milk",
          "2% Milk",
          "Soymilk",
          "Short Nonfat Milk",
          "2% Milk",
          "Soymilk",
          "Tall Nonfat Milk",
          "2% Milk",
          "Soymilk",
          "Grande Nonfat Milk",
          "2% Milk",
          "Soymilk",
          "Venti Nonfat Milk",
          "2% Milk",
          "Soymilk",
          "Short Nonfat Milk",
          "2% Milk",
          "Soymilk",
          "Tall Nonfat Milk",
          "2% Milk",
          "Soymilk",
          "Grande Nonfat Milk",
          "2% Milk",
          "Soymilk",
          "Venti Nonfat Milk",
          "2% Milk",
          "Soymilk",
          "Short Nonfat Milk",
          "2% Milk",
          "Soymilk",
          "Tall Nonfat Milk",
          "2% Milk",
          "Soymilk",
          "Grande Nonfat Milk",
          "2% Milk",
          "Soymilk",
          "Venti Nonfat Milk",
          "2% Milk",
          "Soymilk",
          "Tall",
          "Grande",
          "Venti",
          "Tall Nonfat Milk",
          "2% Milk",
          "Soymilk",
          "Grande Nonfat Milk",
          "2% Milk",
          "Soymilk",
          "Venti Nonfat Milk",
          "2% Milk",
          "Soymilk",
          "Tall",
          "Grande",
          "Venti",
          "Tall",
          "Grande",
          "Venti",
          "Grande Nonfat Milk",
          "2% Milk",
          "Soymilk",
          "Grande Nonfat Milk",
          "2% Milk",
          "Soymilk",
          "Grande Nonfat Milk",
          "2% Milk",
          "Soymilk",
          "Tall Nonfat Milk",
          "Whole Milk",
          "Soymilk",
          "Grande Nonfat Milk",
          "Whole Milk",
          "Soymilk",
          "Venti Nonfat Milk",
          "Whole Milk",
          "Soymilk",
          "Tall Nonfat Milk",
          "Whole Milk",
          "Soymilk",
          "Grande Nonfat Milk",
          "Whole Milk",
          "Soymilk",
          "Venti Nonfat Milk",
          "Whole Milk",
          "Soymilk",
          "Tall Nonfat Milk",
          "Whole Milk",
          "Soymilk",
          "Grande Nonfat Milk",
          "Whole Milk",
          "Soymilk",
          "Venti Nonfat Milk",
          "Whole Milk",
          "Soymilk",
          "Tall Nonfat Milk",
          "Whole Milk",
          "Soymilk",
          "Grande Nonfat Milk",
          "Whole Milk",
          "Soymilk",
          "Venti Nonfat Milk",
          "Whole Milk",
          "Soymilk",
          "Tall Nonfat Milk",
          "Grande Nonfat Milk",
          "Venti Nonfat Milk",
          "Tall Nonfat Milk",
          "Grande Nonfat Milk",
          "Venti Nonfat Milk",
          "Tall Nonfat Milk",
          "Grande Nonfat Milk",
          "Venti Nonfat Milk",
          "Tall Nonfat Milk",
          "Grande Nonfat Milk",
          "Venti Nonfat Milk",
          "Tall Nonfat Milk",
          "Whole Milk",
          "Soymilk",
          "Grande Nonfat Milk",
          "Whole Milk",
          "Soymilk",
          "Venti Nonfat Milk",
          "Whole Milk",
          "Soymilk",
          "Tall Nonfat Milk",
          "Whole Milk",
          "Soymilk",
          "Grande Nonfat Milk"
         ]
        }
       ],
       "layout": {
        "barmode": "overlay",
        "legend": {
         "bgcolor": "#F5F6F9",
         "font": {
          "color": "#4D5663"
         }
        },
        "paper_bgcolor": "#F5F6F9",
        "plot_bgcolor": "#F5F6F9",
        "template": {
         "data": {
          "bar": [
           {
            "error_x": {
             "color": "#2a3f5f"
            },
            "error_y": {
             "color": "#2a3f5f"
            },
            "marker": {
             "line": {
              "color": "#E5ECF6",
              "width": 0.5
             },
             "pattern": {
              "fillmode": "overlay",
              "size": 10,
              "solidity": 0.2
             }
            },
            "type": "bar"
           }
          ],
          "barpolar": [
           {
            "marker": {
             "line": {
              "color": "#E5ECF6",
              "width": 0.5
             },
             "pattern": {
              "fillmode": "overlay",
              "size": 10,
              "solidity": 0.2
             }
            },
            "type": "barpolar"
           }
          ],
          "carpet": [
           {
            "aaxis": {
             "endlinecolor": "#2a3f5f",
             "gridcolor": "white",
             "linecolor": "white",
             "minorgridcolor": "white",
             "startlinecolor": "#2a3f5f"
            },
            "baxis": {
             "endlinecolor": "#2a3f5f",
             "gridcolor": "white",
             "linecolor": "white",
             "minorgridcolor": "white",
             "startlinecolor": "#2a3f5f"
            },
            "type": "carpet"
           }
          ],
          "choropleth": [
           {
            "colorbar": {
             "outlinewidth": 0,
             "ticks": ""
            },
            "type": "choropleth"
           }
          ],
          "contour": [
           {
            "colorbar": {
             "outlinewidth": 0,
             "ticks": ""
            },
            "colorscale": [
             [
              0,
              "#0d0887"
             ],
             [
              0.1111111111111111,
              "#46039f"
             ],
             [
              0.2222222222222222,
              "#7201a8"
             ],
             [
              0.3333333333333333,
              "#9c179e"
             ],
             [
              0.4444444444444444,
              "#bd3786"
             ],
             [
              0.5555555555555556,
              "#d8576b"
             ],
             [
              0.6666666666666666,
              "#ed7953"
             ],
             [
              0.7777777777777778,
              "#fb9f3a"
             ],
             [
              0.8888888888888888,
              "#fdca26"
             ],
             [
              1,
              "#f0f921"
             ]
            ],
            "type": "contour"
           }
          ],
          "contourcarpet": [
           {
            "colorbar": {
             "outlinewidth": 0,
             "ticks": ""
            },
            "type": "contourcarpet"
           }
          ],
          "heatmap": [
           {
            "colorbar": {
             "outlinewidth": 0,
             "ticks": ""
            },
            "colorscale": [
             [
              0,
              "#0d0887"
             ],
             [
              0.1111111111111111,
              "#46039f"
             ],
             [
              0.2222222222222222,
              "#7201a8"
             ],
             [
              0.3333333333333333,
              "#9c179e"
             ],
             [
              0.4444444444444444,
              "#bd3786"
             ],
             [
              0.5555555555555556,
              "#d8576b"
             ],
             [
              0.6666666666666666,
              "#ed7953"
             ],
             [
              0.7777777777777778,
              "#fb9f3a"
             ],
             [
              0.8888888888888888,
              "#fdca26"
             ],
             [
              1,
              "#f0f921"
             ]
            ],
            "type": "heatmap"
           }
          ],
          "heatmapgl": [
           {
            "colorbar": {
             "outlinewidth": 0,
             "ticks": ""
            },
            "colorscale": [
             [
              0,
              "#0d0887"
             ],
             [
              0.1111111111111111,
              "#46039f"
             ],
             [
              0.2222222222222222,
              "#7201a8"
             ],
             [
              0.3333333333333333,
              "#9c179e"
             ],
             [
              0.4444444444444444,
              "#bd3786"
             ],
             [
              0.5555555555555556,
              "#d8576b"
             ],
             [
              0.6666666666666666,
              "#ed7953"
             ],
             [
              0.7777777777777778,
              "#fb9f3a"
             ],
             [
              0.8888888888888888,
              "#fdca26"
             ],
             [
              1,
              "#f0f921"
             ]
            ],
            "type": "heatmapgl"
           }
          ],
          "histogram": [
           {
            "marker": {
             "pattern": {
              "fillmode": "overlay",
              "size": 10,
              "solidity": 0.2
             }
            },
            "type": "histogram"
           }
          ],
          "histogram2d": [
           {
            "colorbar": {
             "outlinewidth": 0,
             "ticks": ""
            },
            "colorscale": [
             [
              0,
              "#0d0887"
             ],
             [
              0.1111111111111111,
              "#46039f"
             ],
             [
              0.2222222222222222,
              "#7201a8"
             ],
             [
              0.3333333333333333,
              "#9c179e"
             ],
             [
              0.4444444444444444,
              "#bd3786"
             ],
             [
              0.5555555555555556,
              "#d8576b"
             ],
             [
              0.6666666666666666,
              "#ed7953"
             ],
             [
              0.7777777777777778,
              "#fb9f3a"
             ],
             [
              0.8888888888888888,
              "#fdca26"
             ],
             [
              1,
              "#f0f921"
             ]
            ],
            "type": "histogram2d"
           }
          ],
          "histogram2dcontour": [
           {
            "colorbar": {
             "outlinewidth": 0,
             "ticks": ""
            },
            "colorscale": [
             [
              0,
              "#0d0887"
             ],
             [
              0.1111111111111111,
              "#46039f"
             ],
             [
              0.2222222222222222,
              "#7201a8"
             ],
             [
              0.3333333333333333,
              "#9c179e"
             ],
             [
              0.4444444444444444,
              "#bd3786"
             ],
             [
              0.5555555555555556,
              "#d8576b"
             ],
             [
              0.6666666666666666,
              "#ed7953"
             ],
             [
              0.7777777777777778,
              "#fb9f3a"
             ],
             [
              0.8888888888888888,
              "#fdca26"
             ],
             [
              1,
              "#f0f921"
             ]
            ],
            "type": "histogram2dcontour"
           }
          ],
          "mesh3d": [
           {
            "colorbar": {
             "outlinewidth": 0,
             "ticks": ""
            },
            "type": "mesh3d"
           }
          ],
          "parcoords": [
           {
            "line": {
             "colorbar": {
              "outlinewidth": 0,
              "ticks": ""
             }
            },
            "type": "parcoords"
           }
          ],
          "pie": [
           {
            "automargin": true,
            "type": "pie"
           }
          ],
          "scatter": [
           {
            "fillpattern": {
             "fillmode": "overlay",
             "size": 10,
             "solidity": 0.2
            },
            "type": "scatter"
           }
          ],
          "scatter3d": [
           {
            "line": {
             "colorbar": {
              "outlinewidth": 0,
              "ticks": ""
             }
            },
            "marker": {
             "colorbar": {
              "outlinewidth": 0,
              "ticks": ""
             }
            },
            "type": "scatter3d"
           }
          ],
          "scattercarpet": [
           {
            "marker": {
             "colorbar": {
              "outlinewidth": 0,
              "ticks": ""
             }
            },
            "type": "scattercarpet"
           }
          ],
          "scattergeo": [
           {
            "marker": {
             "colorbar": {
              "outlinewidth": 0,
              "ticks": ""
             }
            },
            "type": "scattergeo"
           }
          ],
          "scattergl": [
           {
            "marker": {
             "colorbar": {
              "outlinewidth": 0,
              "ticks": ""
             }
            },
            "type": "scattergl"
           }
          ],
          "scattermapbox": [
           {
            "marker": {
             "colorbar": {
              "outlinewidth": 0,
              "ticks": ""
             }
            },
            "type": "scattermapbox"
           }
          ],
          "scatterpolar": [
           {
            "marker": {
             "colorbar": {
              "outlinewidth": 0,
              "ticks": ""
             }
            },
            "type": "scatterpolar"
           }
          ],
          "scatterpolargl": [
           {
            "marker": {
             "colorbar": {
              "outlinewidth": 0,
              "ticks": ""
             }
            },
            "type": "scatterpolargl"
           }
          ],
          "scatterternary": [
           {
            "marker": {
             "colorbar": {
              "outlinewidth": 0,
              "ticks": ""
             }
            },
            "type": "scatterternary"
           }
          ],
          "surface": [
           {
            "colorbar": {
             "outlinewidth": 0,
             "ticks": ""
            },
            "colorscale": [
             [
              0,
              "#0d0887"
             ],
             [
              0.1111111111111111,
              "#46039f"
             ],
             [
              0.2222222222222222,
              "#7201a8"
             ],
             [
              0.3333333333333333,
              "#9c179e"
             ],
             [
              0.4444444444444444,
              "#bd3786"
             ],
             [
              0.5555555555555556,
              "#d8576b"
             ],
             [
              0.6666666666666666,
              "#ed7953"
             ],
             [
              0.7777777777777778,
              "#fb9f3a"
             ],
             [
              0.8888888888888888,
              "#fdca26"
             ],
             [
              1,
              "#f0f921"
             ]
            ],
            "type": "surface"
           }
          ],
          "table": [
           {
            "cells": {
             "fill": {
              "color": "#EBF0F8"
             },
             "line": {
              "color": "white"
             }
            },
            "header": {
             "fill": {
              "color": "#C8D4E3"
             },
             "line": {
              "color": "white"
             }
            },
            "type": "table"
           }
          ]
         },
         "layout": {
          "annotationdefaults": {
           "arrowcolor": "#2a3f5f",
           "arrowhead": 0,
           "arrowwidth": 1
          },
          "autotypenumbers": "strict",
          "coloraxis": {
           "colorbar": {
            "outlinewidth": 0,
            "ticks": ""
           }
          },
          "colorscale": {
           "diverging": [
            [
             0,
             "#8e0152"
            ],
            [
             0.1,
             "#c51b7d"
            ],
            [
             0.2,
             "#de77ae"
            ],
            [
             0.3,
             "#f1b6da"
            ],
            [
             0.4,
             "#fde0ef"
            ],
            [
             0.5,
             "#f7f7f7"
            ],
            [
             0.6,
             "#e6f5d0"
            ],
            [
             0.7,
             "#b8e186"
            ],
            [
             0.8,
             "#7fbc41"
            ],
            [
             0.9,
             "#4d9221"
            ],
            [
             1,
             "#276419"
            ]
           ],
           "sequential": [
            [
             0,
             "#0d0887"
            ],
            [
             0.1111111111111111,
             "#46039f"
            ],
            [
             0.2222222222222222,
             "#7201a8"
            ],
            [
             0.3333333333333333,
             "#9c179e"
            ],
            [
             0.4444444444444444,
             "#bd3786"
            ],
            [
             0.5555555555555556,
             "#d8576b"
            ],
            [
             0.6666666666666666,
             "#ed7953"
            ],
            [
             0.7777777777777778,
             "#fb9f3a"
            ],
            [
             0.8888888888888888,
             "#fdca26"
            ],
            [
             1,
             "#f0f921"
            ]
           ],
           "sequentialminus": [
            [
             0,
             "#0d0887"
            ],
            [
             0.1111111111111111,
             "#46039f"
            ],
            [
             0.2222222222222222,
             "#7201a8"
            ],
            [
             0.3333333333333333,
             "#9c179e"
            ],
            [
             0.4444444444444444,
             "#bd3786"
            ],
            [
             0.5555555555555556,
             "#d8576b"
            ],
            [
             0.6666666666666666,
             "#ed7953"
            ],
            [
             0.7777777777777778,
             "#fb9f3a"
            ],
            [
             0.8888888888888888,
             "#fdca26"
            ],
            [
             1,
             "#f0f921"
            ]
           ]
          },
          "colorway": [
           "#636efa",
           "#EF553B",
           "#00cc96",
           "#ab63fa",
           "#FFA15A",
           "#19d3f3",
           "#FF6692",
           "#B6E880",
           "#FF97FF",
           "#FECB52"
          ],
          "font": {
           "color": "#2a3f5f"
          },
          "geo": {
           "bgcolor": "white",
           "lakecolor": "white",
           "landcolor": "#E5ECF6",
           "showlakes": true,
           "showland": true,
           "subunitcolor": "white"
          },
          "hoverlabel": {
           "align": "left"
          },
          "hovermode": "closest",
          "mapbox": {
           "style": "light"
          },
          "paper_bgcolor": "white",
          "plot_bgcolor": "#E5ECF6",
          "polar": {
           "angularaxis": {
            "gridcolor": "white",
            "linecolor": "white",
            "ticks": ""
           },
           "bgcolor": "#E5ECF6",
           "radialaxis": {
            "gridcolor": "white",
            "linecolor": "white",
            "ticks": ""
           }
          },
          "scene": {
           "xaxis": {
            "backgroundcolor": "#E5ECF6",
            "gridcolor": "white",
            "gridwidth": 2,
            "linecolor": "white",
            "showbackground": true,
            "ticks": "",
            "zerolinecolor": "white"
           },
           "yaxis": {
            "backgroundcolor": "#E5ECF6",
            "gridcolor": "white",
            "gridwidth": 2,
            "linecolor": "white",
            "showbackground": true,
            "ticks": "",
            "zerolinecolor": "white"
           },
           "zaxis": {
            "backgroundcolor": "#E5ECF6",
            "gridcolor": "white",
            "gridwidth": 2,
            "linecolor": "white",
            "showbackground": true,
            "ticks": "",
            "zerolinecolor": "white"
           }
          },
          "shapedefaults": {
           "line": {
            "color": "#2a3f5f"
           }
          },
          "ternary": {
           "aaxis": {
            "gridcolor": "white",
            "linecolor": "white",
            "ticks": ""
           },
           "baxis": {
            "gridcolor": "white",
            "linecolor": "white",
            "ticks": ""
           },
           "bgcolor": "#E5ECF6",
           "caxis": {
            "gridcolor": "white",
            "linecolor": "white",
            "ticks": ""
           }
          },
          "title": {
           "x": 0.05
          },
          "xaxis": {
           "automargin": true,
           "gridcolor": "white",
           "linecolor": "white",
           "ticks": "",
           "title": {
            "standoff": 15
           },
           "zerolinecolor": "white",
           "zerolinewidth": 2
          },
          "yaxis": {
           "automargin": true,
           "gridcolor": "white",
           "linecolor": "white",
           "ticks": "",
           "title": {
            "standoff": 15
           },
           "zerolinecolor": "white",
           "zerolinewidth": 2
          }
         }
        },
        "title": {
         "font": {
          "color": "#4D5663"
         }
        },
        "xaxis": {
         "gridcolor": "#E1E5ED",
         "showgrid": true,
         "tickfont": {
          "color": "#4D5663"
         },
         "title": {
          "font": {
           "color": "#4D5663"
          },
          "text": ""
         },
         "zerolinecolor": "#E1E5ED"
        },
        "yaxis": {
         "gridcolor": "#E1E5ED",
         "showgrid": true,
         "tickfont": {
          "color": "#4D5663"
         },
         "title": {
          "font": {
           "color": "#4D5663"
          },
          "text": ""
         },
         "zerolinecolor": "#E1E5ED"
        }
       }
      },
      "text/html": [
       "<div>                            <div id=\"9efe2731-8ac8-49df-a7d1-edc24f5db565\" class=\"plotly-graph-div\" style=\"height:525px; width:100%;\"></div>            <script type=\"text/javascript\">                require([\"plotly\"], function(Plotly) {                    window.PLOTLYENV=window.PLOTLYENV || {};\n",
       "                    window.PLOTLYENV.BASE_URL='https://plot.ly';                                    if (document.getElementById(\"9efe2731-8ac8-49df-a7d1-edc24f5db565\")) {                    Plotly.newPlot(                        \"9efe2731-8ac8-49df-a7d1-edc24f5db565\",                        [{\"histfunc\":\"count\",\"histnorm\":\"\",\"marker\":{\"color\":\"rgba(255, 153, 51, 1.0)\",\"line\":{\"color\":\"#4D5663\",\"width\":1.3}},\"name\":\"Beverage_prep\",\"nbinsx\":25,\"opacity\":0.8,\"orientation\":\"v\",\"x\":[\"Short\",\"Tall\",\"Grande\",\"Venti\",\"Short Nonfat Milk\",\"2% Milk\",\"Soymilk\",\"Tall Nonfat Milk\",\"2% Milk\",\"Soymilk\",\"Grande Nonfat Milk\",\"2% Milk\",\"Soymilk\",\"Venti Nonfat Milk\",\"2% Milk\",\"Soymilk\",\"Short Nonfat Milk\",\"2% Milk\",\"Soymilk\",\"Tall Nonfat Milk\",\"2% Milk\",\"Soymilk\",\"Grande Nonfat Milk\",\"2% Milk\",\"Soymilk\",\"Venti Nonfat Milk\",\"2% Milk\",\"Soymilk\",\"Short Nonfat Milk\",\"2% Milk\",\"Soymilk\",\"Tall Nonfat Milk\",\"2% Milk\",\"Soymilk\",\"Grande Nonfat Milk\",\"2% Milk\",\"Soymilk\",\"Venti Nonfat Milk\",\"2% Milk\",\"Soymilk\",\"Short\",\"Tall\",\"Grande\",\"Venti\",\"Short Nonfat Milk\",\"2% Milk\",\"Soymilk\",\"Tall Nonfat Milk\",\"2% Milk\",\"Soymilk\",\"Grande Nonfat Milk\",\"2% Milk\",\"Soymilk\",\"Venti Nonfat Milk\",\"2% Milk\",\"Soymilk\",\"Solo\",\"Doppio\",\"Short Nonfat Milk\",\"Tall Nonfat Milk\",\"Grande Nonfat Milk\",\"Venti Nonfat Milk\",\"Short Nonfat Milk\",\"2% Milk\",\"Soymilk\",\"Tall Nonfat Milk\",\"2% Milk\",\"Soymilk\",\"Grande Nonfat Milk\",\"2% Milk\",\"Soymilk\",\"Venti Nonfat Milk\",\"2% Milk\",\"Soymilk\",\"Short Nonfat Milk\",\"2% Milk\",\"Soymilk\",\"Tall Nonfat Milk\",\"2% Milk\",\"Soymilk\",\"Grande Nonfat Milk\",\"2% Milk\",\"Soymilk\",\"Venti Nonfat Milk\",\"2% Milk\",\"Soymilk\",\"Short Nonfat Milk\",\"2% Milk\",\"Soymilk\",\"Tall Nonfat Milk\",\"2% Milk\",\"Soymilk\",\"Grande Nonfat Milk\",\"2% Milk\",\"Soymilk\",\"Venti Nonfat Milk\",\"2% Milk\",\"Soymilk\",\"Short\",\"Tall\",\"Grande\",\"Venti\",\"Short\",\"Tall\",\"Grande\",\"Venti\",\"Short Nonfat Milk\",\"2% Milk\",\"Soymilk\",\"Tall Nonfat Milk\",\"2% Milk\",\"Soymilk\",\"Grande Nonfat Milk\",\"2% Milk\",\"Soymilk\",\"Venti Nonfat Milk\",\"2% Milk\",\"Soymilk\",\"Short Nonfat Milk\",\"2% Milk\",\"Soymilk\",\"Tall Nonfat Milk\",\"2% Milk\",\"Soymilk\",\"Grande Nonfat Milk\",\"2% Milk\",\"Soymilk\",\"Venti Nonfat Milk\",\"2% Milk\",\"Soymilk\",\"Short Nonfat Milk\",\"2% Milk\",\"Soymilk\",\"Tall Nonfat Milk\",\"2% Milk\",\"Soymilk\",\"Grande Nonfat Milk\",\"2% Milk\",\"Soymilk\",\"Venti Nonfat Milk\",\"2% Milk\",\"Soymilk\",\"Short Nonfat Milk\",\"2% Milk\",\"Soymilk\",\"Tall Nonfat Milk\",\"2% Milk\",\"Soymilk\",\"Grande Nonfat Milk\",\"2% Milk\",\"Soymilk\",\"Venti Nonfat Milk\",\"2% Milk\",\"Soymilk\",\"Tall\",\"Grande\",\"Venti\",\"Tall Nonfat Milk\",\"2% Milk\",\"Soymilk\",\"Grande Nonfat Milk\",\"2% Milk\",\"Soymilk\",\"Venti Nonfat Milk\",\"2% Milk\",\"Soymilk\",\"Tall\",\"Grande\",\"Venti\",\"Tall\",\"Grande\",\"Venti\",\"Grande Nonfat Milk\",\"2% Milk\",\"Soymilk\",\"Grande Nonfat Milk\",\"2% Milk\",\"Soymilk\",\"Grande Nonfat Milk\",\"2% Milk\",\"Soymilk\",\"Tall Nonfat Milk\",\"Whole Milk\",\"Soymilk\",\"Grande Nonfat Milk\",\"Whole Milk\",\"Soymilk\",\"Venti Nonfat Milk\",\"Whole Milk\",\"Soymilk\",\"Tall Nonfat Milk\",\"Whole Milk\",\"Soymilk\",\"Grande Nonfat Milk\",\"Whole Milk\",\"Soymilk\",\"Venti Nonfat Milk\",\"Whole Milk\",\"Soymilk\",\"Tall Nonfat Milk\",\"Whole Milk\",\"Soymilk\",\"Grande Nonfat Milk\",\"Whole Milk\",\"Soymilk\",\"Venti Nonfat Milk\",\"Whole Milk\",\"Soymilk\",\"Tall Nonfat Milk\",\"Whole Milk\",\"Soymilk\",\"Grande Nonfat Milk\",\"Whole Milk\",\"Soymilk\",\"Venti Nonfat Milk\",\"Whole Milk\",\"Soymilk\",\"Tall Nonfat Milk\",\"Grande Nonfat Milk\",\"Venti Nonfat Milk\",\"Tall Nonfat Milk\",\"Grande Nonfat Milk\",\"Venti Nonfat Milk\",\"Tall Nonfat Milk\",\"Grande Nonfat Milk\",\"Venti Nonfat Milk\",\"Tall Nonfat Milk\",\"Grande Nonfat Milk\",\"Venti Nonfat Milk\",\"Tall Nonfat Milk\",\"Whole Milk\",\"Soymilk\",\"Grande Nonfat Milk\",\"Whole Milk\",\"Soymilk\",\"Venti Nonfat Milk\",\"Whole Milk\",\"Soymilk\",\"Tall Nonfat Milk\",\"Whole Milk\",\"Soymilk\",\"Grande Nonfat Milk\"],\"type\":\"histogram\"}],                        {\"barmode\":\"overlay\",\"legend\":{\"bgcolor\":\"#F5F6F9\",\"font\":{\"color\":\"#4D5663\"}},\"paper_bgcolor\":\"#F5F6F9\",\"plot_bgcolor\":\"#F5F6F9\",\"template\":{\"data\":{\"barpolar\":[{\"marker\":{\"line\":{\"color\":\"#E5ECF6\",\"width\":0.5},\"pattern\":{\"fillmode\":\"overlay\",\"size\":10,\"solidity\":0.2}},\"type\":\"barpolar\"}],\"bar\":[{\"error_x\":{\"color\":\"#2a3f5f\"},\"error_y\":{\"color\":\"#2a3f5f\"},\"marker\":{\"line\":{\"color\":\"#E5ECF6\",\"width\":0.5},\"pattern\":{\"fillmode\":\"overlay\",\"size\":10,\"solidity\":0.2}},\"type\":\"bar\"}],\"carpet\":[{\"aaxis\":{\"endlinecolor\":\"#2a3f5f\",\"gridcolor\":\"white\",\"linecolor\":\"white\",\"minorgridcolor\":\"white\",\"startlinecolor\":\"#2a3f5f\"},\"baxis\":{\"endlinecolor\":\"#2a3f5f\",\"gridcolor\":\"white\",\"linecolor\":\"white\",\"minorgridcolor\":\"white\",\"startlinecolor\":\"#2a3f5f\"},\"type\":\"carpet\"}],\"choropleth\":[{\"colorbar\":{\"outlinewidth\":0,\"ticks\":\"\"},\"type\":\"choropleth\"}],\"contourcarpet\":[{\"colorbar\":{\"outlinewidth\":0,\"ticks\":\"\"},\"type\":\"contourcarpet\"}],\"contour\":[{\"colorbar\":{\"outlinewidth\":0,\"ticks\":\"\"},\"colorscale\":[[0.0,\"#0d0887\"],[0.1111111111111111,\"#46039f\"],[0.2222222222222222,\"#7201a8\"],[0.3333333333333333,\"#9c179e\"],[0.4444444444444444,\"#bd3786\"],[0.5555555555555556,\"#d8576b\"],[0.6666666666666666,\"#ed7953\"],[0.7777777777777778,\"#fb9f3a\"],[0.8888888888888888,\"#fdca26\"],[1.0,\"#f0f921\"]],\"type\":\"contour\"}],\"heatmapgl\":[{\"colorbar\":{\"outlinewidth\":0,\"ticks\":\"\"},\"colorscale\":[[0.0,\"#0d0887\"],[0.1111111111111111,\"#46039f\"],[0.2222222222222222,\"#7201a8\"],[0.3333333333333333,\"#9c179e\"],[0.4444444444444444,\"#bd3786\"],[0.5555555555555556,\"#d8576b\"],[0.6666666666666666,\"#ed7953\"],[0.7777777777777778,\"#fb9f3a\"],[0.8888888888888888,\"#fdca26\"],[1.0,\"#f0f921\"]],\"type\":\"heatmapgl\"}],\"heatmap\":[{\"colorbar\":{\"outlinewidth\":0,\"ticks\":\"\"},\"colorscale\":[[0.0,\"#0d0887\"],[0.1111111111111111,\"#46039f\"],[0.2222222222222222,\"#7201a8\"],[0.3333333333333333,\"#9c179e\"],[0.4444444444444444,\"#bd3786\"],[0.5555555555555556,\"#d8576b\"],[0.6666666666666666,\"#ed7953\"],[0.7777777777777778,\"#fb9f3a\"],[0.8888888888888888,\"#fdca26\"],[1.0,\"#f0f921\"]],\"type\":\"heatmap\"}],\"histogram2dcontour\":[{\"colorbar\":{\"outlinewidth\":0,\"ticks\":\"\"},\"colorscale\":[[0.0,\"#0d0887\"],[0.1111111111111111,\"#46039f\"],[0.2222222222222222,\"#7201a8\"],[0.3333333333333333,\"#9c179e\"],[0.4444444444444444,\"#bd3786\"],[0.5555555555555556,\"#d8576b\"],[0.6666666666666666,\"#ed7953\"],[0.7777777777777778,\"#fb9f3a\"],[0.8888888888888888,\"#fdca26\"],[1.0,\"#f0f921\"]],\"type\":\"histogram2dcontour\"}],\"histogram2d\":[{\"colorbar\":{\"outlinewidth\":0,\"ticks\":\"\"},\"colorscale\":[[0.0,\"#0d0887\"],[0.1111111111111111,\"#46039f\"],[0.2222222222222222,\"#7201a8\"],[0.3333333333333333,\"#9c179e\"],[0.4444444444444444,\"#bd3786\"],[0.5555555555555556,\"#d8576b\"],[0.6666666666666666,\"#ed7953\"],[0.7777777777777778,\"#fb9f3a\"],[0.8888888888888888,\"#fdca26\"],[1.0,\"#f0f921\"]],\"type\":\"histogram2d\"}],\"histogram\":[{\"marker\":{\"pattern\":{\"fillmode\":\"overlay\",\"size\":10,\"solidity\":0.2}},\"type\":\"histogram\"}],\"mesh3d\":[{\"colorbar\":{\"outlinewidth\":0,\"ticks\":\"\"},\"type\":\"mesh3d\"}],\"parcoords\":[{\"line\":{\"colorbar\":{\"outlinewidth\":0,\"ticks\":\"\"}},\"type\":\"parcoords\"}],\"pie\":[{\"automargin\":true,\"type\":\"pie\"}],\"scatter3d\":[{\"line\":{\"colorbar\":{\"outlinewidth\":0,\"ticks\":\"\"}},\"marker\":{\"colorbar\":{\"outlinewidth\":0,\"ticks\":\"\"}},\"type\":\"scatter3d\"}],\"scattercarpet\":[{\"marker\":{\"colorbar\":{\"outlinewidth\":0,\"ticks\":\"\"}},\"type\":\"scattercarpet\"}],\"scattergeo\":[{\"marker\":{\"colorbar\":{\"outlinewidth\":0,\"ticks\":\"\"}},\"type\":\"scattergeo\"}],\"scattergl\":[{\"marker\":{\"colorbar\":{\"outlinewidth\":0,\"ticks\":\"\"}},\"type\":\"scattergl\"}],\"scattermapbox\":[{\"marker\":{\"colorbar\":{\"outlinewidth\":0,\"ticks\":\"\"}},\"type\":\"scattermapbox\"}],\"scatterpolargl\":[{\"marker\":{\"colorbar\":{\"outlinewidth\":0,\"ticks\":\"\"}},\"type\":\"scatterpolargl\"}],\"scatterpolar\":[{\"marker\":{\"colorbar\":{\"outlinewidth\":0,\"ticks\":\"\"}},\"type\":\"scatterpolar\"}],\"scatter\":[{\"fillpattern\":{\"fillmode\":\"overlay\",\"size\":10,\"solidity\":0.2},\"type\":\"scatter\"}],\"scatterternary\":[{\"marker\":{\"colorbar\":{\"outlinewidth\":0,\"ticks\":\"\"}},\"type\":\"scatterternary\"}],\"surface\":[{\"colorbar\":{\"outlinewidth\":0,\"ticks\":\"\"},\"colorscale\":[[0.0,\"#0d0887\"],[0.1111111111111111,\"#46039f\"],[0.2222222222222222,\"#7201a8\"],[0.3333333333333333,\"#9c179e\"],[0.4444444444444444,\"#bd3786\"],[0.5555555555555556,\"#d8576b\"],[0.6666666666666666,\"#ed7953\"],[0.7777777777777778,\"#fb9f3a\"],[0.8888888888888888,\"#fdca26\"],[1.0,\"#f0f921\"]],\"type\":\"surface\"}],\"table\":[{\"cells\":{\"fill\":{\"color\":\"#EBF0F8\"},\"line\":{\"color\":\"white\"}},\"header\":{\"fill\":{\"color\":\"#C8D4E3\"},\"line\":{\"color\":\"white\"}},\"type\":\"table\"}]},\"layout\":{\"annotationdefaults\":{\"arrowcolor\":\"#2a3f5f\",\"arrowhead\":0,\"arrowwidth\":1},\"autotypenumbers\":\"strict\",\"coloraxis\":{\"colorbar\":{\"outlinewidth\":0,\"ticks\":\"\"}},\"colorscale\":{\"diverging\":[[0,\"#8e0152\"],[0.1,\"#c51b7d\"],[0.2,\"#de77ae\"],[0.3,\"#f1b6da\"],[0.4,\"#fde0ef\"],[0.5,\"#f7f7f7\"],[0.6,\"#e6f5d0\"],[0.7,\"#b8e186\"],[0.8,\"#7fbc41\"],[0.9,\"#4d9221\"],[1,\"#276419\"]],\"sequential\":[[0.0,\"#0d0887\"],[0.1111111111111111,\"#46039f\"],[0.2222222222222222,\"#7201a8\"],[0.3333333333333333,\"#9c179e\"],[0.4444444444444444,\"#bd3786\"],[0.5555555555555556,\"#d8576b\"],[0.6666666666666666,\"#ed7953\"],[0.7777777777777778,\"#fb9f3a\"],[0.8888888888888888,\"#fdca26\"],[1.0,\"#f0f921\"]],\"sequentialminus\":[[0.0,\"#0d0887\"],[0.1111111111111111,\"#46039f\"],[0.2222222222222222,\"#7201a8\"],[0.3333333333333333,\"#9c179e\"],[0.4444444444444444,\"#bd3786\"],[0.5555555555555556,\"#d8576b\"],[0.6666666666666666,\"#ed7953\"],[0.7777777777777778,\"#fb9f3a\"],[0.8888888888888888,\"#fdca26\"],[1.0,\"#f0f921\"]]},\"colorway\":[\"#636efa\",\"#EF553B\",\"#00cc96\",\"#ab63fa\",\"#FFA15A\",\"#19d3f3\",\"#FF6692\",\"#B6E880\",\"#FF97FF\",\"#FECB52\"],\"font\":{\"color\":\"#2a3f5f\"},\"geo\":{\"bgcolor\":\"white\",\"lakecolor\":\"white\",\"landcolor\":\"#E5ECF6\",\"showlakes\":true,\"showland\":true,\"subunitcolor\":\"white\"},\"hoverlabel\":{\"align\":\"left\"},\"hovermode\":\"closest\",\"mapbox\":{\"style\":\"light\"},\"paper_bgcolor\":\"white\",\"plot_bgcolor\":\"#E5ECF6\",\"polar\":{\"angularaxis\":{\"gridcolor\":\"white\",\"linecolor\":\"white\",\"ticks\":\"\"},\"bgcolor\":\"#E5ECF6\",\"radialaxis\":{\"gridcolor\":\"white\",\"linecolor\":\"white\",\"ticks\":\"\"}},\"scene\":{\"xaxis\":{\"backgroundcolor\":\"#E5ECF6\",\"gridcolor\":\"white\",\"gridwidth\":2,\"linecolor\":\"white\",\"showbackground\":true,\"ticks\":\"\",\"zerolinecolor\":\"white\"},\"yaxis\":{\"backgroundcolor\":\"#E5ECF6\",\"gridcolor\":\"white\",\"gridwidth\":2,\"linecolor\":\"white\",\"showbackground\":true,\"ticks\":\"\",\"zerolinecolor\":\"white\"},\"zaxis\":{\"backgroundcolor\":\"#E5ECF6\",\"gridcolor\":\"white\",\"gridwidth\":2,\"linecolor\":\"white\",\"showbackground\":true,\"ticks\":\"\",\"zerolinecolor\":\"white\"}},\"shapedefaults\":{\"line\":{\"color\":\"#2a3f5f\"}},\"ternary\":{\"aaxis\":{\"gridcolor\":\"white\",\"linecolor\":\"white\",\"ticks\":\"\"},\"baxis\":{\"gridcolor\":\"white\",\"linecolor\":\"white\",\"ticks\":\"\"},\"bgcolor\":\"#E5ECF6\",\"caxis\":{\"gridcolor\":\"white\",\"linecolor\":\"white\",\"ticks\":\"\"}},\"title\":{\"x\":0.05},\"xaxis\":{\"automargin\":true,\"gridcolor\":\"white\",\"linecolor\":\"white\",\"ticks\":\"\",\"title\":{\"standoff\":15},\"zerolinecolor\":\"white\",\"zerolinewidth\":2},\"yaxis\":{\"automargin\":true,\"gridcolor\":\"white\",\"linecolor\":\"white\",\"ticks\":\"\",\"title\":{\"standoff\":15},\"zerolinecolor\":\"white\",\"zerolinewidth\":2}}},\"title\":{\"font\":{\"color\":\"#4D5663\"}},\"xaxis\":{\"gridcolor\":\"#E1E5ED\",\"showgrid\":true,\"tickfont\":{\"color\":\"#4D5663\"},\"title\":{\"font\":{\"color\":\"#4D5663\"},\"text\":\"\"},\"zerolinecolor\":\"#E1E5ED\"},\"yaxis\":{\"gridcolor\":\"#E1E5ED\",\"showgrid\":true,\"tickfont\":{\"color\":\"#4D5663\"},\"title\":{\"font\":{\"color\":\"#4D5663\"},\"text\":\"\"},\"zerolinecolor\":\"#E1E5ED\"}},                        {\"showLink\": true, \"linkText\": \"Export to plot.ly\", \"plotlyServerURL\": \"https://plot.ly\", \"responsive\": true}                    ).then(function(){\n",
       "                            \n",
       "var gd = document.getElementById('9efe2731-8ac8-49df-a7d1-edc24f5db565');\n",
       "var x = new MutationObserver(function (mutations, observer) {{\n",
       "        var display = window.getComputedStyle(gd).display;\n",
       "        if (!display || display === 'none') {{\n",
       "            console.log([gd, 'removed!']);\n",
       "            Plotly.purge(gd);\n",
       "            observer.disconnect();\n",
       "        }}\n",
       "}});\n",
       "\n",
       "// Listen for the removal of the full notebook cells\n",
       "var notebookContainer = gd.closest('#notebook-container');\n",
       "if (notebookContainer) {{\n",
       "    x.observe(notebookContainer, {childList: true});\n",
       "}}\n",
       "\n",
       "// Listen for the clearing of the current output cell\n",
       "var outputEl = gd.closest('.output');\n",
       "if (outputEl) {{\n",
       "    x.observe(outputEl, {childList: true});\n",
       "}}\n",
       "\n",
       "                        })                };                });            </script>        </div>"
      ]
     },
     "metadata": {},
     "output_type": "display_data"
    }
   ],
   "source": [
    "df['Beverage_prep'].iplot(kind='hist',bins=25)"
   ]
  },
  {
   "cell_type": "markdown",
   "metadata": {},
   "source": [
    "# 3D plotting"
   ]
  },
  {
   "cell_type": "code",
   "execution_count": 13,
   "metadata": {},
   "outputs": [
    {
     "data": {
      "application/vnd.plotly.v1+json": {
       "config": {
        "linkText": "Export to plot.ly",
        "plotlyServerURL": "https://plot.ly",
        "showLink": true
       },
       "data": [
        {
         "colorscale": [
          [
           0,
           "rgb(165,0,38)"
          ],
          [
           0.1,
           "rgb(215,48,39)"
          ],
          [
           0.2,
           "rgb(244,109,67)"
          ],
          [
           0.3,
           "rgb(253,174,97)"
          ],
          [
           0.4,
           "rgb(254,224,144)"
          ],
          [
           0.5,
           "rgb(255,255,191)"
          ],
          [
           0.6,
           "rgb(224,243,248)"
          ],
          [
           0.7,
           "rgb(171,217,233)"
          ],
          [
           0.8,
           "rgb(116,173,209)"
          ],
          [
           0.9,
           "rgb(69,117,180)"
          ],
          [
           1,
           "rgb(49,54,149)"
          ]
         ],
         "type": "surface",
         "x": [
          0,
          1,
          2,
          3,
          4
         ],
         "y": [
          "x",
          "y",
          "z"
         ],
         "z": [
          [
           1,
           2,
           3,
           4,
           5
          ],
          [
           10,
           20,
           30,
           20,
           10
          ],
          [
           5,
           4,
           3,
           2,
           1
          ]
         ]
        }
       ],
       "layout": {
        "legend": {
         "bgcolor": "#F5F6F9",
         "font": {
          "color": "#4D5663"
         }
        },
        "paper_bgcolor": "#F5F6F9",
        "plot_bgcolor": "#F5F6F9",
        "template": {
         "data": {
          "bar": [
           {
            "error_x": {
             "color": "#2a3f5f"
            },
            "error_y": {
             "color": "#2a3f5f"
            },
            "marker": {
             "line": {
              "color": "#E5ECF6",
              "width": 0.5
             },
             "pattern": {
              "fillmode": "overlay",
              "size": 10,
              "solidity": 0.2
             }
            },
            "type": "bar"
           }
          ],
          "barpolar": [
           {
            "marker": {
             "line": {
              "color": "#E5ECF6",
              "width": 0.5
             },
             "pattern": {
              "fillmode": "overlay",
              "size": 10,
              "solidity": 0.2
             }
            },
            "type": "barpolar"
           }
          ],
          "carpet": [
           {
            "aaxis": {
             "endlinecolor": "#2a3f5f",
             "gridcolor": "white",
             "linecolor": "white",
             "minorgridcolor": "white",
             "startlinecolor": "#2a3f5f"
            },
            "baxis": {
             "endlinecolor": "#2a3f5f",
             "gridcolor": "white",
             "linecolor": "white",
             "minorgridcolor": "white",
             "startlinecolor": "#2a3f5f"
            },
            "type": "carpet"
           }
          ],
          "choropleth": [
           {
            "colorbar": {
             "outlinewidth": 0,
             "ticks": ""
            },
            "type": "choropleth"
           }
          ],
          "contour": [
           {
            "colorbar": {
             "outlinewidth": 0,
             "ticks": ""
            },
            "colorscale": [
             [
              0,
              "#0d0887"
             ],
             [
              0.1111111111111111,
              "#46039f"
             ],
             [
              0.2222222222222222,
              "#7201a8"
             ],
             [
              0.3333333333333333,
              "#9c179e"
             ],
             [
              0.4444444444444444,
              "#bd3786"
             ],
             [
              0.5555555555555556,
              "#d8576b"
             ],
             [
              0.6666666666666666,
              "#ed7953"
             ],
             [
              0.7777777777777778,
              "#fb9f3a"
             ],
             [
              0.8888888888888888,
              "#fdca26"
             ],
             [
              1,
              "#f0f921"
             ]
            ],
            "type": "contour"
           }
          ],
          "contourcarpet": [
           {
            "colorbar": {
             "outlinewidth": 0,
             "ticks": ""
            },
            "type": "contourcarpet"
           }
          ],
          "heatmap": [
           {
            "colorbar": {
             "outlinewidth": 0,
             "ticks": ""
            },
            "colorscale": [
             [
              0,
              "#0d0887"
             ],
             [
              0.1111111111111111,
              "#46039f"
             ],
             [
              0.2222222222222222,
              "#7201a8"
             ],
             [
              0.3333333333333333,
              "#9c179e"
             ],
             [
              0.4444444444444444,
              "#bd3786"
             ],
             [
              0.5555555555555556,
              "#d8576b"
             ],
             [
              0.6666666666666666,
              "#ed7953"
             ],
             [
              0.7777777777777778,
              "#fb9f3a"
             ],
             [
              0.8888888888888888,
              "#fdca26"
             ],
             [
              1,
              "#f0f921"
             ]
            ],
            "type": "heatmap"
           }
          ],
          "heatmapgl": [
           {
            "colorbar": {
             "outlinewidth": 0,
             "ticks": ""
            },
            "colorscale": [
             [
              0,
              "#0d0887"
             ],
             [
              0.1111111111111111,
              "#46039f"
             ],
             [
              0.2222222222222222,
              "#7201a8"
             ],
             [
              0.3333333333333333,
              "#9c179e"
             ],
             [
              0.4444444444444444,
              "#bd3786"
             ],
             [
              0.5555555555555556,
              "#d8576b"
             ],
             [
              0.6666666666666666,
              "#ed7953"
             ],
             [
              0.7777777777777778,
              "#fb9f3a"
             ],
             [
              0.8888888888888888,
              "#fdca26"
             ],
             [
              1,
              "#f0f921"
             ]
            ],
            "type": "heatmapgl"
           }
          ],
          "histogram": [
           {
            "marker": {
             "pattern": {
              "fillmode": "overlay",
              "size": 10,
              "solidity": 0.2
             }
            },
            "type": "histogram"
           }
          ],
          "histogram2d": [
           {
            "colorbar": {
             "outlinewidth": 0,
             "ticks": ""
            },
            "colorscale": [
             [
              0,
              "#0d0887"
             ],
             [
              0.1111111111111111,
              "#46039f"
             ],
             [
              0.2222222222222222,
              "#7201a8"
             ],
             [
              0.3333333333333333,
              "#9c179e"
             ],
             [
              0.4444444444444444,
              "#bd3786"
             ],
             [
              0.5555555555555556,
              "#d8576b"
             ],
             [
              0.6666666666666666,
              "#ed7953"
             ],
             [
              0.7777777777777778,
              "#fb9f3a"
             ],
             [
              0.8888888888888888,
              "#fdca26"
             ],
             [
              1,
              "#f0f921"
             ]
            ],
            "type": "histogram2d"
           }
          ],
          "histogram2dcontour": [
           {
            "colorbar": {
             "outlinewidth": 0,
             "ticks": ""
            },
            "colorscale": [
             [
              0,
              "#0d0887"
             ],
             [
              0.1111111111111111,
              "#46039f"
             ],
             [
              0.2222222222222222,
              "#7201a8"
             ],
             [
              0.3333333333333333,
              "#9c179e"
             ],
             [
              0.4444444444444444,
              "#bd3786"
             ],
             [
              0.5555555555555556,
              "#d8576b"
             ],
             [
              0.6666666666666666,
              "#ed7953"
             ],
             [
              0.7777777777777778,
              "#fb9f3a"
             ],
             [
              0.8888888888888888,
              "#fdca26"
             ],
             [
              1,
              "#f0f921"
             ]
            ],
            "type": "histogram2dcontour"
           }
          ],
          "mesh3d": [
           {
            "colorbar": {
             "outlinewidth": 0,
             "ticks": ""
            },
            "type": "mesh3d"
           }
          ],
          "parcoords": [
           {
            "line": {
             "colorbar": {
              "outlinewidth": 0,
              "ticks": ""
             }
            },
            "type": "parcoords"
           }
          ],
          "pie": [
           {
            "automargin": true,
            "type": "pie"
           }
          ],
          "scatter": [
           {
            "fillpattern": {
             "fillmode": "overlay",
             "size": 10,
             "solidity": 0.2
            },
            "type": "scatter"
           }
          ],
          "scatter3d": [
           {
            "line": {
             "colorbar": {
              "outlinewidth": 0,
              "ticks": ""
             }
            },
            "marker": {
             "colorbar": {
              "outlinewidth": 0,
              "ticks": ""
             }
            },
            "type": "scatter3d"
           }
          ],
          "scattercarpet": [
           {
            "marker": {
             "colorbar": {
              "outlinewidth": 0,
              "ticks": ""
             }
            },
            "type": "scattercarpet"
           }
          ],
          "scattergeo": [
           {
            "marker": {
             "colorbar": {
              "outlinewidth": 0,
              "ticks": ""
             }
            },
            "type": "scattergeo"
           }
          ],
          "scattergl": [
           {
            "marker": {
             "colorbar": {
              "outlinewidth": 0,
              "ticks": ""
             }
            },
            "type": "scattergl"
           }
          ],
          "scattermapbox": [
           {
            "marker": {
             "colorbar": {
              "outlinewidth": 0,
              "ticks": ""
             }
            },
            "type": "scattermapbox"
           }
          ],
          "scatterpolar": [
           {
            "marker": {
             "colorbar": {
              "outlinewidth": 0,
              "ticks": ""
             }
            },
            "type": "scatterpolar"
           }
          ],
          "scatterpolargl": [
           {
            "marker": {
             "colorbar": {
              "outlinewidth": 0,
              "ticks": ""
             }
            },
            "type": "scatterpolargl"
           }
          ],
          "scatterternary": [
           {
            "marker": {
             "colorbar": {
              "outlinewidth": 0,
              "ticks": ""
             }
            },
            "type": "scatterternary"
           }
          ],
          "surface": [
           {
            "colorbar": {
             "outlinewidth": 0,
             "ticks": ""
            },
            "colorscale": [
             [
              0,
              "#0d0887"
             ],
             [
              0.1111111111111111,
              "#46039f"
             ],
             [
              0.2222222222222222,
              "#7201a8"
             ],
             [
              0.3333333333333333,
              "#9c179e"
             ],
             [
              0.4444444444444444,
              "#bd3786"
             ],
             [
              0.5555555555555556,
              "#d8576b"
             ],
             [
              0.6666666666666666,
              "#ed7953"
             ],
             [
              0.7777777777777778,
              "#fb9f3a"
             ],
             [
              0.8888888888888888,
              "#fdca26"
             ],
             [
              1,
              "#f0f921"
             ]
            ],
            "type": "surface"
           }
          ],
          "table": [
           {
            "cells": {
             "fill": {
              "color": "#EBF0F8"
             },
             "line": {
              "color": "white"
             }
            },
            "header": {
             "fill": {
              "color": "#C8D4E3"
             },
             "line": {
              "color": "white"
             }
            },
            "type": "table"
           }
          ]
         },
         "layout": {
          "annotationdefaults": {
           "arrowcolor": "#2a3f5f",
           "arrowhead": 0,
           "arrowwidth": 1
          },
          "autotypenumbers": "strict",
          "coloraxis": {
           "colorbar": {
            "outlinewidth": 0,
            "ticks": ""
           }
          },
          "colorscale": {
           "diverging": [
            [
             0,
             "#8e0152"
            ],
            [
             0.1,
             "#c51b7d"
            ],
            [
             0.2,
             "#de77ae"
            ],
            [
             0.3,
             "#f1b6da"
            ],
            [
             0.4,
             "#fde0ef"
            ],
            [
             0.5,
             "#f7f7f7"
            ],
            [
             0.6,
             "#e6f5d0"
            ],
            [
             0.7,
             "#b8e186"
            ],
            [
             0.8,
             "#7fbc41"
            ],
            [
             0.9,
             "#4d9221"
            ],
            [
             1,
             "#276419"
            ]
           ],
           "sequential": [
            [
             0,
             "#0d0887"
            ],
            [
             0.1111111111111111,
             "#46039f"
            ],
            [
             0.2222222222222222,
             "#7201a8"
            ],
            [
             0.3333333333333333,
             "#9c179e"
            ],
            [
             0.4444444444444444,
             "#bd3786"
            ],
            [
             0.5555555555555556,
             "#d8576b"
            ],
            [
             0.6666666666666666,
             "#ed7953"
            ],
            [
             0.7777777777777778,
             "#fb9f3a"
            ],
            [
             0.8888888888888888,
             "#fdca26"
            ],
            [
             1,
             "#f0f921"
            ]
           ],
           "sequentialminus": [
            [
             0,
             "#0d0887"
            ],
            [
             0.1111111111111111,
             "#46039f"
            ],
            [
             0.2222222222222222,
             "#7201a8"
            ],
            [
             0.3333333333333333,
             "#9c179e"
            ],
            [
             0.4444444444444444,
             "#bd3786"
            ],
            [
             0.5555555555555556,
             "#d8576b"
            ],
            [
             0.6666666666666666,
             "#ed7953"
            ],
            [
             0.7777777777777778,
             "#fb9f3a"
            ],
            [
             0.8888888888888888,
             "#fdca26"
            ],
            [
             1,
             "#f0f921"
            ]
           ]
          },
          "colorway": [
           "#636efa",
           "#EF553B",
           "#00cc96",
           "#ab63fa",
           "#FFA15A",
           "#19d3f3",
           "#FF6692",
           "#B6E880",
           "#FF97FF",
           "#FECB52"
          ],
          "font": {
           "color": "#2a3f5f"
          },
          "geo": {
           "bgcolor": "white",
           "lakecolor": "white",
           "landcolor": "#E5ECF6",
           "showlakes": true,
           "showland": true,
           "subunitcolor": "white"
          },
          "hoverlabel": {
           "align": "left"
          },
          "hovermode": "closest",
          "mapbox": {
           "style": "light"
          },
          "paper_bgcolor": "white",
          "plot_bgcolor": "#E5ECF6",
          "polar": {
           "angularaxis": {
            "gridcolor": "white",
            "linecolor": "white",
            "ticks": ""
           },
           "bgcolor": "#E5ECF6",
           "radialaxis": {
            "gridcolor": "white",
            "linecolor": "white",
            "ticks": ""
           }
          },
          "scene": {
           "xaxis": {
            "backgroundcolor": "#E5ECF6",
            "gridcolor": "white",
            "gridwidth": 2,
            "linecolor": "white",
            "showbackground": true,
            "ticks": "",
            "zerolinecolor": "white"
           },
           "yaxis": {
            "backgroundcolor": "#E5ECF6",
            "gridcolor": "white",
            "gridwidth": 2,
            "linecolor": "white",
            "showbackground": true,
            "ticks": "",
            "zerolinecolor": "white"
           },
           "zaxis": {
            "backgroundcolor": "#E5ECF6",
            "gridcolor": "white",
            "gridwidth": 2,
            "linecolor": "white",
            "showbackground": true,
            "ticks": "",
            "zerolinecolor": "white"
           }
          },
          "shapedefaults": {
           "line": {
            "color": "#2a3f5f"
           }
          },
          "ternary": {
           "aaxis": {
            "gridcolor": "white",
            "linecolor": "white",
            "ticks": ""
           },
           "baxis": {
            "gridcolor": "white",
            "linecolor": "white",
            "ticks": ""
           },
           "bgcolor": "#E5ECF6",
           "caxis": {
            "gridcolor": "white",
            "linecolor": "white",
            "ticks": ""
           }
          },
          "title": {
           "x": 0.05
          },
          "xaxis": {
           "automargin": true,
           "gridcolor": "white",
           "linecolor": "white",
           "ticks": "",
           "title": {
            "standoff": 15
           },
           "zerolinecolor": "white",
           "zerolinewidth": 2
          },
          "yaxis": {
           "automargin": true,
           "gridcolor": "white",
           "linecolor": "white",
           "ticks": "",
           "title": {
            "standoff": 15
           },
           "zerolinecolor": "white",
           "zerolinewidth": 2
          }
         }
        },
        "title": {
         "font": {
          "color": "#4D5663"
         }
        },
        "xaxis": {
         "gridcolor": "#E1E5ED",
         "showgrid": true,
         "tickfont": {
          "color": "#4D5663"
         },
         "title": {
          "font": {
           "color": "#4D5663"
          },
          "text": ""
         },
         "zerolinecolor": "#E1E5ED"
        },
        "yaxis": {
         "gridcolor": "#E1E5ED",
         "showgrid": true,
         "tickfont": {
          "color": "#4D5663"
         },
         "title": {
          "font": {
           "color": "#4D5663"
          },
          "text": ""
         },
         "zerolinecolor": "#E1E5ED"
        }
       }
      },
      "text/html": [
       "<div>                            <div id=\"8a44a030-032b-48d6-8750-8748028f62af\" class=\"plotly-graph-div\" style=\"height:525px; width:100%;\"></div>            <script type=\"text/javascript\">                require([\"plotly\"], function(Plotly) {                    window.PLOTLYENV=window.PLOTLYENV || {};\n",
       "                    window.PLOTLYENV.BASE_URL='https://plot.ly';                                    if (document.getElementById(\"8a44a030-032b-48d6-8750-8748028f62af\")) {                    Plotly.newPlot(                        \"8a44a030-032b-48d6-8750-8748028f62af\",                        [{\"colorscale\":[[0.0,\"rgb(165,0,38)\"],[0.1,\"rgb(215,48,39)\"],[0.2,\"rgb(244,109,67)\"],[0.3,\"rgb(253,174,97)\"],[0.4,\"rgb(254,224,144)\"],[0.5,\"rgb(255,255,191)\"],[0.6,\"rgb(224,243,248)\"],[0.7,\"rgb(171,217,233)\"],[0.8,\"rgb(116,173,209)\"],[0.9,\"rgb(69,117,180)\"],[1.0,\"rgb(49,54,149)\"]],\"x\":[0,1,2,3,4],\"y\":[\"x\",\"y\",\"z\"],\"z\":[[1,2,3,4,5],[10,20,30,20,10],[5,4,3,2,1]],\"type\":\"surface\"}],                        {\"legend\":{\"bgcolor\":\"#F5F6F9\",\"font\":{\"color\":\"#4D5663\"}},\"paper_bgcolor\":\"#F5F6F9\",\"plot_bgcolor\":\"#F5F6F9\",\"template\":{\"data\":{\"barpolar\":[{\"marker\":{\"line\":{\"color\":\"#E5ECF6\",\"width\":0.5},\"pattern\":{\"fillmode\":\"overlay\",\"size\":10,\"solidity\":0.2}},\"type\":\"barpolar\"}],\"bar\":[{\"error_x\":{\"color\":\"#2a3f5f\"},\"error_y\":{\"color\":\"#2a3f5f\"},\"marker\":{\"line\":{\"color\":\"#E5ECF6\",\"width\":0.5},\"pattern\":{\"fillmode\":\"overlay\",\"size\":10,\"solidity\":0.2}},\"type\":\"bar\"}],\"carpet\":[{\"aaxis\":{\"endlinecolor\":\"#2a3f5f\",\"gridcolor\":\"white\",\"linecolor\":\"white\",\"minorgridcolor\":\"white\",\"startlinecolor\":\"#2a3f5f\"},\"baxis\":{\"endlinecolor\":\"#2a3f5f\",\"gridcolor\":\"white\",\"linecolor\":\"white\",\"minorgridcolor\":\"white\",\"startlinecolor\":\"#2a3f5f\"},\"type\":\"carpet\"}],\"choropleth\":[{\"colorbar\":{\"outlinewidth\":0,\"ticks\":\"\"},\"type\":\"choropleth\"}],\"contourcarpet\":[{\"colorbar\":{\"outlinewidth\":0,\"ticks\":\"\"},\"type\":\"contourcarpet\"}],\"contour\":[{\"colorbar\":{\"outlinewidth\":0,\"ticks\":\"\"},\"colorscale\":[[0.0,\"#0d0887\"],[0.1111111111111111,\"#46039f\"],[0.2222222222222222,\"#7201a8\"],[0.3333333333333333,\"#9c179e\"],[0.4444444444444444,\"#bd3786\"],[0.5555555555555556,\"#d8576b\"],[0.6666666666666666,\"#ed7953\"],[0.7777777777777778,\"#fb9f3a\"],[0.8888888888888888,\"#fdca26\"],[1.0,\"#f0f921\"]],\"type\":\"contour\"}],\"heatmapgl\":[{\"colorbar\":{\"outlinewidth\":0,\"ticks\":\"\"},\"colorscale\":[[0.0,\"#0d0887\"],[0.1111111111111111,\"#46039f\"],[0.2222222222222222,\"#7201a8\"],[0.3333333333333333,\"#9c179e\"],[0.4444444444444444,\"#bd3786\"],[0.5555555555555556,\"#d8576b\"],[0.6666666666666666,\"#ed7953\"],[0.7777777777777778,\"#fb9f3a\"],[0.8888888888888888,\"#fdca26\"],[1.0,\"#f0f921\"]],\"type\":\"heatmapgl\"}],\"heatmap\":[{\"colorbar\":{\"outlinewidth\":0,\"ticks\":\"\"},\"colorscale\":[[0.0,\"#0d0887\"],[0.1111111111111111,\"#46039f\"],[0.2222222222222222,\"#7201a8\"],[0.3333333333333333,\"#9c179e\"],[0.4444444444444444,\"#bd3786\"],[0.5555555555555556,\"#d8576b\"],[0.6666666666666666,\"#ed7953\"],[0.7777777777777778,\"#fb9f3a\"],[0.8888888888888888,\"#fdca26\"],[1.0,\"#f0f921\"]],\"type\":\"heatmap\"}],\"histogram2dcontour\":[{\"colorbar\":{\"outlinewidth\":0,\"ticks\":\"\"},\"colorscale\":[[0.0,\"#0d0887\"],[0.1111111111111111,\"#46039f\"],[0.2222222222222222,\"#7201a8\"],[0.3333333333333333,\"#9c179e\"],[0.4444444444444444,\"#bd3786\"],[0.5555555555555556,\"#d8576b\"],[0.6666666666666666,\"#ed7953\"],[0.7777777777777778,\"#fb9f3a\"],[0.8888888888888888,\"#fdca26\"],[1.0,\"#f0f921\"]],\"type\":\"histogram2dcontour\"}],\"histogram2d\":[{\"colorbar\":{\"outlinewidth\":0,\"ticks\":\"\"},\"colorscale\":[[0.0,\"#0d0887\"],[0.1111111111111111,\"#46039f\"],[0.2222222222222222,\"#7201a8\"],[0.3333333333333333,\"#9c179e\"],[0.4444444444444444,\"#bd3786\"],[0.5555555555555556,\"#d8576b\"],[0.6666666666666666,\"#ed7953\"],[0.7777777777777778,\"#fb9f3a\"],[0.8888888888888888,\"#fdca26\"],[1.0,\"#f0f921\"]],\"type\":\"histogram2d\"}],\"histogram\":[{\"marker\":{\"pattern\":{\"fillmode\":\"overlay\",\"size\":10,\"solidity\":0.2}},\"type\":\"histogram\"}],\"mesh3d\":[{\"colorbar\":{\"outlinewidth\":0,\"ticks\":\"\"},\"type\":\"mesh3d\"}],\"parcoords\":[{\"line\":{\"colorbar\":{\"outlinewidth\":0,\"ticks\":\"\"}},\"type\":\"parcoords\"}],\"pie\":[{\"automargin\":true,\"type\":\"pie\"}],\"scatter3d\":[{\"line\":{\"colorbar\":{\"outlinewidth\":0,\"ticks\":\"\"}},\"marker\":{\"colorbar\":{\"outlinewidth\":0,\"ticks\":\"\"}},\"type\":\"scatter3d\"}],\"scattercarpet\":[{\"marker\":{\"colorbar\":{\"outlinewidth\":0,\"ticks\":\"\"}},\"type\":\"scattercarpet\"}],\"scattergeo\":[{\"marker\":{\"colorbar\":{\"outlinewidth\":0,\"ticks\":\"\"}},\"type\":\"scattergeo\"}],\"scattergl\":[{\"marker\":{\"colorbar\":{\"outlinewidth\":0,\"ticks\":\"\"}},\"type\":\"scattergl\"}],\"scattermapbox\":[{\"marker\":{\"colorbar\":{\"outlinewidth\":0,\"ticks\":\"\"}},\"type\":\"scattermapbox\"}],\"scatterpolargl\":[{\"marker\":{\"colorbar\":{\"outlinewidth\":0,\"ticks\":\"\"}},\"type\":\"scatterpolargl\"}],\"scatterpolar\":[{\"marker\":{\"colorbar\":{\"outlinewidth\":0,\"ticks\":\"\"}},\"type\":\"scatterpolar\"}],\"scatter\":[{\"fillpattern\":{\"fillmode\":\"overlay\",\"size\":10,\"solidity\":0.2},\"type\":\"scatter\"}],\"scatterternary\":[{\"marker\":{\"colorbar\":{\"outlinewidth\":0,\"ticks\":\"\"}},\"type\":\"scatterternary\"}],\"surface\":[{\"colorbar\":{\"outlinewidth\":0,\"ticks\":\"\"},\"colorscale\":[[0.0,\"#0d0887\"],[0.1111111111111111,\"#46039f\"],[0.2222222222222222,\"#7201a8\"],[0.3333333333333333,\"#9c179e\"],[0.4444444444444444,\"#bd3786\"],[0.5555555555555556,\"#d8576b\"],[0.6666666666666666,\"#ed7953\"],[0.7777777777777778,\"#fb9f3a\"],[0.8888888888888888,\"#fdca26\"],[1.0,\"#f0f921\"]],\"type\":\"surface\"}],\"table\":[{\"cells\":{\"fill\":{\"color\":\"#EBF0F8\"},\"line\":{\"color\":\"white\"}},\"header\":{\"fill\":{\"color\":\"#C8D4E3\"},\"line\":{\"color\":\"white\"}},\"type\":\"table\"}]},\"layout\":{\"annotationdefaults\":{\"arrowcolor\":\"#2a3f5f\",\"arrowhead\":0,\"arrowwidth\":1},\"autotypenumbers\":\"strict\",\"coloraxis\":{\"colorbar\":{\"outlinewidth\":0,\"ticks\":\"\"}},\"colorscale\":{\"diverging\":[[0,\"#8e0152\"],[0.1,\"#c51b7d\"],[0.2,\"#de77ae\"],[0.3,\"#f1b6da\"],[0.4,\"#fde0ef\"],[0.5,\"#f7f7f7\"],[0.6,\"#e6f5d0\"],[0.7,\"#b8e186\"],[0.8,\"#7fbc41\"],[0.9,\"#4d9221\"],[1,\"#276419\"]],\"sequential\":[[0.0,\"#0d0887\"],[0.1111111111111111,\"#46039f\"],[0.2222222222222222,\"#7201a8\"],[0.3333333333333333,\"#9c179e\"],[0.4444444444444444,\"#bd3786\"],[0.5555555555555556,\"#d8576b\"],[0.6666666666666666,\"#ed7953\"],[0.7777777777777778,\"#fb9f3a\"],[0.8888888888888888,\"#fdca26\"],[1.0,\"#f0f921\"]],\"sequentialminus\":[[0.0,\"#0d0887\"],[0.1111111111111111,\"#46039f\"],[0.2222222222222222,\"#7201a8\"],[0.3333333333333333,\"#9c179e\"],[0.4444444444444444,\"#bd3786\"],[0.5555555555555556,\"#d8576b\"],[0.6666666666666666,\"#ed7953\"],[0.7777777777777778,\"#fb9f3a\"],[0.8888888888888888,\"#fdca26\"],[1.0,\"#f0f921\"]]},\"colorway\":[\"#636efa\",\"#EF553B\",\"#00cc96\",\"#ab63fa\",\"#FFA15A\",\"#19d3f3\",\"#FF6692\",\"#B6E880\",\"#FF97FF\",\"#FECB52\"],\"font\":{\"color\":\"#2a3f5f\"},\"geo\":{\"bgcolor\":\"white\",\"lakecolor\":\"white\",\"landcolor\":\"#E5ECF6\",\"showlakes\":true,\"showland\":true,\"subunitcolor\":\"white\"},\"hoverlabel\":{\"align\":\"left\"},\"hovermode\":\"closest\",\"mapbox\":{\"style\":\"light\"},\"paper_bgcolor\":\"white\",\"plot_bgcolor\":\"#E5ECF6\",\"polar\":{\"angularaxis\":{\"gridcolor\":\"white\",\"linecolor\":\"white\",\"ticks\":\"\"},\"bgcolor\":\"#E5ECF6\",\"radialaxis\":{\"gridcolor\":\"white\",\"linecolor\":\"white\",\"ticks\":\"\"}},\"scene\":{\"xaxis\":{\"backgroundcolor\":\"#E5ECF6\",\"gridcolor\":\"white\",\"gridwidth\":2,\"linecolor\":\"white\",\"showbackground\":true,\"ticks\":\"\",\"zerolinecolor\":\"white\"},\"yaxis\":{\"backgroundcolor\":\"#E5ECF6\",\"gridcolor\":\"white\",\"gridwidth\":2,\"linecolor\":\"white\",\"showbackground\":true,\"ticks\":\"\",\"zerolinecolor\":\"white\"},\"zaxis\":{\"backgroundcolor\":\"#E5ECF6\",\"gridcolor\":\"white\",\"gridwidth\":2,\"linecolor\":\"white\",\"showbackground\":true,\"ticks\":\"\",\"zerolinecolor\":\"white\"}},\"shapedefaults\":{\"line\":{\"color\":\"#2a3f5f\"}},\"ternary\":{\"aaxis\":{\"gridcolor\":\"white\",\"linecolor\":\"white\",\"ticks\":\"\"},\"baxis\":{\"gridcolor\":\"white\",\"linecolor\":\"white\",\"ticks\":\"\"},\"bgcolor\":\"#E5ECF6\",\"caxis\":{\"gridcolor\":\"white\",\"linecolor\":\"white\",\"ticks\":\"\"}},\"title\":{\"x\":0.05},\"xaxis\":{\"automargin\":true,\"gridcolor\":\"white\",\"linecolor\":\"white\",\"ticks\":\"\",\"title\":{\"standoff\":15},\"zerolinecolor\":\"white\",\"zerolinewidth\":2},\"yaxis\":{\"automargin\":true,\"gridcolor\":\"white\",\"linecolor\":\"white\",\"ticks\":\"\",\"title\":{\"standoff\":15},\"zerolinecolor\":\"white\",\"zerolinewidth\":2}}},\"title\":{\"font\":{\"color\":\"#4D5663\"}},\"xaxis\":{\"gridcolor\":\"#E1E5ED\",\"showgrid\":true,\"tickfont\":{\"color\":\"#4D5663\"},\"title\":{\"font\":{\"color\":\"#4D5663\"},\"text\":\"\"},\"zerolinecolor\":\"#E1E5ED\"},\"yaxis\":{\"gridcolor\":\"#E1E5ED\",\"showgrid\":true,\"tickfont\":{\"color\":\"#4D5663\"},\"title\":{\"font\":{\"color\":\"#4D5663\"},\"text\":\"\"},\"zerolinecolor\":\"#E1E5ED\"}},                        {\"showLink\": true, \"linkText\": \"Export to plot.ly\", \"plotlyServerURL\": \"https://plot.ly\", \"responsive\": true}                    ).then(function(){\n",
       "                            \n",
       "var gd = document.getElementById('8a44a030-032b-48d6-8750-8748028f62af');\n",
       "var x = new MutationObserver(function (mutations, observer) {{\n",
       "        var display = window.getComputedStyle(gd).display;\n",
       "        if (!display || display === 'none') {{\n",
       "            console.log([gd, 'removed!']);\n",
       "            Plotly.purge(gd);\n",
       "            observer.disconnect();\n",
       "        }}\n",
       "}});\n",
       "\n",
       "// Listen for the removal of the full notebook cells\n",
       "var notebookContainer = gd.closest('#notebook-container');\n",
       "if (notebookContainer) {{\n",
       "    x.observe(notebookContainer, {childList: true});\n",
       "}}\n",
       "\n",
       "// Listen for the clearing of the current output cell\n",
       "var outputEl = gd.closest('.output');\n",
       "if (outputEl) {{\n",
       "    x.observe(outputEl, {childList: true});\n",
       "}}\n",
       "\n",
       "                        })                };                });            </script>        </div>"
      ]
     },
     "metadata": {},
     "output_type": "display_data"
    }
   ],
   "source": [
    "df3 = pd.DataFrame({'x':[1,2,3,4,5],'y':[10,20,30,20,10],'z':[5,4,3,2,1]})\n",
    "df3.iplot(kind='surface',colorscale='rdylbu')"
   ]
  },
  {
   "cell_type": "markdown",
   "metadata": {},
   "source": [
    "# Scatter Matrix"
   ]
  },
  {
   "cell_type": "markdown",
   "metadata": {},
   "source": [
    "for this, we define another dataset based on numerical values"
   ]
  },
  {
   "cell_type": "code",
   "execution_count": 18,
   "metadata": {},
   "outputs": [
    {
     "data": {
      "text/html": [
       "<div>\n",
       "<style scoped>\n",
       "    .dataframe tbody tr th:only-of-type {\n",
       "        vertical-align: middle;\n",
       "    }\n",
       "\n",
       "    .dataframe tbody tr th {\n",
       "        vertical-align: top;\n",
       "    }\n",
       "\n",
       "    .dataframe thead th {\n",
       "        text-align: right;\n",
       "    }\n",
       "</style>\n",
       "<table border=\"1\" class=\"dataframe\">\n",
       "  <thead>\n",
       "    <tr style=\"text-align: right;\">\n",
       "      <th></th>\n",
       "      <th>A</th>\n",
       "      <th>B</th>\n",
       "      <th>C</th>\n",
       "    </tr>\n",
       "  </thead>\n",
       "  <tbody>\n",
       "    <tr>\n",
       "      <th>0</th>\n",
       "      <td>-1.033055</td>\n",
       "      <td>0.566923</td>\n",
       "      <td>0.524032</td>\n",
       "    </tr>\n",
       "    <tr>\n",
       "      <th>1</th>\n",
       "      <td>-0.944763</td>\n",
       "      <td>0.876629</td>\n",
       "      <td>-1.281858</td>\n",
       "    </tr>\n",
       "    <tr>\n",
       "      <th>2</th>\n",
       "      <td>0.661494</td>\n",
       "      <td>-0.727359</td>\n",
       "      <td>0.294841</td>\n",
       "    </tr>\n",
       "    <tr>\n",
       "      <th>3</th>\n",
       "      <td>1.143202</td>\n",
       "      <td>1.430562</td>\n",
       "      <td>0.041658</td>\n",
       "    </tr>\n",
       "    <tr>\n",
       "      <th>4</th>\n",
       "      <td>-0.881704</td>\n",
       "      <td>-0.794295</td>\n",
       "      <td>0.673563</td>\n",
       "    </tr>\n",
       "  </tbody>\n",
       "</table>\n",
       "</div>"
      ],
      "text/plain": [
       "          A         B         C\n",
       "0 -1.033055  0.566923  0.524032\n",
       "1 -0.944763  0.876629 -1.281858\n",
       "2  0.661494 -0.727359  0.294841\n",
       "3  1.143202  1.430562  0.041658\n",
       "4 -0.881704 -0.794295  0.673563"
      ]
     },
     "execution_count": 18,
     "metadata": {},
     "output_type": "execute_result"
    }
   ],
   "source": [
    "# a dataframe using numpy with 100 rows and 3 columns\n",
    "arr = np.random.randn(100, 3)\n",
    "df_numeric = pd.DataFrame(arr_1, columns=['A','B','C'])\n",
    "df_numeric.head()"
   ]
  },
  {
   "cell_type": "code",
   "execution_count": 19,
   "metadata": {},
   "outputs": [
    {
     "data": {
      "application/vnd.plotly.v1+json": {
       "config": {
        "linkText": "Export to plot.ly",
        "plotlyServerURL": "https://plot.ly",
        "showLink": true
       },
       "data": [
        {
         "histfunc": "count",
         "histnorm": "",
         "marker": {
          "color": "rgba(255, 153, 51, 1.0)",
          "line": {
           "color": "#4D5663",
           "width": 1.3
          }
         },
         "name": "A",
         "nbinsx": 10,
         "opacity": 0.8,
         "orientation": "v",
         "type": "histogram",
         "x": [
          -1.033054557149968,
          -0.9447631964877081,
          0.6614935437102547,
          1.1432021994205641,
          -0.881703685959822,
          0.20981467074620108,
          0.4675714971357549,
          0.30207617900058414,
          -2.140651579925566,
          -0.6025197439089002,
          0.44644296012602647,
          -0.1207051342616133,
          -1.9075736360884976,
          0.1982347091080541,
          1.2667418626750608,
          -0.5137913197849076,
          0.9240263969943613,
          -1.0804597800557079,
          -0.556601127554471,
          -0.5707296105347224,
          -1.2023656928053807,
          -0.6918827840839002,
          -1.353698782877351,
          -0.2509251366401465,
          1.7623118439384375,
          0.4901622994301756,
          -0.602261275113419,
          -0.14728697455957057,
          -1.333403877821013,
          0.3762114659516428,
          1.9277594027821363,
          -0.29846966778195755,
          -0.4247699856509981,
          -0.8930418732262699,
          -0.37005969592756216,
          -0.1602094228108446,
          -0.9490802186937405,
          0.8909471555383717,
          1.092741705044151,
          -1.228951017028698,
          1.245480797434885,
          -0.2283784530197112,
          -0.5191307956744338,
          -0.4271527073555195,
          0.6581640144756709,
          0.48456021217174833,
          -1.1037018137984387,
          1.496106101639429,
          -1.7483599959373142,
          0.1423402551052957,
          -0.1768337680710909,
          0.6088743097030376,
          -1.1774045737448684,
          -0.2985508290123847,
          0.9134716516701819,
          1.0760667499982635,
          -0.4031462098346326,
          0.16725760390026084,
          0.792368485363887,
          -2.1083005126594765,
          0.574963853829838,
          -1.4096359158679268,
          -0.28146896151120193,
          -2.568636597303144,
          1.6278889288684832,
          -0.93982733027261,
          -0.08660544870275479,
          -0.8577488500213871,
          0.9623175081785798,
          0.2323851945851437,
          -1.6203416929329397,
          -0.6033892665757813,
          0.6930641441100173,
          0.24908032521003376,
          0.4735401415469657,
          0.3322765166169506,
          0.07695599270883098,
          0.8104630265514642,
          0.01319679992750227,
          -0.4623078874786229,
          -1.2849233084875498,
          1.4426486230036524,
          0.45841678556274995,
          -0.7162255811144571,
          -0.04243239656239601,
          0.17968031392172545,
          -1.7507769873053525,
          -0.90140424994952,
          0.7922263507561726,
          -1.2940652059156423,
          0.4690045250714445,
          -1.06478799433691,
          0.3028034834679436,
          0.637771443393043,
          0.6627666239233564,
          1.0948412896128021,
          -0.31005818221952847,
          0.4968432747864927,
          -1.7344573352603403,
          1.5099116246667956
         ],
         "xaxis": "x",
         "yaxis": "y"
        },
        {
         "line": {
          "color": "rgba(128, 128, 128, 1.0)",
          "dash": "solid",
          "shape": "linear",
          "width": 1.3
         },
         "marker": {
          "size": 2,
          "symbol": "circle"
         },
         "mode": "markers",
         "name": "A",
         "text": "",
         "type": "scatter",
         "x": [
          0.5669227874209756,
          0.876628774868819,
          -0.7273594292138338,
          1.4305615475189244,
          -0.7942951604178743,
          0.38565489564719807,
          0.6062439728426132,
          0.5845234557149154,
          -1.2678773652996131,
          0.08580404826572388,
          -0.9631502896732222,
          0.15868439466045228,
          0.2588834222675947,
          -0.12267277070886082,
          -0.37134579866912487,
          0.5456553387098986,
          -1.6103426603007174,
          -0.9652802063518969,
          -1.5535531797797926,
          0.7066562570191298,
          0.7641623086399777,
          0.5660683603612852,
          0.03694356062188423,
          2.729848298265021,
          0.24136636134493017,
          2.524976974846444,
          -0.21102321266568405,
          1.0273338761618662,
          0.4850989610432347,
          0.05629502139004537,
          0.9079336638068392,
          0.031035112111715703,
          1.6319366601922278,
          -1.9761262501252943,
          1.023326022481378,
          -1.4535063457650306,
          0.4780832497016251,
          1.7038152473616048,
          -1.5210639303648146,
          -1.5631563616898365,
          -0.953756969674632,
          -0.9355089349922378,
          1.4547504173789754,
          2.126270607571978,
          -0.5874192739455492,
          0.8275724643420516,
          0.5501318469167297,
          1.5165706004299866,
          0.041681308803413974,
          1.2288760499138882,
          -1.4530556610761614,
          0.3521047181801425,
          0.37101497440306314,
          -0.23665023886305828,
          -1.7206200038024912,
          2.0488792614981897,
          -0.1739266101959704,
          0.2074374286553849,
          -0.093355497190572,
          0.5799754032266968,
          2.1994123319977708,
          -0.28178243255033436,
          -0.46800774446168075,
          0.27836889342288346,
          1.7927368224208309,
          1.0423877161666988,
          -0.41046953904836003,
          -1.0950844225088552,
          -1.1694551351794975,
          -1.7825695899572074,
          -0.8242246505871773,
          -0.6680401796708747,
          0.26680473975958807,
          -0.2603188445706859,
          -0.7585139589492308,
          -1.6446327352209966,
          -0.7296457499922089,
          -0.17504485184396723,
          1.0879454665012345,
          0.5039471622653162,
          -1.799982126928582,
          -0.42643785009997925,
          0.1263906774643471,
          0.052245204945613265,
          0.13243375796686324,
          0.10353103474315886,
          -0.9380115619193468,
          -0.05390343205752204,
          1.2470655631948842,
          -0.2638989256432248,
          1.0756701405284956,
          0.6205709480175456,
          -1.880545157183852,
          0.43579600897938947,
          -0.8471904909757707,
          2.092500604908823,
          0.3466732836300478,
          0.7805686190795246,
          0.7737973815386837,
          -0.3949628512330703
         ],
         "xaxis": "x2",
         "y": [
          -1.033054557149968,
          -0.9447631964877081,
          0.6614935437102547,
          1.1432021994205641,
          -0.881703685959822,
          0.20981467074620108,
          0.4675714971357549,
          0.30207617900058414,
          -2.140651579925566,
          -0.6025197439089002,
          0.44644296012602647,
          -0.1207051342616133,
          -1.9075736360884976,
          0.1982347091080541,
          1.2667418626750608,
          -0.5137913197849076,
          0.9240263969943613,
          -1.0804597800557079,
          -0.556601127554471,
          -0.5707296105347224,
          -1.2023656928053807,
          -0.6918827840839002,
          -1.353698782877351,
          -0.2509251366401465,
          1.7623118439384375,
          0.4901622994301756,
          -0.602261275113419,
          -0.14728697455957057,
          -1.333403877821013,
          0.3762114659516428,
          1.9277594027821363,
          -0.29846966778195755,
          -0.4247699856509981,
          -0.8930418732262699,
          -0.37005969592756216,
          -0.1602094228108446,
          -0.9490802186937405,
          0.8909471555383717,
          1.092741705044151,
          -1.228951017028698,
          1.245480797434885,
          -0.2283784530197112,
          -0.5191307956744338,
          -0.4271527073555195,
          0.6581640144756709,
          0.48456021217174833,
          -1.1037018137984387,
          1.496106101639429,
          -1.7483599959373142,
          0.1423402551052957,
          -0.1768337680710909,
          0.6088743097030376,
          -1.1774045737448684,
          -0.2985508290123847,
          0.9134716516701819,
          1.0760667499982635,
          -0.4031462098346326,
          0.16725760390026084,
          0.792368485363887,
          -2.1083005126594765,
          0.574963853829838,
          -1.4096359158679268,
          -0.28146896151120193,
          -2.568636597303144,
          1.6278889288684832,
          -0.93982733027261,
          -0.08660544870275479,
          -0.8577488500213871,
          0.9623175081785798,
          0.2323851945851437,
          -1.6203416929329397,
          -0.6033892665757813,
          0.6930641441100173,
          0.24908032521003376,
          0.4735401415469657,
          0.3322765166169506,
          0.07695599270883098,
          0.8104630265514642,
          0.01319679992750227,
          -0.4623078874786229,
          -1.2849233084875498,
          1.4426486230036524,
          0.45841678556274995,
          -0.7162255811144571,
          -0.04243239656239601,
          0.17968031392172545,
          -1.7507769873053525,
          -0.90140424994952,
          0.7922263507561726,
          -1.2940652059156423,
          0.4690045250714445,
          -1.06478799433691,
          0.3028034834679436,
          0.637771443393043,
          0.6627666239233564,
          1.0948412896128021,
          -0.31005818221952847,
          0.4968432747864927,
          -1.7344573352603403,
          1.5099116246667956
         ],
         "yaxis": "y2"
        },
        {
         "line": {
          "color": "rgba(128, 128, 128, 1.0)",
          "dash": "solid",
          "shape": "linear",
          "width": 1.3
         },
         "marker": {
          "size": 2,
          "symbol": "circle"
         },
         "mode": "markers",
         "name": "A",
         "text": "",
         "type": "scatter",
         "x": [
          0.5240321107968314,
          -1.2818581314473803,
          0.29484052235223956,
          0.04165826086464471,
          0.673562735726411,
          -0.5601508401353184,
          0.10726761840353928,
          0.9034369673793241,
          -0.20848844369028255,
          0.009077219990422502,
          0.7614881923065624,
          -1.0353072004432662,
          -0.39706218441949637,
          0.0442455652201715,
          -0.024632996341245238,
          -0.38871636991009345,
          0.714862686789878,
          -0.13754628958159562,
          -1.1566614879186157,
          -1.0264131444337994,
          -0.8382160927778828,
          -0.6556304084279646,
          1.2316927466243321,
          -0.6690200597586026,
          0.03950139197534639,
          -0.3764604385795641,
          0.5231917628756628,
          -1.0949165193504358,
          -0.4062943733719469,
          0.20202882461753316,
          -0.04815711255121329,
          -0.17218031521835345,
          0.17340466663122242,
          -0.24623471509870715,
          0.03627476629254057,
          1.1435904937853418,
          -0.9212807620573791,
          1.4350741410088304,
          -1.1431022704267602,
          1.305670675193548,
          -0.7270112851807574,
          0.08137940653876674,
          1.0478914571278963,
          -1.0303912428911377,
          -1.316778030555177,
          -2.5253699493660635,
          -0.8220574669467124,
          0.6478481678635425,
          0.7459879739678887,
          0.5193981092991432,
          -0.09680067245936409,
          0.10445605150325764,
          -0.5296831622938263,
          0.5755508530690508,
          -2.079105326549701,
          1.347534957467463,
          0.0450399204872343,
          -0.41845755566805026,
          0.44765905337545375,
          -0.8932714671991978,
          -0.42099852370267304,
          -0.5181341492461724,
          -1.0967877621179967,
          -0.5402499306481223,
          0.7574772982615179,
          0.8247147718804475,
          -0.30791165875502974,
          0.2127858486712444,
          -0.31921310603954145,
          -0.5683191422926578,
          -0.10685958754465645,
          0.7743561972941484,
          0.3219980656879739,
          0.7046720004248032,
          1.2928070538842928,
          1.2750030276034225,
          -0.22650910764134566,
          1.1456731869609518,
          1.3365090289776138,
          -1.2508071155680949,
          -1.9923237639781415,
          -0.20495068753879114,
          -0.2694270737460097,
          0.10482884980777825,
          1.9041450369951045,
          -1.2769613061557723,
          0.3233566115975954,
          0.12469744378102753,
          0.3028245227845009,
          2.2260930908774936,
          -0.13766818045678908,
          0.4135358328952993,
          0.3449980628933821,
          1.1948260701669133,
          -0.4515983717504652,
          2.175838491281581,
          0.441503760528067,
          -0.20893048332480352,
          1.6611142804331533,
          0.5618752406900925
         ],
         "xaxis": "x3",
         "y": [
          -1.033054557149968,
          -0.9447631964877081,
          0.6614935437102547,
          1.1432021994205641,
          -0.881703685959822,
          0.20981467074620108,
          0.4675714971357549,
          0.30207617900058414,
          -2.140651579925566,
          -0.6025197439089002,
          0.44644296012602647,
          -0.1207051342616133,
          -1.9075736360884976,
          0.1982347091080541,
          1.2667418626750608,
          -0.5137913197849076,
          0.9240263969943613,
          -1.0804597800557079,
          -0.556601127554471,
          -0.5707296105347224,
          -1.2023656928053807,
          -0.6918827840839002,
          -1.353698782877351,
          -0.2509251366401465,
          1.7623118439384375,
          0.4901622994301756,
          -0.602261275113419,
          -0.14728697455957057,
          -1.333403877821013,
          0.3762114659516428,
          1.9277594027821363,
          -0.29846966778195755,
          -0.4247699856509981,
          -0.8930418732262699,
          -0.37005969592756216,
          -0.1602094228108446,
          -0.9490802186937405,
          0.8909471555383717,
          1.092741705044151,
          -1.228951017028698,
          1.245480797434885,
          -0.2283784530197112,
          -0.5191307956744338,
          -0.4271527073555195,
          0.6581640144756709,
          0.48456021217174833,
          -1.1037018137984387,
          1.496106101639429,
          -1.7483599959373142,
          0.1423402551052957,
          -0.1768337680710909,
          0.6088743097030376,
          -1.1774045737448684,
          -0.2985508290123847,
          0.9134716516701819,
          1.0760667499982635,
          -0.4031462098346326,
          0.16725760390026084,
          0.792368485363887,
          -2.1083005126594765,
          0.574963853829838,
          -1.4096359158679268,
          -0.28146896151120193,
          -2.568636597303144,
          1.6278889288684832,
          -0.93982733027261,
          -0.08660544870275479,
          -0.8577488500213871,
          0.9623175081785798,
          0.2323851945851437,
          -1.6203416929329397,
          -0.6033892665757813,
          0.6930641441100173,
          0.24908032521003376,
          0.4735401415469657,
          0.3322765166169506,
          0.07695599270883098,
          0.8104630265514642,
          0.01319679992750227,
          -0.4623078874786229,
          -1.2849233084875498,
          1.4426486230036524,
          0.45841678556274995,
          -0.7162255811144571,
          -0.04243239656239601,
          0.17968031392172545,
          -1.7507769873053525,
          -0.90140424994952,
          0.7922263507561726,
          -1.2940652059156423,
          0.4690045250714445,
          -1.06478799433691,
          0.3028034834679436,
          0.637771443393043,
          0.6627666239233564,
          1.0948412896128021,
          -0.31005818221952847,
          0.4968432747864927,
          -1.7344573352603403,
          1.5099116246667956
         ],
         "yaxis": "y3"
        },
        {
         "line": {
          "color": "rgba(128, 128, 128, 1.0)",
          "dash": "solid",
          "shape": "linear",
          "width": 1.3
         },
         "marker": {
          "size": 2,
          "symbol": "circle"
         },
         "mode": "markers",
         "name": "B",
         "text": "",
         "type": "scatter",
         "x": [
          -1.033054557149968,
          -0.9447631964877081,
          0.6614935437102547,
          1.1432021994205641,
          -0.881703685959822,
          0.20981467074620108,
          0.4675714971357549,
          0.30207617900058414,
          -2.140651579925566,
          -0.6025197439089002,
          0.44644296012602647,
          -0.1207051342616133,
          -1.9075736360884976,
          0.1982347091080541,
          1.2667418626750608,
          -0.5137913197849076,
          0.9240263969943613,
          -1.0804597800557079,
          -0.556601127554471,
          -0.5707296105347224,
          -1.2023656928053807,
          -0.6918827840839002,
          -1.353698782877351,
          -0.2509251366401465,
          1.7623118439384375,
          0.4901622994301756,
          -0.602261275113419,
          -0.14728697455957057,
          -1.333403877821013,
          0.3762114659516428,
          1.9277594027821363,
          -0.29846966778195755,
          -0.4247699856509981,
          -0.8930418732262699,
          -0.37005969592756216,
          -0.1602094228108446,
          -0.9490802186937405,
          0.8909471555383717,
          1.092741705044151,
          -1.228951017028698,
          1.245480797434885,
          -0.2283784530197112,
          -0.5191307956744338,
          -0.4271527073555195,
          0.6581640144756709,
          0.48456021217174833,
          -1.1037018137984387,
          1.496106101639429,
          -1.7483599959373142,
          0.1423402551052957,
          -0.1768337680710909,
          0.6088743097030376,
          -1.1774045737448684,
          -0.2985508290123847,
          0.9134716516701819,
          1.0760667499982635,
          -0.4031462098346326,
          0.16725760390026084,
          0.792368485363887,
          -2.1083005126594765,
          0.574963853829838,
          -1.4096359158679268,
          -0.28146896151120193,
          -2.568636597303144,
          1.6278889288684832,
          -0.93982733027261,
          -0.08660544870275479,
          -0.8577488500213871,
          0.9623175081785798,
          0.2323851945851437,
          -1.6203416929329397,
          -0.6033892665757813,
          0.6930641441100173,
          0.24908032521003376,
          0.4735401415469657,
          0.3322765166169506,
          0.07695599270883098,
          0.8104630265514642,
          0.01319679992750227,
          -0.4623078874786229,
          -1.2849233084875498,
          1.4426486230036524,
          0.45841678556274995,
          -0.7162255811144571,
          -0.04243239656239601,
          0.17968031392172545,
          -1.7507769873053525,
          -0.90140424994952,
          0.7922263507561726,
          -1.2940652059156423,
          0.4690045250714445,
          -1.06478799433691,
          0.3028034834679436,
          0.637771443393043,
          0.6627666239233564,
          1.0948412896128021,
          -0.31005818221952847,
          0.4968432747864927,
          -1.7344573352603403,
          1.5099116246667956
         ],
         "xaxis": "x4",
         "y": [
          0.5669227874209756,
          0.876628774868819,
          -0.7273594292138338,
          1.4305615475189244,
          -0.7942951604178743,
          0.38565489564719807,
          0.6062439728426132,
          0.5845234557149154,
          -1.2678773652996131,
          0.08580404826572388,
          -0.9631502896732222,
          0.15868439466045228,
          0.2588834222675947,
          -0.12267277070886082,
          -0.37134579866912487,
          0.5456553387098986,
          -1.6103426603007174,
          -0.9652802063518969,
          -1.5535531797797926,
          0.7066562570191298,
          0.7641623086399777,
          0.5660683603612852,
          0.03694356062188423,
          2.729848298265021,
          0.24136636134493017,
          2.524976974846444,
          -0.21102321266568405,
          1.0273338761618662,
          0.4850989610432347,
          0.05629502139004537,
          0.9079336638068392,
          0.031035112111715703,
          1.6319366601922278,
          -1.9761262501252943,
          1.023326022481378,
          -1.4535063457650306,
          0.4780832497016251,
          1.7038152473616048,
          -1.5210639303648146,
          -1.5631563616898365,
          -0.953756969674632,
          -0.9355089349922378,
          1.4547504173789754,
          2.126270607571978,
          -0.5874192739455492,
          0.8275724643420516,
          0.5501318469167297,
          1.5165706004299866,
          0.041681308803413974,
          1.2288760499138882,
          -1.4530556610761614,
          0.3521047181801425,
          0.37101497440306314,
          -0.23665023886305828,
          -1.7206200038024912,
          2.0488792614981897,
          -0.1739266101959704,
          0.2074374286553849,
          -0.093355497190572,
          0.5799754032266968,
          2.1994123319977708,
          -0.28178243255033436,
          -0.46800774446168075,
          0.27836889342288346,
          1.7927368224208309,
          1.0423877161666988,
          -0.41046953904836003,
          -1.0950844225088552,
          -1.1694551351794975,
          -1.7825695899572074,
          -0.8242246505871773,
          -0.6680401796708747,
          0.26680473975958807,
          -0.2603188445706859,
          -0.7585139589492308,
          -1.6446327352209966,
          -0.7296457499922089,
          -0.17504485184396723,
          1.0879454665012345,
          0.5039471622653162,
          -1.799982126928582,
          -0.42643785009997925,
          0.1263906774643471,
          0.052245204945613265,
          0.13243375796686324,
          0.10353103474315886,
          -0.9380115619193468,
          -0.05390343205752204,
          1.2470655631948842,
          -0.2638989256432248,
          1.0756701405284956,
          0.6205709480175456,
          -1.880545157183852,
          0.43579600897938947,
          -0.8471904909757707,
          2.092500604908823,
          0.3466732836300478,
          0.7805686190795246,
          0.7737973815386837,
          -0.3949628512330703
         ],
         "yaxis": "y4"
        },
        {
         "histfunc": "count",
         "histnorm": "",
         "marker": {
          "color": "rgba(55, 128, 191, 1.0)",
          "line": {
           "color": "#4D5663",
           "width": 1.3
          }
         },
         "name": "B",
         "nbinsx": 10,
         "opacity": 0.8,
         "orientation": "v",
         "type": "histogram",
         "x": [
          0.5669227874209756,
          0.876628774868819,
          -0.7273594292138338,
          1.4305615475189244,
          -0.7942951604178743,
          0.38565489564719807,
          0.6062439728426132,
          0.5845234557149154,
          -1.2678773652996131,
          0.08580404826572388,
          -0.9631502896732222,
          0.15868439466045228,
          0.2588834222675947,
          -0.12267277070886082,
          -0.37134579866912487,
          0.5456553387098986,
          -1.6103426603007174,
          -0.9652802063518969,
          -1.5535531797797926,
          0.7066562570191298,
          0.7641623086399777,
          0.5660683603612852,
          0.03694356062188423,
          2.729848298265021,
          0.24136636134493017,
          2.524976974846444,
          -0.21102321266568405,
          1.0273338761618662,
          0.4850989610432347,
          0.05629502139004537,
          0.9079336638068392,
          0.031035112111715703,
          1.6319366601922278,
          -1.9761262501252943,
          1.023326022481378,
          -1.4535063457650306,
          0.4780832497016251,
          1.7038152473616048,
          -1.5210639303648146,
          -1.5631563616898365,
          -0.953756969674632,
          -0.9355089349922378,
          1.4547504173789754,
          2.126270607571978,
          -0.5874192739455492,
          0.8275724643420516,
          0.5501318469167297,
          1.5165706004299866,
          0.041681308803413974,
          1.2288760499138882,
          -1.4530556610761614,
          0.3521047181801425,
          0.37101497440306314,
          -0.23665023886305828,
          -1.7206200038024912,
          2.0488792614981897,
          -0.1739266101959704,
          0.2074374286553849,
          -0.093355497190572,
          0.5799754032266968,
          2.1994123319977708,
          -0.28178243255033436,
          -0.46800774446168075,
          0.27836889342288346,
          1.7927368224208309,
          1.0423877161666988,
          -0.41046953904836003,
          -1.0950844225088552,
          -1.1694551351794975,
          -1.7825695899572074,
          -0.8242246505871773,
          -0.6680401796708747,
          0.26680473975958807,
          -0.2603188445706859,
          -0.7585139589492308,
          -1.6446327352209966,
          -0.7296457499922089,
          -0.17504485184396723,
          1.0879454665012345,
          0.5039471622653162,
          -1.799982126928582,
          -0.42643785009997925,
          0.1263906774643471,
          0.052245204945613265,
          0.13243375796686324,
          0.10353103474315886,
          -0.9380115619193468,
          -0.05390343205752204,
          1.2470655631948842,
          -0.2638989256432248,
          1.0756701405284956,
          0.6205709480175456,
          -1.880545157183852,
          0.43579600897938947,
          -0.8471904909757707,
          2.092500604908823,
          0.3466732836300478,
          0.7805686190795246,
          0.7737973815386837,
          -0.3949628512330703
         ],
         "xaxis": "x5",
         "yaxis": "y5"
        },
        {
         "line": {
          "color": "rgba(128, 128, 128, 1.0)",
          "dash": "solid",
          "shape": "linear",
          "width": 1.3
         },
         "marker": {
          "size": 2,
          "symbol": "circle"
         },
         "mode": "markers",
         "name": "B",
         "text": "",
         "type": "scatter",
         "x": [
          0.5240321107968314,
          -1.2818581314473803,
          0.29484052235223956,
          0.04165826086464471,
          0.673562735726411,
          -0.5601508401353184,
          0.10726761840353928,
          0.9034369673793241,
          -0.20848844369028255,
          0.009077219990422502,
          0.7614881923065624,
          -1.0353072004432662,
          -0.39706218441949637,
          0.0442455652201715,
          -0.024632996341245238,
          -0.38871636991009345,
          0.714862686789878,
          -0.13754628958159562,
          -1.1566614879186157,
          -1.0264131444337994,
          -0.8382160927778828,
          -0.6556304084279646,
          1.2316927466243321,
          -0.6690200597586026,
          0.03950139197534639,
          -0.3764604385795641,
          0.5231917628756628,
          -1.0949165193504358,
          -0.4062943733719469,
          0.20202882461753316,
          -0.04815711255121329,
          -0.17218031521835345,
          0.17340466663122242,
          -0.24623471509870715,
          0.03627476629254057,
          1.1435904937853418,
          -0.9212807620573791,
          1.4350741410088304,
          -1.1431022704267602,
          1.305670675193548,
          -0.7270112851807574,
          0.08137940653876674,
          1.0478914571278963,
          -1.0303912428911377,
          -1.316778030555177,
          -2.5253699493660635,
          -0.8220574669467124,
          0.6478481678635425,
          0.7459879739678887,
          0.5193981092991432,
          -0.09680067245936409,
          0.10445605150325764,
          -0.5296831622938263,
          0.5755508530690508,
          -2.079105326549701,
          1.347534957467463,
          0.0450399204872343,
          -0.41845755566805026,
          0.44765905337545375,
          -0.8932714671991978,
          -0.42099852370267304,
          -0.5181341492461724,
          -1.0967877621179967,
          -0.5402499306481223,
          0.7574772982615179,
          0.8247147718804475,
          -0.30791165875502974,
          0.2127858486712444,
          -0.31921310603954145,
          -0.5683191422926578,
          -0.10685958754465645,
          0.7743561972941484,
          0.3219980656879739,
          0.7046720004248032,
          1.2928070538842928,
          1.2750030276034225,
          -0.22650910764134566,
          1.1456731869609518,
          1.3365090289776138,
          -1.2508071155680949,
          -1.9923237639781415,
          -0.20495068753879114,
          -0.2694270737460097,
          0.10482884980777825,
          1.9041450369951045,
          -1.2769613061557723,
          0.3233566115975954,
          0.12469744378102753,
          0.3028245227845009,
          2.2260930908774936,
          -0.13766818045678908,
          0.4135358328952993,
          0.3449980628933821,
          1.1948260701669133,
          -0.4515983717504652,
          2.175838491281581,
          0.441503760528067,
          -0.20893048332480352,
          1.6611142804331533,
          0.5618752406900925
         ],
         "xaxis": "x6",
         "y": [
          0.5669227874209756,
          0.876628774868819,
          -0.7273594292138338,
          1.4305615475189244,
          -0.7942951604178743,
          0.38565489564719807,
          0.6062439728426132,
          0.5845234557149154,
          -1.2678773652996131,
          0.08580404826572388,
          -0.9631502896732222,
          0.15868439466045228,
          0.2588834222675947,
          -0.12267277070886082,
          -0.37134579866912487,
          0.5456553387098986,
          -1.6103426603007174,
          -0.9652802063518969,
          -1.5535531797797926,
          0.7066562570191298,
          0.7641623086399777,
          0.5660683603612852,
          0.03694356062188423,
          2.729848298265021,
          0.24136636134493017,
          2.524976974846444,
          -0.21102321266568405,
          1.0273338761618662,
          0.4850989610432347,
          0.05629502139004537,
          0.9079336638068392,
          0.031035112111715703,
          1.6319366601922278,
          -1.9761262501252943,
          1.023326022481378,
          -1.4535063457650306,
          0.4780832497016251,
          1.7038152473616048,
          -1.5210639303648146,
          -1.5631563616898365,
          -0.953756969674632,
          -0.9355089349922378,
          1.4547504173789754,
          2.126270607571978,
          -0.5874192739455492,
          0.8275724643420516,
          0.5501318469167297,
          1.5165706004299866,
          0.041681308803413974,
          1.2288760499138882,
          -1.4530556610761614,
          0.3521047181801425,
          0.37101497440306314,
          -0.23665023886305828,
          -1.7206200038024912,
          2.0488792614981897,
          -0.1739266101959704,
          0.2074374286553849,
          -0.093355497190572,
          0.5799754032266968,
          2.1994123319977708,
          -0.28178243255033436,
          -0.46800774446168075,
          0.27836889342288346,
          1.7927368224208309,
          1.0423877161666988,
          -0.41046953904836003,
          -1.0950844225088552,
          -1.1694551351794975,
          -1.7825695899572074,
          -0.8242246505871773,
          -0.6680401796708747,
          0.26680473975958807,
          -0.2603188445706859,
          -0.7585139589492308,
          -1.6446327352209966,
          -0.7296457499922089,
          -0.17504485184396723,
          1.0879454665012345,
          0.5039471622653162,
          -1.799982126928582,
          -0.42643785009997925,
          0.1263906774643471,
          0.052245204945613265,
          0.13243375796686324,
          0.10353103474315886,
          -0.9380115619193468,
          -0.05390343205752204,
          1.2470655631948842,
          -0.2638989256432248,
          1.0756701405284956,
          0.6205709480175456,
          -1.880545157183852,
          0.43579600897938947,
          -0.8471904909757707,
          2.092500604908823,
          0.3466732836300478,
          0.7805686190795246,
          0.7737973815386837,
          -0.3949628512330703
         ],
         "yaxis": "y6"
        },
        {
         "line": {
          "color": "rgba(128, 128, 128, 1.0)",
          "dash": "solid",
          "shape": "linear",
          "width": 1.3
         },
         "marker": {
          "size": 2,
          "symbol": "circle"
         },
         "mode": "markers",
         "name": "C",
         "text": "",
         "type": "scatter",
         "x": [
          -1.033054557149968,
          -0.9447631964877081,
          0.6614935437102547,
          1.1432021994205641,
          -0.881703685959822,
          0.20981467074620108,
          0.4675714971357549,
          0.30207617900058414,
          -2.140651579925566,
          -0.6025197439089002,
          0.44644296012602647,
          -0.1207051342616133,
          -1.9075736360884976,
          0.1982347091080541,
          1.2667418626750608,
          -0.5137913197849076,
          0.9240263969943613,
          -1.0804597800557079,
          -0.556601127554471,
          -0.5707296105347224,
          -1.2023656928053807,
          -0.6918827840839002,
          -1.353698782877351,
          -0.2509251366401465,
          1.7623118439384375,
          0.4901622994301756,
          -0.602261275113419,
          -0.14728697455957057,
          -1.333403877821013,
          0.3762114659516428,
          1.9277594027821363,
          -0.29846966778195755,
          -0.4247699856509981,
          -0.8930418732262699,
          -0.37005969592756216,
          -0.1602094228108446,
          -0.9490802186937405,
          0.8909471555383717,
          1.092741705044151,
          -1.228951017028698,
          1.245480797434885,
          -0.2283784530197112,
          -0.5191307956744338,
          -0.4271527073555195,
          0.6581640144756709,
          0.48456021217174833,
          -1.1037018137984387,
          1.496106101639429,
          -1.7483599959373142,
          0.1423402551052957,
          -0.1768337680710909,
          0.6088743097030376,
          -1.1774045737448684,
          -0.2985508290123847,
          0.9134716516701819,
          1.0760667499982635,
          -0.4031462098346326,
          0.16725760390026084,
          0.792368485363887,
          -2.1083005126594765,
          0.574963853829838,
          -1.4096359158679268,
          -0.28146896151120193,
          -2.568636597303144,
          1.6278889288684832,
          -0.93982733027261,
          -0.08660544870275479,
          -0.8577488500213871,
          0.9623175081785798,
          0.2323851945851437,
          -1.6203416929329397,
          -0.6033892665757813,
          0.6930641441100173,
          0.24908032521003376,
          0.4735401415469657,
          0.3322765166169506,
          0.07695599270883098,
          0.8104630265514642,
          0.01319679992750227,
          -0.4623078874786229,
          -1.2849233084875498,
          1.4426486230036524,
          0.45841678556274995,
          -0.7162255811144571,
          -0.04243239656239601,
          0.17968031392172545,
          -1.7507769873053525,
          -0.90140424994952,
          0.7922263507561726,
          -1.2940652059156423,
          0.4690045250714445,
          -1.06478799433691,
          0.3028034834679436,
          0.637771443393043,
          0.6627666239233564,
          1.0948412896128021,
          -0.31005818221952847,
          0.4968432747864927,
          -1.7344573352603403,
          1.5099116246667956
         ],
         "xaxis": "x7",
         "y": [
          0.5240321107968314,
          -1.2818581314473803,
          0.29484052235223956,
          0.04165826086464471,
          0.673562735726411,
          -0.5601508401353184,
          0.10726761840353928,
          0.9034369673793241,
          -0.20848844369028255,
          0.009077219990422502,
          0.7614881923065624,
          -1.0353072004432662,
          -0.39706218441949637,
          0.0442455652201715,
          -0.024632996341245238,
          -0.38871636991009345,
          0.714862686789878,
          -0.13754628958159562,
          -1.1566614879186157,
          -1.0264131444337994,
          -0.8382160927778828,
          -0.6556304084279646,
          1.2316927466243321,
          -0.6690200597586026,
          0.03950139197534639,
          -0.3764604385795641,
          0.5231917628756628,
          -1.0949165193504358,
          -0.4062943733719469,
          0.20202882461753316,
          -0.04815711255121329,
          -0.17218031521835345,
          0.17340466663122242,
          -0.24623471509870715,
          0.03627476629254057,
          1.1435904937853418,
          -0.9212807620573791,
          1.4350741410088304,
          -1.1431022704267602,
          1.305670675193548,
          -0.7270112851807574,
          0.08137940653876674,
          1.0478914571278963,
          -1.0303912428911377,
          -1.316778030555177,
          -2.5253699493660635,
          -0.8220574669467124,
          0.6478481678635425,
          0.7459879739678887,
          0.5193981092991432,
          -0.09680067245936409,
          0.10445605150325764,
          -0.5296831622938263,
          0.5755508530690508,
          -2.079105326549701,
          1.347534957467463,
          0.0450399204872343,
          -0.41845755566805026,
          0.44765905337545375,
          -0.8932714671991978,
          -0.42099852370267304,
          -0.5181341492461724,
          -1.0967877621179967,
          -0.5402499306481223,
          0.7574772982615179,
          0.8247147718804475,
          -0.30791165875502974,
          0.2127858486712444,
          -0.31921310603954145,
          -0.5683191422926578,
          -0.10685958754465645,
          0.7743561972941484,
          0.3219980656879739,
          0.7046720004248032,
          1.2928070538842928,
          1.2750030276034225,
          -0.22650910764134566,
          1.1456731869609518,
          1.3365090289776138,
          -1.2508071155680949,
          -1.9923237639781415,
          -0.20495068753879114,
          -0.2694270737460097,
          0.10482884980777825,
          1.9041450369951045,
          -1.2769613061557723,
          0.3233566115975954,
          0.12469744378102753,
          0.3028245227845009,
          2.2260930908774936,
          -0.13766818045678908,
          0.4135358328952993,
          0.3449980628933821,
          1.1948260701669133,
          -0.4515983717504652,
          2.175838491281581,
          0.441503760528067,
          -0.20893048332480352,
          1.6611142804331533,
          0.5618752406900925
         ],
         "yaxis": "y7"
        },
        {
         "line": {
          "color": "rgba(128, 128, 128, 1.0)",
          "dash": "solid",
          "shape": "linear",
          "width": 1.3
         },
         "marker": {
          "size": 2,
          "symbol": "circle"
         },
         "mode": "markers",
         "name": "C",
         "text": "",
         "type": "scatter",
         "x": [
          0.5669227874209756,
          0.876628774868819,
          -0.7273594292138338,
          1.4305615475189244,
          -0.7942951604178743,
          0.38565489564719807,
          0.6062439728426132,
          0.5845234557149154,
          -1.2678773652996131,
          0.08580404826572388,
          -0.9631502896732222,
          0.15868439466045228,
          0.2588834222675947,
          -0.12267277070886082,
          -0.37134579866912487,
          0.5456553387098986,
          -1.6103426603007174,
          -0.9652802063518969,
          -1.5535531797797926,
          0.7066562570191298,
          0.7641623086399777,
          0.5660683603612852,
          0.03694356062188423,
          2.729848298265021,
          0.24136636134493017,
          2.524976974846444,
          -0.21102321266568405,
          1.0273338761618662,
          0.4850989610432347,
          0.05629502139004537,
          0.9079336638068392,
          0.031035112111715703,
          1.6319366601922278,
          -1.9761262501252943,
          1.023326022481378,
          -1.4535063457650306,
          0.4780832497016251,
          1.7038152473616048,
          -1.5210639303648146,
          -1.5631563616898365,
          -0.953756969674632,
          -0.9355089349922378,
          1.4547504173789754,
          2.126270607571978,
          -0.5874192739455492,
          0.8275724643420516,
          0.5501318469167297,
          1.5165706004299866,
          0.041681308803413974,
          1.2288760499138882,
          -1.4530556610761614,
          0.3521047181801425,
          0.37101497440306314,
          -0.23665023886305828,
          -1.7206200038024912,
          2.0488792614981897,
          -0.1739266101959704,
          0.2074374286553849,
          -0.093355497190572,
          0.5799754032266968,
          2.1994123319977708,
          -0.28178243255033436,
          -0.46800774446168075,
          0.27836889342288346,
          1.7927368224208309,
          1.0423877161666988,
          -0.41046953904836003,
          -1.0950844225088552,
          -1.1694551351794975,
          -1.7825695899572074,
          -0.8242246505871773,
          -0.6680401796708747,
          0.26680473975958807,
          -0.2603188445706859,
          -0.7585139589492308,
          -1.6446327352209966,
          -0.7296457499922089,
          -0.17504485184396723,
          1.0879454665012345,
          0.5039471622653162,
          -1.799982126928582,
          -0.42643785009997925,
          0.1263906774643471,
          0.052245204945613265,
          0.13243375796686324,
          0.10353103474315886,
          -0.9380115619193468,
          -0.05390343205752204,
          1.2470655631948842,
          -0.2638989256432248,
          1.0756701405284956,
          0.6205709480175456,
          -1.880545157183852,
          0.43579600897938947,
          -0.8471904909757707,
          2.092500604908823,
          0.3466732836300478,
          0.7805686190795246,
          0.7737973815386837,
          -0.3949628512330703
         ],
         "xaxis": "x8",
         "y": [
          0.5240321107968314,
          -1.2818581314473803,
          0.29484052235223956,
          0.04165826086464471,
          0.673562735726411,
          -0.5601508401353184,
          0.10726761840353928,
          0.9034369673793241,
          -0.20848844369028255,
          0.009077219990422502,
          0.7614881923065624,
          -1.0353072004432662,
          -0.39706218441949637,
          0.0442455652201715,
          -0.024632996341245238,
          -0.38871636991009345,
          0.714862686789878,
          -0.13754628958159562,
          -1.1566614879186157,
          -1.0264131444337994,
          -0.8382160927778828,
          -0.6556304084279646,
          1.2316927466243321,
          -0.6690200597586026,
          0.03950139197534639,
          -0.3764604385795641,
          0.5231917628756628,
          -1.0949165193504358,
          -0.4062943733719469,
          0.20202882461753316,
          -0.04815711255121329,
          -0.17218031521835345,
          0.17340466663122242,
          -0.24623471509870715,
          0.03627476629254057,
          1.1435904937853418,
          -0.9212807620573791,
          1.4350741410088304,
          -1.1431022704267602,
          1.305670675193548,
          -0.7270112851807574,
          0.08137940653876674,
          1.0478914571278963,
          -1.0303912428911377,
          -1.316778030555177,
          -2.5253699493660635,
          -0.8220574669467124,
          0.6478481678635425,
          0.7459879739678887,
          0.5193981092991432,
          -0.09680067245936409,
          0.10445605150325764,
          -0.5296831622938263,
          0.5755508530690508,
          -2.079105326549701,
          1.347534957467463,
          0.0450399204872343,
          -0.41845755566805026,
          0.44765905337545375,
          -0.8932714671991978,
          -0.42099852370267304,
          -0.5181341492461724,
          -1.0967877621179967,
          -0.5402499306481223,
          0.7574772982615179,
          0.8247147718804475,
          -0.30791165875502974,
          0.2127858486712444,
          -0.31921310603954145,
          -0.5683191422926578,
          -0.10685958754465645,
          0.7743561972941484,
          0.3219980656879739,
          0.7046720004248032,
          1.2928070538842928,
          1.2750030276034225,
          -0.22650910764134566,
          1.1456731869609518,
          1.3365090289776138,
          -1.2508071155680949,
          -1.9923237639781415,
          -0.20495068753879114,
          -0.2694270737460097,
          0.10482884980777825,
          1.9041450369951045,
          -1.2769613061557723,
          0.3233566115975954,
          0.12469744378102753,
          0.3028245227845009,
          2.2260930908774936,
          -0.13766818045678908,
          0.4135358328952993,
          0.3449980628933821,
          1.1948260701669133,
          -0.4515983717504652,
          2.175838491281581,
          0.441503760528067,
          -0.20893048332480352,
          1.6611142804331533,
          0.5618752406900925
         ],
         "yaxis": "y8"
        },
        {
         "histfunc": "count",
         "histnorm": "",
         "marker": {
          "color": "rgba(50, 171, 96, 1.0)",
          "line": {
           "color": "#4D5663",
           "width": 1.3
          }
         },
         "name": "C",
         "nbinsx": 10,
         "opacity": 0.8,
         "orientation": "v",
         "type": "histogram",
         "x": [
          0.5240321107968314,
          -1.2818581314473803,
          0.29484052235223956,
          0.04165826086464471,
          0.673562735726411,
          -0.5601508401353184,
          0.10726761840353928,
          0.9034369673793241,
          -0.20848844369028255,
          0.009077219990422502,
          0.7614881923065624,
          -1.0353072004432662,
          -0.39706218441949637,
          0.0442455652201715,
          -0.024632996341245238,
          -0.38871636991009345,
          0.714862686789878,
          -0.13754628958159562,
          -1.1566614879186157,
          -1.0264131444337994,
          -0.8382160927778828,
          -0.6556304084279646,
          1.2316927466243321,
          -0.6690200597586026,
          0.03950139197534639,
          -0.3764604385795641,
          0.5231917628756628,
          -1.0949165193504358,
          -0.4062943733719469,
          0.20202882461753316,
          -0.04815711255121329,
          -0.17218031521835345,
          0.17340466663122242,
          -0.24623471509870715,
          0.03627476629254057,
          1.1435904937853418,
          -0.9212807620573791,
          1.4350741410088304,
          -1.1431022704267602,
          1.305670675193548,
          -0.7270112851807574,
          0.08137940653876674,
          1.0478914571278963,
          -1.0303912428911377,
          -1.316778030555177,
          -2.5253699493660635,
          -0.8220574669467124,
          0.6478481678635425,
          0.7459879739678887,
          0.5193981092991432,
          -0.09680067245936409,
          0.10445605150325764,
          -0.5296831622938263,
          0.5755508530690508,
          -2.079105326549701,
          1.347534957467463,
          0.0450399204872343,
          -0.41845755566805026,
          0.44765905337545375,
          -0.8932714671991978,
          -0.42099852370267304,
          -0.5181341492461724,
          -1.0967877621179967,
          -0.5402499306481223,
          0.7574772982615179,
          0.8247147718804475,
          -0.30791165875502974,
          0.2127858486712444,
          -0.31921310603954145,
          -0.5683191422926578,
          -0.10685958754465645,
          0.7743561972941484,
          0.3219980656879739,
          0.7046720004248032,
          1.2928070538842928,
          1.2750030276034225,
          -0.22650910764134566,
          1.1456731869609518,
          1.3365090289776138,
          -1.2508071155680949,
          -1.9923237639781415,
          -0.20495068753879114,
          -0.2694270737460097,
          0.10482884980777825,
          1.9041450369951045,
          -1.2769613061557723,
          0.3233566115975954,
          0.12469744378102753,
          0.3028245227845009,
          2.2260930908774936,
          -0.13766818045678908,
          0.4135358328952993,
          0.3449980628933821,
          1.1948260701669133,
          -0.4515983717504652,
          2.175838491281581,
          0.441503760528067,
          -0.20893048332480352,
          1.6611142804331533,
          0.5618752406900925
         ],
         "xaxis": "x9",
         "yaxis": "y9"
        }
       ],
       "layout": {
        "bargap": 0.02,
        "legend": {
         "bgcolor": "#F5F6F9",
         "font": {
          "color": "#4D5663"
         }
        },
        "paper_bgcolor": "#F5F6F9",
        "plot_bgcolor": "#F5F6F9",
        "showlegend": false,
        "template": {
         "data": {
          "bar": [
           {
            "error_x": {
             "color": "#2a3f5f"
            },
            "error_y": {
             "color": "#2a3f5f"
            },
            "marker": {
             "line": {
              "color": "#E5ECF6",
              "width": 0.5
             },
             "pattern": {
              "fillmode": "overlay",
              "size": 10,
              "solidity": 0.2
             }
            },
            "type": "bar"
           }
          ],
          "barpolar": [
           {
            "marker": {
             "line": {
              "color": "#E5ECF6",
              "width": 0.5
             },
             "pattern": {
              "fillmode": "overlay",
              "size": 10,
              "solidity": 0.2
             }
            },
            "type": "barpolar"
           }
          ],
          "carpet": [
           {
            "aaxis": {
             "endlinecolor": "#2a3f5f",
             "gridcolor": "white",
             "linecolor": "white",
             "minorgridcolor": "white",
             "startlinecolor": "#2a3f5f"
            },
            "baxis": {
             "endlinecolor": "#2a3f5f",
             "gridcolor": "white",
             "linecolor": "white",
             "minorgridcolor": "white",
             "startlinecolor": "#2a3f5f"
            },
            "type": "carpet"
           }
          ],
          "choropleth": [
           {
            "colorbar": {
             "outlinewidth": 0,
             "ticks": ""
            },
            "type": "choropleth"
           }
          ],
          "contour": [
           {
            "colorbar": {
             "outlinewidth": 0,
             "ticks": ""
            },
            "colorscale": [
             [
              0,
              "#0d0887"
             ],
             [
              0.1111111111111111,
              "#46039f"
             ],
             [
              0.2222222222222222,
              "#7201a8"
             ],
             [
              0.3333333333333333,
              "#9c179e"
             ],
             [
              0.4444444444444444,
              "#bd3786"
             ],
             [
              0.5555555555555556,
              "#d8576b"
             ],
             [
              0.6666666666666666,
              "#ed7953"
             ],
             [
              0.7777777777777778,
              "#fb9f3a"
             ],
             [
              0.8888888888888888,
              "#fdca26"
             ],
             [
              1,
              "#f0f921"
             ]
            ],
            "type": "contour"
           }
          ],
          "contourcarpet": [
           {
            "colorbar": {
             "outlinewidth": 0,
             "ticks": ""
            },
            "type": "contourcarpet"
           }
          ],
          "heatmap": [
           {
            "colorbar": {
             "outlinewidth": 0,
             "ticks": ""
            },
            "colorscale": [
             [
              0,
              "#0d0887"
             ],
             [
              0.1111111111111111,
              "#46039f"
             ],
             [
              0.2222222222222222,
              "#7201a8"
             ],
             [
              0.3333333333333333,
              "#9c179e"
             ],
             [
              0.4444444444444444,
              "#bd3786"
             ],
             [
              0.5555555555555556,
              "#d8576b"
             ],
             [
              0.6666666666666666,
              "#ed7953"
             ],
             [
              0.7777777777777778,
              "#fb9f3a"
             ],
             [
              0.8888888888888888,
              "#fdca26"
             ],
             [
              1,
              "#f0f921"
             ]
            ],
            "type": "heatmap"
           }
          ],
          "heatmapgl": [
           {
            "colorbar": {
             "outlinewidth": 0,
             "ticks": ""
            },
            "colorscale": [
             [
              0,
              "#0d0887"
             ],
             [
              0.1111111111111111,
              "#46039f"
             ],
             [
              0.2222222222222222,
              "#7201a8"
             ],
             [
              0.3333333333333333,
              "#9c179e"
             ],
             [
              0.4444444444444444,
              "#bd3786"
             ],
             [
              0.5555555555555556,
              "#d8576b"
             ],
             [
              0.6666666666666666,
              "#ed7953"
             ],
             [
              0.7777777777777778,
              "#fb9f3a"
             ],
             [
              0.8888888888888888,
              "#fdca26"
             ],
             [
              1,
              "#f0f921"
             ]
            ],
            "type": "heatmapgl"
           }
          ],
          "histogram": [
           {
            "marker": {
             "pattern": {
              "fillmode": "overlay",
              "size": 10,
              "solidity": 0.2
             }
            },
            "type": "histogram"
           }
          ],
          "histogram2d": [
           {
            "colorbar": {
             "outlinewidth": 0,
             "ticks": ""
            },
            "colorscale": [
             [
              0,
              "#0d0887"
             ],
             [
              0.1111111111111111,
              "#46039f"
             ],
             [
              0.2222222222222222,
              "#7201a8"
             ],
             [
              0.3333333333333333,
              "#9c179e"
             ],
             [
              0.4444444444444444,
              "#bd3786"
             ],
             [
              0.5555555555555556,
              "#d8576b"
             ],
             [
              0.6666666666666666,
              "#ed7953"
             ],
             [
              0.7777777777777778,
              "#fb9f3a"
             ],
             [
              0.8888888888888888,
              "#fdca26"
             ],
             [
              1,
              "#f0f921"
             ]
            ],
            "type": "histogram2d"
           }
          ],
          "histogram2dcontour": [
           {
            "colorbar": {
             "outlinewidth": 0,
             "ticks": ""
            },
            "colorscale": [
             [
              0,
              "#0d0887"
             ],
             [
              0.1111111111111111,
              "#46039f"
             ],
             [
              0.2222222222222222,
              "#7201a8"
             ],
             [
              0.3333333333333333,
              "#9c179e"
             ],
             [
              0.4444444444444444,
              "#bd3786"
             ],
             [
              0.5555555555555556,
              "#d8576b"
             ],
             [
              0.6666666666666666,
              "#ed7953"
             ],
             [
              0.7777777777777778,
              "#fb9f3a"
             ],
             [
              0.8888888888888888,
              "#fdca26"
             ],
             [
              1,
              "#f0f921"
             ]
            ],
            "type": "histogram2dcontour"
           }
          ],
          "mesh3d": [
           {
            "colorbar": {
             "outlinewidth": 0,
             "ticks": ""
            },
            "type": "mesh3d"
           }
          ],
          "parcoords": [
           {
            "line": {
             "colorbar": {
              "outlinewidth": 0,
              "ticks": ""
             }
            },
            "type": "parcoords"
           }
          ],
          "pie": [
           {
            "automargin": true,
            "type": "pie"
           }
          ],
          "scatter": [
           {
            "fillpattern": {
             "fillmode": "overlay",
             "size": 10,
             "solidity": 0.2
            },
            "type": "scatter"
           }
          ],
          "scatter3d": [
           {
            "line": {
             "colorbar": {
              "outlinewidth": 0,
              "ticks": ""
             }
            },
            "marker": {
             "colorbar": {
              "outlinewidth": 0,
              "ticks": ""
             }
            },
            "type": "scatter3d"
           }
          ],
          "scattercarpet": [
           {
            "marker": {
             "colorbar": {
              "outlinewidth": 0,
              "ticks": ""
             }
            },
            "type": "scattercarpet"
           }
          ],
          "scattergeo": [
           {
            "marker": {
             "colorbar": {
              "outlinewidth": 0,
              "ticks": ""
             }
            },
            "type": "scattergeo"
           }
          ],
          "scattergl": [
           {
            "marker": {
             "colorbar": {
              "outlinewidth": 0,
              "ticks": ""
             }
            },
            "type": "scattergl"
           }
          ],
          "scattermapbox": [
           {
            "marker": {
             "colorbar": {
              "outlinewidth": 0,
              "ticks": ""
             }
            },
            "type": "scattermapbox"
           }
          ],
          "scatterpolar": [
           {
            "marker": {
             "colorbar": {
              "outlinewidth": 0,
              "ticks": ""
             }
            },
            "type": "scatterpolar"
           }
          ],
          "scatterpolargl": [
           {
            "marker": {
             "colorbar": {
              "outlinewidth": 0,
              "ticks": ""
             }
            },
            "type": "scatterpolargl"
           }
          ],
          "scatterternary": [
           {
            "marker": {
             "colorbar": {
              "outlinewidth": 0,
              "ticks": ""
             }
            },
            "type": "scatterternary"
           }
          ],
          "surface": [
           {
            "colorbar": {
             "outlinewidth": 0,
             "ticks": ""
            },
            "colorscale": [
             [
              0,
              "#0d0887"
             ],
             [
              0.1111111111111111,
              "#46039f"
             ],
             [
              0.2222222222222222,
              "#7201a8"
             ],
             [
              0.3333333333333333,
              "#9c179e"
             ],
             [
              0.4444444444444444,
              "#bd3786"
             ],
             [
              0.5555555555555556,
              "#d8576b"
             ],
             [
              0.6666666666666666,
              "#ed7953"
             ],
             [
              0.7777777777777778,
              "#fb9f3a"
             ],
             [
              0.8888888888888888,
              "#fdca26"
             ],
             [
              1,
              "#f0f921"
             ]
            ],
            "type": "surface"
           }
          ],
          "table": [
           {
            "cells": {
             "fill": {
              "color": "#EBF0F8"
             },
             "line": {
              "color": "white"
             }
            },
            "header": {
             "fill": {
              "color": "#C8D4E3"
             },
             "line": {
              "color": "white"
             }
            },
            "type": "table"
           }
          ]
         },
         "layout": {
          "annotationdefaults": {
           "arrowcolor": "#2a3f5f",
           "arrowhead": 0,
           "arrowwidth": 1
          },
          "autotypenumbers": "strict",
          "coloraxis": {
           "colorbar": {
            "outlinewidth": 0,
            "ticks": ""
           }
          },
          "colorscale": {
           "diverging": [
            [
             0,
             "#8e0152"
            ],
            [
             0.1,
             "#c51b7d"
            ],
            [
             0.2,
             "#de77ae"
            ],
            [
             0.3,
             "#f1b6da"
            ],
            [
             0.4,
             "#fde0ef"
            ],
            [
             0.5,
             "#f7f7f7"
            ],
            [
             0.6,
             "#e6f5d0"
            ],
            [
             0.7,
             "#b8e186"
            ],
            [
             0.8,
             "#7fbc41"
            ],
            [
             0.9,
             "#4d9221"
            ],
            [
             1,
             "#276419"
            ]
           ],
           "sequential": [
            [
             0,
             "#0d0887"
            ],
            [
             0.1111111111111111,
             "#46039f"
            ],
            [
             0.2222222222222222,
             "#7201a8"
            ],
            [
             0.3333333333333333,
             "#9c179e"
            ],
            [
             0.4444444444444444,
             "#bd3786"
            ],
            [
             0.5555555555555556,
             "#d8576b"
            ],
            [
             0.6666666666666666,
             "#ed7953"
            ],
            [
             0.7777777777777778,
             "#fb9f3a"
            ],
            [
             0.8888888888888888,
             "#fdca26"
            ],
            [
             1,
             "#f0f921"
            ]
           ],
           "sequentialminus": [
            [
             0,
             "#0d0887"
            ],
            [
             0.1111111111111111,
             "#46039f"
            ],
            [
             0.2222222222222222,
             "#7201a8"
            ],
            [
             0.3333333333333333,
             "#9c179e"
            ],
            [
             0.4444444444444444,
             "#bd3786"
            ],
            [
             0.5555555555555556,
             "#d8576b"
            ],
            [
             0.6666666666666666,
             "#ed7953"
            ],
            [
             0.7777777777777778,
             "#fb9f3a"
            ],
            [
             0.8888888888888888,
             "#fdca26"
            ],
            [
             1,
             "#f0f921"
            ]
           ]
          },
          "colorway": [
           "#636efa",
           "#EF553B",
           "#00cc96",
           "#ab63fa",
           "#FFA15A",
           "#19d3f3",
           "#FF6692",
           "#B6E880",
           "#FF97FF",
           "#FECB52"
          ],
          "font": {
           "color": "#2a3f5f"
          },
          "geo": {
           "bgcolor": "white",
           "lakecolor": "white",
           "landcolor": "#E5ECF6",
           "showlakes": true,
           "showland": true,
           "subunitcolor": "white"
          },
          "hoverlabel": {
           "align": "left"
          },
          "hovermode": "closest",
          "mapbox": {
           "style": "light"
          },
          "paper_bgcolor": "white",
          "plot_bgcolor": "#E5ECF6",
          "polar": {
           "angularaxis": {
            "gridcolor": "white",
            "linecolor": "white",
            "ticks": ""
           },
           "bgcolor": "#E5ECF6",
           "radialaxis": {
            "gridcolor": "white",
            "linecolor": "white",
            "ticks": ""
           }
          },
          "scene": {
           "xaxis": {
            "backgroundcolor": "#E5ECF6",
            "gridcolor": "white",
            "gridwidth": 2,
            "linecolor": "white",
            "showbackground": true,
            "ticks": "",
            "zerolinecolor": "white"
           },
           "yaxis": {
            "backgroundcolor": "#E5ECF6",
            "gridcolor": "white",
            "gridwidth": 2,
            "linecolor": "white",
            "showbackground": true,
            "ticks": "",
            "zerolinecolor": "white"
           },
           "zaxis": {
            "backgroundcolor": "#E5ECF6",
            "gridcolor": "white",
            "gridwidth": 2,
            "linecolor": "white",
            "showbackground": true,
            "ticks": "",
            "zerolinecolor": "white"
           }
          },
          "shapedefaults": {
           "line": {
            "color": "#2a3f5f"
           }
          },
          "ternary": {
           "aaxis": {
            "gridcolor": "white",
            "linecolor": "white",
            "ticks": ""
           },
           "baxis": {
            "gridcolor": "white",
            "linecolor": "white",
            "ticks": ""
           },
           "bgcolor": "#E5ECF6",
           "caxis": {
            "gridcolor": "white",
            "linecolor": "white",
            "ticks": ""
           }
          },
          "title": {
           "x": 0.05
          },
          "xaxis": {
           "automargin": true,
           "gridcolor": "white",
           "linecolor": "white",
           "ticks": "",
           "title": {
            "standoff": 15
           },
           "zerolinecolor": "white",
           "zerolinewidth": 2
          },
          "yaxis": {
           "automargin": true,
           "gridcolor": "white",
           "linecolor": "white",
           "ticks": "",
           "title": {
            "standoff": 15
           },
           "zerolinecolor": "white",
           "zerolinewidth": 2
          }
         }
        },
        "title": {
         "font": {
          "color": "#4D5663"
         }
        },
        "xaxis": {
         "anchor": "y",
         "domain": [
          0,
          0.3
         ],
         "gridcolor": "#E1E5ED",
         "showgrid": false,
         "tickfont": {
          "color": "#4D5663"
         },
         "title": {
          "font": {
           "color": "#4D5663"
          },
          "text": ""
         },
         "zerolinecolor": "#E1E5ED"
        },
        "xaxis2": {
         "anchor": "y2",
         "domain": [
          0.35,
          0.6499999999999999
         ],
         "gridcolor": "#E1E5ED",
         "showgrid": false,
         "tickfont": {
          "color": "#4D5663"
         },
         "title": {
          "font": {
           "color": "#4D5663"
          },
          "text": ""
         },
         "zerolinecolor": "#E1E5ED"
        },
        "xaxis3": {
         "anchor": "y3",
         "domain": [
          0.7,
          1
         ],
         "gridcolor": "#E1E5ED",
         "showgrid": false,
         "tickfont": {
          "color": "#4D5663"
         },
         "title": {
          "font": {
           "color": "#4D5663"
          },
          "text": ""
         },
         "zerolinecolor": "#E1E5ED"
        },
        "xaxis4": {
         "anchor": "y4",
         "domain": [
          0,
          0.3
         ],
         "gridcolor": "#E1E5ED",
         "showgrid": false,
         "tickfont": {
          "color": "#4D5663"
         },
         "title": {
          "font": {
           "color": "#4D5663"
          },
          "text": ""
         },
         "zerolinecolor": "#E1E5ED"
        },
        "xaxis5": {
         "anchor": "y5",
         "domain": [
          0.35,
          0.6499999999999999
         ],
         "gridcolor": "#E1E5ED",
         "showgrid": false,
         "tickfont": {
          "color": "#4D5663"
         },
         "title": {
          "font": {
           "color": "#4D5663"
          },
          "text": ""
         },
         "zerolinecolor": "#E1E5ED"
        },
        "xaxis6": {
         "anchor": "y6",
         "domain": [
          0.7,
          1
         ],
         "gridcolor": "#E1E5ED",
         "showgrid": false,
         "tickfont": {
          "color": "#4D5663"
         },
         "title": {
          "font": {
           "color": "#4D5663"
          },
          "text": ""
         },
         "zerolinecolor": "#E1E5ED"
        },
        "xaxis7": {
         "anchor": "y7",
         "domain": [
          0,
          0.3
         ],
         "gridcolor": "#E1E5ED",
         "showgrid": false,
         "tickfont": {
          "color": "#4D5663"
         },
         "title": {
          "font": {
           "color": "#4D5663"
          },
          "text": ""
         },
         "zerolinecolor": "#E1E5ED"
        },
        "xaxis8": {
         "anchor": "y8",
         "domain": [
          0.35,
          0.6499999999999999
         ],
         "gridcolor": "#E1E5ED",
         "showgrid": false,
         "tickfont": {
          "color": "#4D5663"
         },
         "title": {
          "font": {
           "color": "#4D5663"
          },
          "text": ""
         },
         "zerolinecolor": "#E1E5ED"
        },
        "xaxis9": {
         "anchor": "y9",
         "domain": [
          0.7,
          1
         ],
         "gridcolor": "#E1E5ED",
         "showgrid": false,
         "tickfont": {
          "color": "#4D5663"
         },
         "title": {
          "font": {
           "color": "#4D5663"
          },
          "text": ""
         },
         "zerolinecolor": "#E1E5ED"
        },
        "yaxis": {
         "anchor": "x",
         "domain": [
          0.7133333333333334,
          1
         ],
         "gridcolor": "#E1E5ED",
         "showgrid": false,
         "tickfont": {
          "color": "#4D5663"
         },
         "title": {
          "font": {
           "color": "#4D5663"
          },
          "text": ""
         },
         "zerolinecolor": "#E1E5ED"
        },
        "yaxis2": {
         "anchor": "x2",
         "domain": [
          0.7133333333333334,
          1
         ],
         "gridcolor": "#E1E5ED",
         "showgrid": false,
         "tickfont": {
          "color": "#4D5663"
         },
         "title": {
          "font": {
           "color": "#4D5663"
          },
          "text": ""
         },
         "zerolinecolor": "#E1E5ED"
        },
        "yaxis3": {
         "anchor": "x3",
         "domain": [
          0.7133333333333334,
          1
         ],
         "gridcolor": "#E1E5ED",
         "showgrid": false,
         "tickfont": {
          "color": "#4D5663"
         },
         "title": {
          "font": {
           "color": "#4D5663"
          },
          "text": ""
         },
         "zerolinecolor": "#E1E5ED"
        },
        "yaxis4": {
         "anchor": "x4",
         "domain": [
          0.3566666666666667,
          0.6433333333333333
         ],
         "gridcolor": "#E1E5ED",
         "showgrid": false,
         "tickfont": {
          "color": "#4D5663"
         },
         "title": {
          "font": {
           "color": "#4D5663"
          },
          "text": ""
         },
         "zerolinecolor": "#E1E5ED"
        },
        "yaxis5": {
         "anchor": "x5",
         "domain": [
          0.3566666666666667,
          0.6433333333333333
         ],
         "gridcolor": "#E1E5ED",
         "showgrid": false,
         "tickfont": {
          "color": "#4D5663"
         },
         "title": {
          "font": {
           "color": "#4D5663"
          },
          "text": ""
         },
         "zerolinecolor": "#E1E5ED"
        },
        "yaxis6": {
         "anchor": "x6",
         "domain": [
          0.3566666666666667,
          0.6433333333333333
         ],
         "gridcolor": "#E1E5ED",
         "showgrid": false,
         "tickfont": {
          "color": "#4D5663"
         },
         "title": {
          "font": {
           "color": "#4D5663"
          },
          "text": ""
         },
         "zerolinecolor": "#E1E5ED"
        },
        "yaxis7": {
         "anchor": "x7",
         "domain": [
          0,
          0.2866666666666667
         ],
         "gridcolor": "#E1E5ED",
         "showgrid": false,
         "tickfont": {
          "color": "#4D5663"
         },
         "title": {
          "font": {
           "color": "#4D5663"
          },
          "text": ""
         },
         "zerolinecolor": "#E1E5ED"
        },
        "yaxis8": {
         "anchor": "x8",
         "domain": [
          0,
          0.2866666666666667
         ],
         "gridcolor": "#E1E5ED",
         "showgrid": false,
         "tickfont": {
          "color": "#4D5663"
         },
         "title": {
          "font": {
           "color": "#4D5663"
          },
          "text": ""
         },
         "zerolinecolor": "#E1E5ED"
        },
        "yaxis9": {
         "anchor": "x9",
         "domain": [
          0,
          0.2866666666666667
         ],
         "gridcolor": "#E1E5ED",
         "showgrid": false,
         "tickfont": {
          "color": "#4D5663"
         },
         "title": {
          "font": {
           "color": "#4D5663"
          },
          "text": ""
         },
         "zerolinecolor": "#E1E5ED"
        }
       }
      },
      "text/html": [
       "<div>                            <div id=\"65c9a069-ebcd-4830-97da-eb74dfbddbd4\" class=\"plotly-graph-div\" style=\"height:525px; width:100%;\"></div>            <script type=\"text/javascript\">                require([\"plotly\"], function(Plotly) {                    window.PLOTLYENV=window.PLOTLYENV || {};\n",
       "                    window.PLOTLYENV.BASE_URL='https://plot.ly';                                    if (document.getElementById(\"65c9a069-ebcd-4830-97da-eb74dfbddbd4\")) {                    Plotly.newPlot(                        \"65c9a069-ebcd-4830-97da-eb74dfbddbd4\",                        [{\"histfunc\":\"count\",\"histnorm\":\"\",\"marker\":{\"color\":\"rgba(255, 153, 51, 1.0)\",\"line\":{\"color\":\"#4D5663\",\"width\":1.3}},\"name\":\"A\",\"nbinsx\":10,\"opacity\":0.8,\"orientation\":\"v\",\"x\":[-1.033054557149968,-0.9447631964877081,0.6614935437102547,1.1432021994205641,-0.881703685959822,0.20981467074620108,0.4675714971357549,0.30207617900058414,-2.140651579925566,-0.6025197439089002,0.44644296012602647,-0.1207051342616133,-1.9075736360884976,0.1982347091080541,1.2667418626750608,-0.5137913197849076,0.9240263969943613,-1.0804597800557079,-0.556601127554471,-0.5707296105347224,-1.2023656928053807,-0.6918827840839002,-1.353698782877351,-0.2509251366401465,1.7623118439384375,0.4901622994301756,-0.602261275113419,-0.14728697455957057,-1.333403877821013,0.3762114659516428,1.9277594027821363,-0.29846966778195755,-0.4247699856509981,-0.8930418732262699,-0.37005969592756216,-0.1602094228108446,-0.9490802186937405,0.8909471555383717,1.092741705044151,-1.228951017028698,1.245480797434885,-0.2283784530197112,-0.5191307956744338,-0.4271527073555195,0.6581640144756709,0.48456021217174833,-1.1037018137984387,1.496106101639429,-1.7483599959373142,0.1423402551052957,-0.1768337680710909,0.6088743097030376,-1.1774045737448684,-0.2985508290123847,0.9134716516701819,1.0760667499982635,-0.4031462098346326,0.16725760390026084,0.792368485363887,-2.1083005126594765,0.574963853829838,-1.4096359158679268,-0.28146896151120193,-2.568636597303144,1.6278889288684832,-0.93982733027261,-0.08660544870275479,-0.8577488500213871,0.9623175081785798,0.2323851945851437,-1.6203416929329397,-0.6033892665757813,0.6930641441100173,0.24908032521003376,0.4735401415469657,0.3322765166169506,0.07695599270883098,0.8104630265514642,0.01319679992750227,-0.4623078874786229,-1.2849233084875498,1.4426486230036524,0.45841678556274995,-0.7162255811144571,-0.04243239656239601,0.17968031392172545,-1.7507769873053525,-0.90140424994952,0.7922263507561726,-1.2940652059156423,0.4690045250714445,-1.06478799433691,0.3028034834679436,0.637771443393043,0.6627666239233564,1.0948412896128021,-0.31005818221952847,0.4968432747864927,-1.7344573352603403,1.5099116246667956],\"xaxis\":\"x\",\"yaxis\":\"y\",\"type\":\"histogram\"},{\"line\":{\"color\":\"rgba(128, 128, 128, 1.0)\",\"dash\":\"solid\",\"shape\":\"linear\",\"width\":1.3},\"marker\":{\"size\":2,\"symbol\":\"circle\"},\"mode\":\"markers\",\"name\":\"A\",\"text\":\"\",\"x\":[0.5669227874209756,0.876628774868819,-0.7273594292138338,1.4305615475189244,-0.7942951604178743,0.38565489564719807,0.6062439728426132,0.5845234557149154,-1.2678773652996131,0.08580404826572388,-0.9631502896732222,0.15868439466045228,0.2588834222675947,-0.12267277070886082,-0.37134579866912487,0.5456553387098986,-1.6103426603007174,-0.9652802063518969,-1.5535531797797926,0.7066562570191298,0.7641623086399777,0.5660683603612852,0.03694356062188423,2.729848298265021,0.24136636134493017,2.524976974846444,-0.21102321266568405,1.0273338761618662,0.4850989610432347,0.05629502139004537,0.9079336638068392,0.031035112111715703,1.6319366601922278,-1.9761262501252943,1.023326022481378,-1.4535063457650306,0.4780832497016251,1.7038152473616048,-1.5210639303648146,-1.5631563616898365,-0.953756969674632,-0.9355089349922378,1.4547504173789754,2.126270607571978,-0.5874192739455492,0.8275724643420516,0.5501318469167297,1.5165706004299866,0.041681308803413974,1.2288760499138882,-1.4530556610761614,0.3521047181801425,0.37101497440306314,-0.23665023886305828,-1.7206200038024912,2.0488792614981897,-0.1739266101959704,0.2074374286553849,-0.093355497190572,0.5799754032266968,2.1994123319977708,-0.28178243255033436,-0.46800774446168075,0.27836889342288346,1.7927368224208309,1.0423877161666988,-0.41046953904836003,-1.0950844225088552,-1.1694551351794975,-1.7825695899572074,-0.8242246505871773,-0.6680401796708747,0.26680473975958807,-0.2603188445706859,-0.7585139589492308,-1.6446327352209966,-0.7296457499922089,-0.17504485184396723,1.0879454665012345,0.5039471622653162,-1.799982126928582,-0.42643785009997925,0.1263906774643471,0.052245204945613265,0.13243375796686324,0.10353103474315886,-0.9380115619193468,-0.05390343205752204,1.2470655631948842,-0.2638989256432248,1.0756701405284956,0.6205709480175456,-1.880545157183852,0.43579600897938947,-0.8471904909757707,2.092500604908823,0.3466732836300478,0.7805686190795246,0.7737973815386837,-0.3949628512330703],\"xaxis\":\"x2\",\"y\":[-1.033054557149968,-0.9447631964877081,0.6614935437102547,1.1432021994205641,-0.881703685959822,0.20981467074620108,0.4675714971357549,0.30207617900058414,-2.140651579925566,-0.6025197439089002,0.44644296012602647,-0.1207051342616133,-1.9075736360884976,0.1982347091080541,1.2667418626750608,-0.5137913197849076,0.9240263969943613,-1.0804597800557079,-0.556601127554471,-0.5707296105347224,-1.2023656928053807,-0.6918827840839002,-1.353698782877351,-0.2509251366401465,1.7623118439384375,0.4901622994301756,-0.602261275113419,-0.14728697455957057,-1.333403877821013,0.3762114659516428,1.9277594027821363,-0.29846966778195755,-0.4247699856509981,-0.8930418732262699,-0.37005969592756216,-0.1602094228108446,-0.9490802186937405,0.8909471555383717,1.092741705044151,-1.228951017028698,1.245480797434885,-0.2283784530197112,-0.5191307956744338,-0.4271527073555195,0.6581640144756709,0.48456021217174833,-1.1037018137984387,1.496106101639429,-1.7483599959373142,0.1423402551052957,-0.1768337680710909,0.6088743097030376,-1.1774045737448684,-0.2985508290123847,0.9134716516701819,1.0760667499982635,-0.4031462098346326,0.16725760390026084,0.792368485363887,-2.1083005126594765,0.574963853829838,-1.4096359158679268,-0.28146896151120193,-2.568636597303144,1.6278889288684832,-0.93982733027261,-0.08660544870275479,-0.8577488500213871,0.9623175081785798,0.2323851945851437,-1.6203416929329397,-0.6033892665757813,0.6930641441100173,0.24908032521003376,0.4735401415469657,0.3322765166169506,0.07695599270883098,0.8104630265514642,0.01319679992750227,-0.4623078874786229,-1.2849233084875498,1.4426486230036524,0.45841678556274995,-0.7162255811144571,-0.04243239656239601,0.17968031392172545,-1.7507769873053525,-0.90140424994952,0.7922263507561726,-1.2940652059156423,0.4690045250714445,-1.06478799433691,0.3028034834679436,0.637771443393043,0.6627666239233564,1.0948412896128021,-0.31005818221952847,0.4968432747864927,-1.7344573352603403,1.5099116246667956],\"yaxis\":\"y2\",\"type\":\"scatter\"},{\"line\":{\"color\":\"rgba(128, 128, 128, 1.0)\",\"dash\":\"solid\",\"shape\":\"linear\",\"width\":1.3},\"marker\":{\"size\":2,\"symbol\":\"circle\"},\"mode\":\"markers\",\"name\":\"A\",\"text\":\"\",\"x\":[0.5240321107968314,-1.2818581314473803,0.29484052235223956,0.04165826086464471,0.673562735726411,-0.5601508401353184,0.10726761840353928,0.9034369673793241,-0.20848844369028255,0.009077219990422502,0.7614881923065624,-1.0353072004432662,-0.39706218441949637,0.0442455652201715,-0.024632996341245238,-0.38871636991009345,0.714862686789878,-0.13754628958159562,-1.1566614879186157,-1.0264131444337994,-0.8382160927778828,-0.6556304084279646,1.2316927466243321,-0.6690200597586026,0.03950139197534639,-0.3764604385795641,0.5231917628756628,-1.0949165193504358,-0.4062943733719469,0.20202882461753316,-0.04815711255121329,-0.17218031521835345,0.17340466663122242,-0.24623471509870715,0.03627476629254057,1.1435904937853418,-0.9212807620573791,1.4350741410088304,-1.1431022704267602,1.305670675193548,-0.7270112851807574,0.08137940653876674,1.0478914571278963,-1.0303912428911377,-1.316778030555177,-2.5253699493660635,-0.8220574669467124,0.6478481678635425,0.7459879739678887,0.5193981092991432,-0.09680067245936409,0.10445605150325764,-0.5296831622938263,0.5755508530690508,-2.079105326549701,1.347534957467463,0.0450399204872343,-0.41845755566805026,0.44765905337545375,-0.8932714671991978,-0.42099852370267304,-0.5181341492461724,-1.0967877621179967,-0.5402499306481223,0.7574772982615179,0.8247147718804475,-0.30791165875502974,0.2127858486712444,-0.31921310603954145,-0.5683191422926578,-0.10685958754465645,0.7743561972941484,0.3219980656879739,0.7046720004248032,1.2928070538842928,1.2750030276034225,-0.22650910764134566,1.1456731869609518,1.3365090289776138,-1.2508071155680949,-1.9923237639781415,-0.20495068753879114,-0.2694270737460097,0.10482884980777825,1.9041450369951045,-1.2769613061557723,0.3233566115975954,0.12469744378102753,0.3028245227845009,2.2260930908774936,-0.13766818045678908,0.4135358328952993,0.3449980628933821,1.1948260701669133,-0.4515983717504652,2.175838491281581,0.441503760528067,-0.20893048332480352,1.6611142804331533,0.5618752406900925],\"xaxis\":\"x3\",\"y\":[-1.033054557149968,-0.9447631964877081,0.6614935437102547,1.1432021994205641,-0.881703685959822,0.20981467074620108,0.4675714971357549,0.30207617900058414,-2.140651579925566,-0.6025197439089002,0.44644296012602647,-0.1207051342616133,-1.9075736360884976,0.1982347091080541,1.2667418626750608,-0.5137913197849076,0.9240263969943613,-1.0804597800557079,-0.556601127554471,-0.5707296105347224,-1.2023656928053807,-0.6918827840839002,-1.353698782877351,-0.2509251366401465,1.7623118439384375,0.4901622994301756,-0.602261275113419,-0.14728697455957057,-1.333403877821013,0.3762114659516428,1.9277594027821363,-0.29846966778195755,-0.4247699856509981,-0.8930418732262699,-0.37005969592756216,-0.1602094228108446,-0.9490802186937405,0.8909471555383717,1.092741705044151,-1.228951017028698,1.245480797434885,-0.2283784530197112,-0.5191307956744338,-0.4271527073555195,0.6581640144756709,0.48456021217174833,-1.1037018137984387,1.496106101639429,-1.7483599959373142,0.1423402551052957,-0.1768337680710909,0.6088743097030376,-1.1774045737448684,-0.2985508290123847,0.9134716516701819,1.0760667499982635,-0.4031462098346326,0.16725760390026084,0.792368485363887,-2.1083005126594765,0.574963853829838,-1.4096359158679268,-0.28146896151120193,-2.568636597303144,1.6278889288684832,-0.93982733027261,-0.08660544870275479,-0.8577488500213871,0.9623175081785798,0.2323851945851437,-1.6203416929329397,-0.6033892665757813,0.6930641441100173,0.24908032521003376,0.4735401415469657,0.3322765166169506,0.07695599270883098,0.8104630265514642,0.01319679992750227,-0.4623078874786229,-1.2849233084875498,1.4426486230036524,0.45841678556274995,-0.7162255811144571,-0.04243239656239601,0.17968031392172545,-1.7507769873053525,-0.90140424994952,0.7922263507561726,-1.2940652059156423,0.4690045250714445,-1.06478799433691,0.3028034834679436,0.637771443393043,0.6627666239233564,1.0948412896128021,-0.31005818221952847,0.4968432747864927,-1.7344573352603403,1.5099116246667956],\"yaxis\":\"y3\",\"type\":\"scatter\"},{\"line\":{\"color\":\"rgba(128, 128, 128, 1.0)\",\"dash\":\"solid\",\"shape\":\"linear\",\"width\":1.3},\"marker\":{\"size\":2,\"symbol\":\"circle\"},\"mode\":\"markers\",\"name\":\"B\",\"text\":\"\",\"x\":[-1.033054557149968,-0.9447631964877081,0.6614935437102547,1.1432021994205641,-0.881703685959822,0.20981467074620108,0.4675714971357549,0.30207617900058414,-2.140651579925566,-0.6025197439089002,0.44644296012602647,-0.1207051342616133,-1.9075736360884976,0.1982347091080541,1.2667418626750608,-0.5137913197849076,0.9240263969943613,-1.0804597800557079,-0.556601127554471,-0.5707296105347224,-1.2023656928053807,-0.6918827840839002,-1.353698782877351,-0.2509251366401465,1.7623118439384375,0.4901622994301756,-0.602261275113419,-0.14728697455957057,-1.333403877821013,0.3762114659516428,1.9277594027821363,-0.29846966778195755,-0.4247699856509981,-0.8930418732262699,-0.37005969592756216,-0.1602094228108446,-0.9490802186937405,0.8909471555383717,1.092741705044151,-1.228951017028698,1.245480797434885,-0.2283784530197112,-0.5191307956744338,-0.4271527073555195,0.6581640144756709,0.48456021217174833,-1.1037018137984387,1.496106101639429,-1.7483599959373142,0.1423402551052957,-0.1768337680710909,0.6088743097030376,-1.1774045737448684,-0.2985508290123847,0.9134716516701819,1.0760667499982635,-0.4031462098346326,0.16725760390026084,0.792368485363887,-2.1083005126594765,0.574963853829838,-1.4096359158679268,-0.28146896151120193,-2.568636597303144,1.6278889288684832,-0.93982733027261,-0.08660544870275479,-0.8577488500213871,0.9623175081785798,0.2323851945851437,-1.6203416929329397,-0.6033892665757813,0.6930641441100173,0.24908032521003376,0.4735401415469657,0.3322765166169506,0.07695599270883098,0.8104630265514642,0.01319679992750227,-0.4623078874786229,-1.2849233084875498,1.4426486230036524,0.45841678556274995,-0.7162255811144571,-0.04243239656239601,0.17968031392172545,-1.7507769873053525,-0.90140424994952,0.7922263507561726,-1.2940652059156423,0.4690045250714445,-1.06478799433691,0.3028034834679436,0.637771443393043,0.6627666239233564,1.0948412896128021,-0.31005818221952847,0.4968432747864927,-1.7344573352603403,1.5099116246667956],\"xaxis\":\"x4\",\"y\":[0.5669227874209756,0.876628774868819,-0.7273594292138338,1.4305615475189244,-0.7942951604178743,0.38565489564719807,0.6062439728426132,0.5845234557149154,-1.2678773652996131,0.08580404826572388,-0.9631502896732222,0.15868439466045228,0.2588834222675947,-0.12267277070886082,-0.37134579866912487,0.5456553387098986,-1.6103426603007174,-0.9652802063518969,-1.5535531797797926,0.7066562570191298,0.7641623086399777,0.5660683603612852,0.03694356062188423,2.729848298265021,0.24136636134493017,2.524976974846444,-0.21102321266568405,1.0273338761618662,0.4850989610432347,0.05629502139004537,0.9079336638068392,0.031035112111715703,1.6319366601922278,-1.9761262501252943,1.023326022481378,-1.4535063457650306,0.4780832497016251,1.7038152473616048,-1.5210639303648146,-1.5631563616898365,-0.953756969674632,-0.9355089349922378,1.4547504173789754,2.126270607571978,-0.5874192739455492,0.8275724643420516,0.5501318469167297,1.5165706004299866,0.041681308803413974,1.2288760499138882,-1.4530556610761614,0.3521047181801425,0.37101497440306314,-0.23665023886305828,-1.7206200038024912,2.0488792614981897,-0.1739266101959704,0.2074374286553849,-0.093355497190572,0.5799754032266968,2.1994123319977708,-0.28178243255033436,-0.46800774446168075,0.27836889342288346,1.7927368224208309,1.0423877161666988,-0.41046953904836003,-1.0950844225088552,-1.1694551351794975,-1.7825695899572074,-0.8242246505871773,-0.6680401796708747,0.26680473975958807,-0.2603188445706859,-0.7585139589492308,-1.6446327352209966,-0.7296457499922089,-0.17504485184396723,1.0879454665012345,0.5039471622653162,-1.799982126928582,-0.42643785009997925,0.1263906774643471,0.052245204945613265,0.13243375796686324,0.10353103474315886,-0.9380115619193468,-0.05390343205752204,1.2470655631948842,-0.2638989256432248,1.0756701405284956,0.6205709480175456,-1.880545157183852,0.43579600897938947,-0.8471904909757707,2.092500604908823,0.3466732836300478,0.7805686190795246,0.7737973815386837,-0.3949628512330703],\"yaxis\":\"y4\",\"type\":\"scatter\"},{\"histfunc\":\"count\",\"histnorm\":\"\",\"marker\":{\"color\":\"rgba(55, 128, 191, 1.0)\",\"line\":{\"color\":\"#4D5663\",\"width\":1.3}},\"name\":\"B\",\"nbinsx\":10,\"opacity\":0.8,\"orientation\":\"v\",\"x\":[0.5669227874209756,0.876628774868819,-0.7273594292138338,1.4305615475189244,-0.7942951604178743,0.38565489564719807,0.6062439728426132,0.5845234557149154,-1.2678773652996131,0.08580404826572388,-0.9631502896732222,0.15868439466045228,0.2588834222675947,-0.12267277070886082,-0.37134579866912487,0.5456553387098986,-1.6103426603007174,-0.9652802063518969,-1.5535531797797926,0.7066562570191298,0.7641623086399777,0.5660683603612852,0.03694356062188423,2.729848298265021,0.24136636134493017,2.524976974846444,-0.21102321266568405,1.0273338761618662,0.4850989610432347,0.05629502139004537,0.9079336638068392,0.031035112111715703,1.6319366601922278,-1.9761262501252943,1.023326022481378,-1.4535063457650306,0.4780832497016251,1.7038152473616048,-1.5210639303648146,-1.5631563616898365,-0.953756969674632,-0.9355089349922378,1.4547504173789754,2.126270607571978,-0.5874192739455492,0.8275724643420516,0.5501318469167297,1.5165706004299866,0.041681308803413974,1.2288760499138882,-1.4530556610761614,0.3521047181801425,0.37101497440306314,-0.23665023886305828,-1.7206200038024912,2.0488792614981897,-0.1739266101959704,0.2074374286553849,-0.093355497190572,0.5799754032266968,2.1994123319977708,-0.28178243255033436,-0.46800774446168075,0.27836889342288346,1.7927368224208309,1.0423877161666988,-0.41046953904836003,-1.0950844225088552,-1.1694551351794975,-1.7825695899572074,-0.8242246505871773,-0.6680401796708747,0.26680473975958807,-0.2603188445706859,-0.7585139589492308,-1.6446327352209966,-0.7296457499922089,-0.17504485184396723,1.0879454665012345,0.5039471622653162,-1.799982126928582,-0.42643785009997925,0.1263906774643471,0.052245204945613265,0.13243375796686324,0.10353103474315886,-0.9380115619193468,-0.05390343205752204,1.2470655631948842,-0.2638989256432248,1.0756701405284956,0.6205709480175456,-1.880545157183852,0.43579600897938947,-0.8471904909757707,2.092500604908823,0.3466732836300478,0.7805686190795246,0.7737973815386837,-0.3949628512330703],\"xaxis\":\"x5\",\"yaxis\":\"y5\",\"type\":\"histogram\"},{\"line\":{\"color\":\"rgba(128, 128, 128, 1.0)\",\"dash\":\"solid\",\"shape\":\"linear\",\"width\":1.3},\"marker\":{\"size\":2,\"symbol\":\"circle\"},\"mode\":\"markers\",\"name\":\"B\",\"text\":\"\",\"x\":[0.5240321107968314,-1.2818581314473803,0.29484052235223956,0.04165826086464471,0.673562735726411,-0.5601508401353184,0.10726761840353928,0.9034369673793241,-0.20848844369028255,0.009077219990422502,0.7614881923065624,-1.0353072004432662,-0.39706218441949637,0.0442455652201715,-0.024632996341245238,-0.38871636991009345,0.714862686789878,-0.13754628958159562,-1.1566614879186157,-1.0264131444337994,-0.8382160927778828,-0.6556304084279646,1.2316927466243321,-0.6690200597586026,0.03950139197534639,-0.3764604385795641,0.5231917628756628,-1.0949165193504358,-0.4062943733719469,0.20202882461753316,-0.04815711255121329,-0.17218031521835345,0.17340466663122242,-0.24623471509870715,0.03627476629254057,1.1435904937853418,-0.9212807620573791,1.4350741410088304,-1.1431022704267602,1.305670675193548,-0.7270112851807574,0.08137940653876674,1.0478914571278963,-1.0303912428911377,-1.316778030555177,-2.5253699493660635,-0.8220574669467124,0.6478481678635425,0.7459879739678887,0.5193981092991432,-0.09680067245936409,0.10445605150325764,-0.5296831622938263,0.5755508530690508,-2.079105326549701,1.347534957467463,0.0450399204872343,-0.41845755566805026,0.44765905337545375,-0.8932714671991978,-0.42099852370267304,-0.5181341492461724,-1.0967877621179967,-0.5402499306481223,0.7574772982615179,0.8247147718804475,-0.30791165875502974,0.2127858486712444,-0.31921310603954145,-0.5683191422926578,-0.10685958754465645,0.7743561972941484,0.3219980656879739,0.7046720004248032,1.2928070538842928,1.2750030276034225,-0.22650910764134566,1.1456731869609518,1.3365090289776138,-1.2508071155680949,-1.9923237639781415,-0.20495068753879114,-0.2694270737460097,0.10482884980777825,1.9041450369951045,-1.2769613061557723,0.3233566115975954,0.12469744378102753,0.3028245227845009,2.2260930908774936,-0.13766818045678908,0.4135358328952993,0.3449980628933821,1.1948260701669133,-0.4515983717504652,2.175838491281581,0.441503760528067,-0.20893048332480352,1.6611142804331533,0.5618752406900925],\"xaxis\":\"x6\",\"y\":[0.5669227874209756,0.876628774868819,-0.7273594292138338,1.4305615475189244,-0.7942951604178743,0.38565489564719807,0.6062439728426132,0.5845234557149154,-1.2678773652996131,0.08580404826572388,-0.9631502896732222,0.15868439466045228,0.2588834222675947,-0.12267277070886082,-0.37134579866912487,0.5456553387098986,-1.6103426603007174,-0.9652802063518969,-1.5535531797797926,0.7066562570191298,0.7641623086399777,0.5660683603612852,0.03694356062188423,2.729848298265021,0.24136636134493017,2.524976974846444,-0.21102321266568405,1.0273338761618662,0.4850989610432347,0.05629502139004537,0.9079336638068392,0.031035112111715703,1.6319366601922278,-1.9761262501252943,1.023326022481378,-1.4535063457650306,0.4780832497016251,1.7038152473616048,-1.5210639303648146,-1.5631563616898365,-0.953756969674632,-0.9355089349922378,1.4547504173789754,2.126270607571978,-0.5874192739455492,0.8275724643420516,0.5501318469167297,1.5165706004299866,0.041681308803413974,1.2288760499138882,-1.4530556610761614,0.3521047181801425,0.37101497440306314,-0.23665023886305828,-1.7206200038024912,2.0488792614981897,-0.1739266101959704,0.2074374286553849,-0.093355497190572,0.5799754032266968,2.1994123319977708,-0.28178243255033436,-0.46800774446168075,0.27836889342288346,1.7927368224208309,1.0423877161666988,-0.41046953904836003,-1.0950844225088552,-1.1694551351794975,-1.7825695899572074,-0.8242246505871773,-0.6680401796708747,0.26680473975958807,-0.2603188445706859,-0.7585139589492308,-1.6446327352209966,-0.7296457499922089,-0.17504485184396723,1.0879454665012345,0.5039471622653162,-1.799982126928582,-0.42643785009997925,0.1263906774643471,0.052245204945613265,0.13243375796686324,0.10353103474315886,-0.9380115619193468,-0.05390343205752204,1.2470655631948842,-0.2638989256432248,1.0756701405284956,0.6205709480175456,-1.880545157183852,0.43579600897938947,-0.8471904909757707,2.092500604908823,0.3466732836300478,0.7805686190795246,0.7737973815386837,-0.3949628512330703],\"yaxis\":\"y6\",\"type\":\"scatter\"},{\"line\":{\"color\":\"rgba(128, 128, 128, 1.0)\",\"dash\":\"solid\",\"shape\":\"linear\",\"width\":1.3},\"marker\":{\"size\":2,\"symbol\":\"circle\"},\"mode\":\"markers\",\"name\":\"C\",\"text\":\"\",\"x\":[-1.033054557149968,-0.9447631964877081,0.6614935437102547,1.1432021994205641,-0.881703685959822,0.20981467074620108,0.4675714971357549,0.30207617900058414,-2.140651579925566,-0.6025197439089002,0.44644296012602647,-0.1207051342616133,-1.9075736360884976,0.1982347091080541,1.2667418626750608,-0.5137913197849076,0.9240263969943613,-1.0804597800557079,-0.556601127554471,-0.5707296105347224,-1.2023656928053807,-0.6918827840839002,-1.353698782877351,-0.2509251366401465,1.7623118439384375,0.4901622994301756,-0.602261275113419,-0.14728697455957057,-1.333403877821013,0.3762114659516428,1.9277594027821363,-0.29846966778195755,-0.4247699856509981,-0.8930418732262699,-0.37005969592756216,-0.1602094228108446,-0.9490802186937405,0.8909471555383717,1.092741705044151,-1.228951017028698,1.245480797434885,-0.2283784530197112,-0.5191307956744338,-0.4271527073555195,0.6581640144756709,0.48456021217174833,-1.1037018137984387,1.496106101639429,-1.7483599959373142,0.1423402551052957,-0.1768337680710909,0.6088743097030376,-1.1774045737448684,-0.2985508290123847,0.9134716516701819,1.0760667499982635,-0.4031462098346326,0.16725760390026084,0.792368485363887,-2.1083005126594765,0.574963853829838,-1.4096359158679268,-0.28146896151120193,-2.568636597303144,1.6278889288684832,-0.93982733027261,-0.08660544870275479,-0.8577488500213871,0.9623175081785798,0.2323851945851437,-1.6203416929329397,-0.6033892665757813,0.6930641441100173,0.24908032521003376,0.4735401415469657,0.3322765166169506,0.07695599270883098,0.8104630265514642,0.01319679992750227,-0.4623078874786229,-1.2849233084875498,1.4426486230036524,0.45841678556274995,-0.7162255811144571,-0.04243239656239601,0.17968031392172545,-1.7507769873053525,-0.90140424994952,0.7922263507561726,-1.2940652059156423,0.4690045250714445,-1.06478799433691,0.3028034834679436,0.637771443393043,0.6627666239233564,1.0948412896128021,-0.31005818221952847,0.4968432747864927,-1.7344573352603403,1.5099116246667956],\"xaxis\":\"x7\",\"y\":[0.5240321107968314,-1.2818581314473803,0.29484052235223956,0.04165826086464471,0.673562735726411,-0.5601508401353184,0.10726761840353928,0.9034369673793241,-0.20848844369028255,0.009077219990422502,0.7614881923065624,-1.0353072004432662,-0.39706218441949637,0.0442455652201715,-0.024632996341245238,-0.38871636991009345,0.714862686789878,-0.13754628958159562,-1.1566614879186157,-1.0264131444337994,-0.8382160927778828,-0.6556304084279646,1.2316927466243321,-0.6690200597586026,0.03950139197534639,-0.3764604385795641,0.5231917628756628,-1.0949165193504358,-0.4062943733719469,0.20202882461753316,-0.04815711255121329,-0.17218031521835345,0.17340466663122242,-0.24623471509870715,0.03627476629254057,1.1435904937853418,-0.9212807620573791,1.4350741410088304,-1.1431022704267602,1.305670675193548,-0.7270112851807574,0.08137940653876674,1.0478914571278963,-1.0303912428911377,-1.316778030555177,-2.5253699493660635,-0.8220574669467124,0.6478481678635425,0.7459879739678887,0.5193981092991432,-0.09680067245936409,0.10445605150325764,-0.5296831622938263,0.5755508530690508,-2.079105326549701,1.347534957467463,0.0450399204872343,-0.41845755566805026,0.44765905337545375,-0.8932714671991978,-0.42099852370267304,-0.5181341492461724,-1.0967877621179967,-0.5402499306481223,0.7574772982615179,0.8247147718804475,-0.30791165875502974,0.2127858486712444,-0.31921310603954145,-0.5683191422926578,-0.10685958754465645,0.7743561972941484,0.3219980656879739,0.7046720004248032,1.2928070538842928,1.2750030276034225,-0.22650910764134566,1.1456731869609518,1.3365090289776138,-1.2508071155680949,-1.9923237639781415,-0.20495068753879114,-0.2694270737460097,0.10482884980777825,1.9041450369951045,-1.2769613061557723,0.3233566115975954,0.12469744378102753,0.3028245227845009,2.2260930908774936,-0.13766818045678908,0.4135358328952993,0.3449980628933821,1.1948260701669133,-0.4515983717504652,2.175838491281581,0.441503760528067,-0.20893048332480352,1.6611142804331533,0.5618752406900925],\"yaxis\":\"y7\",\"type\":\"scatter\"},{\"line\":{\"color\":\"rgba(128, 128, 128, 1.0)\",\"dash\":\"solid\",\"shape\":\"linear\",\"width\":1.3},\"marker\":{\"size\":2,\"symbol\":\"circle\"},\"mode\":\"markers\",\"name\":\"C\",\"text\":\"\",\"x\":[0.5669227874209756,0.876628774868819,-0.7273594292138338,1.4305615475189244,-0.7942951604178743,0.38565489564719807,0.6062439728426132,0.5845234557149154,-1.2678773652996131,0.08580404826572388,-0.9631502896732222,0.15868439466045228,0.2588834222675947,-0.12267277070886082,-0.37134579866912487,0.5456553387098986,-1.6103426603007174,-0.9652802063518969,-1.5535531797797926,0.7066562570191298,0.7641623086399777,0.5660683603612852,0.03694356062188423,2.729848298265021,0.24136636134493017,2.524976974846444,-0.21102321266568405,1.0273338761618662,0.4850989610432347,0.05629502139004537,0.9079336638068392,0.031035112111715703,1.6319366601922278,-1.9761262501252943,1.023326022481378,-1.4535063457650306,0.4780832497016251,1.7038152473616048,-1.5210639303648146,-1.5631563616898365,-0.953756969674632,-0.9355089349922378,1.4547504173789754,2.126270607571978,-0.5874192739455492,0.8275724643420516,0.5501318469167297,1.5165706004299866,0.041681308803413974,1.2288760499138882,-1.4530556610761614,0.3521047181801425,0.37101497440306314,-0.23665023886305828,-1.7206200038024912,2.0488792614981897,-0.1739266101959704,0.2074374286553849,-0.093355497190572,0.5799754032266968,2.1994123319977708,-0.28178243255033436,-0.46800774446168075,0.27836889342288346,1.7927368224208309,1.0423877161666988,-0.41046953904836003,-1.0950844225088552,-1.1694551351794975,-1.7825695899572074,-0.8242246505871773,-0.6680401796708747,0.26680473975958807,-0.2603188445706859,-0.7585139589492308,-1.6446327352209966,-0.7296457499922089,-0.17504485184396723,1.0879454665012345,0.5039471622653162,-1.799982126928582,-0.42643785009997925,0.1263906774643471,0.052245204945613265,0.13243375796686324,0.10353103474315886,-0.9380115619193468,-0.05390343205752204,1.2470655631948842,-0.2638989256432248,1.0756701405284956,0.6205709480175456,-1.880545157183852,0.43579600897938947,-0.8471904909757707,2.092500604908823,0.3466732836300478,0.7805686190795246,0.7737973815386837,-0.3949628512330703],\"xaxis\":\"x8\",\"y\":[0.5240321107968314,-1.2818581314473803,0.29484052235223956,0.04165826086464471,0.673562735726411,-0.5601508401353184,0.10726761840353928,0.9034369673793241,-0.20848844369028255,0.009077219990422502,0.7614881923065624,-1.0353072004432662,-0.39706218441949637,0.0442455652201715,-0.024632996341245238,-0.38871636991009345,0.714862686789878,-0.13754628958159562,-1.1566614879186157,-1.0264131444337994,-0.8382160927778828,-0.6556304084279646,1.2316927466243321,-0.6690200597586026,0.03950139197534639,-0.3764604385795641,0.5231917628756628,-1.0949165193504358,-0.4062943733719469,0.20202882461753316,-0.04815711255121329,-0.17218031521835345,0.17340466663122242,-0.24623471509870715,0.03627476629254057,1.1435904937853418,-0.9212807620573791,1.4350741410088304,-1.1431022704267602,1.305670675193548,-0.7270112851807574,0.08137940653876674,1.0478914571278963,-1.0303912428911377,-1.316778030555177,-2.5253699493660635,-0.8220574669467124,0.6478481678635425,0.7459879739678887,0.5193981092991432,-0.09680067245936409,0.10445605150325764,-0.5296831622938263,0.5755508530690508,-2.079105326549701,1.347534957467463,0.0450399204872343,-0.41845755566805026,0.44765905337545375,-0.8932714671991978,-0.42099852370267304,-0.5181341492461724,-1.0967877621179967,-0.5402499306481223,0.7574772982615179,0.8247147718804475,-0.30791165875502974,0.2127858486712444,-0.31921310603954145,-0.5683191422926578,-0.10685958754465645,0.7743561972941484,0.3219980656879739,0.7046720004248032,1.2928070538842928,1.2750030276034225,-0.22650910764134566,1.1456731869609518,1.3365090289776138,-1.2508071155680949,-1.9923237639781415,-0.20495068753879114,-0.2694270737460097,0.10482884980777825,1.9041450369951045,-1.2769613061557723,0.3233566115975954,0.12469744378102753,0.3028245227845009,2.2260930908774936,-0.13766818045678908,0.4135358328952993,0.3449980628933821,1.1948260701669133,-0.4515983717504652,2.175838491281581,0.441503760528067,-0.20893048332480352,1.6611142804331533,0.5618752406900925],\"yaxis\":\"y8\",\"type\":\"scatter\"},{\"histfunc\":\"count\",\"histnorm\":\"\",\"marker\":{\"color\":\"rgba(50, 171, 96, 1.0)\",\"line\":{\"color\":\"#4D5663\",\"width\":1.3}},\"name\":\"C\",\"nbinsx\":10,\"opacity\":0.8,\"orientation\":\"v\",\"x\":[0.5240321107968314,-1.2818581314473803,0.29484052235223956,0.04165826086464471,0.673562735726411,-0.5601508401353184,0.10726761840353928,0.9034369673793241,-0.20848844369028255,0.009077219990422502,0.7614881923065624,-1.0353072004432662,-0.39706218441949637,0.0442455652201715,-0.024632996341245238,-0.38871636991009345,0.714862686789878,-0.13754628958159562,-1.1566614879186157,-1.0264131444337994,-0.8382160927778828,-0.6556304084279646,1.2316927466243321,-0.6690200597586026,0.03950139197534639,-0.3764604385795641,0.5231917628756628,-1.0949165193504358,-0.4062943733719469,0.20202882461753316,-0.04815711255121329,-0.17218031521835345,0.17340466663122242,-0.24623471509870715,0.03627476629254057,1.1435904937853418,-0.9212807620573791,1.4350741410088304,-1.1431022704267602,1.305670675193548,-0.7270112851807574,0.08137940653876674,1.0478914571278963,-1.0303912428911377,-1.316778030555177,-2.5253699493660635,-0.8220574669467124,0.6478481678635425,0.7459879739678887,0.5193981092991432,-0.09680067245936409,0.10445605150325764,-0.5296831622938263,0.5755508530690508,-2.079105326549701,1.347534957467463,0.0450399204872343,-0.41845755566805026,0.44765905337545375,-0.8932714671991978,-0.42099852370267304,-0.5181341492461724,-1.0967877621179967,-0.5402499306481223,0.7574772982615179,0.8247147718804475,-0.30791165875502974,0.2127858486712444,-0.31921310603954145,-0.5683191422926578,-0.10685958754465645,0.7743561972941484,0.3219980656879739,0.7046720004248032,1.2928070538842928,1.2750030276034225,-0.22650910764134566,1.1456731869609518,1.3365090289776138,-1.2508071155680949,-1.9923237639781415,-0.20495068753879114,-0.2694270737460097,0.10482884980777825,1.9041450369951045,-1.2769613061557723,0.3233566115975954,0.12469744378102753,0.3028245227845009,2.2260930908774936,-0.13766818045678908,0.4135358328952993,0.3449980628933821,1.1948260701669133,-0.4515983717504652,2.175838491281581,0.441503760528067,-0.20893048332480352,1.6611142804331533,0.5618752406900925],\"xaxis\":\"x9\",\"yaxis\":\"y9\",\"type\":\"histogram\"}],                        {\"bargap\":0.02,\"legend\":{\"bgcolor\":\"#F5F6F9\",\"font\":{\"color\":\"#4D5663\"}},\"paper_bgcolor\":\"#F5F6F9\",\"plot_bgcolor\":\"#F5F6F9\",\"showlegend\":false,\"template\":{\"data\":{\"barpolar\":[{\"marker\":{\"line\":{\"color\":\"#E5ECF6\",\"width\":0.5},\"pattern\":{\"fillmode\":\"overlay\",\"size\":10,\"solidity\":0.2}},\"type\":\"barpolar\"}],\"bar\":[{\"error_x\":{\"color\":\"#2a3f5f\"},\"error_y\":{\"color\":\"#2a3f5f\"},\"marker\":{\"line\":{\"color\":\"#E5ECF6\",\"width\":0.5},\"pattern\":{\"fillmode\":\"overlay\",\"size\":10,\"solidity\":0.2}},\"type\":\"bar\"}],\"carpet\":[{\"aaxis\":{\"endlinecolor\":\"#2a3f5f\",\"gridcolor\":\"white\",\"linecolor\":\"white\",\"minorgridcolor\":\"white\",\"startlinecolor\":\"#2a3f5f\"},\"baxis\":{\"endlinecolor\":\"#2a3f5f\",\"gridcolor\":\"white\",\"linecolor\":\"white\",\"minorgridcolor\":\"white\",\"startlinecolor\":\"#2a3f5f\"},\"type\":\"carpet\"}],\"choropleth\":[{\"colorbar\":{\"outlinewidth\":0,\"ticks\":\"\"},\"type\":\"choropleth\"}],\"contourcarpet\":[{\"colorbar\":{\"outlinewidth\":0,\"ticks\":\"\"},\"type\":\"contourcarpet\"}],\"contour\":[{\"colorbar\":{\"outlinewidth\":0,\"ticks\":\"\"},\"colorscale\":[[0.0,\"#0d0887\"],[0.1111111111111111,\"#46039f\"],[0.2222222222222222,\"#7201a8\"],[0.3333333333333333,\"#9c179e\"],[0.4444444444444444,\"#bd3786\"],[0.5555555555555556,\"#d8576b\"],[0.6666666666666666,\"#ed7953\"],[0.7777777777777778,\"#fb9f3a\"],[0.8888888888888888,\"#fdca26\"],[1.0,\"#f0f921\"]],\"type\":\"contour\"}],\"heatmapgl\":[{\"colorbar\":{\"outlinewidth\":0,\"ticks\":\"\"},\"colorscale\":[[0.0,\"#0d0887\"],[0.1111111111111111,\"#46039f\"],[0.2222222222222222,\"#7201a8\"],[0.3333333333333333,\"#9c179e\"],[0.4444444444444444,\"#bd3786\"],[0.5555555555555556,\"#d8576b\"],[0.6666666666666666,\"#ed7953\"],[0.7777777777777778,\"#fb9f3a\"],[0.8888888888888888,\"#fdca26\"],[1.0,\"#f0f921\"]],\"type\":\"heatmapgl\"}],\"heatmap\":[{\"colorbar\":{\"outlinewidth\":0,\"ticks\":\"\"},\"colorscale\":[[0.0,\"#0d0887\"],[0.1111111111111111,\"#46039f\"],[0.2222222222222222,\"#7201a8\"],[0.3333333333333333,\"#9c179e\"],[0.4444444444444444,\"#bd3786\"],[0.5555555555555556,\"#d8576b\"],[0.6666666666666666,\"#ed7953\"],[0.7777777777777778,\"#fb9f3a\"],[0.8888888888888888,\"#fdca26\"],[1.0,\"#f0f921\"]],\"type\":\"heatmap\"}],\"histogram2dcontour\":[{\"colorbar\":{\"outlinewidth\":0,\"ticks\":\"\"},\"colorscale\":[[0.0,\"#0d0887\"],[0.1111111111111111,\"#46039f\"],[0.2222222222222222,\"#7201a8\"],[0.3333333333333333,\"#9c179e\"],[0.4444444444444444,\"#bd3786\"],[0.5555555555555556,\"#d8576b\"],[0.6666666666666666,\"#ed7953\"],[0.7777777777777778,\"#fb9f3a\"],[0.8888888888888888,\"#fdca26\"],[1.0,\"#f0f921\"]],\"type\":\"histogram2dcontour\"}],\"histogram2d\":[{\"colorbar\":{\"outlinewidth\":0,\"ticks\":\"\"},\"colorscale\":[[0.0,\"#0d0887\"],[0.1111111111111111,\"#46039f\"],[0.2222222222222222,\"#7201a8\"],[0.3333333333333333,\"#9c179e\"],[0.4444444444444444,\"#bd3786\"],[0.5555555555555556,\"#d8576b\"],[0.6666666666666666,\"#ed7953\"],[0.7777777777777778,\"#fb9f3a\"],[0.8888888888888888,\"#fdca26\"],[1.0,\"#f0f921\"]],\"type\":\"histogram2d\"}],\"histogram\":[{\"marker\":{\"pattern\":{\"fillmode\":\"overlay\",\"size\":10,\"solidity\":0.2}},\"type\":\"histogram\"}],\"mesh3d\":[{\"colorbar\":{\"outlinewidth\":0,\"ticks\":\"\"},\"type\":\"mesh3d\"}],\"parcoords\":[{\"line\":{\"colorbar\":{\"outlinewidth\":0,\"ticks\":\"\"}},\"type\":\"parcoords\"}],\"pie\":[{\"automargin\":true,\"type\":\"pie\"}],\"scatter3d\":[{\"line\":{\"colorbar\":{\"outlinewidth\":0,\"ticks\":\"\"}},\"marker\":{\"colorbar\":{\"outlinewidth\":0,\"ticks\":\"\"}},\"type\":\"scatter3d\"}],\"scattercarpet\":[{\"marker\":{\"colorbar\":{\"outlinewidth\":0,\"ticks\":\"\"}},\"type\":\"scattercarpet\"}],\"scattergeo\":[{\"marker\":{\"colorbar\":{\"outlinewidth\":0,\"ticks\":\"\"}},\"type\":\"scattergeo\"}],\"scattergl\":[{\"marker\":{\"colorbar\":{\"outlinewidth\":0,\"ticks\":\"\"}},\"type\":\"scattergl\"}],\"scattermapbox\":[{\"marker\":{\"colorbar\":{\"outlinewidth\":0,\"ticks\":\"\"}},\"type\":\"scattermapbox\"}],\"scatterpolargl\":[{\"marker\":{\"colorbar\":{\"outlinewidth\":0,\"ticks\":\"\"}},\"type\":\"scatterpolargl\"}],\"scatterpolar\":[{\"marker\":{\"colorbar\":{\"outlinewidth\":0,\"ticks\":\"\"}},\"type\":\"scatterpolar\"}],\"scatter\":[{\"fillpattern\":{\"fillmode\":\"overlay\",\"size\":10,\"solidity\":0.2},\"type\":\"scatter\"}],\"scatterternary\":[{\"marker\":{\"colorbar\":{\"outlinewidth\":0,\"ticks\":\"\"}},\"type\":\"scatterternary\"}],\"surface\":[{\"colorbar\":{\"outlinewidth\":0,\"ticks\":\"\"},\"colorscale\":[[0.0,\"#0d0887\"],[0.1111111111111111,\"#46039f\"],[0.2222222222222222,\"#7201a8\"],[0.3333333333333333,\"#9c179e\"],[0.4444444444444444,\"#bd3786\"],[0.5555555555555556,\"#d8576b\"],[0.6666666666666666,\"#ed7953\"],[0.7777777777777778,\"#fb9f3a\"],[0.8888888888888888,\"#fdca26\"],[1.0,\"#f0f921\"]],\"type\":\"surface\"}],\"table\":[{\"cells\":{\"fill\":{\"color\":\"#EBF0F8\"},\"line\":{\"color\":\"white\"}},\"header\":{\"fill\":{\"color\":\"#C8D4E3\"},\"line\":{\"color\":\"white\"}},\"type\":\"table\"}]},\"layout\":{\"annotationdefaults\":{\"arrowcolor\":\"#2a3f5f\",\"arrowhead\":0,\"arrowwidth\":1},\"autotypenumbers\":\"strict\",\"coloraxis\":{\"colorbar\":{\"outlinewidth\":0,\"ticks\":\"\"}},\"colorscale\":{\"diverging\":[[0,\"#8e0152\"],[0.1,\"#c51b7d\"],[0.2,\"#de77ae\"],[0.3,\"#f1b6da\"],[0.4,\"#fde0ef\"],[0.5,\"#f7f7f7\"],[0.6,\"#e6f5d0\"],[0.7,\"#b8e186\"],[0.8,\"#7fbc41\"],[0.9,\"#4d9221\"],[1,\"#276419\"]],\"sequential\":[[0.0,\"#0d0887\"],[0.1111111111111111,\"#46039f\"],[0.2222222222222222,\"#7201a8\"],[0.3333333333333333,\"#9c179e\"],[0.4444444444444444,\"#bd3786\"],[0.5555555555555556,\"#d8576b\"],[0.6666666666666666,\"#ed7953\"],[0.7777777777777778,\"#fb9f3a\"],[0.8888888888888888,\"#fdca26\"],[1.0,\"#f0f921\"]],\"sequentialminus\":[[0.0,\"#0d0887\"],[0.1111111111111111,\"#46039f\"],[0.2222222222222222,\"#7201a8\"],[0.3333333333333333,\"#9c179e\"],[0.4444444444444444,\"#bd3786\"],[0.5555555555555556,\"#d8576b\"],[0.6666666666666666,\"#ed7953\"],[0.7777777777777778,\"#fb9f3a\"],[0.8888888888888888,\"#fdca26\"],[1.0,\"#f0f921\"]]},\"colorway\":[\"#636efa\",\"#EF553B\",\"#00cc96\",\"#ab63fa\",\"#FFA15A\",\"#19d3f3\",\"#FF6692\",\"#B6E880\",\"#FF97FF\",\"#FECB52\"],\"font\":{\"color\":\"#2a3f5f\"},\"geo\":{\"bgcolor\":\"white\",\"lakecolor\":\"white\",\"landcolor\":\"#E5ECF6\",\"showlakes\":true,\"showland\":true,\"subunitcolor\":\"white\"},\"hoverlabel\":{\"align\":\"left\"},\"hovermode\":\"closest\",\"mapbox\":{\"style\":\"light\"},\"paper_bgcolor\":\"white\",\"plot_bgcolor\":\"#E5ECF6\",\"polar\":{\"angularaxis\":{\"gridcolor\":\"white\",\"linecolor\":\"white\",\"ticks\":\"\"},\"bgcolor\":\"#E5ECF6\",\"radialaxis\":{\"gridcolor\":\"white\",\"linecolor\":\"white\",\"ticks\":\"\"}},\"scene\":{\"xaxis\":{\"backgroundcolor\":\"#E5ECF6\",\"gridcolor\":\"white\",\"gridwidth\":2,\"linecolor\":\"white\",\"showbackground\":true,\"ticks\":\"\",\"zerolinecolor\":\"white\"},\"yaxis\":{\"backgroundcolor\":\"#E5ECF6\",\"gridcolor\":\"white\",\"gridwidth\":2,\"linecolor\":\"white\",\"showbackground\":true,\"ticks\":\"\",\"zerolinecolor\":\"white\"},\"zaxis\":{\"backgroundcolor\":\"#E5ECF6\",\"gridcolor\":\"white\",\"gridwidth\":2,\"linecolor\":\"white\",\"showbackground\":true,\"ticks\":\"\",\"zerolinecolor\":\"white\"}},\"shapedefaults\":{\"line\":{\"color\":\"#2a3f5f\"}},\"ternary\":{\"aaxis\":{\"gridcolor\":\"white\",\"linecolor\":\"white\",\"ticks\":\"\"},\"baxis\":{\"gridcolor\":\"white\",\"linecolor\":\"white\",\"ticks\":\"\"},\"bgcolor\":\"#E5ECF6\",\"caxis\":{\"gridcolor\":\"white\",\"linecolor\":\"white\",\"ticks\":\"\"}},\"title\":{\"x\":0.05},\"xaxis\":{\"automargin\":true,\"gridcolor\":\"white\",\"linecolor\":\"white\",\"ticks\":\"\",\"title\":{\"standoff\":15},\"zerolinecolor\":\"white\",\"zerolinewidth\":2},\"yaxis\":{\"automargin\":true,\"gridcolor\":\"white\",\"linecolor\":\"white\",\"ticks\":\"\",\"title\":{\"standoff\":15},\"zerolinecolor\":\"white\",\"zerolinewidth\":2}}},\"title\":{\"font\":{\"color\":\"#4D5663\"}},\"xaxis\":{\"anchor\":\"y\",\"domain\":[0.0,0.3],\"gridcolor\":\"#E1E5ED\",\"showgrid\":false,\"tickfont\":{\"color\":\"#4D5663\"},\"title\":{\"font\":{\"color\":\"#4D5663\"},\"text\":\"\"},\"zerolinecolor\":\"#E1E5ED\"},\"yaxis\":{\"anchor\":\"x\",\"domain\":[0.7133333333333334,1.0],\"gridcolor\":\"#E1E5ED\",\"showgrid\":false,\"tickfont\":{\"color\":\"#4D5663\"},\"title\":{\"font\":{\"color\":\"#4D5663\"},\"text\":\"\"},\"zerolinecolor\":\"#E1E5ED\"},\"xaxis2\":{\"anchor\":\"y2\",\"domain\":[0.35,0.6499999999999999],\"gridcolor\":\"#E1E5ED\",\"showgrid\":false,\"tickfont\":{\"color\":\"#4D5663\"},\"title\":{\"font\":{\"color\":\"#4D5663\"},\"text\":\"\"},\"zerolinecolor\":\"#E1E5ED\"},\"yaxis2\":{\"anchor\":\"x2\",\"domain\":[0.7133333333333334,1.0],\"gridcolor\":\"#E1E5ED\",\"showgrid\":false,\"tickfont\":{\"color\":\"#4D5663\"},\"title\":{\"font\":{\"color\":\"#4D5663\"},\"text\":\"\"},\"zerolinecolor\":\"#E1E5ED\"},\"xaxis3\":{\"anchor\":\"y3\",\"domain\":[0.7,1.0],\"gridcolor\":\"#E1E5ED\",\"showgrid\":false,\"tickfont\":{\"color\":\"#4D5663\"},\"title\":{\"font\":{\"color\":\"#4D5663\"},\"text\":\"\"},\"zerolinecolor\":\"#E1E5ED\"},\"yaxis3\":{\"anchor\":\"x3\",\"domain\":[0.7133333333333334,1.0],\"gridcolor\":\"#E1E5ED\",\"showgrid\":false,\"tickfont\":{\"color\":\"#4D5663\"},\"title\":{\"font\":{\"color\":\"#4D5663\"},\"text\":\"\"},\"zerolinecolor\":\"#E1E5ED\"},\"xaxis4\":{\"anchor\":\"y4\",\"domain\":[0.0,0.3],\"gridcolor\":\"#E1E5ED\",\"showgrid\":false,\"tickfont\":{\"color\":\"#4D5663\"},\"title\":{\"font\":{\"color\":\"#4D5663\"},\"text\":\"\"},\"zerolinecolor\":\"#E1E5ED\"},\"yaxis4\":{\"anchor\":\"x4\",\"domain\":[0.3566666666666667,0.6433333333333333],\"gridcolor\":\"#E1E5ED\",\"showgrid\":false,\"tickfont\":{\"color\":\"#4D5663\"},\"title\":{\"font\":{\"color\":\"#4D5663\"},\"text\":\"\"},\"zerolinecolor\":\"#E1E5ED\"},\"xaxis5\":{\"anchor\":\"y5\",\"domain\":[0.35,0.6499999999999999],\"gridcolor\":\"#E1E5ED\",\"showgrid\":false,\"tickfont\":{\"color\":\"#4D5663\"},\"title\":{\"font\":{\"color\":\"#4D5663\"},\"text\":\"\"},\"zerolinecolor\":\"#E1E5ED\"},\"yaxis5\":{\"anchor\":\"x5\",\"domain\":[0.3566666666666667,0.6433333333333333],\"gridcolor\":\"#E1E5ED\",\"showgrid\":false,\"tickfont\":{\"color\":\"#4D5663\"},\"title\":{\"font\":{\"color\":\"#4D5663\"},\"text\":\"\"},\"zerolinecolor\":\"#E1E5ED\"},\"xaxis6\":{\"anchor\":\"y6\",\"domain\":[0.7,1.0],\"gridcolor\":\"#E1E5ED\",\"showgrid\":false,\"tickfont\":{\"color\":\"#4D5663\"},\"title\":{\"font\":{\"color\":\"#4D5663\"},\"text\":\"\"},\"zerolinecolor\":\"#E1E5ED\"},\"yaxis6\":{\"anchor\":\"x6\",\"domain\":[0.3566666666666667,0.6433333333333333],\"gridcolor\":\"#E1E5ED\",\"showgrid\":false,\"tickfont\":{\"color\":\"#4D5663\"},\"title\":{\"font\":{\"color\":\"#4D5663\"},\"text\":\"\"},\"zerolinecolor\":\"#E1E5ED\"},\"xaxis7\":{\"anchor\":\"y7\",\"domain\":[0.0,0.3],\"gridcolor\":\"#E1E5ED\",\"showgrid\":false,\"tickfont\":{\"color\":\"#4D5663\"},\"title\":{\"font\":{\"color\":\"#4D5663\"},\"text\":\"\"},\"zerolinecolor\":\"#E1E5ED\"},\"yaxis7\":{\"anchor\":\"x7\",\"domain\":[0.0,0.2866666666666667],\"gridcolor\":\"#E1E5ED\",\"showgrid\":false,\"tickfont\":{\"color\":\"#4D5663\"},\"title\":{\"font\":{\"color\":\"#4D5663\"},\"text\":\"\"},\"zerolinecolor\":\"#E1E5ED\"},\"xaxis8\":{\"anchor\":\"y8\",\"domain\":[0.35,0.6499999999999999],\"gridcolor\":\"#E1E5ED\",\"showgrid\":false,\"tickfont\":{\"color\":\"#4D5663\"},\"title\":{\"font\":{\"color\":\"#4D5663\"},\"text\":\"\"},\"zerolinecolor\":\"#E1E5ED\"},\"yaxis8\":{\"anchor\":\"x8\",\"domain\":[0.0,0.2866666666666667],\"gridcolor\":\"#E1E5ED\",\"showgrid\":false,\"tickfont\":{\"color\":\"#4D5663\"},\"title\":{\"font\":{\"color\":\"#4D5663\"},\"text\":\"\"},\"zerolinecolor\":\"#E1E5ED\"},\"xaxis9\":{\"anchor\":\"y9\",\"domain\":[0.7,1.0],\"gridcolor\":\"#E1E5ED\",\"showgrid\":false,\"tickfont\":{\"color\":\"#4D5663\"},\"title\":{\"font\":{\"color\":\"#4D5663\"},\"text\":\"\"},\"zerolinecolor\":\"#E1E5ED\"},\"yaxis9\":{\"anchor\":\"x9\",\"domain\":[0.0,0.2866666666666667],\"gridcolor\":\"#E1E5ED\",\"showgrid\":false,\"tickfont\":{\"color\":\"#4D5663\"},\"title\":{\"font\":{\"color\":\"#4D5663\"},\"text\":\"\"},\"zerolinecolor\":\"#E1E5ED\"}},                        {\"showLink\": true, \"linkText\": \"Export to plot.ly\", \"plotlyServerURL\": \"https://plot.ly\", \"responsive\": true}                    ).then(function(){\n",
       "                            \n",
       "var gd = document.getElementById('65c9a069-ebcd-4830-97da-eb74dfbddbd4');\n",
       "var x = new MutationObserver(function (mutations, observer) {{\n",
       "        var display = window.getComputedStyle(gd).display;\n",
       "        if (!display || display === 'none') {{\n",
       "            console.log([gd, 'removed!']);\n",
       "            Plotly.purge(gd);\n",
       "            observer.disconnect();\n",
       "        }}\n",
       "}});\n",
       "\n",
       "// Listen for the removal of the full notebook cells\n",
       "var notebookContainer = gd.closest('#notebook-container');\n",
       "if (notebookContainer) {{\n",
       "    x.observe(notebookContainer, {childList: true});\n",
       "}}\n",
       "\n",
       "// Listen for the clearing of the current output cell\n",
       "var outputEl = gd.closest('.output');\n",
       "if (outputEl) {{\n",
       "    x.observe(outputEl, {childList: true});\n",
       "}}\n",
       "\n",
       "                        })                };                });            </script>        </div>"
      ]
     },
     "metadata": {},
     "output_type": "display_data"
    }
   ],
   "source": [
    "# Scatter matrix\n",
    "df_numeric.scatter_matrix()"
   ]
  },
  {
   "cell_type": "markdown",
   "metadata": {},
   "source": [
    "# Bubble"
   ]
  },
  {
   "cell_type": "code",
   "execution_count": 20,
   "metadata": {},
   "outputs": [
    {
     "data": {
      "application/vnd.plotly.v1+json": {
       "config": {
        "linkText": "Export to plot.ly",
        "plotlyServerURL": "https://plot.ly",
        "showLink": true
       },
       "data": [
        {
         "marker": {
          "color": [
           "rgb(255, 153, 51)",
           "rgb(55, 128, 191)",
           "rgb(50, 171, 96)",
           "rgb(128, 0, 128)",
           "rgb(219, 64, 82)",
           "rgb(0, 128, 128)",
           "rgb(255, 255, 51)",
           "rgb(128, 128, 0)",
           "rgb(251, 128, 114)",
           "rgb(128, 177, 211)"
          ],
          "line": {
           "width": 1.3
          },
          "size": [
           76,
           38,
           71,
           66,
           79,
           53,
           67,
           84,
           60,
           65,
           81,
           43,
           56,
           66,
           64,
           56,
           80,
           62,
           40,
           43,
           47,
           51,
           91,
           51,
           65,
           57,
           76,
           42,
           56,
           69,
           64,
           61,
           68,
           59,
           65,
           89,
           45,
           95,
           41,
           92,
           49,
           66,
           87,
           43,
           37,
           12,
           47,
           78,
           80,
           76,
           63,
           67,
           54,
           77,
           21,
           93,
           66,
           56,
           74,
           46,
           56,
           54,
           42,
           53,
           81,
           82,
           58,
           69,
           58,
           53,
           62,
           81,
           71,
           79,
           92,
           91,
           60,
           89,
           93,
           38,
           23,
           60,
           59,
           67,
           105,
           38,
           71,
           67,
           71,
           112,
           62,
           73,
           72,
           90,
           55,
           110,
           74,
           60,
           100,
           76
          ],
          "symbol": "circle"
         },
         "mode": "markers",
         "text": "",
         "type": "scatter",
         "x": [
          -1.033054557149968,
          -0.9447631964877081,
          0.6614935437102547,
          1.1432021994205641,
          -0.881703685959822,
          0.20981467074620108,
          0.4675714971357549,
          0.30207617900058414,
          -2.140651579925566,
          -0.6025197439089002,
          0.44644296012602647,
          -0.1207051342616133,
          -1.9075736360884976,
          0.1982347091080541,
          1.2667418626750608,
          -0.5137913197849076,
          0.9240263969943613,
          -1.0804597800557079,
          -0.556601127554471,
          -0.5707296105347224,
          -1.2023656928053807,
          -0.6918827840839002,
          -1.353698782877351,
          -0.2509251366401465,
          1.7623118439384375,
          0.4901622994301756,
          -0.602261275113419,
          -0.14728697455957057,
          -1.333403877821013,
          0.3762114659516428,
          1.9277594027821363,
          -0.29846966778195755,
          -0.4247699856509981,
          -0.8930418732262699,
          -0.37005969592756216,
          -0.1602094228108446,
          -0.9490802186937405,
          0.8909471555383717,
          1.092741705044151,
          -1.228951017028698,
          1.245480797434885,
          -0.2283784530197112,
          -0.5191307956744338,
          -0.4271527073555195,
          0.6581640144756709,
          0.48456021217174833,
          -1.1037018137984387,
          1.496106101639429,
          -1.7483599959373142,
          0.1423402551052957,
          -0.1768337680710909,
          0.6088743097030376,
          -1.1774045737448684,
          -0.2985508290123847,
          0.9134716516701819,
          1.0760667499982635,
          -0.4031462098346326,
          0.16725760390026084,
          0.792368485363887,
          -2.1083005126594765,
          0.574963853829838,
          -1.4096359158679268,
          -0.28146896151120193,
          -2.568636597303144,
          1.6278889288684832,
          -0.93982733027261,
          -0.08660544870275479,
          -0.8577488500213871,
          0.9623175081785798,
          0.2323851945851437,
          -1.6203416929329397,
          -0.6033892665757813,
          0.6930641441100173,
          0.24908032521003376,
          0.4735401415469657,
          0.3322765166169506,
          0.07695599270883098,
          0.8104630265514642,
          0.01319679992750227,
          -0.4623078874786229,
          -1.2849233084875498,
          1.4426486230036524,
          0.45841678556274995,
          -0.7162255811144571,
          -0.04243239656239601,
          0.17968031392172545,
          -1.7507769873053525,
          -0.90140424994952,
          0.7922263507561726,
          -1.2940652059156423,
          0.4690045250714445,
          -1.06478799433691,
          0.3028034834679436,
          0.637771443393043,
          0.6627666239233564,
          1.0948412896128021,
          -0.31005818221952847,
          0.4968432747864927,
          -1.7344573352603403,
          1.5099116246667956
         ],
         "y": [
          0.5669227874209756,
          0.876628774868819,
          -0.7273594292138338,
          1.4305615475189244,
          -0.7942951604178743,
          0.38565489564719807,
          0.6062439728426132,
          0.5845234557149154,
          -1.2678773652996131,
          0.08580404826572388,
          -0.9631502896732222,
          0.15868439466045228,
          0.2588834222675947,
          -0.12267277070886082,
          -0.37134579866912487,
          0.5456553387098986,
          -1.6103426603007174,
          -0.9652802063518969,
          -1.5535531797797926,
          0.7066562570191298,
          0.7641623086399777,
          0.5660683603612852,
          0.03694356062188423,
          2.729848298265021,
          0.24136636134493017,
          2.524976974846444,
          -0.21102321266568405,
          1.0273338761618662,
          0.4850989610432347,
          0.05629502139004537,
          0.9079336638068392,
          0.031035112111715703,
          1.6319366601922278,
          -1.9761262501252943,
          1.023326022481378,
          -1.4535063457650306,
          0.4780832497016251,
          1.7038152473616048,
          -1.5210639303648146,
          -1.5631563616898365,
          -0.953756969674632,
          -0.9355089349922378,
          1.4547504173789754,
          2.126270607571978,
          -0.5874192739455492,
          0.8275724643420516,
          0.5501318469167297,
          1.5165706004299866,
          0.041681308803413974,
          1.2288760499138882,
          -1.4530556610761614,
          0.3521047181801425,
          0.37101497440306314,
          -0.23665023886305828,
          -1.7206200038024912,
          2.0488792614981897,
          -0.1739266101959704,
          0.2074374286553849,
          -0.093355497190572,
          0.5799754032266968,
          2.1994123319977708,
          -0.28178243255033436,
          -0.46800774446168075,
          0.27836889342288346,
          1.7927368224208309,
          1.0423877161666988,
          -0.41046953904836003,
          -1.0950844225088552,
          -1.1694551351794975,
          -1.7825695899572074,
          -0.8242246505871773,
          -0.6680401796708747,
          0.26680473975958807,
          -0.2603188445706859,
          -0.7585139589492308,
          -1.6446327352209966,
          -0.7296457499922089,
          -0.17504485184396723,
          1.0879454665012345,
          0.5039471622653162,
          -1.799982126928582,
          -0.42643785009997925,
          0.1263906774643471,
          0.052245204945613265,
          0.13243375796686324,
          0.10353103474315886,
          -0.9380115619193468,
          -0.05390343205752204,
          1.2470655631948842,
          -0.2638989256432248,
          1.0756701405284956,
          0.6205709480175456,
          -1.880545157183852,
          0.43579600897938947,
          -0.8471904909757707,
          2.092500604908823,
          0.3466732836300478,
          0.7805686190795246,
          0.7737973815386837,
          -0.3949628512330703
         ]
        }
       ],
       "layout": {
        "legend": {
         "bgcolor": "#F5F6F9",
         "font": {
          "color": "#4D5663"
         }
        },
        "paper_bgcolor": "#F5F6F9",
        "plot_bgcolor": "#F5F6F9",
        "template": {
         "data": {
          "bar": [
           {
            "error_x": {
             "color": "#2a3f5f"
            },
            "error_y": {
             "color": "#2a3f5f"
            },
            "marker": {
             "line": {
              "color": "#E5ECF6",
              "width": 0.5
             },
             "pattern": {
              "fillmode": "overlay",
              "size": 10,
              "solidity": 0.2
             }
            },
            "type": "bar"
           }
          ],
          "barpolar": [
           {
            "marker": {
             "line": {
              "color": "#E5ECF6",
              "width": 0.5
             },
             "pattern": {
              "fillmode": "overlay",
              "size": 10,
              "solidity": 0.2
             }
            },
            "type": "barpolar"
           }
          ],
          "carpet": [
           {
            "aaxis": {
             "endlinecolor": "#2a3f5f",
             "gridcolor": "white",
             "linecolor": "white",
             "minorgridcolor": "white",
             "startlinecolor": "#2a3f5f"
            },
            "baxis": {
             "endlinecolor": "#2a3f5f",
             "gridcolor": "white",
             "linecolor": "white",
             "minorgridcolor": "white",
             "startlinecolor": "#2a3f5f"
            },
            "type": "carpet"
           }
          ],
          "choropleth": [
           {
            "colorbar": {
             "outlinewidth": 0,
             "ticks": ""
            },
            "type": "choropleth"
           }
          ],
          "contour": [
           {
            "colorbar": {
             "outlinewidth": 0,
             "ticks": ""
            },
            "colorscale": [
             [
              0,
              "#0d0887"
             ],
             [
              0.1111111111111111,
              "#46039f"
             ],
             [
              0.2222222222222222,
              "#7201a8"
             ],
             [
              0.3333333333333333,
              "#9c179e"
             ],
             [
              0.4444444444444444,
              "#bd3786"
             ],
             [
              0.5555555555555556,
              "#d8576b"
             ],
             [
              0.6666666666666666,
              "#ed7953"
             ],
             [
              0.7777777777777778,
              "#fb9f3a"
             ],
             [
              0.8888888888888888,
              "#fdca26"
             ],
             [
              1,
              "#f0f921"
             ]
            ],
            "type": "contour"
           }
          ],
          "contourcarpet": [
           {
            "colorbar": {
             "outlinewidth": 0,
             "ticks": ""
            },
            "type": "contourcarpet"
           }
          ],
          "heatmap": [
           {
            "colorbar": {
             "outlinewidth": 0,
             "ticks": ""
            },
            "colorscale": [
             [
              0,
              "#0d0887"
             ],
             [
              0.1111111111111111,
              "#46039f"
             ],
             [
              0.2222222222222222,
              "#7201a8"
             ],
             [
              0.3333333333333333,
              "#9c179e"
             ],
             [
              0.4444444444444444,
              "#bd3786"
             ],
             [
              0.5555555555555556,
              "#d8576b"
             ],
             [
              0.6666666666666666,
              "#ed7953"
             ],
             [
              0.7777777777777778,
              "#fb9f3a"
             ],
             [
              0.8888888888888888,
              "#fdca26"
             ],
             [
              1,
              "#f0f921"
             ]
            ],
            "type": "heatmap"
           }
          ],
          "heatmapgl": [
           {
            "colorbar": {
             "outlinewidth": 0,
             "ticks": ""
            },
            "colorscale": [
             [
              0,
              "#0d0887"
             ],
             [
              0.1111111111111111,
              "#46039f"
             ],
             [
              0.2222222222222222,
              "#7201a8"
             ],
             [
              0.3333333333333333,
              "#9c179e"
             ],
             [
              0.4444444444444444,
              "#bd3786"
             ],
             [
              0.5555555555555556,
              "#d8576b"
             ],
             [
              0.6666666666666666,
              "#ed7953"
             ],
             [
              0.7777777777777778,
              "#fb9f3a"
             ],
             [
              0.8888888888888888,
              "#fdca26"
             ],
             [
              1,
              "#f0f921"
             ]
            ],
            "type": "heatmapgl"
           }
          ],
          "histogram": [
           {
            "marker": {
             "pattern": {
              "fillmode": "overlay",
              "size": 10,
              "solidity": 0.2
             }
            },
            "type": "histogram"
           }
          ],
          "histogram2d": [
           {
            "colorbar": {
             "outlinewidth": 0,
             "ticks": ""
            },
            "colorscale": [
             [
              0,
              "#0d0887"
             ],
             [
              0.1111111111111111,
              "#46039f"
             ],
             [
              0.2222222222222222,
              "#7201a8"
             ],
             [
              0.3333333333333333,
              "#9c179e"
             ],
             [
              0.4444444444444444,
              "#bd3786"
             ],
             [
              0.5555555555555556,
              "#d8576b"
             ],
             [
              0.6666666666666666,
              "#ed7953"
             ],
             [
              0.7777777777777778,
              "#fb9f3a"
             ],
             [
              0.8888888888888888,
              "#fdca26"
             ],
             [
              1,
              "#f0f921"
             ]
            ],
            "type": "histogram2d"
           }
          ],
          "histogram2dcontour": [
           {
            "colorbar": {
             "outlinewidth": 0,
             "ticks": ""
            },
            "colorscale": [
             [
              0,
              "#0d0887"
             ],
             [
              0.1111111111111111,
              "#46039f"
             ],
             [
              0.2222222222222222,
              "#7201a8"
             ],
             [
              0.3333333333333333,
              "#9c179e"
             ],
             [
              0.4444444444444444,
              "#bd3786"
             ],
             [
              0.5555555555555556,
              "#d8576b"
             ],
             [
              0.6666666666666666,
              "#ed7953"
             ],
             [
              0.7777777777777778,
              "#fb9f3a"
             ],
             [
              0.8888888888888888,
              "#fdca26"
             ],
             [
              1,
              "#f0f921"
             ]
            ],
            "type": "histogram2dcontour"
           }
          ],
          "mesh3d": [
           {
            "colorbar": {
             "outlinewidth": 0,
             "ticks": ""
            },
            "type": "mesh3d"
           }
          ],
          "parcoords": [
           {
            "line": {
             "colorbar": {
              "outlinewidth": 0,
              "ticks": ""
             }
            },
            "type": "parcoords"
           }
          ],
          "pie": [
           {
            "automargin": true,
            "type": "pie"
           }
          ],
          "scatter": [
           {
            "fillpattern": {
             "fillmode": "overlay",
             "size": 10,
             "solidity": 0.2
            },
            "type": "scatter"
           }
          ],
          "scatter3d": [
           {
            "line": {
             "colorbar": {
              "outlinewidth": 0,
              "ticks": ""
             }
            },
            "marker": {
             "colorbar": {
              "outlinewidth": 0,
              "ticks": ""
             }
            },
            "type": "scatter3d"
           }
          ],
          "scattercarpet": [
           {
            "marker": {
             "colorbar": {
              "outlinewidth": 0,
              "ticks": ""
             }
            },
            "type": "scattercarpet"
           }
          ],
          "scattergeo": [
           {
            "marker": {
             "colorbar": {
              "outlinewidth": 0,
              "ticks": ""
             }
            },
            "type": "scattergeo"
           }
          ],
          "scattergl": [
           {
            "marker": {
             "colorbar": {
              "outlinewidth": 0,
              "ticks": ""
             }
            },
            "type": "scattergl"
           }
          ],
          "scattermapbox": [
           {
            "marker": {
             "colorbar": {
              "outlinewidth": 0,
              "ticks": ""
             }
            },
            "type": "scattermapbox"
           }
          ],
          "scatterpolar": [
           {
            "marker": {
             "colorbar": {
              "outlinewidth": 0,
              "ticks": ""
             }
            },
            "type": "scatterpolar"
           }
          ],
          "scatterpolargl": [
           {
            "marker": {
             "colorbar": {
              "outlinewidth": 0,
              "ticks": ""
             }
            },
            "type": "scatterpolargl"
           }
          ],
          "scatterternary": [
           {
            "marker": {
             "colorbar": {
              "outlinewidth": 0,
              "ticks": ""
             }
            },
            "type": "scatterternary"
           }
          ],
          "surface": [
           {
            "colorbar": {
             "outlinewidth": 0,
             "ticks": ""
            },
            "colorscale": [
             [
              0,
              "#0d0887"
             ],
             [
              0.1111111111111111,
              "#46039f"
             ],
             [
              0.2222222222222222,
              "#7201a8"
             ],
             [
              0.3333333333333333,
              "#9c179e"
             ],
             [
              0.4444444444444444,
              "#bd3786"
             ],
             [
              0.5555555555555556,
              "#d8576b"
             ],
             [
              0.6666666666666666,
              "#ed7953"
             ],
             [
              0.7777777777777778,
              "#fb9f3a"
             ],
             [
              0.8888888888888888,
              "#fdca26"
             ],
             [
              1,
              "#f0f921"
             ]
            ],
            "type": "surface"
           }
          ],
          "table": [
           {
            "cells": {
             "fill": {
              "color": "#EBF0F8"
             },
             "line": {
              "color": "white"
             }
            },
            "header": {
             "fill": {
              "color": "#C8D4E3"
             },
             "line": {
              "color": "white"
             }
            },
            "type": "table"
           }
          ]
         },
         "layout": {
          "annotationdefaults": {
           "arrowcolor": "#2a3f5f",
           "arrowhead": 0,
           "arrowwidth": 1
          },
          "autotypenumbers": "strict",
          "coloraxis": {
           "colorbar": {
            "outlinewidth": 0,
            "ticks": ""
           }
          },
          "colorscale": {
           "diverging": [
            [
             0,
             "#8e0152"
            ],
            [
             0.1,
             "#c51b7d"
            ],
            [
             0.2,
             "#de77ae"
            ],
            [
             0.3,
             "#f1b6da"
            ],
            [
             0.4,
             "#fde0ef"
            ],
            [
             0.5,
             "#f7f7f7"
            ],
            [
             0.6,
             "#e6f5d0"
            ],
            [
             0.7,
             "#b8e186"
            ],
            [
             0.8,
             "#7fbc41"
            ],
            [
             0.9,
             "#4d9221"
            ],
            [
             1,
             "#276419"
            ]
           ],
           "sequential": [
            [
             0,
             "#0d0887"
            ],
            [
             0.1111111111111111,
             "#46039f"
            ],
            [
             0.2222222222222222,
             "#7201a8"
            ],
            [
             0.3333333333333333,
             "#9c179e"
            ],
            [
             0.4444444444444444,
             "#bd3786"
            ],
            [
             0.5555555555555556,
             "#d8576b"
            ],
            [
             0.6666666666666666,
             "#ed7953"
            ],
            [
             0.7777777777777778,
             "#fb9f3a"
            ],
            [
             0.8888888888888888,
             "#fdca26"
            ],
            [
             1,
             "#f0f921"
            ]
           ],
           "sequentialminus": [
            [
             0,
             "#0d0887"
            ],
            [
             0.1111111111111111,
             "#46039f"
            ],
            [
             0.2222222222222222,
             "#7201a8"
            ],
            [
             0.3333333333333333,
             "#9c179e"
            ],
            [
             0.4444444444444444,
             "#bd3786"
            ],
            [
             0.5555555555555556,
             "#d8576b"
            ],
            [
             0.6666666666666666,
             "#ed7953"
            ],
            [
             0.7777777777777778,
             "#fb9f3a"
            ],
            [
             0.8888888888888888,
             "#fdca26"
            ],
            [
             1,
             "#f0f921"
            ]
           ]
          },
          "colorway": [
           "#636efa",
           "#EF553B",
           "#00cc96",
           "#ab63fa",
           "#FFA15A",
           "#19d3f3",
           "#FF6692",
           "#B6E880",
           "#FF97FF",
           "#FECB52"
          ],
          "font": {
           "color": "#2a3f5f"
          },
          "geo": {
           "bgcolor": "white",
           "lakecolor": "white",
           "landcolor": "#E5ECF6",
           "showlakes": true,
           "showland": true,
           "subunitcolor": "white"
          },
          "hoverlabel": {
           "align": "left"
          },
          "hovermode": "closest",
          "mapbox": {
           "style": "light"
          },
          "paper_bgcolor": "white",
          "plot_bgcolor": "#E5ECF6",
          "polar": {
           "angularaxis": {
            "gridcolor": "white",
            "linecolor": "white",
            "ticks": ""
           },
           "bgcolor": "#E5ECF6",
           "radialaxis": {
            "gridcolor": "white",
            "linecolor": "white",
            "ticks": ""
           }
          },
          "scene": {
           "xaxis": {
            "backgroundcolor": "#E5ECF6",
            "gridcolor": "white",
            "gridwidth": 2,
            "linecolor": "white",
            "showbackground": true,
            "ticks": "",
            "zerolinecolor": "white"
           },
           "yaxis": {
            "backgroundcolor": "#E5ECF6",
            "gridcolor": "white",
            "gridwidth": 2,
            "linecolor": "white",
            "showbackground": true,
            "ticks": "",
            "zerolinecolor": "white"
           },
           "zaxis": {
            "backgroundcolor": "#E5ECF6",
            "gridcolor": "white",
            "gridwidth": 2,
            "linecolor": "white",
            "showbackground": true,
            "ticks": "",
            "zerolinecolor": "white"
           }
          },
          "shapedefaults": {
           "line": {
            "color": "#2a3f5f"
           }
          },
          "ternary": {
           "aaxis": {
            "gridcolor": "white",
            "linecolor": "white",
            "ticks": ""
           },
           "baxis": {
            "gridcolor": "white",
            "linecolor": "white",
            "ticks": ""
           },
           "bgcolor": "#E5ECF6",
           "caxis": {
            "gridcolor": "white",
            "linecolor": "white",
            "ticks": ""
           }
          },
          "title": {
           "x": 0.05
          },
          "xaxis": {
           "automargin": true,
           "gridcolor": "white",
           "linecolor": "white",
           "ticks": "",
           "title": {
            "standoff": 15
           },
           "zerolinecolor": "white",
           "zerolinewidth": 2
          },
          "yaxis": {
           "automargin": true,
           "gridcolor": "white",
           "linecolor": "white",
           "ticks": "",
           "title": {
            "standoff": 15
           },
           "zerolinecolor": "white",
           "zerolinewidth": 2
          }
         }
        },
        "title": {
         "font": {
          "color": "#4D5663"
         }
        },
        "xaxis": {
         "gridcolor": "#E1E5ED",
         "showgrid": true,
         "tickfont": {
          "color": "#4D5663"
         },
         "title": {
          "font": {
           "color": "#4D5663"
          },
          "text": ""
         },
         "zerolinecolor": "#E1E5ED"
        },
        "yaxis": {
         "gridcolor": "#E1E5ED",
         "showgrid": true,
         "tickfont": {
          "color": "#4D5663"
         },
         "title": {
          "font": {
           "color": "#4D5663"
          },
          "text": ""
         },
         "zerolinecolor": "#E1E5ED"
        }
       }
      },
      "text/html": [
       "<div>                            <div id=\"375642c5-82ee-4161-a919-1dd88508eca0\" class=\"plotly-graph-div\" style=\"height:525px; width:100%;\"></div>            <script type=\"text/javascript\">                require([\"plotly\"], function(Plotly) {                    window.PLOTLYENV=window.PLOTLYENV || {};\n",
       "                    window.PLOTLYENV.BASE_URL='https://plot.ly';                                    if (document.getElementById(\"375642c5-82ee-4161-a919-1dd88508eca0\")) {                    Plotly.newPlot(                        \"375642c5-82ee-4161-a919-1dd88508eca0\",                        [{\"marker\":{\"color\":[\"rgb(255, 153, 51)\",\"rgb(55, 128, 191)\",\"rgb(50, 171, 96)\",\"rgb(128, 0, 128)\",\"rgb(219, 64, 82)\",\"rgb(0, 128, 128)\",\"rgb(255, 255, 51)\",\"rgb(128, 128, 0)\",\"rgb(251, 128, 114)\",\"rgb(128, 177, 211)\"],\"line\":{\"width\":1.3},\"size\":[76,38,71,66,79,53,67,84,60,65,81,43,56,66,64,56,80,62,40,43,47,51,91,51,65,57,76,42,56,69,64,61,68,59,65,89,45,95,41,92,49,66,87,43,37,12,47,78,80,76,63,67,54,77,21,93,66,56,74,46,56,54,42,53,81,82,58,69,58,53,62,81,71,79,92,91,60,89,93,38,23,60,59,67,105,38,71,67,71,112,62,73,72,90,55,110,74,60,100,76],\"symbol\":\"circle\"},\"mode\":\"markers\",\"text\":\"\",\"x\":[-1.033054557149968,-0.9447631964877081,0.6614935437102547,1.1432021994205641,-0.881703685959822,0.20981467074620108,0.4675714971357549,0.30207617900058414,-2.140651579925566,-0.6025197439089002,0.44644296012602647,-0.1207051342616133,-1.9075736360884976,0.1982347091080541,1.2667418626750608,-0.5137913197849076,0.9240263969943613,-1.0804597800557079,-0.556601127554471,-0.5707296105347224,-1.2023656928053807,-0.6918827840839002,-1.353698782877351,-0.2509251366401465,1.7623118439384375,0.4901622994301756,-0.602261275113419,-0.14728697455957057,-1.333403877821013,0.3762114659516428,1.9277594027821363,-0.29846966778195755,-0.4247699856509981,-0.8930418732262699,-0.37005969592756216,-0.1602094228108446,-0.9490802186937405,0.8909471555383717,1.092741705044151,-1.228951017028698,1.245480797434885,-0.2283784530197112,-0.5191307956744338,-0.4271527073555195,0.6581640144756709,0.48456021217174833,-1.1037018137984387,1.496106101639429,-1.7483599959373142,0.1423402551052957,-0.1768337680710909,0.6088743097030376,-1.1774045737448684,-0.2985508290123847,0.9134716516701819,1.0760667499982635,-0.4031462098346326,0.16725760390026084,0.792368485363887,-2.1083005126594765,0.574963853829838,-1.4096359158679268,-0.28146896151120193,-2.568636597303144,1.6278889288684832,-0.93982733027261,-0.08660544870275479,-0.8577488500213871,0.9623175081785798,0.2323851945851437,-1.6203416929329397,-0.6033892665757813,0.6930641441100173,0.24908032521003376,0.4735401415469657,0.3322765166169506,0.07695599270883098,0.8104630265514642,0.01319679992750227,-0.4623078874786229,-1.2849233084875498,1.4426486230036524,0.45841678556274995,-0.7162255811144571,-0.04243239656239601,0.17968031392172545,-1.7507769873053525,-0.90140424994952,0.7922263507561726,-1.2940652059156423,0.4690045250714445,-1.06478799433691,0.3028034834679436,0.637771443393043,0.6627666239233564,1.0948412896128021,-0.31005818221952847,0.4968432747864927,-1.7344573352603403,1.5099116246667956],\"y\":[0.5669227874209756,0.876628774868819,-0.7273594292138338,1.4305615475189244,-0.7942951604178743,0.38565489564719807,0.6062439728426132,0.5845234557149154,-1.2678773652996131,0.08580404826572388,-0.9631502896732222,0.15868439466045228,0.2588834222675947,-0.12267277070886082,-0.37134579866912487,0.5456553387098986,-1.6103426603007174,-0.9652802063518969,-1.5535531797797926,0.7066562570191298,0.7641623086399777,0.5660683603612852,0.03694356062188423,2.729848298265021,0.24136636134493017,2.524976974846444,-0.21102321266568405,1.0273338761618662,0.4850989610432347,0.05629502139004537,0.9079336638068392,0.031035112111715703,1.6319366601922278,-1.9761262501252943,1.023326022481378,-1.4535063457650306,0.4780832497016251,1.7038152473616048,-1.5210639303648146,-1.5631563616898365,-0.953756969674632,-0.9355089349922378,1.4547504173789754,2.126270607571978,-0.5874192739455492,0.8275724643420516,0.5501318469167297,1.5165706004299866,0.041681308803413974,1.2288760499138882,-1.4530556610761614,0.3521047181801425,0.37101497440306314,-0.23665023886305828,-1.7206200038024912,2.0488792614981897,-0.1739266101959704,0.2074374286553849,-0.093355497190572,0.5799754032266968,2.1994123319977708,-0.28178243255033436,-0.46800774446168075,0.27836889342288346,1.7927368224208309,1.0423877161666988,-0.41046953904836003,-1.0950844225088552,-1.1694551351794975,-1.7825695899572074,-0.8242246505871773,-0.6680401796708747,0.26680473975958807,-0.2603188445706859,-0.7585139589492308,-1.6446327352209966,-0.7296457499922089,-0.17504485184396723,1.0879454665012345,0.5039471622653162,-1.799982126928582,-0.42643785009997925,0.1263906774643471,0.052245204945613265,0.13243375796686324,0.10353103474315886,-0.9380115619193468,-0.05390343205752204,1.2470655631948842,-0.2638989256432248,1.0756701405284956,0.6205709480175456,-1.880545157183852,0.43579600897938947,-0.8471904909757707,2.092500604908823,0.3466732836300478,0.7805686190795246,0.7737973815386837,-0.3949628512330703],\"type\":\"scatter\"}],                        {\"legend\":{\"bgcolor\":\"#F5F6F9\",\"font\":{\"color\":\"#4D5663\"}},\"paper_bgcolor\":\"#F5F6F9\",\"plot_bgcolor\":\"#F5F6F9\",\"template\":{\"data\":{\"barpolar\":[{\"marker\":{\"line\":{\"color\":\"#E5ECF6\",\"width\":0.5},\"pattern\":{\"fillmode\":\"overlay\",\"size\":10,\"solidity\":0.2}},\"type\":\"barpolar\"}],\"bar\":[{\"error_x\":{\"color\":\"#2a3f5f\"},\"error_y\":{\"color\":\"#2a3f5f\"},\"marker\":{\"line\":{\"color\":\"#E5ECF6\",\"width\":0.5},\"pattern\":{\"fillmode\":\"overlay\",\"size\":10,\"solidity\":0.2}},\"type\":\"bar\"}],\"carpet\":[{\"aaxis\":{\"endlinecolor\":\"#2a3f5f\",\"gridcolor\":\"white\",\"linecolor\":\"white\",\"minorgridcolor\":\"white\",\"startlinecolor\":\"#2a3f5f\"},\"baxis\":{\"endlinecolor\":\"#2a3f5f\",\"gridcolor\":\"white\",\"linecolor\":\"white\",\"minorgridcolor\":\"white\",\"startlinecolor\":\"#2a3f5f\"},\"type\":\"carpet\"}],\"choropleth\":[{\"colorbar\":{\"outlinewidth\":0,\"ticks\":\"\"},\"type\":\"choropleth\"}],\"contourcarpet\":[{\"colorbar\":{\"outlinewidth\":0,\"ticks\":\"\"},\"type\":\"contourcarpet\"}],\"contour\":[{\"colorbar\":{\"outlinewidth\":0,\"ticks\":\"\"},\"colorscale\":[[0.0,\"#0d0887\"],[0.1111111111111111,\"#46039f\"],[0.2222222222222222,\"#7201a8\"],[0.3333333333333333,\"#9c179e\"],[0.4444444444444444,\"#bd3786\"],[0.5555555555555556,\"#d8576b\"],[0.6666666666666666,\"#ed7953\"],[0.7777777777777778,\"#fb9f3a\"],[0.8888888888888888,\"#fdca26\"],[1.0,\"#f0f921\"]],\"type\":\"contour\"}],\"heatmapgl\":[{\"colorbar\":{\"outlinewidth\":0,\"ticks\":\"\"},\"colorscale\":[[0.0,\"#0d0887\"],[0.1111111111111111,\"#46039f\"],[0.2222222222222222,\"#7201a8\"],[0.3333333333333333,\"#9c179e\"],[0.4444444444444444,\"#bd3786\"],[0.5555555555555556,\"#d8576b\"],[0.6666666666666666,\"#ed7953\"],[0.7777777777777778,\"#fb9f3a\"],[0.8888888888888888,\"#fdca26\"],[1.0,\"#f0f921\"]],\"type\":\"heatmapgl\"}],\"heatmap\":[{\"colorbar\":{\"outlinewidth\":0,\"ticks\":\"\"},\"colorscale\":[[0.0,\"#0d0887\"],[0.1111111111111111,\"#46039f\"],[0.2222222222222222,\"#7201a8\"],[0.3333333333333333,\"#9c179e\"],[0.4444444444444444,\"#bd3786\"],[0.5555555555555556,\"#d8576b\"],[0.6666666666666666,\"#ed7953\"],[0.7777777777777778,\"#fb9f3a\"],[0.8888888888888888,\"#fdca26\"],[1.0,\"#f0f921\"]],\"type\":\"heatmap\"}],\"histogram2dcontour\":[{\"colorbar\":{\"outlinewidth\":0,\"ticks\":\"\"},\"colorscale\":[[0.0,\"#0d0887\"],[0.1111111111111111,\"#46039f\"],[0.2222222222222222,\"#7201a8\"],[0.3333333333333333,\"#9c179e\"],[0.4444444444444444,\"#bd3786\"],[0.5555555555555556,\"#d8576b\"],[0.6666666666666666,\"#ed7953\"],[0.7777777777777778,\"#fb9f3a\"],[0.8888888888888888,\"#fdca26\"],[1.0,\"#f0f921\"]],\"type\":\"histogram2dcontour\"}],\"histogram2d\":[{\"colorbar\":{\"outlinewidth\":0,\"ticks\":\"\"},\"colorscale\":[[0.0,\"#0d0887\"],[0.1111111111111111,\"#46039f\"],[0.2222222222222222,\"#7201a8\"],[0.3333333333333333,\"#9c179e\"],[0.4444444444444444,\"#bd3786\"],[0.5555555555555556,\"#d8576b\"],[0.6666666666666666,\"#ed7953\"],[0.7777777777777778,\"#fb9f3a\"],[0.8888888888888888,\"#fdca26\"],[1.0,\"#f0f921\"]],\"type\":\"histogram2d\"}],\"histogram\":[{\"marker\":{\"pattern\":{\"fillmode\":\"overlay\",\"size\":10,\"solidity\":0.2}},\"type\":\"histogram\"}],\"mesh3d\":[{\"colorbar\":{\"outlinewidth\":0,\"ticks\":\"\"},\"type\":\"mesh3d\"}],\"parcoords\":[{\"line\":{\"colorbar\":{\"outlinewidth\":0,\"ticks\":\"\"}},\"type\":\"parcoords\"}],\"pie\":[{\"automargin\":true,\"type\":\"pie\"}],\"scatter3d\":[{\"line\":{\"colorbar\":{\"outlinewidth\":0,\"ticks\":\"\"}},\"marker\":{\"colorbar\":{\"outlinewidth\":0,\"ticks\":\"\"}},\"type\":\"scatter3d\"}],\"scattercarpet\":[{\"marker\":{\"colorbar\":{\"outlinewidth\":0,\"ticks\":\"\"}},\"type\":\"scattercarpet\"}],\"scattergeo\":[{\"marker\":{\"colorbar\":{\"outlinewidth\":0,\"ticks\":\"\"}},\"type\":\"scattergeo\"}],\"scattergl\":[{\"marker\":{\"colorbar\":{\"outlinewidth\":0,\"ticks\":\"\"}},\"type\":\"scattergl\"}],\"scattermapbox\":[{\"marker\":{\"colorbar\":{\"outlinewidth\":0,\"ticks\":\"\"}},\"type\":\"scattermapbox\"}],\"scatterpolargl\":[{\"marker\":{\"colorbar\":{\"outlinewidth\":0,\"ticks\":\"\"}},\"type\":\"scatterpolargl\"}],\"scatterpolar\":[{\"marker\":{\"colorbar\":{\"outlinewidth\":0,\"ticks\":\"\"}},\"type\":\"scatterpolar\"}],\"scatter\":[{\"fillpattern\":{\"fillmode\":\"overlay\",\"size\":10,\"solidity\":0.2},\"type\":\"scatter\"}],\"scatterternary\":[{\"marker\":{\"colorbar\":{\"outlinewidth\":0,\"ticks\":\"\"}},\"type\":\"scatterternary\"}],\"surface\":[{\"colorbar\":{\"outlinewidth\":0,\"ticks\":\"\"},\"colorscale\":[[0.0,\"#0d0887\"],[0.1111111111111111,\"#46039f\"],[0.2222222222222222,\"#7201a8\"],[0.3333333333333333,\"#9c179e\"],[0.4444444444444444,\"#bd3786\"],[0.5555555555555556,\"#d8576b\"],[0.6666666666666666,\"#ed7953\"],[0.7777777777777778,\"#fb9f3a\"],[0.8888888888888888,\"#fdca26\"],[1.0,\"#f0f921\"]],\"type\":\"surface\"}],\"table\":[{\"cells\":{\"fill\":{\"color\":\"#EBF0F8\"},\"line\":{\"color\":\"white\"}},\"header\":{\"fill\":{\"color\":\"#C8D4E3\"},\"line\":{\"color\":\"white\"}},\"type\":\"table\"}]},\"layout\":{\"annotationdefaults\":{\"arrowcolor\":\"#2a3f5f\",\"arrowhead\":0,\"arrowwidth\":1},\"autotypenumbers\":\"strict\",\"coloraxis\":{\"colorbar\":{\"outlinewidth\":0,\"ticks\":\"\"}},\"colorscale\":{\"diverging\":[[0,\"#8e0152\"],[0.1,\"#c51b7d\"],[0.2,\"#de77ae\"],[0.3,\"#f1b6da\"],[0.4,\"#fde0ef\"],[0.5,\"#f7f7f7\"],[0.6,\"#e6f5d0\"],[0.7,\"#b8e186\"],[0.8,\"#7fbc41\"],[0.9,\"#4d9221\"],[1,\"#276419\"]],\"sequential\":[[0.0,\"#0d0887\"],[0.1111111111111111,\"#46039f\"],[0.2222222222222222,\"#7201a8\"],[0.3333333333333333,\"#9c179e\"],[0.4444444444444444,\"#bd3786\"],[0.5555555555555556,\"#d8576b\"],[0.6666666666666666,\"#ed7953\"],[0.7777777777777778,\"#fb9f3a\"],[0.8888888888888888,\"#fdca26\"],[1.0,\"#f0f921\"]],\"sequentialminus\":[[0.0,\"#0d0887\"],[0.1111111111111111,\"#46039f\"],[0.2222222222222222,\"#7201a8\"],[0.3333333333333333,\"#9c179e\"],[0.4444444444444444,\"#bd3786\"],[0.5555555555555556,\"#d8576b\"],[0.6666666666666666,\"#ed7953\"],[0.7777777777777778,\"#fb9f3a\"],[0.8888888888888888,\"#fdca26\"],[1.0,\"#f0f921\"]]},\"colorway\":[\"#636efa\",\"#EF553B\",\"#00cc96\",\"#ab63fa\",\"#FFA15A\",\"#19d3f3\",\"#FF6692\",\"#B6E880\",\"#FF97FF\",\"#FECB52\"],\"font\":{\"color\":\"#2a3f5f\"},\"geo\":{\"bgcolor\":\"white\",\"lakecolor\":\"white\",\"landcolor\":\"#E5ECF6\",\"showlakes\":true,\"showland\":true,\"subunitcolor\":\"white\"},\"hoverlabel\":{\"align\":\"left\"},\"hovermode\":\"closest\",\"mapbox\":{\"style\":\"light\"},\"paper_bgcolor\":\"white\",\"plot_bgcolor\":\"#E5ECF6\",\"polar\":{\"angularaxis\":{\"gridcolor\":\"white\",\"linecolor\":\"white\",\"ticks\":\"\"},\"bgcolor\":\"#E5ECF6\",\"radialaxis\":{\"gridcolor\":\"white\",\"linecolor\":\"white\",\"ticks\":\"\"}},\"scene\":{\"xaxis\":{\"backgroundcolor\":\"#E5ECF6\",\"gridcolor\":\"white\",\"gridwidth\":2,\"linecolor\":\"white\",\"showbackground\":true,\"ticks\":\"\",\"zerolinecolor\":\"white\"},\"yaxis\":{\"backgroundcolor\":\"#E5ECF6\",\"gridcolor\":\"white\",\"gridwidth\":2,\"linecolor\":\"white\",\"showbackground\":true,\"ticks\":\"\",\"zerolinecolor\":\"white\"},\"zaxis\":{\"backgroundcolor\":\"#E5ECF6\",\"gridcolor\":\"white\",\"gridwidth\":2,\"linecolor\":\"white\",\"showbackground\":true,\"ticks\":\"\",\"zerolinecolor\":\"white\"}},\"shapedefaults\":{\"line\":{\"color\":\"#2a3f5f\"}},\"ternary\":{\"aaxis\":{\"gridcolor\":\"white\",\"linecolor\":\"white\",\"ticks\":\"\"},\"baxis\":{\"gridcolor\":\"white\",\"linecolor\":\"white\",\"ticks\":\"\"},\"bgcolor\":\"#E5ECF6\",\"caxis\":{\"gridcolor\":\"white\",\"linecolor\":\"white\",\"ticks\":\"\"}},\"title\":{\"x\":0.05},\"xaxis\":{\"automargin\":true,\"gridcolor\":\"white\",\"linecolor\":\"white\",\"ticks\":\"\",\"title\":{\"standoff\":15},\"zerolinecolor\":\"white\",\"zerolinewidth\":2},\"yaxis\":{\"automargin\":true,\"gridcolor\":\"white\",\"linecolor\":\"white\",\"ticks\":\"\",\"title\":{\"standoff\":15},\"zerolinecolor\":\"white\",\"zerolinewidth\":2}}},\"title\":{\"font\":{\"color\":\"#4D5663\"}},\"xaxis\":{\"gridcolor\":\"#E1E5ED\",\"showgrid\":true,\"tickfont\":{\"color\":\"#4D5663\"},\"title\":{\"font\":{\"color\":\"#4D5663\"},\"text\":\"\"},\"zerolinecolor\":\"#E1E5ED\"},\"yaxis\":{\"gridcolor\":\"#E1E5ED\",\"showgrid\":true,\"tickfont\":{\"color\":\"#4D5663\"},\"title\":{\"font\":{\"color\":\"#4D5663\"},\"text\":\"\"},\"zerolinecolor\":\"#E1E5ED\"}},                        {\"showLink\": true, \"linkText\": \"Export to plot.ly\", \"plotlyServerURL\": \"https://plot.ly\", \"responsive\": true}                    ).then(function(){\n",
       "                            \n",
       "var gd = document.getElementById('375642c5-82ee-4161-a919-1dd88508eca0');\n",
       "var x = new MutationObserver(function (mutations, observer) {{\n",
       "        var display = window.getComputedStyle(gd).display;\n",
       "        if (!display || display === 'none') {{\n",
       "            console.log([gd, 'removed!']);\n",
       "            Plotly.purge(gd);\n",
       "            observer.disconnect();\n",
       "        }}\n",
       "}});\n",
       "\n",
       "// Listen for the removal of the full notebook cells\n",
       "var notebookContainer = gd.closest('#notebook-container');\n",
       "if (notebookContainer) {{\n",
       "    x.observe(notebookContainer, {childList: true});\n",
       "}}\n",
       "\n",
       "// Listen for the clearing of the current output cell\n",
       "var outputEl = gd.closest('.output');\n",
       "if (outputEl) {{\n",
       "    x.observe(outputEl, {childList: true});\n",
       "}}\n",
       "\n",
       "                        })                };                });            </script>        </div>"
      ]
     },
     "metadata": {},
     "output_type": "display_data"
    }
   ],
   "source": [
    "# again using the numerical dataset\n",
    "df_numeric.iplot(kind='bubble', x='A', y='B', size='C')"
   ]
  },
  {
   "cell_type": "markdown",
   "metadata": {},
   "source": [
    "# Boxplot"
   ]
  },
  {
   "cell_type": "code",
   "execution_count": 21,
   "metadata": {},
   "outputs": [
    {
     "data": {
      "application/vnd.plotly.v1+json": {
       "config": {
        "linkText": "Export to plot.ly",
        "plotlyServerURL": "https://plot.ly",
        "showLink": true
       },
       "data": [
        {
         "boxpoints": false,
         "line": {
          "width": 1.3
         },
         "marker": {
          "color": "rgba(255, 153, 51, 1.0)"
         },
         "name": "A",
         "orientation": "v",
         "type": "box",
         "y": [
          -1.033054557149968,
          -0.9447631964877081,
          0.6614935437102547,
          1.1432021994205641,
          -0.881703685959822,
          0.20981467074620108,
          0.4675714971357549,
          0.30207617900058414,
          -2.140651579925566,
          -0.6025197439089002,
          0.44644296012602647,
          -0.1207051342616133,
          -1.9075736360884976,
          0.1982347091080541,
          1.2667418626750608,
          -0.5137913197849076,
          0.9240263969943613,
          -1.0804597800557079,
          -0.556601127554471,
          -0.5707296105347224,
          -1.2023656928053807,
          -0.6918827840839002,
          -1.353698782877351,
          -0.2509251366401465,
          1.7623118439384375,
          0.4901622994301756,
          -0.602261275113419,
          -0.14728697455957057,
          -1.333403877821013,
          0.3762114659516428,
          1.9277594027821363,
          -0.29846966778195755,
          -0.4247699856509981,
          -0.8930418732262699,
          -0.37005969592756216,
          -0.1602094228108446,
          -0.9490802186937405,
          0.8909471555383717,
          1.092741705044151,
          -1.228951017028698,
          1.245480797434885,
          -0.2283784530197112,
          -0.5191307956744338,
          -0.4271527073555195,
          0.6581640144756709,
          0.48456021217174833,
          -1.1037018137984387,
          1.496106101639429,
          -1.7483599959373142,
          0.1423402551052957,
          -0.1768337680710909,
          0.6088743097030376,
          -1.1774045737448684,
          -0.2985508290123847,
          0.9134716516701819,
          1.0760667499982635,
          -0.4031462098346326,
          0.16725760390026084,
          0.792368485363887,
          -2.1083005126594765,
          0.574963853829838,
          -1.4096359158679268,
          -0.28146896151120193,
          -2.568636597303144,
          1.6278889288684832,
          -0.93982733027261,
          -0.08660544870275479,
          -0.8577488500213871,
          0.9623175081785798,
          0.2323851945851437,
          -1.6203416929329397,
          -0.6033892665757813,
          0.6930641441100173,
          0.24908032521003376,
          0.4735401415469657,
          0.3322765166169506,
          0.07695599270883098,
          0.8104630265514642,
          0.01319679992750227,
          -0.4623078874786229,
          -1.2849233084875498,
          1.4426486230036524,
          0.45841678556274995,
          -0.7162255811144571,
          -0.04243239656239601,
          0.17968031392172545,
          -1.7507769873053525,
          -0.90140424994952,
          0.7922263507561726,
          -1.2940652059156423,
          0.4690045250714445,
          -1.06478799433691,
          0.3028034834679436,
          0.637771443393043,
          0.6627666239233564,
          1.0948412896128021,
          -0.31005818221952847,
          0.4968432747864927,
          -1.7344573352603403,
          1.5099116246667956
         ]
        },
        {
         "boxpoints": false,
         "line": {
          "width": 1.3
         },
         "marker": {
          "color": "rgba(55, 128, 191, 1.0)"
         },
         "name": "B",
         "orientation": "v",
         "type": "box",
         "y": [
          0.5669227874209756,
          0.876628774868819,
          -0.7273594292138338,
          1.4305615475189244,
          -0.7942951604178743,
          0.38565489564719807,
          0.6062439728426132,
          0.5845234557149154,
          -1.2678773652996131,
          0.08580404826572388,
          -0.9631502896732222,
          0.15868439466045228,
          0.2588834222675947,
          -0.12267277070886082,
          -0.37134579866912487,
          0.5456553387098986,
          -1.6103426603007174,
          -0.9652802063518969,
          -1.5535531797797926,
          0.7066562570191298,
          0.7641623086399777,
          0.5660683603612852,
          0.03694356062188423,
          2.729848298265021,
          0.24136636134493017,
          2.524976974846444,
          -0.21102321266568405,
          1.0273338761618662,
          0.4850989610432347,
          0.05629502139004537,
          0.9079336638068392,
          0.031035112111715703,
          1.6319366601922278,
          -1.9761262501252943,
          1.023326022481378,
          -1.4535063457650306,
          0.4780832497016251,
          1.7038152473616048,
          -1.5210639303648146,
          -1.5631563616898365,
          -0.953756969674632,
          -0.9355089349922378,
          1.4547504173789754,
          2.126270607571978,
          -0.5874192739455492,
          0.8275724643420516,
          0.5501318469167297,
          1.5165706004299866,
          0.041681308803413974,
          1.2288760499138882,
          -1.4530556610761614,
          0.3521047181801425,
          0.37101497440306314,
          -0.23665023886305828,
          -1.7206200038024912,
          2.0488792614981897,
          -0.1739266101959704,
          0.2074374286553849,
          -0.093355497190572,
          0.5799754032266968,
          2.1994123319977708,
          -0.28178243255033436,
          -0.46800774446168075,
          0.27836889342288346,
          1.7927368224208309,
          1.0423877161666988,
          -0.41046953904836003,
          -1.0950844225088552,
          -1.1694551351794975,
          -1.7825695899572074,
          -0.8242246505871773,
          -0.6680401796708747,
          0.26680473975958807,
          -0.2603188445706859,
          -0.7585139589492308,
          -1.6446327352209966,
          -0.7296457499922089,
          -0.17504485184396723,
          1.0879454665012345,
          0.5039471622653162,
          -1.799982126928582,
          -0.42643785009997925,
          0.1263906774643471,
          0.052245204945613265,
          0.13243375796686324,
          0.10353103474315886,
          -0.9380115619193468,
          -0.05390343205752204,
          1.2470655631948842,
          -0.2638989256432248,
          1.0756701405284956,
          0.6205709480175456,
          -1.880545157183852,
          0.43579600897938947,
          -0.8471904909757707,
          2.092500604908823,
          0.3466732836300478,
          0.7805686190795246,
          0.7737973815386837,
          -0.3949628512330703
         ]
        },
        {
         "boxpoints": false,
         "line": {
          "width": 1.3
         },
         "marker": {
          "color": "rgba(50, 171, 96, 1.0)"
         },
         "name": "C",
         "orientation": "v",
         "type": "box",
         "y": [
          0.5240321107968314,
          -1.2818581314473803,
          0.29484052235223956,
          0.04165826086464471,
          0.673562735726411,
          -0.5601508401353184,
          0.10726761840353928,
          0.9034369673793241,
          -0.20848844369028255,
          0.009077219990422502,
          0.7614881923065624,
          -1.0353072004432662,
          -0.39706218441949637,
          0.0442455652201715,
          -0.024632996341245238,
          -0.38871636991009345,
          0.714862686789878,
          -0.13754628958159562,
          -1.1566614879186157,
          -1.0264131444337994,
          -0.8382160927778828,
          -0.6556304084279646,
          1.2316927466243321,
          -0.6690200597586026,
          0.03950139197534639,
          -0.3764604385795641,
          0.5231917628756628,
          -1.0949165193504358,
          -0.4062943733719469,
          0.20202882461753316,
          -0.04815711255121329,
          -0.17218031521835345,
          0.17340466663122242,
          -0.24623471509870715,
          0.03627476629254057,
          1.1435904937853418,
          -0.9212807620573791,
          1.4350741410088304,
          -1.1431022704267602,
          1.305670675193548,
          -0.7270112851807574,
          0.08137940653876674,
          1.0478914571278963,
          -1.0303912428911377,
          -1.316778030555177,
          -2.5253699493660635,
          -0.8220574669467124,
          0.6478481678635425,
          0.7459879739678887,
          0.5193981092991432,
          -0.09680067245936409,
          0.10445605150325764,
          -0.5296831622938263,
          0.5755508530690508,
          -2.079105326549701,
          1.347534957467463,
          0.0450399204872343,
          -0.41845755566805026,
          0.44765905337545375,
          -0.8932714671991978,
          -0.42099852370267304,
          -0.5181341492461724,
          -1.0967877621179967,
          -0.5402499306481223,
          0.7574772982615179,
          0.8247147718804475,
          -0.30791165875502974,
          0.2127858486712444,
          -0.31921310603954145,
          -0.5683191422926578,
          -0.10685958754465645,
          0.7743561972941484,
          0.3219980656879739,
          0.7046720004248032,
          1.2928070538842928,
          1.2750030276034225,
          -0.22650910764134566,
          1.1456731869609518,
          1.3365090289776138,
          -1.2508071155680949,
          -1.9923237639781415,
          -0.20495068753879114,
          -0.2694270737460097,
          0.10482884980777825,
          1.9041450369951045,
          -1.2769613061557723,
          0.3233566115975954,
          0.12469744378102753,
          0.3028245227845009,
          2.2260930908774936,
          -0.13766818045678908,
          0.4135358328952993,
          0.3449980628933821,
          1.1948260701669133,
          -0.4515983717504652,
          2.175838491281581,
          0.441503760528067,
          -0.20893048332480352,
          1.6611142804331533,
          0.5618752406900925
         ]
        }
       ],
       "layout": {
        "legend": {
         "bgcolor": "#F5F6F9",
         "font": {
          "color": "#4D5663"
         }
        },
        "paper_bgcolor": "#F5F6F9",
        "plot_bgcolor": "#F5F6F9",
        "template": {
         "data": {
          "bar": [
           {
            "error_x": {
             "color": "#2a3f5f"
            },
            "error_y": {
             "color": "#2a3f5f"
            },
            "marker": {
             "line": {
              "color": "#E5ECF6",
              "width": 0.5
             },
             "pattern": {
              "fillmode": "overlay",
              "size": 10,
              "solidity": 0.2
             }
            },
            "type": "bar"
           }
          ],
          "barpolar": [
           {
            "marker": {
             "line": {
              "color": "#E5ECF6",
              "width": 0.5
             },
             "pattern": {
              "fillmode": "overlay",
              "size": 10,
              "solidity": 0.2
             }
            },
            "type": "barpolar"
           }
          ],
          "carpet": [
           {
            "aaxis": {
             "endlinecolor": "#2a3f5f",
             "gridcolor": "white",
             "linecolor": "white",
             "minorgridcolor": "white",
             "startlinecolor": "#2a3f5f"
            },
            "baxis": {
             "endlinecolor": "#2a3f5f",
             "gridcolor": "white",
             "linecolor": "white",
             "minorgridcolor": "white",
             "startlinecolor": "#2a3f5f"
            },
            "type": "carpet"
           }
          ],
          "choropleth": [
           {
            "colorbar": {
             "outlinewidth": 0,
             "ticks": ""
            },
            "type": "choropleth"
           }
          ],
          "contour": [
           {
            "colorbar": {
             "outlinewidth": 0,
             "ticks": ""
            },
            "colorscale": [
             [
              0,
              "#0d0887"
             ],
             [
              0.1111111111111111,
              "#46039f"
             ],
             [
              0.2222222222222222,
              "#7201a8"
             ],
             [
              0.3333333333333333,
              "#9c179e"
             ],
             [
              0.4444444444444444,
              "#bd3786"
             ],
             [
              0.5555555555555556,
              "#d8576b"
             ],
             [
              0.6666666666666666,
              "#ed7953"
             ],
             [
              0.7777777777777778,
              "#fb9f3a"
             ],
             [
              0.8888888888888888,
              "#fdca26"
             ],
             [
              1,
              "#f0f921"
             ]
            ],
            "type": "contour"
           }
          ],
          "contourcarpet": [
           {
            "colorbar": {
             "outlinewidth": 0,
             "ticks": ""
            },
            "type": "contourcarpet"
           }
          ],
          "heatmap": [
           {
            "colorbar": {
             "outlinewidth": 0,
             "ticks": ""
            },
            "colorscale": [
             [
              0,
              "#0d0887"
             ],
             [
              0.1111111111111111,
              "#46039f"
             ],
             [
              0.2222222222222222,
              "#7201a8"
             ],
             [
              0.3333333333333333,
              "#9c179e"
             ],
             [
              0.4444444444444444,
              "#bd3786"
             ],
             [
              0.5555555555555556,
              "#d8576b"
             ],
             [
              0.6666666666666666,
              "#ed7953"
             ],
             [
              0.7777777777777778,
              "#fb9f3a"
             ],
             [
              0.8888888888888888,
              "#fdca26"
             ],
             [
              1,
              "#f0f921"
             ]
            ],
            "type": "heatmap"
           }
          ],
          "heatmapgl": [
           {
            "colorbar": {
             "outlinewidth": 0,
             "ticks": ""
            },
            "colorscale": [
             [
              0,
              "#0d0887"
             ],
             [
              0.1111111111111111,
              "#46039f"
             ],
             [
              0.2222222222222222,
              "#7201a8"
             ],
             [
              0.3333333333333333,
              "#9c179e"
             ],
             [
              0.4444444444444444,
              "#bd3786"
             ],
             [
              0.5555555555555556,
              "#d8576b"
             ],
             [
              0.6666666666666666,
              "#ed7953"
             ],
             [
              0.7777777777777778,
              "#fb9f3a"
             ],
             [
              0.8888888888888888,
              "#fdca26"
             ],
             [
              1,
              "#f0f921"
             ]
            ],
            "type": "heatmapgl"
           }
          ],
          "histogram": [
           {
            "marker": {
             "pattern": {
              "fillmode": "overlay",
              "size": 10,
              "solidity": 0.2
             }
            },
            "type": "histogram"
           }
          ],
          "histogram2d": [
           {
            "colorbar": {
             "outlinewidth": 0,
             "ticks": ""
            },
            "colorscale": [
             [
              0,
              "#0d0887"
             ],
             [
              0.1111111111111111,
              "#46039f"
             ],
             [
              0.2222222222222222,
              "#7201a8"
             ],
             [
              0.3333333333333333,
              "#9c179e"
             ],
             [
              0.4444444444444444,
              "#bd3786"
             ],
             [
              0.5555555555555556,
              "#d8576b"
             ],
             [
              0.6666666666666666,
              "#ed7953"
             ],
             [
              0.7777777777777778,
              "#fb9f3a"
             ],
             [
              0.8888888888888888,
              "#fdca26"
             ],
             [
              1,
              "#f0f921"
             ]
            ],
            "type": "histogram2d"
           }
          ],
          "histogram2dcontour": [
           {
            "colorbar": {
             "outlinewidth": 0,
             "ticks": ""
            },
            "colorscale": [
             [
              0,
              "#0d0887"
             ],
             [
              0.1111111111111111,
              "#46039f"
             ],
             [
              0.2222222222222222,
              "#7201a8"
             ],
             [
              0.3333333333333333,
              "#9c179e"
             ],
             [
              0.4444444444444444,
              "#bd3786"
             ],
             [
              0.5555555555555556,
              "#d8576b"
             ],
             [
              0.6666666666666666,
              "#ed7953"
             ],
             [
              0.7777777777777778,
              "#fb9f3a"
             ],
             [
              0.8888888888888888,
              "#fdca26"
             ],
             [
              1,
              "#f0f921"
             ]
            ],
            "type": "histogram2dcontour"
           }
          ],
          "mesh3d": [
           {
            "colorbar": {
             "outlinewidth": 0,
             "ticks": ""
            },
            "type": "mesh3d"
           }
          ],
          "parcoords": [
           {
            "line": {
             "colorbar": {
              "outlinewidth": 0,
              "ticks": ""
             }
            },
            "type": "parcoords"
           }
          ],
          "pie": [
           {
            "automargin": true,
            "type": "pie"
           }
          ],
          "scatter": [
           {
            "fillpattern": {
             "fillmode": "overlay",
             "size": 10,
             "solidity": 0.2
            },
            "type": "scatter"
           }
          ],
          "scatter3d": [
           {
            "line": {
             "colorbar": {
              "outlinewidth": 0,
              "ticks": ""
             }
            },
            "marker": {
             "colorbar": {
              "outlinewidth": 0,
              "ticks": ""
             }
            },
            "type": "scatter3d"
           }
          ],
          "scattercarpet": [
           {
            "marker": {
             "colorbar": {
              "outlinewidth": 0,
              "ticks": ""
             }
            },
            "type": "scattercarpet"
           }
          ],
          "scattergeo": [
           {
            "marker": {
             "colorbar": {
              "outlinewidth": 0,
              "ticks": ""
             }
            },
            "type": "scattergeo"
           }
          ],
          "scattergl": [
           {
            "marker": {
             "colorbar": {
              "outlinewidth": 0,
              "ticks": ""
             }
            },
            "type": "scattergl"
           }
          ],
          "scattermapbox": [
           {
            "marker": {
             "colorbar": {
              "outlinewidth": 0,
              "ticks": ""
             }
            },
            "type": "scattermapbox"
           }
          ],
          "scatterpolar": [
           {
            "marker": {
             "colorbar": {
              "outlinewidth": 0,
              "ticks": ""
             }
            },
            "type": "scatterpolar"
           }
          ],
          "scatterpolargl": [
           {
            "marker": {
             "colorbar": {
              "outlinewidth": 0,
              "ticks": ""
             }
            },
            "type": "scatterpolargl"
           }
          ],
          "scatterternary": [
           {
            "marker": {
             "colorbar": {
              "outlinewidth": 0,
              "ticks": ""
             }
            },
            "type": "scatterternary"
           }
          ],
          "surface": [
           {
            "colorbar": {
             "outlinewidth": 0,
             "ticks": ""
            },
            "colorscale": [
             [
              0,
              "#0d0887"
             ],
             [
              0.1111111111111111,
              "#46039f"
             ],
             [
              0.2222222222222222,
              "#7201a8"
             ],
             [
              0.3333333333333333,
              "#9c179e"
             ],
             [
              0.4444444444444444,
              "#bd3786"
             ],
             [
              0.5555555555555556,
              "#d8576b"
             ],
             [
              0.6666666666666666,
              "#ed7953"
             ],
             [
              0.7777777777777778,
              "#fb9f3a"
             ],
             [
              0.8888888888888888,
              "#fdca26"
             ],
             [
              1,
              "#f0f921"
             ]
            ],
            "type": "surface"
           }
          ],
          "table": [
           {
            "cells": {
             "fill": {
              "color": "#EBF0F8"
             },
             "line": {
              "color": "white"
             }
            },
            "header": {
             "fill": {
              "color": "#C8D4E3"
             },
             "line": {
              "color": "white"
             }
            },
            "type": "table"
           }
          ]
         },
         "layout": {
          "annotationdefaults": {
           "arrowcolor": "#2a3f5f",
           "arrowhead": 0,
           "arrowwidth": 1
          },
          "autotypenumbers": "strict",
          "coloraxis": {
           "colorbar": {
            "outlinewidth": 0,
            "ticks": ""
           }
          },
          "colorscale": {
           "diverging": [
            [
             0,
             "#8e0152"
            ],
            [
             0.1,
             "#c51b7d"
            ],
            [
             0.2,
             "#de77ae"
            ],
            [
             0.3,
             "#f1b6da"
            ],
            [
             0.4,
             "#fde0ef"
            ],
            [
             0.5,
             "#f7f7f7"
            ],
            [
             0.6,
             "#e6f5d0"
            ],
            [
             0.7,
             "#b8e186"
            ],
            [
             0.8,
             "#7fbc41"
            ],
            [
             0.9,
             "#4d9221"
            ],
            [
             1,
             "#276419"
            ]
           ],
           "sequential": [
            [
             0,
             "#0d0887"
            ],
            [
             0.1111111111111111,
             "#46039f"
            ],
            [
             0.2222222222222222,
             "#7201a8"
            ],
            [
             0.3333333333333333,
             "#9c179e"
            ],
            [
             0.4444444444444444,
             "#bd3786"
            ],
            [
             0.5555555555555556,
             "#d8576b"
            ],
            [
             0.6666666666666666,
             "#ed7953"
            ],
            [
             0.7777777777777778,
             "#fb9f3a"
            ],
            [
             0.8888888888888888,
             "#fdca26"
            ],
            [
             1,
             "#f0f921"
            ]
           ],
           "sequentialminus": [
            [
             0,
             "#0d0887"
            ],
            [
             0.1111111111111111,
             "#46039f"
            ],
            [
             0.2222222222222222,
             "#7201a8"
            ],
            [
             0.3333333333333333,
             "#9c179e"
            ],
            [
             0.4444444444444444,
             "#bd3786"
            ],
            [
             0.5555555555555556,
             "#d8576b"
            ],
            [
             0.6666666666666666,
             "#ed7953"
            ],
            [
             0.7777777777777778,
             "#fb9f3a"
            ],
            [
             0.8888888888888888,
             "#fdca26"
            ],
            [
             1,
             "#f0f921"
            ]
           ]
          },
          "colorway": [
           "#636efa",
           "#EF553B",
           "#00cc96",
           "#ab63fa",
           "#FFA15A",
           "#19d3f3",
           "#FF6692",
           "#B6E880",
           "#FF97FF",
           "#FECB52"
          ],
          "font": {
           "color": "#2a3f5f"
          },
          "geo": {
           "bgcolor": "white",
           "lakecolor": "white",
           "landcolor": "#E5ECF6",
           "showlakes": true,
           "showland": true,
           "subunitcolor": "white"
          },
          "hoverlabel": {
           "align": "left"
          },
          "hovermode": "closest",
          "mapbox": {
           "style": "light"
          },
          "paper_bgcolor": "white",
          "plot_bgcolor": "#E5ECF6",
          "polar": {
           "angularaxis": {
            "gridcolor": "white",
            "linecolor": "white",
            "ticks": ""
           },
           "bgcolor": "#E5ECF6",
           "radialaxis": {
            "gridcolor": "white",
            "linecolor": "white",
            "ticks": ""
           }
          },
          "scene": {
           "xaxis": {
            "backgroundcolor": "#E5ECF6",
            "gridcolor": "white",
            "gridwidth": 2,
            "linecolor": "white",
            "showbackground": true,
            "ticks": "",
            "zerolinecolor": "white"
           },
           "yaxis": {
            "backgroundcolor": "#E5ECF6",
            "gridcolor": "white",
            "gridwidth": 2,
            "linecolor": "white",
            "showbackground": true,
            "ticks": "",
            "zerolinecolor": "white"
           },
           "zaxis": {
            "backgroundcolor": "#E5ECF6",
            "gridcolor": "white",
            "gridwidth": 2,
            "linecolor": "white",
            "showbackground": true,
            "ticks": "",
            "zerolinecolor": "white"
           }
          },
          "shapedefaults": {
           "line": {
            "color": "#2a3f5f"
           }
          },
          "ternary": {
           "aaxis": {
            "gridcolor": "white",
            "linecolor": "white",
            "ticks": ""
           },
           "baxis": {
            "gridcolor": "white",
            "linecolor": "white",
            "ticks": ""
           },
           "bgcolor": "#E5ECF6",
           "caxis": {
            "gridcolor": "white",
            "linecolor": "white",
            "ticks": ""
           }
          },
          "title": {
           "x": 0.05
          },
          "xaxis": {
           "automargin": true,
           "gridcolor": "white",
           "linecolor": "white",
           "ticks": "",
           "title": {
            "standoff": 15
           },
           "zerolinecolor": "white",
           "zerolinewidth": 2
          },
          "yaxis": {
           "automargin": true,
           "gridcolor": "white",
           "linecolor": "white",
           "ticks": "",
           "title": {
            "standoff": 15
           },
           "zerolinecolor": "white",
           "zerolinewidth": 2
          }
         }
        },
        "title": {
         "font": {
          "color": "#4D5663"
         }
        },
        "xaxis": {
         "gridcolor": "#E1E5ED",
         "showgrid": true,
         "tickfont": {
          "color": "#4D5663"
         },
         "title": {
          "font": {
           "color": "#4D5663"
          },
          "text": ""
         },
         "zerolinecolor": "#E1E5ED"
        },
        "yaxis": {
         "gridcolor": "#E1E5ED",
         "showgrid": true,
         "tickfont": {
          "color": "#4D5663"
         },
         "title": {
          "font": {
           "color": "#4D5663"
          },
          "text": ""
         },
         "zerolinecolor": "#E1E5ED"
        }
       }
      },
      "text/html": [
       "<div>                            <div id=\"62c15f82-5608-437b-b274-8436bae23662\" class=\"plotly-graph-div\" style=\"height:525px; width:100%;\"></div>            <script type=\"text/javascript\">                require([\"plotly\"], function(Plotly) {                    window.PLOTLYENV=window.PLOTLYENV || {};\n",
       "                    window.PLOTLYENV.BASE_URL='https://plot.ly';                                    if (document.getElementById(\"62c15f82-5608-437b-b274-8436bae23662\")) {                    Plotly.newPlot(                        \"62c15f82-5608-437b-b274-8436bae23662\",                        [{\"boxpoints\":false,\"line\":{\"width\":1.3},\"marker\":{\"color\":\"rgba(255, 153, 51, 1.0)\"},\"name\":\"A\",\"orientation\":\"v\",\"y\":[-1.033054557149968,-0.9447631964877081,0.6614935437102547,1.1432021994205641,-0.881703685959822,0.20981467074620108,0.4675714971357549,0.30207617900058414,-2.140651579925566,-0.6025197439089002,0.44644296012602647,-0.1207051342616133,-1.9075736360884976,0.1982347091080541,1.2667418626750608,-0.5137913197849076,0.9240263969943613,-1.0804597800557079,-0.556601127554471,-0.5707296105347224,-1.2023656928053807,-0.6918827840839002,-1.353698782877351,-0.2509251366401465,1.7623118439384375,0.4901622994301756,-0.602261275113419,-0.14728697455957057,-1.333403877821013,0.3762114659516428,1.9277594027821363,-0.29846966778195755,-0.4247699856509981,-0.8930418732262699,-0.37005969592756216,-0.1602094228108446,-0.9490802186937405,0.8909471555383717,1.092741705044151,-1.228951017028698,1.245480797434885,-0.2283784530197112,-0.5191307956744338,-0.4271527073555195,0.6581640144756709,0.48456021217174833,-1.1037018137984387,1.496106101639429,-1.7483599959373142,0.1423402551052957,-0.1768337680710909,0.6088743097030376,-1.1774045737448684,-0.2985508290123847,0.9134716516701819,1.0760667499982635,-0.4031462098346326,0.16725760390026084,0.792368485363887,-2.1083005126594765,0.574963853829838,-1.4096359158679268,-0.28146896151120193,-2.568636597303144,1.6278889288684832,-0.93982733027261,-0.08660544870275479,-0.8577488500213871,0.9623175081785798,0.2323851945851437,-1.6203416929329397,-0.6033892665757813,0.6930641441100173,0.24908032521003376,0.4735401415469657,0.3322765166169506,0.07695599270883098,0.8104630265514642,0.01319679992750227,-0.4623078874786229,-1.2849233084875498,1.4426486230036524,0.45841678556274995,-0.7162255811144571,-0.04243239656239601,0.17968031392172545,-1.7507769873053525,-0.90140424994952,0.7922263507561726,-1.2940652059156423,0.4690045250714445,-1.06478799433691,0.3028034834679436,0.637771443393043,0.6627666239233564,1.0948412896128021,-0.31005818221952847,0.4968432747864927,-1.7344573352603403,1.5099116246667956],\"type\":\"box\"},{\"boxpoints\":false,\"line\":{\"width\":1.3},\"marker\":{\"color\":\"rgba(55, 128, 191, 1.0)\"},\"name\":\"B\",\"orientation\":\"v\",\"y\":[0.5669227874209756,0.876628774868819,-0.7273594292138338,1.4305615475189244,-0.7942951604178743,0.38565489564719807,0.6062439728426132,0.5845234557149154,-1.2678773652996131,0.08580404826572388,-0.9631502896732222,0.15868439466045228,0.2588834222675947,-0.12267277070886082,-0.37134579866912487,0.5456553387098986,-1.6103426603007174,-0.9652802063518969,-1.5535531797797926,0.7066562570191298,0.7641623086399777,0.5660683603612852,0.03694356062188423,2.729848298265021,0.24136636134493017,2.524976974846444,-0.21102321266568405,1.0273338761618662,0.4850989610432347,0.05629502139004537,0.9079336638068392,0.031035112111715703,1.6319366601922278,-1.9761262501252943,1.023326022481378,-1.4535063457650306,0.4780832497016251,1.7038152473616048,-1.5210639303648146,-1.5631563616898365,-0.953756969674632,-0.9355089349922378,1.4547504173789754,2.126270607571978,-0.5874192739455492,0.8275724643420516,0.5501318469167297,1.5165706004299866,0.041681308803413974,1.2288760499138882,-1.4530556610761614,0.3521047181801425,0.37101497440306314,-0.23665023886305828,-1.7206200038024912,2.0488792614981897,-0.1739266101959704,0.2074374286553849,-0.093355497190572,0.5799754032266968,2.1994123319977708,-0.28178243255033436,-0.46800774446168075,0.27836889342288346,1.7927368224208309,1.0423877161666988,-0.41046953904836003,-1.0950844225088552,-1.1694551351794975,-1.7825695899572074,-0.8242246505871773,-0.6680401796708747,0.26680473975958807,-0.2603188445706859,-0.7585139589492308,-1.6446327352209966,-0.7296457499922089,-0.17504485184396723,1.0879454665012345,0.5039471622653162,-1.799982126928582,-0.42643785009997925,0.1263906774643471,0.052245204945613265,0.13243375796686324,0.10353103474315886,-0.9380115619193468,-0.05390343205752204,1.2470655631948842,-0.2638989256432248,1.0756701405284956,0.6205709480175456,-1.880545157183852,0.43579600897938947,-0.8471904909757707,2.092500604908823,0.3466732836300478,0.7805686190795246,0.7737973815386837,-0.3949628512330703],\"type\":\"box\"},{\"boxpoints\":false,\"line\":{\"width\":1.3},\"marker\":{\"color\":\"rgba(50, 171, 96, 1.0)\"},\"name\":\"C\",\"orientation\":\"v\",\"y\":[0.5240321107968314,-1.2818581314473803,0.29484052235223956,0.04165826086464471,0.673562735726411,-0.5601508401353184,0.10726761840353928,0.9034369673793241,-0.20848844369028255,0.009077219990422502,0.7614881923065624,-1.0353072004432662,-0.39706218441949637,0.0442455652201715,-0.024632996341245238,-0.38871636991009345,0.714862686789878,-0.13754628958159562,-1.1566614879186157,-1.0264131444337994,-0.8382160927778828,-0.6556304084279646,1.2316927466243321,-0.6690200597586026,0.03950139197534639,-0.3764604385795641,0.5231917628756628,-1.0949165193504358,-0.4062943733719469,0.20202882461753316,-0.04815711255121329,-0.17218031521835345,0.17340466663122242,-0.24623471509870715,0.03627476629254057,1.1435904937853418,-0.9212807620573791,1.4350741410088304,-1.1431022704267602,1.305670675193548,-0.7270112851807574,0.08137940653876674,1.0478914571278963,-1.0303912428911377,-1.316778030555177,-2.5253699493660635,-0.8220574669467124,0.6478481678635425,0.7459879739678887,0.5193981092991432,-0.09680067245936409,0.10445605150325764,-0.5296831622938263,0.5755508530690508,-2.079105326549701,1.347534957467463,0.0450399204872343,-0.41845755566805026,0.44765905337545375,-0.8932714671991978,-0.42099852370267304,-0.5181341492461724,-1.0967877621179967,-0.5402499306481223,0.7574772982615179,0.8247147718804475,-0.30791165875502974,0.2127858486712444,-0.31921310603954145,-0.5683191422926578,-0.10685958754465645,0.7743561972941484,0.3219980656879739,0.7046720004248032,1.2928070538842928,1.2750030276034225,-0.22650910764134566,1.1456731869609518,1.3365090289776138,-1.2508071155680949,-1.9923237639781415,-0.20495068753879114,-0.2694270737460097,0.10482884980777825,1.9041450369951045,-1.2769613061557723,0.3233566115975954,0.12469744378102753,0.3028245227845009,2.2260930908774936,-0.13766818045678908,0.4135358328952993,0.3449980628933821,1.1948260701669133,-0.4515983717504652,2.175838491281581,0.441503760528067,-0.20893048332480352,1.6611142804331533,0.5618752406900925],\"type\":\"box\"}],                        {\"legend\":{\"bgcolor\":\"#F5F6F9\",\"font\":{\"color\":\"#4D5663\"}},\"paper_bgcolor\":\"#F5F6F9\",\"plot_bgcolor\":\"#F5F6F9\",\"template\":{\"data\":{\"barpolar\":[{\"marker\":{\"line\":{\"color\":\"#E5ECF6\",\"width\":0.5},\"pattern\":{\"fillmode\":\"overlay\",\"size\":10,\"solidity\":0.2}},\"type\":\"barpolar\"}],\"bar\":[{\"error_x\":{\"color\":\"#2a3f5f\"},\"error_y\":{\"color\":\"#2a3f5f\"},\"marker\":{\"line\":{\"color\":\"#E5ECF6\",\"width\":0.5},\"pattern\":{\"fillmode\":\"overlay\",\"size\":10,\"solidity\":0.2}},\"type\":\"bar\"}],\"carpet\":[{\"aaxis\":{\"endlinecolor\":\"#2a3f5f\",\"gridcolor\":\"white\",\"linecolor\":\"white\",\"minorgridcolor\":\"white\",\"startlinecolor\":\"#2a3f5f\"},\"baxis\":{\"endlinecolor\":\"#2a3f5f\",\"gridcolor\":\"white\",\"linecolor\":\"white\",\"minorgridcolor\":\"white\",\"startlinecolor\":\"#2a3f5f\"},\"type\":\"carpet\"}],\"choropleth\":[{\"colorbar\":{\"outlinewidth\":0,\"ticks\":\"\"},\"type\":\"choropleth\"}],\"contourcarpet\":[{\"colorbar\":{\"outlinewidth\":0,\"ticks\":\"\"},\"type\":\"contourcarpet\"}],\"contour\":[{\"colorbar\":{\"outlinewidth\":0,\"ticks\":\"\"},\"colorscale\":[[0.0,\"#0d0887\"],[0.1111111111111111,\"#46039f\"],[0.2222222222222222,\"#7201a8\"],[0.3333333333333333,\"#9c179e\"],[0.4444444444444444,\"#bd3786\"],[0.5555555555555556,\"#d8576b\"],[0.6666666666666666,\"#ed7953\"],[0.7777777777777778,\"#fb9f3a\"],[0.8888888888888888,\"#fdca26\"],[1.0,\"#f0f921\"]],\"type\":\"contour\"}],\"heatmapgl\":[{\"colorbar\":{\"outlinewidth\":0,\"ticks\":\"\"},\"colorscale\":[[0.0,\"#0d0887\"],[0.1111111111111111,\"#46039f\"],[0.2222222222222222,\"#7201a8\"],[0.3333333333333333,\"#9c179e\"],[0.4444444444444444,\"#bd3786\"],[0.5555555555555556,\"#d8576b\"],[0.6666666666666666,\"#ed7953\"],[0.7777777777777778,\"#fb9f3a\"],[0.8888888888888888,\"#fdca26\"],[1.0,\"#f0f921\"]],\"type\":\"heatmapgl\"}],\"heatmap\":[{\"colorbar\":{\"outlinewidth\":0,\"ticks\":\"\"},\"colorscale\":[[0.0,\"#0d0887\"],[0.1111111111111111,\"#46039f\"],[0.2222222222222222,\"#7201a8\"],[0.3333333333333333,\"#9c179e\"],[0.4444444444444444,\"#bd3786\"],[0.5555555555555556,\"#d8576b\"],[0.6666666666666666,\"#ed7953\"],[0.7777777777777778,\"#fb9f3a\"],[0.8888888888888888,\"#fdca26\"],[1.0,\"#f0f921\"]],\"type\":\"heatmap\"}],\"histogram2dcontour\":[{\"colorbar\":{\"outlinewidth\":0,\"ticks\":\"\"},\"colorscale\":[[0.0,\"#0d0887\"],[0.1111111111111111,\"#46039f\"],[0.2222222222222222,\"#7201a8\"],[0.3333333333333333,\"#9c179e\"],[0.4444444444444444,\"#bd3786\"],[0.5555555555555556,\"#d8576b\"],[0.6666666666666666,\"#ed7953\"],[0.7777777777777778,\"#fb9f3a\"],[0.8888888888888888,\"#fdca26\"],[1.0,\"#f0f921\"]],\"type\":\"histogram2dcontour\"}],\"histogram2d\":[{\"colorbar\":{\"outlinewidth\":0,\"ticks\":\"\"},\"colorscale\":[[0.0,\"#0d0887\"],[0.1111111111111111,\"#46039f\"],[0.2222222222222222,\"#7201a8\"],[0.3333333333333333,\"#9c179e\"],[0.4444444444444444,\"#bd3786\"],[0.5555555555555556,\"#d8576b\"],[0.6666666666666666,\"#ed7953\"],[0.7777777777777778,\"#fb9f3a\"],[0.8888888888888888,\"#fdca26\"],[1.0,\"#f0f921\"]],\"type\":\"histogram2d\"}],\"histogram\":[{\"marker\":{\"pattern\":{\"fillmode\":\"overlay\",\"size\":10,\"solidity\":0.2}},\"type\":\"histogram\"}],\"mesh3d\":[{\"colorbar\":{\"outlinewidth\":0,\"ticks\":\"\"},\"type\":\"mesh3d\"}],\"parcoords\":[{\"line\":{\"colorbar\":{\"outlinewidth\":0,\"ticks\":\"\"}},\"type\":\"parcoords\"}],\"pie\":[{\"automargin\":true,\"type\":\"pie\"}],\"scatter3d\":[{\"line\":{\"colorbar\":{\"outlinewidth\":0,\"ticks\":\"\"}},\"marker\":{\"colorbar\":{\"outlinewidth\":0,\"ticks\":\"\"}},\"type\":\"scatter3d\"}],\"scattercarpet\":[{\"marker\":{\"colorbar\":{\"outlinewidth\":0,\"ticks\":\"\"}},\"type\":\"scattercarpet\"}],\"scattergeo\":[{\"marker\":{\"colorbar\":{\"outlinewidth\":0,\"ticks\":\"\"}},\"type\":\"scattergeo\"}],\"scattergl\":[{\"marker\":{\"colorbar\":{\"outlinewidth\":0,\"ticks\":\"\"}},\"type\":\"scattergl\"}],\"scattermapbox\":[{\"marker\":{\"colorbar\":{\"outlinewidth\":0,\"ticks\":\"\"}},\"type\":\"scattermapbox\"}],\"scatterpolargl\":[{\"marker\":{\"colorbar\":{\"outlinewidth\":0,\"ticks\":\"\"}},\"type\":\"scatterpolargl\"}],\"scatterpolar\":[{\"marker\":{\"colorbar\":{\"outlinewidth\":0,\"ticks\":\"\"}},\"type\":\"scatterpolar\"}],\"scatter\":[{\"fillpattern\":{\"fillmode\":\"overlay\",\"size\":10,\"solidity\":0.2},\"type\":\"scatter\"}],\"scatterternary\":[{\"marker\":{\"colorbar\":{\"outlinewidth\":0,\"ticks\":\"\"}},\"type\":\"scatterternary\"}],\"surface\":[{\"colorbar\":{\"outlinewidth\":0,\"ticks\":\"\"},\"colorscale\":[[0.0,\"#0d0887\"],[0.1111111111111111,\"#46039f\"],[0.2222222222222222,\"#7201a8\"],[0.3333333333333333,\"#9c179e\"],[0.4444444444444444,\"#bd3786\"],[0.5555555555555556,\"#d8576b\"],[0.6666666666666666,\"#ed7953\"],[0.7777777777777778,\"#fb9f3a\"],[0.8888888888888888,\"#fdca26\"],[1.0,\"#f0f921\"]],\"type\":\"surface\"}],\"table\":[{\"cells\":{\"fill\":{\"color\":\"#EBF0F8\"},\"line\":{\"color\":\"white\"}},\"header\":{\"fill\":{\"color\":\"#C8D4E3\"},\"line\":{\"color\":\"white\"}},\"type\":\"table\"}]},\"layout\":{\"annotationdefaults\":{\"arrowcolor\":\"#2a3f5f\",\"arrowhead\":0,\"arrowwidth\":1},\"autotypenumbers\":\"strict\",\"coloraxis\":{\"colorbar\":{\"outlinewidth\":0,\"ticks\":\"\"}},\"colorscale\":{\"diverging\":[[0,\"#8e0152\"],[0.1,\"#c51b7d\"],[0.2,\"#de77ae\"],[0.3,\"#f1b6da\"],[0.4,\"#fde0ef\"],[0.5,\"#f7f7f7\"],[0.6,\"#e6f5d0\"],[0.7,\"#b8e186\"],[0.8,\"#7fbc41\"],[0.9,\"#4d9221\"],[1,\"#276419\"]],\"sequential\":[[0.0,\"#0d0887\"],[0.1111111111111111,\"#46039f\"],[0.2222222222222222,\"#7201a8\"],[0.3333333333333333,\"#9c179e\"],[0.4444444444444444,\"#bd3786\"],[0.5555555555555556,\"#d8576b\"],[0.6666666666666666,\"#ed7953\"],[0.7777777777777778,\"#fb9f3a\"],[0.8888888888888888,\"#fdca26\"],[1.0,\"#f0f921\"]],\"sequentialminus\":[[0.0,\"#0d0887\"],[0.1111111111111111,\"#46039f\"],[0.2222222222222222,\"#7201a8\"],[0.3333333333333333,\"#9c179e\"],[0.4444444444444444,\"#bd3786\"],[0.5555555555555556,\"#d8576b\"],[0.6666666666666666,\"#ed7953\"],[0.7777777777777778,\"#fb9f3a\"],[0.8888888888888888,\"#fdca26\"],[1.0,\"#f0f921\"]]},\"colorway\":[\"#636efa\",\"#EF553B\",\"#00cc96\",\"#ab63fa\",\"#FFA15A\",\"#19d3f3\",\"#FF6692\",\"#B6E880\",\"#FF97FF\",\"#FECB52\"],\"font\":{\"color\":\"#2a3f5f\"},\"geo\":{\"bgcolor\":\"white\",\"lakecolor\":\"white\",\"landcolor\":\"#E5ECF6\",\"showlakes\":true,\"showland\":true,\"subunitcolor\":\"white\"},\"hoverlabel\":{\"align\":\"left\"},\"hovermode\":\"closest\",\"mapbox\":{\"style\":\"light\"},\"paper_bgcolor\":\"white\",\"plot_bgcolor\":\"#E5ECF6\",\"polar\":{\"angularaxis\":{\"gridcolor\":\"white\",\"linecolor\":\"white\",\"ticks\":\"\"},\"bgcolor\":\"#E5ECF6\",\"radialaxis\":{\"gridcolor\":\"white\",\"linecolor\":\"white\",\"ticks\":\"\"}},\"scene\":{\"xaxis\":{\"backgroundcolor\":\"#E5ECF6\",\"gridcolor\":\"white\",\"gridwidth\":2,\"linecolor\":\"white\",\"showbackground\":true,\"ticks\":\"\",\"zerolinecolor\":\"white\"},\"yaxis\":{\"backgroundcolor\":\"#E5ECF6\",\"gridcolor\":\"white\",\"gridwidth\":2,\"linecolor\":\"white\",\"showbackground\":true,\"ticks\":\"\",\"zerolinecolor\":\"white\"},\"zaxis\":{\"backgroundcolor\":\"#E5ECF6\",\"gridcolor\":\"white\",\"gridwidth\":2,\"linecolor\":\"white\",\"showbackground\":true,\"ticks\":\"\",\"zerolinecolor\":\"white\"}},\"shapedefaults\":{\"line\":{\"color\":\"#2a3f5f\"}},\"ternary\":{\"aaxis\":{\"gridcolor\":\"white\",\"linecolor\":\"white\",\"ticks\":\"\"},\"baxis\":{\"gridcolor\":\"white\",\"linecolor\":\"white\",\"ticks\":\"\"},\"bgcolor\":\"#E5ECF6\",\"caxis\":{\"gridcolor\":\"white\",\"linecolor\":\"white\",\"ticks\":\"\"}},\"title\":{\"x\":0.05},\"xaxis\":{\"automargin\":true,\"gridcolor\":\"white\",\"linecolor\":\"white\",\"ticks\":\"\",\"title\":{\"standoff\":15},\"zerolinecolor\":\"white\",\"zerolinewidth\":2},\"yaxis\":{\"automargin\":true,\"gridcolor\":\"white\",\"linecolor\":\"white\",\"ticks\":\"\",\"title\":{\"standoff\":15},\"zerolinecolor\":\"white\",\"zerolinewidth\":2}}},\"title\":{\"font\":{\"color\":\"#4D5663\"}},\"xaxis\":{\"gridcolor\":\"#E1E5ED\",\"showgrid\":true,\"tickfont\":{\"color\":\"#4D5663\"},\"title\":{\"font\":{\"color\":\"#4D5663\"},\"text\":\"\"},\"zerolinecolor\":\"#E1E5ED\"},\"yaxis\":{\"gridcolor\":\"#E1E5ED\",\"showgrid\":true,\"tickfont\":{\"color\":\"#4D5663\"},\"title\":{\"font\":{\"color\":\"#4D5663\"},\"text\":\"\"},\"zerolinecolor\":\"#E1E5ED\"}},                        {\"showLink\": true, \"linkText\": \"Export to plot.ly\", \"plotlyServerURL\": \"https://plot.ly\", \"responsive\": true}                    ).then(function(){\n",
       "                            \n",
       "var gd = document.getElementById('62c15f82-5608-437b-b274-8436bae23662');\n",
       "var x = new MutationObserver(function (mutations, observer) {{\n",
       "        var display = window.getComputedStyle(gd).display;\n",
       "        if (!display || display === 'none') {{\n",
       "            console.log([gd, 'removed!']);\n",
       "            Plotly.purge(gd);\n",
       "            observer.disconnect();\n",
       "        }}\n",
       "}});\n",
       "\n",
       "// Listen for the removal of the full notebook cells\n",
       "var notebookContainer = gd.closest('#notebook-container');\n",
       "if (notebookContainer) {{\n",
       "    x.observe(notebookContainer, {childList: true});\n",
       "}}\n",
       "\n",
       "// Listen for the clearing of the current output cell\n",
       "var outputEl = gd.closest('.output');\n",
       "if (outputEl) {{\n",
       "    x.observe(outputEl, {childList: true});\n",
       "}}\n",
       "\n",
       "                        })                };                });            </script>        </div>"
      ]
     },
     "metadata": {},
     "output_type": "display_data"
    }
   ],
   "source": [
    "df_numeric.iplot(kind='box')"
   ]
  },
  {
   "cell_type": "markdown",
   "metadata": {},
   "source": [
    "# Heatmap\n",
    "The darker the shade, the greater the quantity (the higher the value, the tighter the dispersion, etc.)."
   ]
  },
  {
   "cell_type": "code",
   "execution_count": 8,
   "metadata": {},
   "outputs": [],
   "source": [
    "#importing graph_objects of Plotly\n",
    "import plotly.graph_objects as go "
   ]
  },
  {
   "cell_type": "markdown",
   "metadata": {},
   "source": [
    " We have a 2D list or array which defines the data (harvest by different farmers in tons/year) to color code.\n",
    " We then also need two lists of names of farmers and vegetables cultivated by them.\n",
    "\n",
    " Plotly’s graph_objects module contains Heatmap() function. It needs x, y and z attributes. Their value can be a list, numpy array or Pandas dataframe."
   ]
  },
  {
   "cell_type": "code",
   "execution_count": 5,
   "metadata": {},
   "outputs": [],
   "source": [
    "vegetables = [\n",
    "   \"cucumber\", \n",
    "   \"tomato\", \n",
    "   \"lettuce\", \n",
    "   \"asparagus\",\n",
    "   \"potato\", \n",
    "   \"wheat\", \n",
    "   \"barley\"\n",
    "]\n",
    "farmers = [\n",
    "   \"Farmer Joe\", \n",
    "   \"Upland Bros.\", \n",
    "   \"Smith Gardening\",\n",
    "   \"Agrifun\", \n",
    "   \"Organiculture\", \n",
    "   \"BioGoods Ltd.\", \n",
    "   \"Cornylee Corp.\"\n",
    "]\n",
    "harvest = np.array(\n",
    "   [\n",
    "      [0.8, 2.4, 2.5, 3.9, 0.0, 4.0, 0.0],\n",
    "      [2.4, 0.0, 4.0, 1.0, 2.7, 0.0, 0.0],\n",
    "      [1.1, 2.4, 0.8, 4.3, 1.9, 4.4, 0.0],\n",
    "      [0.6, 0.0, 0.3, 0.0, 3.1, 0.0, 0.0],\n",
    "      [0.7, 1.7, 0.6, 2.6, 2.2, 6.2, 0.0],\n",
    "      [1.3, 1.2, 0.0, 0.0, 0.0, 3.2, 5.1],\n",
    "      [0.1, 2.0, 0.0, 1.4, 0.0, 1.9, 6.3]\n",
    "   ]\n",
    ")\n"
   ]
  },
  {
   "cell_type": "markdown",
   "metadata": {},
   "source": [
    "Plotting heatmap"
   ]
  },
  {
   "cell_type": "code",
   "execution_count": 7,
   "metadata": {},
   "outputs": [
    {
     "data": {
      "application/vnd.plotly.v1+json": {
       "config": {
        "linkText": "Export to plot.ly",
        "plotlyServerURL": "https://plot.ly",
        "showLink": false
       },
       "data": [
        {
         "colorscale": [
          [
           0,
           "#440154"
          ],
          [
           0.1111111111111111,
           "#482878"
          ],
          [
           0.2222222222222222,
           "#3e4989"
          ],
          [
           0.3333333333333333,
           "#31688e"
          ],
          [
           0.4444444444444444,
           "#26828e"
          ],
          [
           0.5555555555555556,
           "#1f9e89"
          ],
          [
           0.6666666666666666,
           "#35b779"
          ],
          [
           0.7777777777777778,
           "#6ece58"
          ],
          [
           0.8888888888888888,
           "#b5de2b"
          ],
          [
           1,
           "#fde725"
          ]
         ],
         "type": "heatmap",
         "x": [
          "cucumber",
          "tomato",
          "lettuce",
          "asparagus",
          "potato",
          "wheat",
          "barley"
         ],
         "y": [
          "Farmer Joe",
          "Upland Bros.",
          "Smith Gardening",
          "Agrifun",
          "Organiculture",
          "BioGoods Ltd.",
          "Cornylee Corp."
         ],
         "z": [
          [
           0.8,
           2.4,
           2.5,
           3.9,
           0,
           4,
           0
          ],
          [
           2.4,
           0,
           4,
           1,
           2.7,
           0,
           0
          ],
          [
           1.1,
           2.4,
           0.8,
           4.3,
           1.9,
           4.4,
           0
          ],
          [
           0.6,
           0,
           0.3,
           0,
           3.1,
           0,
           0
          ],
          [
           0.7,
           1.7,
           0.6,
           2.6,
           2.2,
           6.2,
           0
          ],
          [
           1.3,
           1.2,
           0,
           0,
           0,
           3.2,
           5.1
          ],
          [
           0.1,
           2,
           0,
           1.4,
           0,
           1.9,
           6.3
          ]
         ]
        }
       ],
       "layout": {
        "template": {
         "data": {
          "bar": [
           {
            "error_x": {
             "color": "#2a3f5f"
            },
            "error_y": {
             "color": "#2a3f5f"
            },
            "marker": {
             "line": {
              "color": "#E5ECF6",
              "width": 0.5
             },
             "pattern": {
              "fillmode": "overlay",
              "size": 10,
              "solidity": 0.2
             }
            },
            "type": "bar"
           }
          ],
          "barpolar": [
           {
            "marker": {
             "line": {
              "color": "#E5ECF6",
              "width": 0.5
             },
             "pattern": {
              "fillmode": "overlay",
              "size": 10,
              "solidity": 0.2
             }
            },
            "type": "barpolar"
           }
          ],
          "carpet": [
           {
            "aaxis": {
             "endlinecolor": "#2a3f5f",
             "gridcolor": "white",
             "linecolor": "white",
             "minorgridcolor": "white",
             "startlinecolor": "#2a3f5f"
            },
            "baxis": {
             "endlinecolor": "#2a3f5f",
             "gridcolor": "white",
             "linecolor": "white",
             "minorgridcolor": "white",
             "startlinecolor": "#2a3f5f"
            },
            "type": "carpet"
           }
          ],
          "choropleth": [
           {
            "colorbar": {
             "outlinewidth": 0,
             "ticks": ""
            },
            "type": "choropleth"
           }
          ],
          "contour": [
           {
            "colorbar": {
             "outlinewidth": 0,
             "ticks": ""
            },
            "colorscale": [
             [
              0,
              "#0d0887"
             ],
             [
              0.1111111111111111,
              "#46039f"
             ],
             [
              0.2222222222222222,
              "#7201a8"
             ],
             [
              0.3333333333333333,
              "#9c179e"
             ],
             [
              0.4444444444444444,
              "#bd3786"
             ],
             [
              0.5555555555555556,
              "#d8576b"
             ],
             [
              0.6666666666666666,
              "#ed7953"
             ],
             [
              0.7777777777777778,
              "#fb9f3a"
             ],
             [
              0.8888888888888888,
              "#fdca26"
             ],
             [
              1,
              "#f0f921"
             ]
            ],
            "type": "contour"
           }
          ],
          "contourcarpet": [
           {
            "colorbar": {
             "outlinewidth": 0,
             "ticks": ""
            },
            "type": "contourcarpet"
           }
          ],
          "heatmap": [
           {
            "colorbar": {
             "outlinewidth": 0,
             "ticks": ""
            },
            "colorscale": [
             [
              0,
              "#0d0887"
             ],
             [
              0.1111111111111111,
              "#46039f"
             ],
             [
              0.2222222222222222,
              "#7201a8"
             ],
             [
              0.3333333333333333,
              "#9c179e"
             ],
             [
              0.4444444444444444,
              "#bd3786"
             ],
             [
              0.5555555555555556,
              "#d8576b"
             ],
             [
              0.6666666666666666,
              "#ed7953"
             ],
             [
              0.7777777777777778,
              "#fb9f3a"
             ],
             [
              0.8888888888888888,
              "#fdca26"
             ],
             [
              1,
              "#f0f921"
             ]
            ],
            "type": "heatmap"
           }
          ],
          "heatmapgl": [
           {
            "colorbar": {
             "outlinewidth": 0,
             "ticks": ""
            },
            "colorscale": [
             [
              0,
              "#0d0887"
             ],
             [
              0.1111111111111111,
              "#46039f"
             ],
             [
              0.2222222222222222,
              "#7201a8"
             ],
             [
              0.3333333333333333,
              "#9c179e"
             ],
             [
              0.4444444444444444,
              "#bd3786"
             ],
             [
              0.5555555555555556,
              "#d8576b"
             ],
             [
              0.6666666666666666,
              "#ed7953"
             ],
             [
              0.7777777777777778,
              "#fb9f3a"
             ],
             [
              0.8888888888888888,
              "#fdca26"
             ],
             [
              1,
              "#f0f921"
             ]
            ],
            "type": "heatmapgl"
           }
          ],
          "histogram": [
           {
            "marker": {
             "pattern": {
              "fillmode": "overlay",
              "size": 10,
              "solidity": 0.2
             }
            },
            "type": "histogram"
           }
          ],
          "histogram2d": [
           {
            "colorbar": {
             "outlinewidth": 0,
             "ticks": ""
            },
            "colorscale": [
             [
              0,
              "#0d0887"
             ],
             [
              0.1111111111111111,
              "#46039f"
             ],
             [
              0.2222222222222222,
              "#7201a8"
             ],
             [
              0.3333333333333333,
              "#9c179e"
             ],
             [
              0.4444444444444444,
              "#bd3786"
             ],
             [
              0.5555555555555556,
              "#d8576b"
             ],
             [
              0.6666666666666666,
              "#ed7953"
             ],
             [
              0.7777777777777778,
              "#fb9f3a"
             ],
             [
              0.8888888888888888,
              "#fdca26"
             ],
             [
              1,
              "#f0f921"
             ]
            ],
            "type": "histogram2d"
           }
          ],
          "histogram2dcontour": [
           {
            "colorbar": {
             "outlinewidth": 0,
             "ticks": ""
            },
            "colorscale": [
             [
              0,
              "#0d0887"
             ],
             [
              0.1111111111111111,
              "#46039f"
             ],
             [
              0.2222222222222222,
              "#7201a8"
             ],
             [
              0.3333333333333333,
              "#9c179e"
             ],
             [
              0.4444444444444444,
              "#bd3786"
             ],
             [
              0.5555555555555556,
              "#d8576b"
             ],
             [
              0.6666666666666666,
              "#ed7953"
             ],
             [
              0.7777777777777778,
              "#fb9f3a"
             ],
             [
              0.8888888888888888,
              "#fdca26"
             ],
             [
              1,
              "#f0f921"
             ]
            ],
            "type": "histogram2dcontour"
           }
          ],
          "mesh3d": [
           {
            "colorbar": {
             "outlinewidth": 0,
             "ticks": ""
            },
            "type": "mesh3d"
           }
          ],
          "parcoords": [
           {
            "line": {
             "colorbar": {
              "outlinewidth": 0,
              "ticks": ""
             }
            },
            "type": "parcoords"
           }
          ],
          "pie": [
           {
            "automargin": true,
            "type": "pie"
           }
          ],
          "scatter": [
           {
            "fillpattern": {
             "fillmode": "overlay",
             "size": 10,
             "solidity": 0.2
            },
            "type": "scatter"
           }
          ],
          "scatter3d": [
           {
            "line": {
             "colorbar": {
              "outlinewidth": 0,
              "ticks": ""
             }
            },
            "marker": {
             "colorbar": {
              "outlinewidth": 0,
              "ticks": ""
             }
            },
            "type": "scatter3d"
           }
          ],
          "scattercarpet": [
           {
            "marker": {
             "colorbar": {
              "outlinewidth": 0,
              "ticks": ""
             }
            },
            "type": "scattercarpet"
           }
          ],
          "scattergeo": [
           {
            "marker": {
             "colorbar": {
              "outlinewidth": 0,
              "ticks": ""
             }
            },
            "type": "scattergeo"
           }
          ],
          "scattergl": [
           {
            "marker": {
             "colorbar": {
              "outlinewidth": 0,
              "ticks": ""
             }
            },
            "type": "scattergl"
           }
          ],
          "scattermapbox": [
           {
            "marker": {
             "colorbar": {
              "outlinewidth": 0,
              "ticks": ""
             }
            },
            "type": "scattermapbox"
           }
          ],
          "scatterpolar": [
           {
            "marker": {
             "colorbar": {
              "outlinewidth": 0,
              "ticks": ""
             }
            },
            "type": "scatterpolar"
           }
          ],
          "scatterpolargl": [
           {
            "marker": {
             "colorbar": {
              "outlinewidth": 0,
              "ticks": ""
             }
            },
            "type": "scatterpolargl"
           }
          ],
          "scatterternary": [
           {
            "marker": {
             "colorbar": {
              "outlinewidth": 0,
              "ticks": ""
             }
            },
            "type": "scatterternary"
           }
          ],
          "surface": [
           {
            "colorbar": {
             "outlinewidth": 0,
             "ticks": ""
            },
            "colorscale": [
             [
              0,
              "#0d0887"
             ],
             [
              0.1111111111111111,
              "#46039f"
             ],
             [
              0.2222222222222222,
              "#7201a8"
             ],
             [
              0.3333333333333333,
              "#9c179e"
             ],
             [
              0.4444444444444444,
              "#bd3786"
             ],
             [
              0.5555555555555556,
              "#d8576b"
             ],
             [
              0.6666666666666666,
              "#ed7953"
             ],
             [
              0.7777777777777778,
              "#fb9f3a"
             ],
             [
              0.8888888888888888,
              "#fdca26"
             ],
             [
              1,
              "#f0f921"
             ]
            ],
            "type": "surface"
           }
          ],
          "table": [
           {
            "cells": {
             "fill": {
              "color": "#EBF0F8"
             },
             "line": {
              "color": "white"
             }
            },
            "header": {
             "fill": {
              "color": "#C8D4E3"
             },
             "line": {
              "color": "white"
             }
            },
            "type": "table"
           }
          ]
         },
         "layout": {
          "annotationdefaults": {
           "arrowcolor": "#2a3f5f",
           "arrowhead": 0,
           "arrowwidth": 1
          },
          "autotypenumbers": "strict",
          "coloraxis": {
           "colorbar": {
            "outlinewidth": 0,
            "ticks": ""
           }
          },
          "colorscale": {
           "diverging": [
            [
             0,
             "#8e0152"
            ],
            [
             0.1,
             "#c51b7d"
            ],
            [
             0.2,
             "#de77ae"
            ],
            [
             0.3,
             "#f1b6da"
            ],
            [
             0.4,
             "#fde0ef"
            ],
            [
             0.5,
             "#f7f7f7"
            ],
            [
             0.6,
             "#e6f5d0"
            ],
            [
             0.7,
             "#b8e186"
            ],
            [
             0.8,
             "#7fbc41"
            ],
            [
             0.9,
             "#4d9221"
            ],
            [
             1,
             "#276419"
            ]
           ],
           "sequential": [
            [
             0,
             "#0d0887"
            ],
            [
             0.1111111111111111,
             "#46039f"
            ],
            [
             0.2222222222222222,
             "#7201a8"
            ],
            [
             0.3333333333333333,
             "#9c179e"
            ],
            [
             0.4444444444444444,
             "#bd3786"
            ],
            [
             0.5555555555555556,
             "#d8576b"
            ],
            [
             0.6666666666666666,
             "#ed7953"
            ],
            [
             0.7777777777777778,
             "#fb9f3a"
            ],
            [
             0.8888888888888888,
             "#fdca26"
            ],
            [
             1,
             "#f0f921"
            ]
           ],
           "sequentialminus": [
            [
             0,
             "#0d0887"
            ],
            [
             0.1111111111111111,
             "#46039f"
            ],
            [
             0.2222222222222222,
             "#7201a8"
            ],
            [
             0.3333333333333333,
             "#9c179e"
            ],
            [
             0.4444444444444444,
             "#bd3786"
            ],
            [
             0.5555555555555556,
             "#d8576b"
            ],
            [
             0.6666666666666666,
             "#ed7953"
            ],
            [
             0.7777777777777778,
             "#fb9f3a"
            ],
            [
             0.8888888888888888,
             "#fdca26"
            ],
            [
             1,
             "#f0f921"
            ]
           ]
          },
          "colorway": [
           "#636efa",
           "#EF553B",
           "#00cc96",
           "#ab63fa",
           "#FFA15A",
           "#19d3f3",
           "#FF6692",
           "#B6E880",
           "#FF97FF",
           "#FECB52"
          ],
          "font": {
           "color": "#2a3f5f"
          },
          "geo": {
           "bgcolor": "white",
           "lakecolor": "white",
           "landcolor": "#E5ECF6",
           "showlakes": true,
           "showland": true,
           "subunitcolor": "white"
          },
          "hoverlabel": {
           "align": "left"
          },
          "hovermode": "closest",
          "mapbox": {
           "style": "light"
          },
          "paper_bgcolor": "white",
          "plot_bgcolor": "#E5ECF6",
          "polar": {
           "angularaxis": {
            "gridcolor": "white",
            "linecolor": "white",
            "ticks": ""
           },
           "bgcolor": "#E5ECF6",
           "radialaxis": {
            "gridcolor": "white",
            "linecolor": "white",
            "ticks": ""
           }
          },
          "scene": {
           "xaxis": {
            "backgroundcolor": "#E5ECF6",
            "gridcolor": "white",
            "gridwidth": 2,
            "linecolor": "white",
            "showbackground": true,
            "ticks": "",
            "zerolinecolor": "white"
           },
           "yaxis": {
            "backgroundcolor": "#E5ECF6",
            "gridcolor": "white",
            "gridwidth": 2,
            "linecolor": "white",
            "showbackground": true,
            "ticks": "",
            "zerolinecolor": "white"
           },
           "zaxis": {
            "backgroundcolor": "#E5ECF6",
            "gridcolor": "white",
            "gridwidth": 2,
            "linecolor": "white",
            "showbackground": true,
            "ticks": "",
            "zerolinecolor": "white"
           }
          },
          "shapedefaults": {
           "line": {
            "color": "#2a3f5f"
           }
          },
          "ternary": {
           "aaxis": {
            "gridcolor": "white",
            "linecolor": "white",
            "ticks": ""
           },
           "baxis": {
            "gridcolor": "white",
            "linecolor": "white",
            "ticks": ""
           },
           "bgcolor": "#E5ECF6",
           "caxis": {
            "gridcolor": "white",
            "linecolor": "white",
            "ticks": ""
           }
          },
          "title": {
           "x": 0.05
          },
          "xaxis": {
           "automargin": true,
           "gridcolor": "white",
           "linecolor": "white",
           "ticks": "",
           "title": {
            "standoff": 15
           },
           "zerolinecolor": "white",
           "zerolinewidth": 2
          },
          "yaxis": {
           "automargin": true,
           "gridcolor": "white",
           "linecolor": "white",
           "ticks": "",
           "title": {
            "standoff": 15
           },
           "zerolinecolor": "white",
           "zerolinewidth": 2
          }
         }
        }
       }
      }
     },
     "metadata": {},
     "output_type": "display_data"
    }
   ],
   "source": [
    "trace = go.Heatmap(\n",
    "   x = vegetables,\n",
    "   y = farmers,\n",
    "   z = harvest,\n",
    "   type = 'heatmap',\n",
    "   colorscale = 'Viridis'\n",
    ")\n",
    "data = [trace]\n",
    "fig = go.Figure(data = data)\n",
    "iplot(fig)"
   ]
  }
 ],
 "metadata": {
  "kernelspec": {
   "display_name": "Python 3",
   "language": "python",
   "name": "python3"
  },
  "language_info": {
   "codemirror_mode": {
    "name": "ipython",
    "version": 3
   },
   "file_extension": ".py",
   "mimetype": "text/x-python",
   "name": "python",
   "nbconvert_exporter": "python",
   "pygments_lexer": "ipython3",
   "version": "3.12.1"
  }
 },
 "nbformat": 4,
 "nbformat_minor": 2
}
